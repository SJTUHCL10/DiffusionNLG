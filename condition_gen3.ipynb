{
 "cells": [
  {
   "cell_type": "code",
   "execution_count": 177,
   "metadata": {
    "collapsed": true,
    "pycharm": {
     "name": "#%%\n"
    }
   },
   "outputs": [],
   "source": [
    "import numpy as np\n",
    "import torch\n",
    "import transformers\n",
    "import matplotlib.pyplot as plt\n",
    "import time\n",
    "import pickle\n",
    "import wandb\n",
    "\n",
    "from transformers import BertConfig, BertTokenizerFast\n",
    "from transformers import get_cosine_schedule_with_warmup\n",
    "from sklearn.model_selection import train_test_split\n",
    "from torch.utils.data import DataLoader\n",
    "from sklearn.manifold import TSNE\n",
    "from tqdm.auto import tqdm\n",
    "from collections import defaultdict, Counter\n",
    "from models import BertForDiffusion, DiffusionLM, ConditionalDiffusionLM\n",
    "from data_utils import load_qqp_dataset_and_tokenizer_from_disk, QQPParaphraseDataset, load_split_qqp_dataset_and_tokenizer_from_disk\n",
    "from noise_schedule import get_named_beta_schedule\n",
    "from train_utils import train_conditional, evaluate_conditional\n",
    "from metric_utils import calculate_bleu, calculate_rouge\n",
    "\n",
    "%matplotlib inline"
   ]
  },
  {
   "cell_type": "code",
   "execution_count": 2,
   "metadata": {
    "collapsed": false,
    "pycharm": {
     "name": "#%%\n"
    }
   },
   "outputs": [],
   "source": [
    "# dataset args\n",
    "max_len = 32\n",
    "\n",
    "# training args\n",
    "batch_size = 64\n",
    "device = torch.device(\"cuda:2\")\n",
    "lr = 1e-4\n",
    "num_epoch = 30\n",
    "weight_decay = 0\n",
    "num_warmup_steps = 100\n",
    "\n",
    "# model args\n",
    "word_embedding_dim = 512\n",
    "# hidden_size = 768\n",
    "# num_hidden_layers = 12\n",
    "# num_attention_heads = 12\n",
    "# intermediate_size = 3072\n",
    "hidden_size = 512\n",
    "num_hidden_layers = 4\n",
    "num_attention_heads = 8\n",
    "intermediate_size = 2048\n",
    "max_position_embeddings = max_len\n",
    "\n",
    "encoder_type = 'from-scratch'"
   ]
  },
  {
   "cell_type": "code",
   "execution_count": 3,
   "metadata": {
    "collapsed": false,
    "pycharm": {
     "name": "#%%\n"
    }
   },
   "outputs": [
    {
     "name": "stdout",
     "output_type": "stream",
     "text": [
      "Tokenizer vocab size: 15672\n",
      "Training set size: 120940\n",
      "Evaluation set size: 13438\n"
     ]
    }
   ],
   "source": [
    "train_dataset, eval_dataset, tokenizer = load_split_qqp_dataset_and_tokenizer_from_disk(data_path=\"data\")\n",
    "\n",
    "# tokenized_qqp_train, tokenized_qqp_eval, tokenizer = load_qqp_dataset_and_tokenizer_from_disk(data_path=\"data\")\n",
    "\n",
    "rev_tokenizer = {v: k for k, v in tokenizer.items()}\n",
    "\n",
    "print(\"Tokenizer vocab size:\", len(tokenizer))\n",
    "\n",
    "# train_dataset = QQPParaphraseDataset(dataset=tokenized_qqp_train, random_swap=True)\n",
    "print(\"Training set size:\", len(train_dataset))\n",
    "# eval_dataset = QQPParaphraseDataset(dataset=tokenized_qqp_eval, random_swap=False)\n",
    "print(\"Evaluation set size:\", len(eval_dataset))\n",
    "\n",
    "train_dataloader = DataLoader(train_dataset, batch_size=batch_size, shuffle=True)\n",
    "eval_dataloader = DataLoader(eval_dataset, batch_size=batch_size, shuffle=False)"
   ]
  },
  {
   "cell_type": "code",
   "execution_count": 4,
   "metadata": {
    "collapsed": false,
    "pycharm": {
     "name": "#%%\n"
    }
   },
   "outputs": [
    {
     "name": "stdout",
     "output_type": "stream",
     "text": [
      "BertConfig {\n",
      "  \"T\": 2000,\n",
      "  \"attention_probs_dropout_prob\": 0.1,\n",
      "  \"classifier_dropout\": null,\n",
      "  \"hidden_act\": \"gelu\",\n",
      "  \"hidden_dropout_prob\": 0.1,\n",
      "  \"hidden_size\": 512,\n",
      "  \"initializer_range\": 0.02,\n",
      "  \"intermediate_size\": 2048,\n",
      "  \"layer_norm_eps\": 1e-12,\n",
      "  \"max_position_embeddings\": 32,\n",
      "  \"model_type\": \"bert\",\n",
      "  \"num_attention_heads\": 8,\n",
      "  \"num_hidden_layers\": 4,\n",
      "  \"pad_token_id\": 3,\n",
      "  \"position_embedding_type\": \"absolute\",\n",
      "  \"transformers_version\": \"4.27.3\",\n",
      "  \"type_vocab_size\": 2,\n",
      "  \"use_cache\": true,\n",
      "  \"vocab_size\": 15672\n",
      "}\n",
      "\n"
     ]
    }
   ],
   "source": [
    "config = BertConfig(vocab_size=len(tokenizer), hidden_size=hidden_size, num_hidden_layers=num_hidden_layers, num_attention_heads=num_attention_heads, intermediate_size=intermediate_size, max_position_embeddings=max_position_embeddings, pad_token_id=tokenizer['[PAD]'])\n",
    "\n",
    "config.T = 2000\n",
    "# comment next line if using bit word embedding\n",
    "config.word_embedding_dim = word_embedding_dim\n",
    "\n",
    "print(config)\n",
    "\n",
    "betas = torch.Tensor(get_named_beta_schedule(schedule_name=\"cosine\", num_diffusion_timesteps=config.T))"
   ]
  },
  {
   "cell_type": "code",
   "execution_count": 5,
   "metadata": {
    "collapsed": false,
    "pycharm": {
     "name": "#%%\n"
    }
   },
   "outputs": [
    {
     "name": "stdout",
     "output_type": "stream",
     "text": [
      "using learned word embedding\n",
      "set word_embedding_dim to: 512\n",
      "Diffusion model #parameters:\n",
      "55452472\n",
      "Diffusion model #trainable parameters\n",
      "55452472\n"
     ]
    }
   ],
   "source": [
    "diffusion_model = ConditionalDiffusionLM(\n",
    "    config=config, \n",
    "    betas=betas, \n",
    "    use_shared_weight=False, \n",
    "    lm_head_bias=True, \n",
    "    add_emb_noise=False, \n",
    "    conditional_gen=True, \n",
    "    encoder_type=encoder_type, \n",
    "    encoder_name_or_path='bert-base-uncased', \n",
    "    emb_type='learned',\n",
    ").to(device)\n",
    "\n",
    "print(\"Diffusion model #parameters:\")\n",
    "print(sum([p.numel() for p in diffusion_model.parameters()]))\n",
    "\n",
    "print(\"Diffusion model #trainable parameters\")\n",
    "print(sum([p.numel() for p in filter(lambda p:p.requires_grad, diffusion_model.parameters())]))"
   ]
  },
  {
   "cell_type": "code",
   "execution_count": 6,
   "metadata": {
    "collapsed": false,
    "pycharm": {
     "name": "#%%\n"
    }
   },
   "outputs": [],
   "source": [
    "optimizer = torch.optim.AdamW(filter(lambda p:p.requires_grad, diffusion_model.parameters()), lr=lr, weight_decay=weight_decay)\n",
    "scheduler = get_cosine_schedule_with_warmup(optimizer=optimizer, num_warmup_steps=num_warmup_steps, num_training_steps=num_epoch*len(train_dataloader))"
   ]
  },
  {
   "cell_type": "code",
   "execution_count": 7,
   "metadata": {
    "collapsed": false,
    "pycharm": {
     "name": "#%%\n"
    }
   },
   "outputs": [
    {
     "data": {
      "application/vnd.jupyter.widget-view+json": {
       "model_id": "79ebe2dafd824a4a8ef8067f1a7e504c",
       "version_major": 2,
       "version_minor": 0
      },
      "text/plain": [
       "  0%|          | 0/56700 [00:00<?, ?it/s]"
      ]
     },
     "metadata": {},
     "output_type": "display_data"
    },
    {
     "name": "stdout",
     "output_type": "stream",
     "text": [
      "epoch: 1\n",
      "step: 100\n",
      "mse  training loss=0.70365\n",
      "L_T  training loss=0.00000\n",
      "rounding  training loss=8.94612\n",
      "step: 200\n",
      "mse  training loss=0.35716\n",
      "L_T  training loss=0.00000\n",
      "rounding  training loss=4.37584\n",
      "step: 300\n",
      "mse  training loss=0.30703\n",
      "L_T  training loss=0.00000\n",
      "rounding  training loss=1.74582\n",
      "step: 400\n",
      "mse  training loss=0.28241\n",
      "L_T  training loss=0.00000\n",
      "rounding  training loss=1.02338\n",
      "step: 500\n",
      "mse  training loss=0.26434\n",
      "L_T  training loss=0.00000\n",
      "rounding  training loss=0.76507\n",
      "step: 600\n",
      "mse  training loss=0.24443\n",
      "L_T  training loss=0.00000\n",
      "rounding  training loss=0.60915\n",
      "step: 700\n",
      "mse  training loss=0.23552\n",
      "L_T  training loss=0.00000\n",
      "rounding  training loss=0.51759\n",
      "step: 800\n",
      "mse  training loss=0.22217\n",
      "L_T  training loss=0.00000\n",
      "rounding  training loss=0.44281\n",
      "step: 900\n",
      "mse  training loss=0.21193\n",
      "L_T  training loss=0.00000\n",
      "rounding  training loss=0.38758\n",
      "step: 1000\n",
      "mse  training loss=0.20430\n",
      "L_T  training loss=0.00000\n",
      "rounding  training loss=0.33558\n",
      "step: 1100\n",
      "mse  training loss=0.20263\n",
      "L_T  training loss=0.00000\n",
      "rounding  training loss=0.30539\n",
      "step: 1200\n",
      "mse  training loss=0.19417\n",
      "L_T  training loss=0.00000\n",
      "rounding  training loss=0.27267\n",
      "step: 1300\n",
      "mse  training loss=0.18997\n",
      "L_T  training loss=0.00000\n",
      "rounding  training loss=0.25082\n",
      "step: 1400\n",
      "mse  training loss=0.18614\n",
      "L_T  training loss=0.00000\n",
      "rounding  training loss=0.22678\n",
      "step: 1500\n",
      "mse  training loss=0.18417\n",
      "L_T  training loss=0.00000\n",
      "rounding  training loss=0.21214\n",
      "step: 1600\n",
      "mse  training loss=0.17676\n",
      "L_T  training loss=0.00000\n",
      "rounding  training loss=0.19168\n",
      "step: 1700\n",
      "mse  training loss=0.17412\n",
      "L_T  training loss=0.00000\n",
      "rounding  training loss=0.17515\n",
      "step: 1800\n",
      "mse  training loss=0.17248\n",
      "L_T  training loss=0.00000\n",
      "rounding  training loss=0.16356\n",
      "Evaluating...\n",
      "eval loss=0.30585\n",
      "epoch: 2\n",
      "step: 100\n",
      "mse  training loss=0.16300\n",
      "L_T  training loss=0.00000\n",
      "rounding  training loss=0.13644\n",
      "step: 200\n",
      "mse  training loss=0.16025\n",
      "L_T  training loss=0.00000\n",
      "rounding  training loss=0.12865\n",
      "step: 300\n",
      "mse  training loss=0.15761\n",
      "L_T  training loss=0.00000\n",
      "rounding  training loss=0.11802\n",
      "step: 400\n",
      "mse  training loss=0.15746\n",
      "L_T  training loss=0.00000\n",
      "rounding  training loss=0.11172\n",
      "step: 500\n",
      "mse  training loss=0.15224\n",
      "L_T  training loss=0.00000\n",
      "rounding  training loss=0.10502\n",
      "step: 600\n",
      "mse  training loss=0.15419\n",
      "L_T  training loss=0.00000\n",
      "rounding  training loss=0.09875\n",
      "step: 700\n",
      "mse  training loss=0.14657\n",
      "L_T  training loss=0.00000\n",
      "rounding  training loss=0.09546\n",
      "step: 800\n",
      "mse  training loss=0.14628\n",
      "L_T  training loss=0.00000\n",
      "rounding  training loss=0.09081\n",
      "step: 900\n",
      "mse  training loss=0.14344\n",
      "L_T  training loss=0.00000\n",
      "rounding  training loss=0.08359\n",
      "step: 1000\n",
      "mse  training loss=0.14481\n",
      "L_T  training loss=0.00000\n",
      "rounding  training loss=0.07796\n",
      "step: 1100\n",
      "mse  training loss=0.14418\n",
      "L_T  training loss=0.00000\n",
      "rounding  training loss=0.07550\n",
      "step: 1200\n",
      "mse  training loss=0.14084\n",
      "L_T  training loss=0.00000\n",
      "rounding  training loss=0.07162\n",
      "step: 1300\n",
      "mse  training loss=0.13827\n",
      "L_T  training loss=0.00000\n",
      "rounding  training loss=0.06847\n",
      "step: 1400\n",
      "mse  training loss=0.13338\n",
      "L_T  training loss=0.00000\n",
      "rounding  training loss=0.06412\n",
      "step: 1500\n",
      "mse  training loss=0.13156\n",
      "L_T  training loss=0.00000\n",
      "rounding  training loss=0.06096\n",
      "step: 1600\n",
      "mse  training loss=0.13451\n",
      "L_T  training loss=0.00000\n",
      "rounding  training loss=0.05673\n",
      "step: 1700\n",
      "mse  training loss=0.12864\n",
      "L_T  training loss=0.00000\n",
      "rounding  training loss=0.05625\n",
      "step: 1800\n",
      "mse  training loss=0.13086\n",
      "L_T  training loss=0.00000\n",
      "rounding  training loss=0.05309\n",
      "Evaluating...\n",
      "eval loss=0.17694\n",
      "epoch: 3\n",
      "step: 100\n",
      "mse  training loss=0.12764\n",
      "L_T  training loss=0.00000\n",
      "rounding  training loss=0.04139\n",
      "step: 200\n",
      "mse  training loss=0.12611\n",
      "L_T  training loss=0.00000\n",
      "rounding  training loss=0.04097\n",
      "step: 300\n",
      "mse  training loss=0.12304\n",
      "L_T  training loss=0.00000\n",
      "rounding  training loss=0.03906\n",
      "step: 400\n",
      "mse  training loss=0.12394\n",
      "L_T  training loss=0.00000\n",
      "rounding  training loss=0.03791\n",
      "step: 500\n",
      "mse  training loss=0.12098\n",
      "L_T  training loss=0.00000\n",
      "rounding  training loss=0.03562\n",
      "step: 600\n",
      "mse  training loss=0.12103\n",
      "L_T  training loss=0.00000\n",
      "rounding  training loss=0.03694\n",
      "step: 700\n",
      "mse  training loss=0.12001\n",
      "L_T  training loss=0.00000\n",
      "rounding  training loss=0.03484\n",
      "step: 800\n",
      "mse  training loss=0.11811\n",
      "L_T  training loss=0.00000\n",
      "rounding  training loss=0.03288\n",
      "step: 900\n",
      "mse  training loss=0.11522\n",
      "L_T  training loss=0.00000\n",
      "rounding  training loss=0.03176\n",
      "step: 1000\n",
      "mse  training loss=0.11565\n",
      "L_T  training loss=0.00000\n",
      "rounding  training loss=0.03035\n",
      "step: 1100\n",
      "mse  training loss=0.11446\n",
      "L_T  training loss=0.00000\n",
      "rounding  training loss=0.02929\n",
      "step: 1200\n",
      "mse  training loss=0.11665\n",
      "L_T  training loss=0.00000\n",
      "rounding  training loss=0.02889\n",
      "step: 1300\n",
      "mse  training loss=0.11666\n",
      "L_T  training loss=0.00000\n",
      "rounding  training loss=0.02651\n",
      "step: 1400\n",
      "mse  training loss=0.11075\n",
      "L_T  training loss=0.00000\n",
      "rounding  training loss=0.02565\n",
      "step: 1500\n",
      "mse  training loss=0.11035\n",
      "L_T  training loss=0.00000\n",
      "rounding  training loss=0.02349\n",
      "step: 1600\n",
      "mse  training loss=0.11142\n",
      "L_T  training loss=0.00000\n",
      "rounding  training loss=0.02365\n",
      "step: 1700\n",
      "mse  training loss=0.10890\n",
      "L_T  training loss=0.00000\n",
      "rounding  training loss=0.02247\n",
      "step: 1800\n",
      "mse  training loss=0.10865\n",
      "L_T  training loss=0.00000\n",
      "rounding  training loss=0.02262\n",
      "Evaluating...\n",
      "eval loss=0.12776\n",
      "epoch: 4\n",
      "step: 100\n",
      "mse  training loss=0.10691\n",
      "L_T  training loss=0.00000\n",
      "rounding  training loss=0.01685\n",
      "step: 200\n",
      "mse  training loss=0.10687\n",
      "L_T  training loss=0.00000\n",
      "rounding  training loss=0.01602\n",
      "step: 300\n",
      "mse  training loss=0.10567\n",
      "L_T  training loss=0.00000\n",
      "rounding  training loss=0.01625\n",
      "step: 400\n",
      "mse  training loss=0.10444\n",
      "L_T  training loss=0.00000\n",
      "rounding  training loss=0.01465\n",
      "step: 500\n",
      "mse  training loss=0.10456\n",
      "L_T  training loss=0.00000\n",
      "rounding  training loss=0.01462\n",
      "step: 600\n",
      "mse  training loss=0.09966\n",
      "L_T  training loss=0.00000\n",
      "rounding  training loss=0.01404\n",
      "step: 700\n",
      "mse  training loss=0.10008\n",
      "L_T  training loss=0.00000\n",
      "rounding  training loss=0.01401\n",
      "step: 800\n",
      "mse  training loss=0.10082\n",
      "L_T  training loss=0.00000\n",
      "rounding  training loss=0.01354\n",
      "step: 900\n",
      "mse  training loss=0.10119\n",
      "L_T  training loss=0.00000\n",
      "rounding  training loss=0.01377\n",
      "step: 1000\n",
      "mse  training loss=0.09914\n",
      "L_T  training loss=0.00000\n",
      "rounding  training loss=0.01234\n",
      "step: 1100\n",
      "mse  training loss=0.10034\n",
      "L_T  training loss=0.00000\n",
      "rounding  training loss=0.01232\n",
      "step: 1200\n",
      "mse  training loss=0.09894\n",
      "L_T  training loss=0.00000\n",
      "rounding  training loss=0.01244\n",
      "step: 1300\n",
      "mse  training loss=0.09771\n",
      "L_T  training loss=0.00000\n",
      "rounding  training loss=0.01123\n",
      "step: 1400\n",
      "mse  training loss=0.09765\n",
      "L_T  training loss=0.00000\n",
      "rounding  training loss=0.01130\n",
      "step: 1500\n",
      "mse  training loss=0.09858\n",
      "L_T  training loss=0.00000\n",
      "rounding  training loss=0.01028\n",
      "step: 1600\n",
      "mse  training loss=0.09774\n",
      "L_T  training loss=0.00000\n",
      "rounding  training loss=0.01141\n",
      "step: 1700\n",
      "mse  training loss=0.09455\n",
      "L_T  training loss=0.00000\n",
      "rounding  training loss=0.01069\n",
      "step: 1800\n",
      "mse  training loss=0.09630\n",
      "L_T  training loss=0.00000\n",
      "rounding  training loss=0.00977\n",
      "Evaluating...\n",
      "eval loss=0.10397\n",
      "epoch: 5\n",
      "step: 100\n",
      "mse  training loss=0.09480\n",
      "L_T  training loss=0.00000\n",
      "rounding  training loss=0.00713\n",
      "step: 200\n",
      "mse  training loss=0.09301\n",
      "L_T  training loss=0.00000\n",
      "rounding  training loss=0.00675\n",
      "step: 300\n",
      "mse  training loss=0.09158\n",
      "L_T  training loss=0.00000\n",
      "rounding  training loss=0.00727\n",
      "step: 400\n",
      "mse  training loss=0.09035\n",
      "L_T  training loss=0.00000\n",
      "rounding  training loss=0.00656\n",
      "step: 500\n",
      "mse  training loss=0.09179\n",
      "L_T  training loss=0.00000\n",
      "rounding  training loss=0.00647\n",
      "step: 600\n",
      "mse  training loss=0.09002\n",
      "L_T  training loss=0.00000\n",
      "rounding  training loss=0.00686\n",
      "step: 700\n",
      "mse  training loss=0.08856\n",
      "L_T  training loss=0.00000\n",
      "rounding  training loss=0.00593\n",
      "step: 800\n",
      "mse  training loss=0.08960\n",
      "L_T  training loss=0.00000\n",
      "rounding  training loss=0.00596\n",
      "step: 900\n",
      "mse  training loss=0.09043\n",
      "L_T  training loss=0.00000\n",
      "rounding  training loss=0.00634\n",
      "step: 1000\n",
      "mse  training loss=0.08975\n",
      "L_T  training loss=0.00000\n",
      "rounding  training loss=0.00594\n",
      "step: 1100\n",
      "mse  training loss=0.08858\n",
      "L_T  training loss=0.00000\n",
      "rounding  training loss=0.00540\n",
      "step: 1200\n",
      "mse  training loss=0.08959\n",
      "L_T  training loss=0.00000\n",
      "rounding  training loss=0.00549\n",
      "step: 1300\n",
      "mse  training loss=0.08538\n",
      "L_T  training loss=0.00000\n",
      "rounding  training loss=0.00489\n",
      "step: 1400\n",
      "mse  training loss=0.08700\n",
      "L_T  training loss=0.00000\n",
      "rounding  training loss=0.00572\n",
      "step: 1500\n",
      "mse  training loss=0.08365\n",
      "L_T  training loss=0.00000\n",
      "rounding  training loss=0.00470\n",
      "step: 1600\n",
      "mse  training loss=0.08597\n",
      "L_T  training loss=0.00000\n",
      "rounding  training loss=0.00489\n",
      "step: 1700\n",
      "mse  training loss=0.08513\n",
      "L_T  training loss=0.00000\n",
      "rounding  training loss=0.00485\n",
      "step: 1800\n",
      "mse  training loss=0.08451\n",
      "L_T  training loss=0.00000\n",
      "rounding  training loss=0.00467\n",
      "Evaluating...\n",
      "eval loss=0.08789\n",
      "epoch: 6\n",
      "step: 100\n",
      "mse  training loss=0.08333\n",
      "L_T  training loss=0.00000\n",
      "rounding  training loss=0.00345\n",
      "step: 200\n",
      "mse  training loss=0.08367\n",
      "L_T  training loss=0.00000\n",
      "rounding  training loss=0.00276\n",
      "step: 300\n",
      "mse  training loss=0.08157\n",
      "L_T  training loss=0.00000\n",
      "rounding  training loss=0.00297\n",
      "step: 400\n",
      "mse  training loss=0.08205\n",
      "L_T  training loss=0.00000\n",
      "rounding  training loss=0.00326\n",
      "step: 500\n",
      "mse  training loss=0.08265\n",
      "L_T  training loss=0.00000\n",
      "rounding  training loss=0.00298\n",
      "step: 600\n",
      "mse  training loss=0.08287\n",
      "L_T  training loss=0.00000\n",
      "rounding  training loss=0.00307\n",
      "step: 700\n",
      "mse  training loss=0.08066\n",
      "L_T  training loss=0.00000\n",
      "rounding  training loss=0.00307\n",
      "step: 800\n",
      "mse  training loss=0.08137\n",
      "L_T  training loss=0.00000\n",
      "rounding  training loss=0.00287\n",
      "step: 900\n",
      "mse  training loss=0.07972\n",
      "L_T  training loss=0.00000\n",
      "rounding  training loss=0.00294\n",
      "step: 1000\n",
      "mse  training loss=0.07949\n",
      "L_T  training loss=0.00000\n",
      "rounding  training loss=0.00288\n",
      "step: 1100\n",
      "mse  training loss=0.07963\n",
      "L_T  training loss=0.00000\n",
      "rounding  training loss=0.00263\n",
      "step: 1200\n",
      "mse  training loss=0.08002\n",
      "L_T  training loss=0.00000\n",
      "rounding  training loss=0.00258\n",
      "step: 1300\n",
      "mse  training loss=0.08133\n",
      "L_T  training loss=0.00000\n",
      "rounding  training loss=0.00282\n",
      "step: 1400\n",
      "mse  training loss=0.07892\n",
      "L_T  training loss=0.00000\n",
      "rounding  training loss=0.00277\n",
      "step: 1500\n",
      "mse  training loss=0.07845\n",
      "L_T  training loss=0.00000\n",
      "rounding  training loss=0.00237\n",
      "step: 1600\n",
      "mse  training loss=0.07866\n",
      "L_T  training loss=0.00000\n",
      "rounding  training loss=0.00251\n",
      "step: 1700\n",
      "mse  training loss=0.07614\n",
      "L_T  training loss=0.00000\n",
      "rounding  training loss=0.00241\n",
      "step: 1800\n",
      "mse  training loss=0.07708\n",
      "L_T  training loss=0.00000\n",
      "rounding  training loss=0.00252\n",
      "Evaluating...\n",
      "eval loss=0.07896\n",
      "epoch: 7\n",
      "step: 100\n",
      "mse  training loss=0.07635\n",
      "L_T  training loss=0.00000\n",
      "rounding  training loss=0.00194\n",
      "step: 200\n",
      "mse  training loss=0.07522\n",
      "L_T  training loss=0.00000\n",
      "rounding  training loss=0.00177\n",
      "step: 300\n",
      "mse  training loss=0.07570\n",
      "L_T  training loss=0.00000\n",
      "rounding  training loss=0.00150\n",
      "step: 400\n",
      "mse  training loss=0.07516\n",
      "L_T  training loss=0.00000\n",
      "rounding  training loss=0.00169\n",
      "step: 500\n",
      "mse  training loss=0.07530\n",
      "L_T  training loss=0.00000\n",
      "rounding  training loss=0.00163\n",
      "step: 600\n",
      "mse  training loss=0.07506\n",
      "L_T  training loss=0.00000\n",
      "rounding  training loss=0.00163\n",
      "step: 700\n",
      "mse  training loss=0.07379\n",
      "L_T  training loss=0.00000\n",
      "rounding  training loss=0.00161\n",
      "step: 800\n",
      "mse  training loss=0.07495\n",
      "L_T  training loss=0.00000\n",
      "rounding  training loss=0.00137\n",
      "step: 900\n",
      "mse  training loss=0.07464\n",
      "L_T  training loss=0.00000\n",
      "rounding  training loss=0.00134\n",
      "step: 1000\n",
      "mse  training loss=0.07209\n",
      "L_T  training loss=0.00000\n",
      "rounding  training loss=0.00143\n",
      "step: 1100\n",
      "mse  training loss=0.07282\n",
      "L_T  training loss=0.00000\n",
      "rounding  training loss=0.00144\n",
      "step: 1200\n",
      "mse  training loss=0.07267\n",
      "L_T  training loss=0.00000\n",
      "rounding  training loss=0.00143\n",
      "step: 1300\n",
      "mse  training loss=0.07224\n",
      "L_T  training loss=0.00000\n",
      "rounding  training loss=0.00166\n",
      "step: 1400\n",
      "mse  training loss=0.07101\n",
      "L_T  training loss=0.00000\n",
      "rounding  training loss=0.00162\n",
      "step: 1500\n",
      "mse  training loss=0.07142\n",
      "L_T  training loss=0.00000\n",
      "rounding  training loss=0.00159\n",
      "step: 1600\n",
      "mse  training loss=0.07127\n",
      "L_T  training loss=0.00000\n",
      "rounding  training loss=0.00118\n",
      "step: 1700\n",
      "mse  training loss=0.07062\n",
      "L_T  training loss=0.00000\n",
      "rounding  training loss=0.00125\n",
      "step: 1800\n",
      "mse  training loss=0.07061\n",
      "L_T  training loss=0.00000\n",
      "rounding  training loss=0.00098\n",
      "Evaluating...\n",
      "eval loss=0.06993\n",
      "epoch: 8\n",
      "step: 100\n",
      "mse  training loss=0.07100\n",
      "L_T  training loss=0.00000\n",
      "rounding  training loss=0.00093\n",
      "step: 200\n",
      "mse  training loss=0.06744\n",
      "L_T  training loss=0.00000\n",
      "rounding  training loss=0.00096\n",
      "step: 300\n",
      "mse  training loss=0.06858\n",
      "L_T  training loss=0.00000\n",
      "rounding  training loss=0.00102\n",
      "step: 400\n",
      "mse  training loss=0.06848\n",
      "L_T  training loss=0.00000\n",
      "rounding  training loss=0.00100\n",
      "step: 500\n",
      "mse  training loss=0.06878\n",
      "L_T  training loss=0.00000\n",
      "rounding  training loss=0.00069\n",
      "step: 600\n",
      "mse  training loss=0.07011\n",
      "L_T  training loss=0.00000\n",
      "rounding  training loss=0.00100\n",
      "step: 700\n",
      "mse  training loss=0.06718\n",
      "L_T  training loss=0.00000\n",
      "rounding  training loss=0.00090\n",
      "step: 800\n",
      "mse  training loss=0.06894\n",
      "L_T  training loss=0.00000\n",
      "rounding  training loss=0.00105\n",
      "step: 900\n",
      "mse  training loss=0.06644\n",
      "L_T  training loss=0.00000\n",
      "rounding  training loss=0.00093\n",
      "step: 1000\n",
      "mse  training loss=0.06902\n",
      "L_T  training loss=0.00000\n",
      "rounding  training loss=0.00080\n",
      "step: 1100\n",
      "mse  training loss=0.06806\n",
      "L_T  training loss=0.00000\n",
      "rounding  training loss=0.00069\n",
      "step: 1200\n",
      "mse  training loss=0.06708\n",
      "L_T  training loss=0.00000\n",
      "rounding  training loss=0.00099\n",
      "step: 1300\n",
      "mse  training loss=0.06621\n",
      "L_T  training loss=0.00000\n",
      "rounding  training loss=0.00078\n",
      "step: 1400\n",
      "mse  training loss=0.06545\n",
      "L_T  training loss=0.00000\n",
      "rounding  training loss=0.00104\n",
      "step: 1500\n",
      "mse  training loss=0.06613\n",
      "L_T  training loss=0.00000\n",
      "rounding  training loss=0.00094\n",
      "step: 1600\n",
      "mse  training loss=0.06486\n",
      "L_T  training loss=0.00000\n",
      "rounding  training loss=0.00068\n",
      "step: 1700\n",
      "mse  training loss=0.06390\n",
      "L_T  training loss=0.00000\n",
      "rounding  training loss=0.00063\n",
      "step: 1800\n",
      "mse  training loss=0.06457\n",
      "L_T  training loss=0.00000\n",
      "rounding  training loss=0.00088\n",
      "Evaluating...\n",
      "eval loss=0.06576\n",
      "epoch: 9\n",
      "step: 100\n",
      "mse  training loss=0.06387\n",
      "L_T  training loss=0.00000\n",
      "rounding  training loss=0.00059\n",
      "step: 200\n",
      "mse  training loss=0.06572\n",
      "L_T  training loss=0.00000\n",
      "rounding  training loss=0.00047\n",
      "step: 300\n",
      "mse  training loss=0.06405\n",
      "L_T  training loss=0.00000\n",
      "rounding  training loss=0.00049\n",
      "step: 400\n",
      "mse  training loss=0.06350\n",
      "L_T  training loss=0.00000\n",
      "rounding  training loss=0.00052\n",
      "step: 500\n",
      "mse  training loss=0.06423\n",
      "L_T  training loss=0.00000\n",
      "rounding  training loss=0.00063\n",
      "step: 600\n",
      "mse  training loss=0.06276\n",
      "L_T  training loss=0.00000\n",
      "rounding  training loss=0.00052\n",
      "step: 700\n",
      "mse  training loss=0.06351\n",
      "L_T  training loss=0.00000\n",
      "rounding  training loss=0.00048\n",
      "step: 800\n",
      "mse  training loss=0.06235\n",
      "L_T  training loss=0.00000\n",
      "rounding  training loss=0.00059\n",
      "step: 900\n",
      "mse  training loss=0.06230\n",
      "L_T  training loss=0.00000\n",
      "rounding  training loss=0.00050\n",
      "step: 1000\n",
      "mse  training loss=0.06265\n",
      "L_T  training loss=0.00000\n",
      "rounding  training loss=0.00066\n",
      "step: 1100\n",
      "mse  training loss=0.06197\n",
      "L_T  training loss=0.00000\n",
      "rounding  training loss=0.00049\n",
      "step: 1200\n",
      "mse  training loss=0.06274\n",
      "L_T  training loss=0.00000\n",
      "rounding  training loss=0.00050\n",
      "step: 1300\n",
      "mse  training loss=0.06131\n",
      "L_T  training loss=0.00000\n",
      "rounding  training loss=0.00057\n",
      "step: 1400\n",
      "mse  training loss=0.06056\n",
      "L_T  training loss=0.00000\n",
      "rounding  training loss=0.00049\n",
      "step: 1500\n",
      "mse  training loss=0.06204\n",
      "L_T  training loss=0.00000\n",
      "rounding  training loss=0.00060\n",
      "step: 1600\n",
      "mse  training loss=0.06214\n",
      "L_T  training loss=0.00000\n",
      "rounding  training loss=0.00056\n",
      "step: 1700\n",
      "mse  training loss=0.06140\n",
      "L_T  training loss=0.00000\n",
      "rounding  training loss=0.00060\n",
      "step: 1800\n",
      "mse  training loss=0.06120\n",
      "L_T  training loss=0.00000\n",
      "rounding  training loss=0.00044\n",
      "Evaluating...\n",
      "eval loss=0.06155\n",
      "epoch: 10\n",
      "step: 100\n",
      "mse  training loss=0.06213\n",
      "L_T  training loss=0.00000\n",
      "rounding  training loss=0.00024\n",
      "step: 200\n",
      "mse  training loss=0.05968\n",
      "L_T  training loss=0.00000\n",
      "rounding  training loss=0.00039\n",
      "step: 300\n",
      "mse  training loss=0.05968\n",
      "L_T  training loss=0.00000\n",
      "rounding  training loss=0.00029\n",
      "step: 400\n",
      "mse  training loss=0.06131\n",
      "L_T  training loss=0.00000\n",
      "rounding  training loss=0.00032\n",
      "step: 500\n",
      "mse  training loss=0.05966\n",
      "L_T  training loss=0.00000\n",
      "rounding  training loss=0.00031\n",
      "step: 600\n",
      "mse  training loss=0.05999\n",
      "L_T  training loss=0.00000\n",
      "rounding  training loss=0.00036\n",
      "step: 700\n",
      "mse  training loss=0.05941\n",
      "L_T  training loss=0.00000\n",
      "rounding  training loss=0.00026\n",
      "step: 800\n",
      "mse  training loss=0.05866\n",
      "L_T  training loss=0.00000\n",
      "rounding  training loss=0.00029\n",
      "step: 900\n",
      "mse  training loss=0.05967\n",
      "L_T  training loss=0.00000\n",
      "rounding  training loss=0.00028\n",
      "step: 1000\n",
      "mse  training loss=0.05976\n",
      "L_T  training loss=0.00000\n",
      "rounding  training loss=0.00032\n",
      "step: 1100\n",
      "mse  training loss=0.05795\n",
      "L_T  training loss=0.00000\n",
      "rounding  training loss=0.00032\n",
      "step: 1200\n",
      "mse  training loss=0.05873\n",
      "L_T  training loss=0.00000\n",
      "rounding  training loss=0.00036\n",
      "step: 1300\n",
      "mse  training loss=0.05795\n",
      "L_T  training loss=0.00000\n",
      "rounding  training loss=0.00033\n",
      "step: 1400\n",
      "mse  training loss=0.05836\n",
      "L_T  training loss=0.00000\n",
      "rounding  training loss=0.00029\n",
      "step: 1500\n",
      "mse  training loss=0.05806\n",
      "L_T  training loss=0.00000\n",
      "rounding  training loss=0.00032\n",
      "step: 1600\n",
      "mse  training loss=0.05861\n",
      "L_T  training loss=0.00000\n",
      "rounding  training loss=0.00029\n",
      "step: 1700\n",
      "mse  training loss=0.05843\n",
      "L_T  training loss=0.00000\n",
      "rounding  training loss=0.00030\n",
      "step: 1800\n",
      "mse  training loss=0.05813\n",
      "L_T  training loss=0.00000\n",
      "rounding  training loss=0.00029\n",
      "Evaluating...\n",
      "eval loss=0.05646\n",
      "epoch: 11\n",
      "step: 100\n",
      "mse  training loss=0.05756\n",
      "L_T  training loss=0.00000\n",
      "rounding  training loss=0.00019\n",
      "step: 200\n",
      "mse  training loss=0.05699\n",
      "L_T  training loss=0.00000\n",
      "rounding  training loss=0.00016\n",
      "step: 300\n",
      "mse  training loss=0.05747\n",
      "L_T  training loss=0.00000\n",
      "rounding  training loss=0.00013\n",
      "step: 400\n",
      "mse  training loss=0.05715\n",
      "L_T  training loss=0.00000\n",
      "rounding  training loss=0.00021\n",
      "step: 500\n",
      "mse  training loss=0.05621\n",
      "L_T  training loss=0.00000\n",
      "rounding  training loss=0.00017\n",
      "step: 600\n",
      "mse  training loss=0.05798\n",
      "L_T  training loss=0.00000\n",
      "rounding  training loss=0.00017\n",
      "step: 700\n",
      "mse  training loss=0.05631\n",
      "L_T  training loss=0.00000\n",
      "rounding  training loss=0.00014\n",
      "step: 800\n",
      "mse  training loss=0.05590\n",
      "L_T  training loss=0.00000\n",
      "rounding  training loss=0.00014\n",
      "step: 900\n",
      "mse  training loss=0.05456\n",
      "L_T  training loss=0.00000\n",
      "rounding  training loss=0.00015\n",
      "step: 1000\n",
      "mse  training loss=0.05619\n",
      "L_T  training loss=0.00000\n",
      "rounding  training loss=0.00023\n",
      "step: 1100\n",
      "mse  training loss=0.05676\n",
      "L_T  training loss=0.00000\n",
      "rounding  training loss=0.00017\n",
      "step: 1200\n",
      "mse  training loss=0.05554\n",
      "L_T  training loss=0.00000\n",
      "rounding  training loss=0.00023\n",
      "step: 1300\n",
      "mse  training loss=0.05518\n",
      "L_T  training loss=0.00000\n",
      "rounding  training loss=0.00018\n",
      "step: 1400\n",
      "mse  training loss=0.05594\n",
      "L_T  training loss=0.00000\n",
      "rounding  training loss=0.00014\n",
      "step: 1500\n",
      "mse  training loss=0.05457\n",
      "L_T  training loss=0.00000\n",
      "rounding  training loss=0.00015\n",
      "step: 1600\n",
      "mse  training loss=0.05567\n",
      "L_T  training loss=0.00000\n",
      "rounding  training loss=0.00016\n",
      "step: 1700\n",
      "mse  training loss=0.05550\n",
      "L_T  training loss=0.00000\n",
      "rounding  training loss=0.00016\n",
      "step: 1800\n",
      "mse  training loss=0.05391\n",
      "L_T  training loss=0.00000\n",
      "rounding  training loss=0.00019\n",
      "Evaluating...\n",
      "eval loss=0.05308\n",
      "epoch: 12\n",
      "step: 100\n",
      "mse  training loss=0.05394\n",
      "L_T  training loss=0.00000\n",
      "rounding  training loss=0.00011\n",
      "step: 200\n",
      "mse  training loss=0.05364\n",
      "L_T  training loss=0.00000\n",
      "rounding  training loss=0.00007\n",
      "step: 300\n",
      "mse  training loss=0.05426\n",
      "L_T  training loss=0.00000\n",
      "rounding  training loss=0.00008\n",
      "step: 400\n",
      "mse  training loss=0.05324\n",
      "L_T  training loss=0.00000\n",
      "rounding  training loss=0.00009\n",
      "step: 500\n",
      "mse  training loss=0.05330\n",
      "L_T  training loss=0.00000\n",
      "rounding  training loss=0.00009\n",
      "step: 600\n",
      "mse  training loss=0.05375\n",
      "L_T  training loss=0.00000\n",
      "rounding  training loss=0.00009\n",
      "step: 700\n",
      "mse  training loss=0.05342\n",
      "L_T  training loss=0.00000\n",
      "rounding  training loss=0.00011\n",
      "step: 800\n",
      "mse  training loss=0.05225\n",
      "L_T  training loss=0.00000\n",
      "rounding  training loss=0.00012\n",
      "step: 900\n",
      "mse  training loss=0.05252\n",
      "L_T  training loss=0.00000\n",
      "rounding  training loss=0.00008\n",
      "step: 1000\n",
      "mse  training loss=0.05415\n",
      "L_T  training loss=0.00000\n",
      "rounding  training loss=0.00008\n",
      "step: 1100\n",
      "mse  training loss=0.05315\n",
      "L_T  training loss=0.00000\n",
      "rounding  training loss=0.00007\n",
      "step: 1200\n",
      "mse  training loss=0.05326\n",
      "L_T  training loss=0.00000\n",
      "rounding  training loss=0.00009\n",
      "step: 1300\n",
      "mse  training loss=0.05250\n",
      "L_T  training loss=0.00000\n",
      "rounding  training loss=0.00010\n",
      "step: 1400\n",
      "mse  training loss=0.05292\n",
      "L_T  training loss=0.00000\n",
      "rounding  training loss=0.00009\n",
      "step: 1500\n",
      "mse  training loss=0.05250\n",
      "L_T  training loss=0.00000\n",
      "rounding  training loss=0.00009\n",
      "step: 1600\n",
      "mse  training loss=0.05277\n",
      "L_T  training loss=0.00000\n",
      "rounding  training loss=0.00009\n",
      "step: 1700\n",
      "mse  training loss=0.05178\n",
      "L_T  training loss=0.00000\n",
      "rounding  training loss=0.00011\n",
      "step: 1800\n",
      "mse  training loss=0.05233\n",
      "L_T  training loss=0.00000\n",
      "rounding  training loss=0.00010\n",
      "Evaluating...\n",
      "eval loss=0.05084\n",
      "epoch: 13\n",
      "step: 100\n",
      "mse  training loss=0.05149\n",
      "L_T  training loss=0.00000\n",
      "rounding  training loss=0.00005\n",
      "step: 200\n",
      "mse  training loss=0.05083\n",
      "L_T  training loss=0.00000\n",
      "rounding  training loss=0.00005\n",
      "step: 300\n",
      "mse  training loss=0.05114\n",
      "L_T  training loss=0.00000\n",
      "rounding  training loss=0.00006\n",
      "step: 400\n",
      "mse  training loss=0.05268\n",
      "L_T  training loss=0.00000\n",
      "rounding  training loss=0.00005\n",
      "step: 500\n",
      "mse  training loss=0.05103\n",
      "L_T  training loss=0.00000\n",
      "rounding  training loss=0.00006\n",
      "step: 600\n",
      "mse  training loss=0.05080\n",
      "L_T  training loss=0.00000\n",
      "rounding  training loss=0.00005\n",
      "step: 700\n",
      "mse  training loss=0.04973\n",
      "L_T  training loss=0.00000\n",
      "rounding  training loss=0.00004\n",
      "step: 800\n",
      "mse  training loss=0.05126\n",
      "L_T  training loss=0.00000\n",
      "rounding  training loss=0.00004\n",
      "step: 900\n",
      "mse  training loss=0.05171\n",
      "L_T  training loss=0.00000\n",
      "rounding  training loss=0.00004\n",
      "step: 1000\n",
      "mse  training loss=0.05026\n",
      "L_T  training loss=0.00000\n",
      "rounding  training loss=0.00007\n",
      "step: 1100\n",
      "mse  training loss=0.05004\n",
      "L_T  training loss=0.00000\n",
      "rounding  training loss=0.00005\n",
      "step: 1200\n",
      "mse  training loss=0.05079\n",
      "L_T  training loss=0.00000\n",
      "rounding  training loss=0.00004\n",
      "step: 1300\n",
      "mse  training loss=0.04983\n",
      "L_T  training loss=0.00000\n",
      "rounding  training loss=0.00005\n",
      "step: 1400\n",
      "mse  training loss=0.04957\n",
      "L_T  training loss=0.00000\n",
      "rounding  training loss=0.00005\n",
      "step: 1500\n",
      "mse  training loss=0.04893\n",
      "L_T  training loss=0.00000\n",
      "rounding  training loss=0.00005\n",
      "step: 1600\n",
      "mse  training loss=0.05042\n",
      "L_T  training loss=0.00000\n",
      "rounding  training loss=0.00006\n",
      "step: 1700\n",
      "mse  training loss=0.05102\n",
      "L_T  training loss=0.00000\n",
      "rounding  training loss=0.00005\n",
      "step: 1800\n",
      "mse  training loss=0.04968\n",
      "L_T  training loss=0.00000\n",
      "rounding  training loss=0.00005\n",
      "Evaluating...\n",
      "eval loss=0.04898\n",
      "epoch: 14\n",
      "step: 100\n",
      "mse  training loss=0.04972\n",
      "L_T  training loss=0.00000\n",
      "rounding  training loss=0.00003\n",
      "step: 200\n",
      "mse  training loss=0.04966\n",
      "L_T  training loss=0.00000\n",
      "rounding  training loss=0.00003\n",
      "step: 300\n",
      "mse  training loss=0.04935\n",
      "L_T  training loss=0.00000\n",
      "rounding  training loss=0.00003\n",
      "step: 400\n",
      "mse  training loss=0.04973\n",
      "L_T  training loss=0.00000\n",
      "rounding  training loss=0.00003\n",
      "step: 500\n",
      "mse  training loss=0.04907\n",
      "L_T  training loss=0.00000\n",
      "rounding  training loss=0.00003\n",
      "step: 600\n",
      "mse  training loss=0.04883\n",
      "L_T  training loss=0.00000\n",
      "rounding  training loss=0.00004\n",
      "step: 700\n",
      "mse  training loss=0.04937\n",
      "L_T  training loss=0.00000\n",
      "rounding  training loss=0.00003\n",
      "step: 800\n",
      "mse  training loss=0.04651\n",
      "L_T  training loss=0.00000\n",
      "rounding  training loss=0.00002\n",
      "step: 900\n",
      "mse  training loss=0.04873\n",
      "L_T  training loss=0.00000\n",
      "rounding  training loss=0.00003\n",
      "step: 1000\n",
      "mse  training loss=0.04783\n",
      "L_T  training loss=0.00000\n",
      "rounding  training loss=0.00002\n",
      "step: 1100\n",
      "mse  training loss=0.04955\n",
      "L_T  training loss=0.00000\n",
      "rounding  training loss=0.00003\n",
      "step: 1200\n",
      "mse  training loss=0.04843\n",
      "L_T  training loss=0.00000\n",
      "rounding  training loss=0.00003\n",
      "step: 1300\n",
      "mse  training loss=0.04729\n",
      "L_T  training loss=0.00000\n",
      "rounding  training loss=0.00003\n",
      "step: 1400\n",
      "mse  training loss=0.04918\n",
      "L_T  training loss=0.00000\n",
      "rounding  training loss=0.00003\n",
      "step: 1500\n",
      "mse  training loss=0.04859\n",
      "L_T  training loss=0.00000\n",
      "rounding  training loss=0.00003\n",
      "step: 1600\n",
      "mse  training loss=0.04709\n",
      "L_T  training loss=0.00000\n",
      "rounding  training loss=0.00003\n",
      "step: 1700\n",
      "mse  training loss=0.04759\n",
      "L_T  training loss=0.00000\n",
      "rounding  training loss=0.00003\n",
      "step: 1800\n",
      "mse  training loss=0.04728\n",
      "L_T  training loss=0.00000\n",
      "rounding  training loss=0.00003\n",
      "Evaluating...\n",
      "eval loss=0.04797\n",
      "epoch: 15\n",
      "step: 100\n",
      "mse  training loss=0.04806\n",
      "L_T  training loss=0.00000\n",
      "rounding  training loss=0.00002\n",
      "step: 200\n",
      "mse  training loss=0.04713\n",
      "L_T  training loss=0.00000\n",
      "rounding  training loss=0.00002\n",
      "step: 300\n",
      "mse  training loss=0.04647\n",
      "L_T  training loss=0.00000\n",
      "rounding  training loss=0.00002\n",
      "step: 400\n",
      "mse  training loss=0.04720\n",
      "L_T  training loss=0.00000\n",
      "rounding  training loss=0.00002\n",
      "step: 500\n",
      "mse  training loss=0.04688\n",
      "L_T  training loss=0.00000\n",
      "rounding  training loss=0.00002\n",
      "step: 600\n",
      "mse  training loss=0.04573\n",
      "L_T  training loss=0.00000\n",
      "rounding  training loss=0.00002\n",
      "step: 700\n",
      "mse  training loss=0.04674\n",
      "L_T  training loss=0.00000\n",
      "rounding  training loss=0.00002\n",
      "step: 800\n",
      "mse  training loss=0.04723\n",
      "L_T  training loss=0.00000\n",
      "rounding  training loss=0.00002\n",
      "step: 900\n",
      "mse  training loss=0.04643\n",
      "L_T  training loss=0.00000\n",
      "rounding  training loss=0.00002\n",
      "step: 1000\n",
      "mse  training loss=0.04677\n",
      "L_T  training loss=0.00000\n",
      "rounding  training loss=0.00001\n",
      "step: 1100\n",
      "mse  training loss=0.04642\n",
      "L_T  training loss=0.00000\n",
      "rounding  training loss=0.00002\n",
      "step: 1200\n",
      "mse  training loss=0.04710\n",
      "L_T  training loss=0.00000\n",
      "rounding  training loss=0.00002\n",
      "step: 1300\n",
      "mse  training loss=0.04734\n",
      "L_T  training loss=0.00000\n",
      "rounding  training loss=0.00002\n",
      "step: 1400\n",
      "mse  training loss=0.04584\n",
      "L_T  training loss=0.00000\n",
      "rounding  training loss=0.00002\n",
      "step: 1500\n",
      "mse  training loss=0.04714\n",
      "L_T  training loss=0.00000\n",
      "rounding  training loss=0.00002\n",
      "step: 1600\n",
      "mse  training loss=0.04587\n",
      "L_T  training loss=0.00000\n",
      "rounding  training loss=0.00002\n",
      "step: 1700\n",
      "mse  training loss=0.04566\n",
      "L_T  training loss=0.00000\n",
      "rounding  training loss=0.00001\n",
      "step: 1800\n",
      "mse  training loss=0.04678\n",
      "L_T  training loss=0.00000\n",
      "rounding  training loss=0.00002\n",
      "Evaluating...\n",
      "eval loss=0.04523\n",
      "epoch: 16\n",
      "step: 100\n",
      "mse  training loss=0.04563\n",
      "L_T  training loss=0.00000\n",
      "rounding  training loss=0.00001\n",
      "step: 200\n",
      "mse  training loss=0.04471\n",
      "L_T  training loss=0.00000\n",
      "rounding  training loss=0.00001\n",
      "step: 300\n",
      "mse  training loss=0.04635\n",
      "L_T  training loss=0.00000\n",
      "rounding  training loss=0.00001\n",
      "step: 400\n",
      "mse  training loss=0.04501\n",
      "L_T  training loss=0.00000\n",
      "rounding  training loss=0.00001\n",
      "step: 500\n",
      "mse  training loss=0.04459\n",
      "L_T  training loss=0.00000\n",
      "rounding  training loss=0.00001\n",
      "step: 600\n",
      "mse  training loss=0.04567\n",
      "L_T  training loss=0.00000\n",
      "rounding  training loss=0.00001\n",
      "step: 700\n",
      "mse  training loss=0.04578\n",
      "L_T  training loss=0.00000\n",
      "rounding  training loss=0.00001\n",
      "step: 800\n",
      "mse  training loss=0.04564\n",
      "L_T  training loss=0.00000\n",
      "rounding  training loss=0.00001\n",
      "step: 900\n",
      "mse  training loss=0.04510\n",
      "L_T  training loss=0.00000\n",
      "rounding  training loss=0.00001\n",
      "step: 1000\n",
      "mse  training loss=0.04562\n",
      "L_T  training loss=0.00000\n",
      "rounding  training loss=0.00001\n",
      "step: 1100\n",
      "mse  training loss=0.04469\n",
      "L_T  training loss=0.00000\n",
      "rounding  training loss=0.00001\n",
      "step: 1200\n",
      "mse  training loss=0.04576\n",
      "L_T  training loss=0.00000\n",
      "rounding  training loss=0.00001\n",
      "step: 1300\n",
      "mse  training loss=0.04387\n",
      "L_T  training loss=0.00000\n",
      "rounding  training loss=0.00001\n",
      "step: 1400\n",
      "mse  training loss=0.04549\n",
      "L_T  training loss=0.00000\n",
      "rounding  training loss=0.00002\n",
      "step: 1500\n",
      "mse  training loss=0.04540\n",
      "L_T  training loss=0.00000\n",
      "rounding  training loss=0.00002\n",
      "step: 1600\n",
      "mse  training loss=0.04466\n",
      "L_T  training loss=0.00000\n",
      "rounding  training loss=0.00001\n",
      "step: 1700\n",
      "mse  training loss=0.04461\n",
      "L_T  training loss=0.00000\n",
      "rounding  training loss=0.00001\n",
      "step: 1800\n",
      "mse  training loss=0.04447\n",
      "L_T  training loss=0.00000\n",
      "rounding  training loss=0.00001\n",
      "Evaluating...\n",
      "eval loss=0.04432\n",
      "epoch: 17\n",
      "step: 100\n",
      "mse  training loss=0.04426\n",
      "L_T  training loss=0.00000\n",
      "rounding  training loss=0.00001\n",
      "step: 200\n",
      "mse  training loss=0.04405\n",
      "L_T  training loss=0.00000\n",
      "rounding  training loss=0.00001\n",
      "step: 300\n",
      "mse  training loss=0.04402\n",
      "L_T  training loss=0.00000\n",
      "rounding  training loss=0.00001\n",
      "step: 400\n",
      "mse  training loss=0.04526\n",
      "L_T  training loss=0.00000\n",
      "rounding  training loss=0.00001\n",
      "step: 500\n",
      "mse  training loss=0.04406\n",
      "L_T  training loss=0.00000\n",
      "rounding  training loss=0.00001\n",
      "step: 600\n",
      "mse  training loss=0.04396\n",
      "L_T  training loss=0.00000\n",
      "rounding  training loss=0.00001\n",
      "step: 700\n",
      "mse  training loss=0.04368\n",
      "L_T  training loss=0.00000\n",
      "rounding  training loss=0.00001\n",
      "step: 800\n",
      "mse  training loss=0.04378\n",
      "L_T  training loss=0.00000\n",
      "rounding  training loss=0.00001\n",
      "step: 900\n",
      "mse  training loss=0.04438\n",
      "L_T  training loss=0.00000\n",
      "rounding  training loss=0.00001\n",
      "step: 1000\n",
      "mse  training loss=0.04310\n",
      "L_T  training loss=0.00000\n",
      "rounding  training loss=0.00001\n",
      "step: 1100\n",
      "mse  training loss=0.04371\n",
      "L_T  training loss=0.00000\n",
      "rounding  training loss=0.00001\n",
      "step: 1200\n",
      "mse  training loss=0.04285\n",
      "L_T  training loss=0.00000\n",
      "rounding  training loss=0.00001\n",
      "step: 1300\n",
      "mse  training loss=0.04423\n",
      "L_T  training loss=0.00000\n",
      "rounding  training loss=0.00001\n",
      "step: 1400\n",
      "mse  training loss=0.04342\n",
      "L_T  training loss=0.00000\n",
      "rounding  training loss=0.00001\n",
      "step: 1500\n",
      "mse  training loss=0.04253\n",
      "L_T  training loss=0.00000\n",
      "rounding  training loss=0.00001\n",
      "step: 1600\n",
      "mse  training loss=0.04305\n",
      "L_T  training loss=0.00000\n",
      "rounding  training loss=0.00001\n",
      "step: 1700\n",
      "mse  training loss=0.04262\n",
      "L_T  training loss=0.00000\n",
      "rounding  training loss=0.00001\n",
      "step: 1800\n",
      "mse  training loss=0.04297\n",
      "L_T  training loss=0.00000\n",
      "rounding  training loss=0.00001\n",
      "Evaluating...\n",
      "eval loss=0.04316\n",
      "epoch: 18\n",
      "step: 100\n",
      "mse  training loss=0.04314\n",
      "L_T  training loss=0.00000\n",
      "rounding  training loss=0.00000\n",
      "step: 200\n",
      "mse  training loss=0.04394\n",
      "L_T  training loss=0.00000\n",
      "rounding  training loss=0.00001\n",
      "step: 300\n",
      "mse  training loss=0.04270\n",
      "L_T  training loss=0.00000\n",
      "rounding  training loss=0.00001\n",
      "step: 400\n",
      "mse  training loss=0.04273\n",
      "L_T  training loss=0.00000\n",
      "rounding  training loss=0.00001\n",
      "step: 500\n",
      "mse  training loss=0.04249\n",
      "L_T  training loss=0.00000\n",
      "rounding  training loss=0.00001\n",
      "step: 600\n",
      "mse  training loss=0.04274\n",
      "L_T  training loss=0.00000\n",
      "rounding  training loss=0.00001\n",
      "step: 700\n",
      "mse  training loss=0.04177\n",
      "L_T  training loss=0.00000\n",
      "rounding  training loss=0.00001\n",
      "step: 800\n",
      "mse  training loss=0.04236\n",
      "L_T  training loss=0.00000\n",
      "rounding  training loss=0.00001\n",
      "step: 900\n",
      "mse  training loss=0.04282\n",
      "L_T  training loss=0.00000\n",
      "rounding  training loss=0.00001\n",
      "step: 1000\n",
      "mse  training loss=0.04246\n",
      "L_T  training loss=0.00000\n",
      "rounding  training loss=0.00001\n",
      "step: 1100\n",
      "mse  training loss=0.04338\n",
      "L_T  training loss=0.00000\n",
      "rounding  training loss=0.00001\n",
      "step: 1200\n",
      "mse  training loss=0.04232\n",
      "L_T  training loss=0.00000\n",
      "rounding  training loss=0.00001\n",
      "step: 1300\n",
      "mse  training loss=0.04220\n",
      "L_T  training loss=0.00000\n",
      "rounding  training loss=0.00001\n",
      "step: 1400\n",
      "mse  training loss=0.04167\n",
      "L_T  training loss=0.00000\n",
      "rounding  training loss=0.00001\n",
      "step: 1500\n",
      "mse  training loss=0.04307\n",
      "L_T  training loss=0.00000\n",
      "rounding  training loss=0.00001\n",
      "step: 1600\n",
      "mse  training loss=0.04217\n",
      "L_T  training loss=0.00000\n",
      "rounding  training loss=0.00001\n",
      "step: 1700\n",
      "mse  training loss=0.04236\n",
      "L_T  training loss=0.00000\n",
      "rounding  training loss=0.00001\n",
      "step: 1800\n",
      "mse  training loss=0.04236\n",
      "L_T  training loss=0.00000\n",
      "rounding  training loss=0.00001\n",
      "Evaluating...\n",
      "eval loss=0.04218\n",
      "epoch: 19\n",
      "step: 100\n",
      "mse  training loss=0.04195\n",
      "L_T  training loss=0.00000\n",
      "rounding  training loss=0.00000\n",
      "step: 200\n",
      "mse  training loss=0.04142\n",
      "L_T  training loss=0.00000\n",
      "rounding  training loss=0.00001\n",
      "step: 300\n",
      "mse  training loss=0.04178\n",
      "L_T  training loss=0.00000\n",
      "rounding  training loss=0.00001\n",
      "step: 400\n",
      "mse  training loss=0.04186\n",
      "L_T  training loss=0.00000\n",
      "rounding  training loss=0.00000\n",
      "step: 500\n",
      "mse  training loss=0.04131\n",
      "L_T  training loss=0.00000\n",
      "rounding  training loss=0.00000\n",
      "step: 600\n",
      "mse  training loss=0.04106\n",
      "L_T  training loss=0.00000\n",
      "rounding  training loss=0.00000\n",
      "step: 700\n",
      "mse  training loss=0.04223\n",
      "L_T  training loss=0.00000\n",
      "rounding  training loss=0.00001\n",
      "step: 800\n",
      "mse  training loss=0.04204\n",
      "L_T  training loss=0.00000\n",
      "rounding  training loss=0.00000\n",
      "step: 900\n",
      "mse  training loss=0.04196\n",
      "L_T  training loss=0.00000\n",
      "rounding  training loss=0.00001\n",
      "step: 1000\n",
      "mse  training loss=0.04161\n",
      "L_T  training loss=0.00000\n",
      "rounding  training loss=0.00001\n",
      "step: 1100\n",
      "mse  training loss=0.04097\n",
      "L_T  training loss=0.00000\n",
      "rounding  training loss=0.00001\n",
      "step: 1200\n",
      "mse  training loss=0.04182\n",
      "L_T  training loss=0.00000\n",
      "rounding  training loss=0.00000\n",
      "step: 1300\n",
      "mse  training loss=0.04092\n",
      "L_T  training loss=0.00000\n",
      "rounding  training loss=0.00000\n",
      "step: 1400\n",
      "mse  training loss=0.04127\n",
      "L_T  training loss=0.00000\n",
      "rounding  training loss=0.00001\n",
      "step: 1500\n",
      "mse  training loss=0.04120\n",
      "L_T  training loss=0.00000\n",
      "rounding  training loss=0.00001\n",
      "step: 1600\n",
      "mse  training loss=0.04121\n",
      "L_T  training loss=0.00000\n",
      "rounding  training loss=0.00000\n",
      "step: 1700\n",
      "mse  training loss=0.04207\n",
      "L_T  training loss=0.00000\n",
      "rounding  training loss=0.00000\n",
      "step: 1800\n",
      "mse  training loss=0.04205\n",
      "L_T  training loss=0.00000\n",
      "rounding  training loss=0.00000\n",
      "Evaluating...\n",
      "eval loss=0.04133\n",
      "epoch: 20\n",
      "step: 100\n",
      "mse  training loss=0.04037\n",
      "L_T  training loss=0.00000\n",
      "rounding  training loss=0.00000\n",
      "step: 200\n",
      "mse  training loss=0.04102\n",
      "L_T  training loss=0.00000\n",
      "rounding  training loss=0.00000\n",
      "step: 300\n",
      "mse  training loss=0.04124\n",
      "L_T  training loss=0.00000\n",
      "rounding  training loss=0.00000\n",
      "step: 400\n",
      "mse  training loss=0.04087\n",
      "L_T  training loss=0.00000\n",
      "rounding  training loss=0.00000\n",
      "step: 500\n",
      "mse  training loss=0.04116\n",
      "L_T  training loss=0.00000\n",
      "rounding  training loss=0.00000\n",
      "step: 600\n",
      "mse  training loss=0.04118\n",
      "L_T  training loss=0.00000\n",
      "rounding  training loss=0.00001\n",
      "step: 700\n",
      "mse  training loss=0.04167\n",
      "L_T  training loss=0.00000\n",
      "rounding  training loss=0.00000\n",
      "step: 800\n",
      "mse  training loss=0.04065\n",
      "L_T  training loss=0.00000\n",
      "rounding  training loss=0.00000\n",
      "step: 900\n",
      "mse  training loss=0.04125\n",
      "L_T  training loss=0.00000\n",
      "rounding  training loss=0.00000\n",
      "step: 1000\n",
      "mse  training loss=0.04001\n",
      "L_T  training loss=0.00000\n",
      "rounding  training loss=0.00000\n",
      "step: 1100\n",
      "mse  training loss=0.04092\n",
      "L_T  training loss=0.00000\n",
      "rounding  training loss=0.00000\n",
      "step: 1200\n",
      "mse  training loss=0.04051\n",
      "L_T  training loss=0.00000\n",
      "rounding  training loss=0.00000\n",
      "step: 1300\n",
      "mse  training loss=0.04091\n",
      "L_T  training loss=0.00000\n",
      "rounding  training loss=0.00000\n",
      "step: 1400\n",
      "mse  training loss=0.03950\n",
      "L_T  training loss=0.00000\n",
      "rounding  training loss=0.00000\n",
      "step: 1500\n",
      "mse  training loss=0.04093\n",
      "L_T  training loss=0.00000\n",
      "rounding  training loss=0.00000\n",
      "step: 1600\n",
      "mse  training loss=0.04054\n",
      "L_T  training loss=0.00000\n",
      "rounding  training loss=0.00000\n",
      "step: 1700\n",
      "mse  training loss=0.04056\n",
      "L_T  training loss=0.00000\n",
      "rounding  training loss=0.00000\n",
      "step: 1800\n",
      "mse  training loss=0.04072\n",
      "L_T  training loss=0.00000\n",
      "rounding  training loss=0.00000\n",
      "Evaluating...\n",
      "eval loss=0.04050\n",
      "epoch: 21\n",
      "step: 100\n",
      "mse  training loss=0.04149\n",
      "L_T  training loss=0.00000\n",
      "rounding  training loss=0.00000\n",
      "step: 200\n",
      "mse  training loss=0.04067\n",
      "L_T  training loss=0.00000\n",
      "rounding  training loss=0.00000\n",
      "step: 300\n",
      "mse  training loss=0.03978\n",
      "L_T  training loss=0.00000\n",
      "rounding  training loss=0.00000\n",
      "step: 400\n",
      "mse  training loss=0.04039\n",
      "L_T  training loss=0.00000\n",
      "rounding  training loss=0.00000\n",
      "step: 500\n",
      "mse  training loss=0.04018\n",
      "L_T  training loss=0.00000\n",
      "rounding  training loss=0.00000\n",
      "step: 600\n",
      "mse  training loss=0.04078\n",
      "L_T  training loss=0.00000\n",
      "rounding  training loss=0.00000\n",
      "step: 700\n",
      "mse  training loss=0.04050\n",
      "L_T  training loss=0.00000\n",
      "rounding  training loss=0.00000\n",
      "step: 800\n",
      "mse  training loss=0.04055\n",
      "L_T  training loss=0.00000\n",
      "rounding  training loss=0.00000\n",
      "step: 900\n",
      "mse  training loss=0.03939\n",
      "L_T  training loss=0.00000\n",
      "rounding  training loss=0.00000\n",
      "step: 1000\n",
      "mse  training loss=0.03949\n",
      "L_T  training loss=0.00000\n",
      "rounding  training loss=0.00000\n",
      "step: 1100\n",
      "mse  training loss=0.03992\n",
      "L_T  training loss=0.00000\n",
      "rounding  training loss=0.00000\n",
      "step: 1200\n",
      "mse  training loss=0.04093\n",
      "L_T  training loss=0.00000\n",
      "rounding  training loss=0.00000\n",
      "step: 1300\n",
      "mse  training loss=0.04122\n",
      "L_T  training loss=0.00000\n",
      "rounding  training loss=0.00000\n",
      "step: 1400\n",
      "mse  training loss=0.03994\n",
      "L_T  training loss=0.00000\n",
      "rounding  training loss=0.00000\n",
      "step: 1500\n",
      "mse  training loss=0.03933\n",
      "L_T  training loss=0.00000\n",
      "rounding  training loss=0.00000\n",
      "step: 1600\n",
      "mse  training loss=0.03965\n",
      "L_T  training loss=0.00000\n",
      "rounding  training loss=0.00000\n",
      "step: 1700\n",
      "mse  training loss=0.03996\n",
      "L_T  training loss=0.00000\n",
      "rounding  training loss=0.00000\n",
      "step: 1800\n",
      "mse  training loss=0.04009\n",
      "L_T  training loss=0.00000\n",
      "rounding  training loss=0.00000\n",
      "Evaluating...\n",
      "eval loss=0.03975\n",
      "epoch: 22\n",
      "step: 100\n",
      "mse  training loss=0.03952\n",
      "L_T  training loss=0.00000\n",
      "rounding  training loss=0.00000\n",
      "step: 200\n",
      "mse  training loss=0.04002\n",
      "L_T  training loss=0.00000\n",
      "rounding  training loss=0.00000\n",
      "step: 300\n",
      "mse  training loss=0.04039\n",
      "L_T  training loss=0.00000\n",
      "rounding  training loss=0.00000\n",
      "step: 400\n",
      "mse  training loss=0.03943\n",
      "L_T  training loss=0.00000\n",
      "rounding  training loss=0.00000\n",
      "step: 500\n",
      "mse  training loss=0.03959\n",
      "L_T  training loss=0.00000\n",
      "rounding  training loss=0.00000\n",
      "step: 600\n",
      "mse  training loss=0.03927\n",
      "L_T  training loss=0.00000\n",
      "rounding  training loss=0.00000\n",
      "step: 700\n",
      "mse  training loss=0.04000\n",
      "L_T  training loss=0.00000\n",
      "rounding  training loss=0.00000\n",
      "step: 800\n",
      "mse  training loss=0.03959\n",
      "L_T  training loss=0.00000\n",
      "rounding  training loss=0.00000\n",
      "step: 900\n",
      "mse  training loss=0.03930\n",
      "L_T  training loss=0.00000\n",
      "rounding  training loss=0.00000\n",
      "step: 1000\n",
      "mse  training loss=0.03974\n",
      "L_T  training loss=0.00000\n",
      "rounding  training loss=0.00000\n",
      "step: 1100\n",
      "mse  training loss=0.03964\n",
      "L_T  training loss=0.00000\n",
      "rounding  training loss=0.00000\n",
      "step: 1200\n",
      "mse  training loss=0.03917\n",
      "L_T  training loss=0.00000\n",
      "rounding  training loss=0.00000\n",
      "step: 1300\n",
      "mse  training loss=0.03948\n",
      "L_T  training loss=0.00000\n",
      "rounding  training loss=0.00000\n",
      "step: 1400\n",
      "mse  training loss=0.03906\n",
      "L_T  training loss=0.00000\n",
      "rounding  training loss=0.00000\n",
      "step: 1500\n",
      "mse  training loss=0.03881\n",
      "L_T  training loss=0.00000\n",
      "rounding  training loss=0.00000\n",
      "step: 1600\n",
      "mse  training loss=0.03934\n",
      "L_T  training loss=0.00000\n",
      "rounding  training loss=0.00000\n",
      "step: 1700\n",
      "mse  training loss=0.03888\n",
      "L_T  training loss=0.00000\n",
      "rounding  training loss=0.00000\n",
      "step: 1800\n",
      "mse  training loss=0.03967\n",
      "L_T  training loss=0.00000\n",
      "rounding  training loss=0.00000\n",
      "Evaluating...\n",
      "eval loss=0.03944\n",
      "epoch: 23\n",
      "step: 100\n",
      "mse  training loss=0.03819\n",
      "L_T  training loss=0.00000\n",
      "rounding  training loss=0.00000\n",
      "step: 200\n",
      "mse  training loss=0.04001\n",
      "L_T  training loss=0.00000\n",
      "rounding  training loss=0.00000\n",
      "step: 300\n",
      "mse  training loss=0.03924\n",
      "L_T  training loss=0.00000\n",
      "rounding  training loss=0.00000\n",
      "step: 400\n",
      "mse  training loss=0.03931\n",
      "L_T  training loss=0.00000\n",
      "rounding  training loss=0.00000\n",
      "step: 500\n",
      "mse  training loss=0.03990\n",
      "L_T  training loss=0.00000\n",
      "rounding  training loss=0.00000\n",
      "step: 600\n",
      "mse  training loss=0.03821\n",
      "L_T  training loss=0.00000\n",
      "rounding  training loss=0.00000\n",
      "step: 700\n",
      "mse  training loss=0.03862\n",
      "L_T  training loss=0.00000\n",
      "rounding  training loss=0.00000\n",
      "step: 800\n",
      "mse  training loss=0.03966\n",
      "L_T  training loss=0.00000\n",
      "rounding  training loss=0.00000\n",
      "step: 900\n",
      "mse  training loss=0.03922\n",
      "L_T  training loss=0.00000\n",
      "rounding  training loss=0.00000\n",
      "step: 1000\n",
      "mse  training loss=0.03858\n",
      "L_T  training loss=0.00000\n",
      "rounding  training loss=0.00000\n",
      "step: 1100\n",
      "mse  training loss=0.03824\n",
      "L_T  training loss=0.00000\n",
      "rounding  training loss=0.00000\n",
      "step: 1200\n",
      "mse  training loss=0.03905\n",
      "L_T  training loss=0.00000\n",
      "rounding  training loss=0.00000\n",
      "step: 1300\n",
      "mse  training loss=0.03960\n",
      "L_T  training loss=0.00000\n",
      "rounding  training loss=0.00000\n",
      "step: 1400\n",
      "mse  training loss=0.03826\n",
      "L_T  training loss=0.00000\n",
      "rounding  training loss=0.00000\n",
      "step: 1500\n",
      "mse  training loss=0.03889\n",
      "L_T  training loss=0.00000\n",
      "rounding  training loss=0.00000\n",
      "step: 1600\n",
      "mse  training loss=0.03929\n",
      "L_T  training loss=0.00000\n",
      "rounding  training loss=0.00000\n",
      "step: 1700\n",
      "mse  training loss=0.03935\n",
      "L_T  training loss=0.00000\n",
      "rounding  training loss=0.00000\n",
      "step: 1800\n",
      "mse  training loss=0.03926\n",
      "L_T  training loss=0.00000\n",
      "rounding  training loss=0.00000\n",
      "Evaluating...\n",
      "eval loss=0.03895\n",
      "epoch: 24\n",
      "step: 100\n",
      "mse  training loss=0.03958\n",
      "L_T  training loss=0.00000\n",
      "rounding  training loss=0.00000\n",
      "step: 200\n",
      "mse  training loss=0.03878\n",
      "L_T  training loss=0.00000\n",
      "rounding  training loss=0.00000\n",
      "step: 300\n",
      "mse  training loss=0.03849\n",
      "L_T  training loss=0.00000\n",
      "rounding  training loss=0.00000\n",
      "step: 400\n",
      "mse  training loss=0.03874\n",
      "L_T  training loss=0.00000\n",
      "rounding  training loss=0.00000\n",
      "step: 500\n",
      "mse  training loss=0.03828\n",
      "L_T  training loss=0.00000\n",
      "rounding  training loss=0.00000\n",
      "step: 600\n",
      "mse  training loss=0.03975\n",
      "L_T  training loss=0.00000\n",
      "rounding  training loss=0.00000\n",
      "step: 700\n",
      "mse  training loss=0.03842\n",
      "L_T  training loss=0.00000\n",
      "rounding  training loss=0.00000\n",
      "step: 800\n",
      "mse  training loss=0.03917\n",
      "L_T  training loss=0.00000\n",
      "rounding  training loss=0.00000\n",
      "step: 900\n",
      "mse  training loss=0.03935\n",
      "L_T  training loss=0.00000\n",
      "rounding  training loss=0.00000\n",
      "step: 1000\n",
      "mse  training loss=0.03839\n",
      "L_T  training loss=0.00000\n",
      "rounding  training loss=0.00000\n",
      "step: 1100\n",
      "mse  training loss=0.03840\n",
      "L_T  training loss=0.00000\n",
      "rounding  training loss=0.00000\n",
      "step: 1200\n",
      "mse  training loss=0.03981\n",
      "L_T  training loss=0.00000\n",
      "rounding  training loss=0.00000\n",
      "step: 1300\n",
      "mse  training loss=0.03829\n",
      "L_T  training loss=0.00000\n",
      "rounding  training loss=0.00000\n",
      "step: 1400\n",
      "mse  training loss=0.03815\n",
      "L_T  training loss=0.00000\n",
      "rounding  training loss=0.00000\n",
      "step: 1500\n",
      "mse  training loss=0.03823\n",
      "L_T  training loss=0.00000\n",
      "rounding  training loss=0.00000\n",
      "step: 1600\n",
      "mse  training loss=0.03839\n",
      "L_T  training loss=0.00000\n",
      "rounding  training loss=0.00000\n",
      "step: 1700\n",
      "mse  training loss=0.03861\n",
      "L_T  training loss=0.00000\n",
      "rounding  training loss=0.00000\n",
      "step: 1800\n",
      "mse  training loss=0.03842\n",
      "L_T  training loss=0.00000\n",
      "rounding  training loss=0.00000\n",
      "Evaluating...\n",
      "eval loss=0.03900\n",
      "epoch: 25\n",
      "step: 100\n",
      "mse  training loss=0.03776\n",
      "L_T  training loss=0.00000\n",
      "rounding  training loss=0.00000\n",
      "step: 200\n",
      "mse  training loss=0.03898\n",
      "L_T  training loss=0.00000\n",
      "rounding  training loss=0.00000\n",
      "step: 300\n",
      "mse  training loss=0.03915\n",
      "L_T  training loss=0.00000\n",
      "rounding  training loss=0.00000\n",
      "step: 400\n",
      "mse  training loss=0.03938\n",
      "L_T  training loss=0.00000\n",
      "rounding  training loss=0.00000\n",
      "step: 500\n",
      "mse  training loss=0.03893\n",
      "L_T  training loss=0.00000\n",
      "rounding  training loss=0.00000\n",
      "step: 600\n",
      "mse  training loss=0.03868\n",
      "L_T  training loss=0.00000\n",
      "rounding  training loss=0.00000\n",
      "step: 700\n",
      "mse  training loss=0.03819\n",
      "L_T  training loss=0.00000\n",
      "rounding  training loss=0.00000\n",
      "step: 800\n",
      "mse  training loss=0.03784\n",
      "L_T  training loss=0.00000\n",
      "rounding  training loss=0.00000\n",
      "step: 900\n",
      "mse  training loss=0.03843\n",
      "L_T  training loss=0.00000\n",
      "rounding  training loss=0.00000\n",
      "step: 1000\n",
      "mse  training loss=0.03906\n",
      "L_T  training loss=0.00000\n",
      "rounding  training loss=0.00000\n",
      "step: 1100\n",
      "mse  training loss=0.03836\n",
      "L_T  training loss=0.00000\n",
      "rounding  training loss=0.00000\n",
      "step: 1200\n",
      "mse  training loss=0.03743\n",
      "L_T  training loss=0.00000\n",
      "rounding  training loss=0.00000\n",
      "step: 1300\n",
      "mse  training loss=0.03857\n",
      "L_T  training loss=0.00000\n",
      "rounding  training loss=0.00000\n",
      "step: 1400\n",
      "mse  training loss=0.03871\n",
      "L_T  training loss=0.00000\n",
      "rounding  training loss=0.00000\n",
      "step: 1500\n",
      "mse  training loss=0.03908\n",
      "L_T  training loss=0.00000\n",
      "rounding  training loss=0.00000\n",
      "step: 1600\n",
      "mse  training loss=0.03899\n",
      "L_T  training loss=0.00000\n",
      "rounding  training loss=0.00000\n",
      "step: 1700\n",
      "mse  training loss=0.03797\n",
      "L_T  training loss=0.00000\n",
      "rounding  training loss=0.00000\n",
      "step: 1800\n",
      "mse  training loss=0.03941\n",
      "L_T  training loss=0.00000\n",
      "rounding  training loss=0.00000\n",
      "Evaluating...\n",
      "eval loss=0.03891\n",
      "epoch: 26\n",
      "step: 100\n",
      "mse  training loss=0.03778\n",
      "L_T  training loss=0.00000\n",
      "rounding  training loss=0.00000\n",
      "step: 200\n",
      "mse  training loss=0.03828\n",
      "L_T  training loss=0.00000\n",
      "rounding  training loss=0.00000\n",
      "step: 300\n",
      "mse  training loss=0.03741\n",
      "L_T  training loss=0.00000\n",
      "rounding  training loss=0.00000\n",
      "step: 400\n",
      "mse  training loss=0.03853\n",
      "L_T  training loss=0.00000\n",
      "rounding  training loss=0.00000\n",
      "step: 500\n",
      "mse  training loss=0.03903\n",
      "L_T  training loss=0.00000\n",
      "rounding  training loss=0.00000\n",
      "step: 600\n",
      "mse  training loss=0.03800\n",
      "L_T  training loss=0.00000\n",
      "rounding  training loss=0.00000\n",
      "step: 700\n",
      "mse  training loss=0.03787\n",
      "L_T  training loss=0.00000\n",
      "rounding  training loss=0.00000\n",
      "step: 800\n",
      "mse  training loss=0.03842\n",
      "L_T  training loss=0.00000\n",
      "rounding  training loss=0.00000\n",
      "step: 900\n",
      "mse  training loss=0.03781\n",
      "L_T  training loss=0.00000\n",
      "rounding  training loss=0.00000\n",
      "step: 1000\n",
      "mse  training loss=0.03815\n",
      "L_T  training loss=0.00000\n",
      "rounding  training loss=0.00000\n",
      "step: 1100\n",
      "mse  training loss=0.03832\n",
      "L_T  training loss=0.00000\n",
      "rounding  training loss=0.00000\n",
      "step: 1200\n",
      "mse  training loss=0.03773\n",
      "L_T  training loss=0.00000\n",
      "rounding  training loss=0.00000\n",
      "step: 1300\n",
      "mse  training loss=0.03805\n",
      "L_T  training loss=0.00000\n",
      "rounding  training loss=0.00000\n",
      "step: 1400\n",
      "mse  training loss=0.03782\n",
      "L_T  training loss=0.00000\n",
      "rounding  training loss=0.00000\n",
      "step: 1500\n",
      "mse  training loss=0.03923\n",
      "L_T  training loss=0.00000\n",
      "rounding  training loss=0.00000\n",
      "step: 1600\n",
      "mse  training loss=0.03977\n",
      "L_T  training loss=0.00000\n",
      "rounding  training loss=0.00000\n",
      "step: 1700\n",
      "mse  training loss=0.03851\n",
      "L_T  training loss=0.00000\n",
      "rounding  training loss=0.00000\n",
      "step: 1800\n",
      "mse  training loss=0.03846\n",
      "L_T  training loss=0.00000\n",
      "rounding  training loss=0.00000\n",
      "Evaluating...\n",
      "eval loss=0.03827\n",
      "epoch: 27\n",
      "step: 100\n",
      "mse  training loss=0.03806\n",
      "L_T  training loss=0.00000\n",
      "rounding  training loss=0.00000\n",
      "step: 200\n",
      "mse  training loss=0.03835\n",
      "L_T  training loss=0.00000\n",
      "rounding  training loss=0.00000\n",
      "step: 300\n",
      "mse  training loss=0.03834\n",
      "L_T  training loss=0.00000\n",
      "rounding  training loss=0.00000\n",
      "step: 400\n",
      "mse  training loss=0.03742\n",
      "L_T  training loss=0.00000\n",
      "rounding  training loss=0.00000\n",
      "step: 500\n",
      "mse  training loss=0.03889\n",
      "L_T  training loss=0.00000\n",
      "rounding  training loss=0.00000\n",
      "step: 600\n",
      "mse  training loss=0.03823\n",
      "L_T  training loss=0.00000\n",
      "rounding  training loss=0.00000\n",
      "step: 700\n",
      "mse  training loss=0.03850\n",
      "L_T  training loss=0.00000\n",
      "rounding  training loss=0.00000\n",
      "step: 800\n",
      "mse  training loss=0.03881\n",
      "L_T  training loss=0.00000\n",
      "rounding  training loss=0.00000\n",
      "step: 900\n",
      "mse  training loss=0.03787\n",
      "L_T  training loss=0.00000\n",
      "rounding  training loss=0.00000\n",
      "step: 1000\n",
      "mse  training loss=0.03851\n",
      "L_T  training loss=0.00000\n",
      "rounding  training loss=0.00000\n",
      "step: 1100\n",
      "mse  training loss=0.03842\n",
      "L_T  training loss=0.00000\n",
      "rounding  training loss=0.00000\n",
      "step: 1200\n",
      "mse  training loss=0.03763\n",
      "L_T  training loss=0.00000\n",
      "rounding  training loss=0.00000\n",
      "step: 1300\n",
      "mse  training loss=0.03859\n",
      "L_T  training loss=0.00000\n",
      "rounding  training loss=0.00000\n",
      "step: 1400\n",
      "mse  training loss=0.03849\n",
      "L_T  training loss=0.00000\n",
      "rounding  training loss=0.00000\n",
      "step: 1500\n",
      "mse  training loss=0.03859\n",
      "L_T  training loss=0.00000\n",
      "rounding  training loss=0.00000\n",
      "step: 1600\n",
      "mse  training loss=0.03690\n",
      "L_T  training loss=0.00000\n",
      "rounding  training loss=0.00000\n",
      "step: 1700\n",
      "mse  training loss=0.03785\n",
      "L_T  training loss=0.00000\n",
      "rounding  training loss=0.00000\n",
      "step: 1800\n",
      "mse  training loss=0.03791\n",
      "L_T  training loss=0.00000\n",
      "rounding  training loss=0.00000\n",
      "Evaluating...\n",
      "eval loss=0.03807\n",
      "epoch: 28\n",
      "step: 100\n",
      "mse  training loss=0.03785\n",
      "L_T  training loss=0.00000\n",
      "rounding  training loss=0.00000\n",
      "step: 200\n",
      "mse  training loss=0.03762\n",
      "L_T  training loss=0.00000\n",
      "rounding  training loss=0.00000\n",
      "step: 300\n",
      "mse  training loss=0.03844\n",
      "L_T  training loss=0.00000\n",
      "rounding  training loss=0.00000\n",
      "step: 400\n",
      "mse  training loss=0.03839\n",
      "L_T  training loss=0.00000\n",
      "rounding  training loss=0.00000\n",
      "step: 500\n",
      "mse  training loss=0.03841\n",
      "L_T  training loss=0.00000\n",
      "rounding  training loss=0.00000\n",
      "step: 600\n",
      "mse  training loss=0.03820\n",
      "L_T  training loss=0.00000\n",
      "rounding  training loss=0.00000\n",
      "step: 700\n",
      "mse  training loss=0.03780\n",
      "L_T  training loss=0.00000\n",
      "rounding  training loss=0.00000\n",
      "step: 800\n",
      "mse  training loss=0.03880\n",
      "L_T  training loss=0.00000\n",
      "rounding  training loss=0.00000\n",
      "step: 900\n",
      "mse  training loss=0.03843\n",
      "L_T  training loss=0.00000\n",
      "rounding  training loss=0.00000\n",
      "step: 1000\n",
      "mse  training loss=0.03813\n",
      "L_T  training loss=0.00000\n",
      "rounding  training loss=0.00000\n",
      "step: 1100\n",
      "mse  training loss=0.03847\n",
      "L_T  training loss=0.00000\n",
      "rounding  training loss=0.00000\n",
      "step: 1200\n",
      "mse  training loss=0.03861\n",
      "L_T  training loss=0.00000\n",
      "rounding  training loss=0.00000\n",
      "step: 1300\n",
      "mse  training loss=0.03826\n",
      "L_T  training loss=0.00000\n",
      "rounding  training loss=0.00000\n",
      "step: 1400\n",
      "mse  training loss=0.03774\n",
      "L_T  training loss=0.00000\n",
      "rounding  training loss=0.00000\n",
      "step: 1500\n",
      "mse  training loss=0.03848\n",
      "L_T  training loss=0.00000\n",
      "rounding  training loss=0.00000\n",
      "step: 1600\n",
      "mse  training loss=0.03741\n",
      "L_T  training loss=0.00000\n",
      "rounding  training loss=0.00000\n",
      "step: 1700\n",
      "mse  training loss=0.03849\n",
      "L_T  training loss=0.00000\n",
      "rounding  training loss=0.00000\n",
      "step: 1800\n",
      "mse  training loss=0.03811\n",
      "L_T  training loss=0.00000\n",
      "rounding  training loss=0.00000\n",
      "Evaluating...\n",
      "eval loss=0.03803\n",
      "epoch: 29\n",
      "step: 100\n",
      "mse  training loss=0.03752\n",
      "L_T  training loss=0.00000\n",
      "rounding  training loss=0.00000\n",
      "step: 200\n",
      "mse  training loss=0.03747\n",
      "L_T  training loss=0.00000\n",
      "rounding  training loss=0.00000\n",
      "step: 300\n",
      "mse  training loss=0.03762\n",
      "L_T  training loss=0.00000\n",
      "rounding  training loss=0.00000\n",
      "step: 400\n",
      "mse  training loss=0.03880\n",
      "L_T  training loss=0.00000\n",
      "rounding  training loss=0.00000\n",
      "step: 500\n",
      "mse  training loss=0.03760\n",
      "L_T  training loss=0.00000\n",
      "rounding  training loss=0.00000\n",
      "step: 600\n",
      "mse  training loss=0.03774\n",
      "L_T  training loss=0.00000\n",
      "rounding  training loss=0.00000\n",
      "step: 700\n",
      "mse  training loss=0.03802\n",
      "L_T  training loss=0.00000\n",
      "rounding  training loss=0.00000\n",
      "step: 800\n",
      "mse  training loss=0.03777\n",
      "L_T  training loss=0.00000\n",
      "rounding  training loss=0.00000\n",
      "step: 900\n",
      "mse  training loss=0.03848\n",
      "L_T  training loss=0.00000\n",
      "rounding  training loss=0.00000\n",
      "step: 1000\n",
      "mse  training loss=0.03824\n",
      "L_T  training loss=0.00000\n",
      "rounding  training loss=0.00000\n",
      "step: 1100\n",
      "mse  training loss=0.03779\n",
      "L_T  training loss=0.00000\n",
      "rounding  training loss=0.00000\n",
      "step: 1200\n",
      "mse  training loss=0.03757\n",
      "L_T  training loss=0.00000\n",
      "rounding  training loss=0.00000\n",
      "step: 1300\n",
      "mse  training loss=0.03873\n",
      "L_T  training loss=0.00000\n",
      "rounding  training loss=0.00000\n",
      "step: 1400\n",
      "mse  training loss=0.03749\n",
      "L_T  training loss=0.00000\n",
      "rounding  training loss=0.00000\n",
      "step: 1500\n",
      "mse  training loss=0.03778\n",
      "L_T  training loss=0.00000\n",
      "rounding  training loss=0.00000\n",
      "step: 1600\n",
      "mse  training loss=0.03760\n",
      "L_T  training loss=0.00000\n",
      "rounding  training loss=0.00000\n",
      "step: 1700\n",
      "mse  training loss=0.03933\n",
      "L_T  training loss=0.00000\n",
      "rounding  training loss=0.00000\n",
      "step: 1800\n",
      "mse  training loss=0.03872\n",
      "L_T  training loss=0.00000\n",
      "rounding  training loss=0.00000\n",
      "Evaluating...\n",
      "eval loss=0.03796\n",
      "epoch: 30\n",
      "step: 100\n",
      "mse  training loss=0.03800\n",
      "L_T  training loss=0.00000\n",
      "rounding  training loss=0.00000\n",
      "step: 200\n",
      "mse  training loss=0.03781\n",
      "L_T  training loss=0.00000\n",
      "rounding  training loss=0.00000\n",
      "step: 300\n",
      "mse  training loss=0.03896\n",
      "L_T  training loss=0.00000\n",
      "rounding  training loss=0.00000\n",
      "step: 400\n",
      "mse  training loss=0.03861\n",
      "L_T  training loss=0.00000\n",
      "rounding  training loss=0.00000\n",
      "step: 500\n",
      "mse  training loss=0.03905\n",
      "L_T  training loss=0.00000\n",
      "rounding  training loss=0.00000\n",
      "step: 600\n",
      "mse  training loss=0.03718\n",
      "L_T  training loss=0.00000\n",
      "rounding  training loss=0.00000\n",
      "step: 700\n",
      "mse  training loss=0.03825\n",
      "L_T  training loss=0.00000\n",
      "rounding  training loss=0.00000\n",
      "step: 800\n",
      "mse  training loss=0.03897\n",
      "L_T  training loss=0.00000\n",
      "rounding  training loss=0.00000\n",
      "step: 900\n",
      "mse  training loss=0.03757\n",
      "L_T  training loss=0.00000\n",
      "rounding  training loss=0.00000\n",
      "step: 1000\n",
      "mse  training loss=0.03816\n",
      "L_T  training loss=0.00000\n",
      "rounding  training loss=0.00000\n",
      "step: 1100\n",
      "mse  training loss=0.03800\n",
      "L_T  training loss=0.00000\n",
      "rounding  training loss=0.00000\n",
      "step: 1200\n",
      "mse  training loss=0.03855\n",
      "L_T  training loss=0.00000\n",
      "rounding  training loss=0.00000\n",
      "step: 1300\n",
      "mse  training loss=0.03814\n",
      "L_T  training loss=0.00000\n",
      "rounding  training loss=0.00000\n",
      "step: 1400\n",
      "mse  training loss=0.03757\n",
      "L_T  training loss=0.00000\n",
      "rounding  training loss=0.00000\n",
      "step: 1500\n",
      "mse  training loss=0.03889\n",
      "L_T  training loss=0.00000\n",
      "rounding  training loss=0.00000\n",
      "step: 1600\n",
      "mse  training loss=0.03772\n",
      "L_T  training loss=0.00000\n",
      "rounding  training loss=0.00000\n",
      "step: 1700\n",
      "mse  training loss=0.03768\n",
      "L_T  training loss=0.00000\n",
      "rounding  training loss=0.00000\n",
      "step: 1800\n",
      "mse  training loss=0.03767\n",
      "L_T  training loss=0.00000\n",
      "rounding  training loss=0.00000\n",
      "Evaluating...\n",
      "eval loss=0.03794\n"
     ]
    }
   ],
   "source": [
    "# train loop\n",
    "# loss_terms_dict_lst = []\n",
    "loss_terms_dict = defaultdict(list)\n",
    "loss_terms_weights = None\n",
    "verbose = True\n",
    "print_steps=100\n",
    "progress_bar = tqdm(range(num_epoch*len(train_dataloader)))\n",
    "\n",
    "for epoch in range(num_epoch):\n",
    "    print(\"epoch:\",epoch+1)\n",
    "    # loss_terms_dict_lst.append(train_conditional(diffusion_model=diffusion_model, dataloader=train_dataloader, optimizer=optimizer, scheduler=scheduler ,progress_bar=progress_bar ,verbose=True))\n",
    "    device = next(diffusion_model.parameters()).device\n",
    "\n",
    "    if loss_terms_weights is None:\n",
    "        loss_terms_weights = {}\n",
    "        for term_name in diffusion_model.loss_terms:\n",
    "            loss_terms_weights[term_name] = 1\n",
    "\n",
    "    training_loss = {}\n",
    "    for term_name in diffusion_model.loss_terms:\n",
    "        training_loss[term_name] = 0\n",
    "    sample_cnt = 0\n",
    "    diffusion_model.train()\n",
    "    for step, data in enumerate(train_dataloader):\n",
    "\n",
    "        if diffusion_model.model.encoder_type in ['frozen', 'fine-tune']:\n",
    "            # use input_ids and attention mask from bert tokenizer\n",
    "            # question1 as source, question2 as target\n",
    "            input_ids = data['question2_input_ids'].to(device)\n",
    "            attention_mask = data['question2_attention_mask'].to(device)\n",
    "            src_ids = data['question1_input_ids_bert'].to(device)\n",
    "            src_attention_mask = data['question1_attention_mask_bert'].to(device)\n",
    "            loss_terms = diffusion_model(input_ids=input_ids,\n",
    "                                            attention_mask=attention_mask,\n",
    "                                            src_ids=src_ids,\n",
    "                                            src_attention_mask=src_attention_mask)\n",
    "        elif diffusion_model.model.encoder_type in ['from-scratch']:\n",
    "            # use input_ids and attention mask from custom tokenizer\n",
    "            input_ids = data['question2_input_ids'].to(device)\n",
    "            attention_mask = data['question2_attention_mask'].to(device)\n",
    "            src_ids = data['question1_input_ids'].to(device)\n",
    "            src_attention_mask = data['question1_attention_mask'].to(device)\n",
    "            loss_terms = diffusion_model(input_ids=input_ids,\n",
    "                                            attention_mask=attention_mask,\n",
    "                                            src_ids=src_ids,\n",
    "                                            src_attention_mask=src_attention_mask)\n",
    "        else:\n",
    "            raise NotImplementedError\n",
    "\n",
    "        loss = sum([v.mean()*loss_terms_weights[k] for k, v in loss_terms.items()])\n",
    "        optimizer.zero_grad()\n",
    "        loss.backward()\n",
    "        optimizer.step()\n",
    "        if scheduler is not None:\n",
    "            scheduler.step()\n",
    "        progress_bar.update(1)\n",
    "\n",
    "        bs = input_ids.shape[0]\n",
    "        sample_cnt += bs\n",
    "        # training_loss += loss.detach().cpu() * bs\n",
    "\n",
    "        for k, v in loss_terms.items():\n",
    "            loss_term = (v.detach().cpu().mean()*loss_terms_weights[k]).item()\n",
    "            loss_terms_dict[k].append(loss_term)\n",
    "            training_loss[k] += loss_term * bs\n",
    "\n",
    "        if verbose and step % print_steps == print_steps-1:\n",
    "            # print training loss\n",
    "            # training_loss /= sample_cnt\n",
    "            print('step:', step+1)\n",
    "            for k, v in training_loss.items():\n",
    "                print(k, ' training loss={:.5f}'.format(v/sample_cnt))\n",
    "            sample_cnt = 0\n",
    "            training_loss = {}\n",
    "            for term_name in diffusion_model.loss_terms:\n",
    "                training_loss[term_name] = 0\n",
    "\n",
    "    # evaluate_conditional(diffusion_model=diffusion_model, dataloader=eval_dataloader,)\n",
    "    device = next(diffusion_model.parameters()).device\n",
    "\n",
    "    if loss_terms_weights is None:\n",
    "        loss_terms_weights = {}\n",
    "        for term_name in diffusion_model.loss_terms:\n",
    "            loss_terms_weights[term_name] = 1\n",
    "\n",
    "    print(\"Evaluating...\")\n",
    "    diffusion_model.eval()\n",
    "    test_loss = 0\n",
    "    with torch.no_grad():\n",
    "        for data in eval_dataloader:\n",
    "            \n",
    "            if diffusion_model.model.encoder_type in ['frozen', 'fine-tune']:\n",
    "                # use input_ids and attention mask from bert tokenizer\n",
    "                # question1 as source, question2 as target\n",
    "                input_ids = data['question2_input_ids'].to(device)\n",
    "                attention_mask = data['question2_attention_mask'].to(device)\n",
    "                src_ids = data['question1_input_ids_bert'].to(device)\n",
    "                src_attention_mask = data['question1_attention_mask_bert'].to(device)\n",
    "                loss_terms = diffusion_model(input_ids=input_ids,\n",
    "                                             attention_mask=attention_mask,\n",
    "                                             src_ids=src_ids,\n",
    "                                             src_attention_mask=src_attention_mask)\n",
    "            elif diffusion_model.model.encoder_type in ['from-scratch']:\n",
    "                # use input_ids and attention mask from custom tokenizer\n",
    "                input_ids = data['question2_input_ids'].to(device)\n",
    "                attention_mask = data['question2_attention_mask'].to(device)\n",
    "                src_ids = data['question1_input_ids'].to(device)\n",
    "                src_attention_mask = data['question1_attention_mask'].to(device)\n",
    "                loss_terms = diffusion_model(input_ids=input_ids,\n",
    "                                             attention_mask=attention_mask,\n",
    "                                             src_ids=src_ids,\n",
    "                                             src_attention_mask=src_attention_mask)\n",
    "            else:\n",
    "                raise NotImplementedError\n",
    "\n",
    "            loss = sum([v.mean()*loss_terms_weights[k] for k, v in loss_terms.items()])\n",
    "            bs = input_ids.shape[0]\n",
    "            test_loss += bs*loss\n",
    "\n",
    "        test_loss /= len(eval_dataloader.dataset)\n",
    "        if verbose:\n",
    "            print('eval loss={:.5f}'.format(test_loss))\n"
   ]
  },
  {
   "cell_type": "code",
   "execution_count": 176,
   "metadata": {},
   "outputs": [
    {
     "data": {
      "text/plain": [
       "Text(0, 0.5, 'Loss')"
      ]
     },
     "execution_count": 176,
     "metadata": {},
     "output_type": "execute_result"
    },
    {
     "data": {
      "image/png": "[encoded data removed]",
      "text/plain": [
       "<Figure size 640x480 with 1 Axes>"
      ]
     },
     "metadata": {},
     "output_type": "display_data"
    }
   ],
   "source": [
    "plt.plot(loss_terms_dict['mse'], label='MSE loss')\n",
    "plt.plot(loss_terms_dict['rounding'], label='rounding loss')\n",
    "plt.ylim((0, 0.5))\n",
    "# plt.yscale('log')\n",
    "plt.legend()\n",
    "plt.xlabel(\"Training Steps\")\n",
    "plt.ylabel(\"Loss\")"
   ]
  },
  {
   "cell_type": "code",
   "execution_count": 9,
   "metadata": {},
   "outputs": [
    {
     "data": {
      "text/plain": [
       "[<matplotlib.lines.Line2D at 0x7fdd3e62ab10>]"
      ]
     },
     "execution_count": 9,
     "metadata": {},
     "output_type": "execute_result"
    },
    {
     "data": {
      "image/png": "[encoded data removed]",
      "text/plain": [
       "<Figure size 640x480 with 1 Axes>"
      ]
     },
     "metadata": {},
     "output_type": "display_data"
    }
   ],
   "source": [
    "plt.plot(loss_terms_dict['rounding'])"
   ]
  },
  {
   "cell_type": "code",
   "execution_count": 22,
   "metadata": {},
   "outputs": [],
   "source": [
    "trained_ts = diffusion_model.word_embeddings.weight.data.cpu()\n",
    "init_ts = torch.nn.Embedding(len(tokenizer), diffusion_model.config.word_embedding_dim).weight.data\n",
    "\n",
    "trained_ts_normed = trained_ts / trained_ts.norm(dim=1, keepdim=True)\n",
    "init_ts_normed = init_ts / init_ts.norm(dim=1, keepdim=True)\n",
    "\n",
    "trained_cosine = torch.matmul(trained_ts_normed, trained_ts_normed.T)\n",
    "init_cosine = torch.matmul(init_ts_normed, init_ts_normed.T)"
   ]
  },
  {
   "cell_type": "code",
   "execution_count": 32,
   "metadata": {},
   "outputs": [
    {
     "data": {
      "text/plain": [
       "tensor([21.8831,  8.6172,  7.3387, 12.2852, 10.4657,  7.9724,  9.0047, 15.2567,\n",
       "         9.5580, 20.4276, 14.9555,  6.4496, 10.2263,  8.5789, 13.5854, 13.6579,\n",
       "        15.6314,  6.8749,  5.3842,  9.2093, 13.7879, 13.1452, 14.2123,  9.4225,\n",
       "        11.6611, 13.5092, 12.5825, 13.5993, 10.4602, 14.2846, 11.3724, 13.2142,\n",
       "        11.8243, 11.0697, 14.4086, 13.6377, 12.2509, 15.3699, 15.6723, 11.4584,\n",
       "        12.9936, 14.6573, 15.7526, 13.5041, 13.3888,  6.9546, 14.8483,  8.8226,\n",
       "        16.3888, 19.2825, 11.0580, 14.4109,  8.9228, 18.8372, 13.4110, 14.6643,\n",
       "         7.4504, 16.8032, 14.2178, 18.4082, 13.6273, 13.5975, 14.5907, 13.9242,\n",
       "        11.4729,  9.8927, 14.1217, 13.4206, 13.6141, 11.9385, 15.9566, 12.3583,\n",
       "        15.4035, 13.1177, 19.6243, 12.5618, 15.1814, 12.5672,  9.8864, 22.4683,\n",
       "        12.5661, 12.3967, 14.8720, 18.3632, 14.4745, 15.0497, 15.1815, 15.6543,\n",
       "        13.5556, 13.7822,  7.7458, 15.7502, 12.6514, 14.3874,  6.4917, 17.2969,\n",
       "        12.1216, 14.3382, 14.8450, 10.9829])"
      ]
     },
     "execution_count": 32,
     "metadata": {},
     "output_type": "execute_result"
    }
   ],
   "source": [
    "trained_ts.norm(dim=1)[:100]"
   ]
  },
  {
   "cell_type": "code",
   "execution_count": 55,
   "metadata": {},
   "outputs": [],
   "source": [
    "cnter = Counter()\n",
    "for d in train_dataset:\n",
    "    cnter.update(d['question1_input_ids'].tolist())\n",
    "    cnter.update(d['question2_input_ids'].tolist())"
   ]
  },
  {
   "cell_type": "code",
   "execution_count": 93,
   "metadata": {},
   "outputs": [
    {
     "data": {
      "text/plain": [
       "(0.0, 1000.0)"
      ]
     },
     "execution_count": 93,
     "metadata": {},
     "output_type": "execute_result"
    },
    {
     "data": {
      "image/png": "[encoded data removed]",
      "text/plain": [
       "<Figure size 640x480 with 1 Axes>"
      ]
     },
     "metadata": {},
     "output_type": "display_data"
    }
   ],
   "source": [
    "plt.plot(sorted(cnter.values(), reverse=True))\n",
    "plt.ylim(0, 1000)"
   ]
  },
  {
   "cell_type": "code",
   "execution_count": 168,
   "metadata": {},
   "outputs": [
    {
     "data": {
      "image/png": "[encoded data removed]",
      "text/plain": [
       "<Figure size 640x480 with 1 Axes>"
      ]
     },
     "metadata": {},
     "output_type": "display_data"
    }
   ],
   "source": [
    "# plt.figure()\n",
    "x, y = [], []\n",
    "for id in cnter:\n",
    "    if id > 3:  # skip special tokens\n",
    "        x.append(cnter[id])\n",
    "        y.append(trained_ts[id].norm().item())\n",
    "    # x.append(cnter[id])\n",
    "    # y.append(trained_ts[id].norm().item())\n",
    "plt.scatter(x, y, s = 2, label='token norm and frequency')\n",
    "plt.xscale('log')\n",
    "\n",
    "plt.plot([0.5, 5 * 10**5], [512**0.5] * 2, color='orange', linestyle='--', label='init norm (expectation)')\n",
    "\n",
    "# plt.xlim(0, 6 * 10 ** 5)\n",
    "\n",
    "plt.xlabel('Token Frequency')\n",
    "plt.ylabel('Token Embedding Norm')\n",
    "\n",
    "plt.legend()\n",
    "plt.savefig('figs/token_emb_norm.png')"
   ]
  },
  {
   "cell_type": "code",
   "execution_count": 81,
   "metadata": {},
   "outputs": [],
   "source": [
    "norm_lt10, norm_gt10 = [], []\n",
    "for id in cnter:\n",
    "    if cnter[id] <= 10:\n",
    "        norm_lt10.append(trained_ts[id].norm().item())\n",
    "    else:\n",
    "        norm_gt10.append(trained_ts[id].norm().item())"
   ]
  },
  {
   "cell_type": "code",
   "execution_count": 83,
   "metadata": {},
   "outputs": [
    {
     "name": "stdout",
     "output_type": "stream",
     "text": [
      "21.99037030510038\n",
      "19.115726714582348\n"
     ]
    }
   ],
   "source": [
    "print(sum(norm_lt10) / len(norm_lt10))\n",
    "print(sum(norm_gt10) / len(norm_gt10))"
   ]
  },
  {
   "cell_type": "code",
   "execution_count": 161,
   "metadata": {},
   "outputs": [
    {
     "name": "stdout",
     "output_type": "stream",
     "text": [
      "2016\n"
     ]
    }
   ],
   "source": [
    "id_gt10 = [id for id in cnter if cnter[id] >= 100 and id > 3]\n",
    "embs = [trained_ts[id] for id in id_gt10]\n",
    "print(len(embs))"
   ]
  },
  {
   "cell_type": "code",
   "execution_count": 166,
   "metadata": {},
   "outputs": [
    {
     "data": {
      "application/vnd.jupyter.widget-view+json": {
       "model_id": "e4aea5c8ffd94548873159c73d035e96",
       "version_major": 2,
       "version_minor": 0
      },
      "text/plain": [
       "  0%|          | 0/2016 [00:00<?, ?it/s]"
      ]
     },
     "metadata": {},
     "output_type": "display_data"
    }
   ],
   "source": [
    "N = len(embs)\n",
    "trained_dist, init_dist = 0, 0\n",
    "for i in tqdm(range(N)):\n",
    "    for j in range(i+1, N):\n",
    "        trained_dist += (embs[i] - embs[j]).norm()\n",
    "        init_dist += (init_ts[i] - init_ts[j]).norm()"
   ]
  },
  {
   "cell_type": "code",
   "execution_count": 167,
   "metadata": {},
   "outputs": [
    {
     "name": "stdout",
     "output_type": "stream",
     "text": [
      "tensor(21.9763)\n",
      "tensor(31.9728)\n"
     ]
    }
   ],
   "source": [
    "print(trained_dist / (N * (N-1) / 2))\n",
    "print(init_dist / (N * (N-1) / 2))"
   ]
  },
  {
   "cell_type": "code",
   "execution_count": 43,
   "metadata": {},
   "outputs": [
    {
     "name": "stdout",
     "output_type": "stream",
     "text": [
      "tensor(20.3728)\n",
      "tensor(22.6171)\n"
     ]
    }
   ],
   "source": [
    "print(trained_ts.norm(dim=1).mean())\n",
    "print(init_ts.norm(dim=1).mean())"
   ]
  },
  {
   "cell_type": "code",
   "execution_count": 23,
   "metadata": {},
   "outputs": [
    {
     "data": {
      "text/plain": [
       "tensor(3.0555e-05)"
      ]
     },
     "execution_count": 23,
     "metadata": {},
     "output_type": "execute_result"
    }
   ],
   "source": [
    "V = len(tokenizer)\n",
    "(trained_cosine.sum() - V) / (V * (V - 1))"
   ]
  },
  {
   "cell_type": "code",
   "execution_count": 24,
   "metadata": {},
   "outputs": [
    {
     "data": {
      "text/plain": [
       "tensor(-1.0726e-07)"
      ]
     },
     "execution_count": 24,
     "metadata": {},
     "output_type": "execute_result"
    }
   ],
   "source": [
    "(init_cosine.sum() - V) / (V * (V - 1))"
   ]
  },
  {
   "cell_type": "code",
   "execution_count": null,
   "metadata": {},
   "outputs": [],
   "source": []
  },
  {
   "cell_type": "code",
   "execution_count": null,
   "metadata": {
    "collapsed": false,
    "pycharm": {
     "name": "#%%\n"
    }
   },
   "outputs": [],
   "source": [
    "torch.save(diffusion_model.state_dict(), \"checkpoints/conditional_from_scratch.pth\")"
   ]
  },
  {
   "cell_type": "code",
   "execution_count": 6,
   "metadata": {
    "collapsed": false,
    "pycharm": {
     "name": "#%%\n"
    }
   },
   "outputs": [
    {
     "data": {
      "text/plain": [
       "_IncompatibleKeys(missing_keys=['alphas_bar', 'alphas_bar_prev'], unexpected_keys=[])"
      ]
     },
     "execution_count": 6,
     "metadata": {},
     "output_type": "execute_result"
    }
   ],
   "source": [
    "# diffusion_model.load_state_dict(torch.load(\"checkpoints/20221015_2026\"))\n",
    "diffusion_model.load_state_dict(torch.load(\"checkpoints/20220906_0519\"), strict=False)"
   ]
  },
  {
   "cell_type": "code",
   "execution_count": 7,
   "metadata": {
    "collapsed": false,
    "pycharm": {
     "name": "#%%\n"
    }
   },
   "outputs": [
    {
     "data": {
      "application/vnd.jupyter.widget-view+json": {
       "model_id": "774ffe570ac14eb89694d8fcef592931",
       "version_major": 2,
       "version_minor": 0
      },
      "text/plain": [
       "  0%|          | 0/210 [00:00<?, ?it/s]"
      ]
     },
     "metadata": {},
     "output_type": "display_data"
    },
    {
     "name": "stdout",
     "output_type": "stream",
     "text": [
      "eval loss=0.07535\n"
     ]
    },
    {
     "data": {
      "text/plain": [
       "tensor(0.0753, device='cuda:1')"
      ]
     },
     "execution_count": 7,
     "metadata": {},
     "output_type": "execute_result"
    }
   ],
   "source": [
    "evaluate_conditional(diffusion_model=diffusion_model, dataloader=eval_dataloader,)"
   ]
  },
  {
   "cell_type": "code",
   "execution_count": null,
   "metadata": {
    "collapsed": false,
    "pycharm": {
     "name": "#%%\n"
    }
   },
   "outputs": [],
   "source": []
  },
  {
   "cell_type": "code",
   "execution_count": 34,
   "metadata": {
    "collapsed": false,
    "pycharm": {
     "name": "#%%\n"
    }
   },
   "outputs": [
    {
     "data": {
      "application/vnd.jupyter.widget-view+json": {
       "model_id": "9bc7c1dd919b41779373bd844ea7578f",
       "version_major": 2,
       "version_minor": 0
      },
      "text/plain": [
       "  0%|          | 0/105 [00:00<?, ?it/s]"
      ]
     },
     "metadata": {},
     "output_type": "display_data"
    },
    {
     "name": "stderr",
     "output_type": "stream",
     "text": [
      "/home/dingyizhou/anaconda3/envs/gen/lib/python3.9/site-packages/nltk/translate/bleu_score.py:552: UserWarning: \n",
      "The hypothesis contains 0 counts of 4-gram overlaps.\n",
      "Therefore the BLEU score evaluates to 0, independently of\n",
      "how many N-gram overlaps of lower order it contains.\n",
      "Consider using lower n-gram order or use SmoothingFunction()\n",
      "  warnings.warn(_msg)\n",
      "/home/dingyizhou/anaconda3/envs/gen/lib/python3.9/site-packages/nltk/translate/bleu_score.py:552: UserWarning: \n",
      "The hypothesis contains 0 counts of 3-gram overlaps.\n",
      "Therefore the BLEU score evaluates to 0, independently of\n",
      "how many N-gram overlaps of lower order it contains.\n",
      "Consider using lower n-gram order or use SmoothingFunction()\n",
      "  warnings.warn(_msg)\n",
      "/home/dingyizhou/anaconda3/envs/gen/lib/python3.9/site-packages/nltk/translate/bleu_score.py:552: UserWarning: \n",
      "The hypothesis contains 0 counts of 2-gram overlaps.\n",
      "Therefore the BLEU score evaluates to 0, independently of\n",
      "how many N-gram overlaps of lower order it contains.\n",
      "Consider using lower n-gram order or use SmoothingFunction()\n",
      "  warnings.warn(_msg)\n"
     ]
    }
   ],
   "source": [
    "diffusion_model.eval()\n",
    "\n",
    "generated_questions_mbr5_ddim20 = diffusion_model.generate(\n",
    "    dataset = eval_dataset,\n",
    "    rev_tokenizer=rev_tokenizer,\n",
    "    sampling_timesteps=20,\n",
    "    eta=0,\n",
    "    mbr=5,\n",
    "    verbose=True,\n",
    ")"
   ]
  },
  {
   "cell_type": "code",
   "execution_count": 35,
   "metadata": {
    "collapsed": false,
    "pycharm": {
     "name": "#%%\n"
    }
   },
   "outputs": [
    {
     "name": "stdout",
     "output_type": "stream",
     "text": [
      "0.15155854506376149\n",
      "0.22320761914790413\n"
     ]
    }
   ],
   "source": [
    "bleu_dict = calculate_bleu(generated_questions_mbr5_ddim20, eval_dataset, rev_tokenizer)\n",
    "print(sum(bleu_dict[\"bleu\"])/len(bleu_dict[\"bleu\"]))\n",
    "print(sum(bleu_dict[\"self_bleu\"])/len(bleu_dict[\"self_bleu\"]))"
   ]
  },
  {
   "cell_type": "code",
   "execution_count": 36,
   "metadata": {
    "collapsed": false,
    "pycharm": {
     "name": "#%%\n"
    }
   },
   "outputs": [
    {
     "name": "stdout",
     "output_type": "stream",
     "text": [
      "0.5461694549349757\n"
     ]
    }
   ],
   "source": [
    "rouge_scores = calculate_rouge(generated_questions_mbr5_ddim20, eval_dataset, rev_tokenizer)\n",
    "rouge_l_f = [d['rouge-l']['f'] for d in rouge_scores]\n",
    "print(sum(rouge_l_f)/len(rouge_l_f))"
   ]
  },
  {
   "cell_type": "code",
   "execution_count": null,
   "metadata": {
    "collapsed": false,
    "pycharm": {
     "name": "#%%\n"
    }
   },
   "outputs": [],
   "source": []
  },
  {
   "cell_type": "code",
   "execution_count": 33,
   "metadata": {
    "collapsed": false,
    "pycharm": {
     "name": "#%%\n"
    }
   },
   "outputs": [
    {
     "name": "stdout",
     "output_type": "stream",
     "text": [
      "What are some ways to help a teenager overcome depression ?\n",
      "How does anyone overcome depression ?\n",
      "How do I overcome depression ?\n"
     ]
    }
   ],
   "source": [
    "i = 51\n",
    "src_question = [rev_tokenizer[id.item()] for id in eval_dataset[i]['question1_input_ids']]\n",
    "src_question = list(filter(lambda x:x not in ['[PAD]','[START]','[END]'], src_question))\n",
    "print(\" \".join(src_question))\n",
    "\n",
    "tgt_question = [rev_tokenizer[id.item()] for id in eval_dataset[i]['question2_input_ids']]\n",
    "tgt_question = list(filter(lambda x:x not in ['[PAD]','[START]','[END]'], tgt_question))\n",
    "print(\" \".join(tgt_question))\n",
    "\n",
    "#print(\" \".join(generated_questions_mbr1_ddim200[i]))\n",
    "print(\" \".join(generated_questions_mbr15_ddim2[i]))\n",
    "#print(\" \".join(generated_questions_mbr5_ddim20[i]))"
   ]
  },
  {
   "cell_type": "code",
   "execution_count": 7,
   "metadata": {
    "collapsed": false,
    "pycharm": {
     "name": "#%%\n"
    }
   },
   "outputs": [
    {
     "data": {
      "application/vnd.jupyter.widget-view+json": {
       "model_id": "7342301b021940aa883544b8a31e64eb",
       "version_major": 2,
       "version_minor": 0
      },
      "text/plain": [
       "  0%|          | 0/105 [00:00<?, ?it/s]"
      ]
     },
     "metadata": {},
     "output_type": "display_data"
    },
    {
     "name": "stderr",
     "output_type": "stream",
     "text": [
      "/home/dingyizhou/anaconda3/envs/gen/lib/python3.9/site-packages/nltk/translate/bleu_score.py:552: UserWarning: \n",
      "The hypothesis contains 0 counts of 4-gram overlaps.\n",
      "Therefore the BLEU score evaluates to 0, independently of\n",
      "how many N-gram overlaps of lower order it contains.\n",
      "Consider using lower n-gram order or use SmoothingFunction()\n",
      "  warnings.warn(_msg)\n",
      "/home/dingyizhou/anaconda3/envs/gen/lib/python3.9/site-packages/nltk/translate/bleu_score.py:552: UserWarning: \n",
      "The hypothesis contains 0 counts of 3-gram overlaps.\n",
      "Therefore the BLEU score evaluates to 0, independently of\n",
      "how many N-gram overlaps of lower order it contains.\n",
      "Consider using lower n-gram order or use SmoothingFunction()\n",
      "  warnings.warn(_msg)\n",
      "/home/dingyizhou/anaconda3/envs/gen/lib/python3.9/site-packages/nltk/translate/bleu_score.py:552: UserWarning: \n",
      "The hypothesis contains 0 counts of 2-gram overlaps.\n",
      "Therefore the BLEU score evaluates to 0, independently of\n",
      "how many N-gram overlaps of lower order it contains.\n",
      "Consider using lower n-gram order or use SmoothingFunction()\n",
      "  warnings.warn(_msg)\n"
     ]
    }
   ],
   "source": [
    "diffusion_model.eval()\n",
    "\n",
    "generated_questions_mbr5 = diffusion_model.generate(\n",
    "    dataset = eval_dataset,\n",
    "    rev_tokenizer=rev_tokenizer,\n",
    "    sampling_timesteps=200,\n",
    "    eta=0,\n",
    "    mbr=5,\n",
    "    verbose=True,\n",
    ")"
   ]
  },
  {
   "cell_type": "code",
   "execution_count": 9,
   "metadata": {
    "collapsed": false,
    "pycharm": {
     "name": "#%%\n"
    }
   },
   "outputs": [
    {
     "name": "stderr",
     "output_type": "stream",
     "text": [
      "/home/dingyizhou/anaconda3/envs/gen/lib/python3.9/site-packages/nltk/translate/bleu_score.py:552: UserWarning: \n",
      "The hypothesis contains 0 counts of 4-gram overlaps.\n",
      "Therefore the BLEU score evaluates to 0, independently of\n",
      "how many N-gram overlaps of lower order it contains.\n",
      "Consider using lower n-gram order or use SmoothingFunction()\n",
      "  warnings.warn(_msg)\n",
      "/home/dingyizhou/anaconda3/envs/gen/lib/python3.9/site-packages/nltk/translate/bleu_score.py:552: UserWarning: \n",
      "The hypothesis contains 0 counts of 2-gram overlaps.\n",
      "Therefore the BLEU score evaluates to 0, independently of\n",
      "how many N-gram overlaps of lower order it contains.\n",
      "Consider using lower n-gram order or use SmoothingFunction()\n",
      "  warnings.warn(_msg)\n",
      "/home/dingyizhou/anaconda3/envs/gen/lib/python3.9/site-packages/nltk/translate/bleu_score.py:552: UserWarning: \n",
      "The hypothesis contains 0 counts of 3-gram overlaps.\n",
      "Therefore the BLEU score evaluates to 0, independently of\n",
      "how many N-gram overlaps of lower order it contains.\n",
      "Consider using lower n-gram order or use SmoothingFunction()\n",
      "  warnings.warn(_msg)\n"
     ]
    },
    {
     "name": "stdout",
     "output_type": "stream",
     "text": [
      "0.18039911311842954\n",
      "0.2751321938279151\n"
     ]
    }
   ],
   "source": [
    "bleu_dict = calculate_bleu(generated_questions_mbr5, eval_dataset, rev_tokenizer)\n",
    "print(sum(bleu_dict[\"bleu\"])/len(bleu_dict[\"bleu\"]))\n",
    "print(sum(bleu_dict[\"self_bleu\"])/len(bleu_dict[\"self_bleu\"]))"
   ]
  },
  {
   "cell_type": "code",
   "execution_count": 10,
   "metadata": {
    "collapsed": false,
    "pycharm": {
     "name": "#%%\n"
    }
   },
   "outputs": [
    {
     "name": "stdout",
     "output_type": "stream",
     "text": [
      "0.5874787212343898\n"
     ]
    }
   ],
   "source": [
    "rouge_scores = calculate_rouge(generated_questions_mbr5, eval_dataset, rev_tokenizer)\n",
    "rouge_l_f = [d['rouge-l']['f'] for d in rouge_scores]\n",
    "print(sum(rouge_l_f)/len(rouge_l_f))"
   ]
  },
  {
   "cell_type": "code",
   "execution_count": null,
   "metadata": {
    "collapsed": false,
    "pycharm": {
     "name": "#%%\n"
    }
   },
   "outputs": [],
   "source": []
  },
  {
   "cell_type": "code",
   "execution_count": null,
   "metadata": {
    "collapsed": false,
    "pycharm": {
     "name": "#%%\n"
    }
   },
   "outputs": [],
   "source": []
  },
  {
   "cell_type": "code",
   "execution_count": 13,
   "metadata": {
    "collapsed": false,
    "pycharm": {
     "name": "#%%\n"
    }
   },
   "outputs": [],
   "source": [
    "eval_batch = next(iter(eval_dataloader))"
   ]
  },
  {
   "cell_type": "code",
   "execution_count": 14,
   "metadata": {
    "collapsed": false,
    "pycharm": {
     "name": "#%%\n"
    }
   },
   "outputs": [],
   "source": [
    "from nltk.translate.bleu_score import sentence_bleu"
   ]
  },
  {
   "cell_type": "code",
   "execution_count": 22,
   "metadata": {
    "collapsed": false,
    "pycharm": {
     "name": "#%%\n"
    }
   },
   "outputs": [
    {
     "name": "stderr",
     "output_type": "stream",
     "text": [
      "/home/dingyizhou/anaconda3/envs/gen/lib/python3.9/site-packages/nltk/translate/bleu_score.py:552: UserWarning: \n",
      "The hypothesis contains 0 counts of 4-gram overlaps.\n",
      "Therefore the BLEU score evaluates to 0, independently of\n",
      "how many N-gram overlaps of lower order it contains.\n",
      "Consider using lower n-gram order or use SmoothingFunction()\n",
      "  warnings.warn(_msg)\n",
      "/home/dingyizhou/anaconda3/envs/gen/lib/python3.9/site-packages/nltk/translate/bleu_score.py:552: UserWarning: \n",
      "The hypothesis contains 0 counts of 3-gram overlaps.\n",
      "Therefore the BLEU score evaluates to 0, independently of\n",
      "how many N-gram overlaps of lower order it contains.\n",
      "Consider using lower n-gram order or use SmoothingFunction()\n",
      "  warnings.warn(_msg)\n",
      "/home/dingyizhou/anaconda3/envs/gen/lib/python3.9/site-packages/nltk/translate/bleu_score.py:552: UserWarning: \n",
      "The hypothesis contains 0 counts of 2-gram overlaps.\n",
      "Therefore the BLEU score evaluates to 0, independently of\n",
      "how many N-gram overlaps of lower order it contains.\n",
      "Consider using lower n-gram order or use SmoothingFunction()\n",
      "  warnings.warn(_msg)\n"
     ]
    }
   ],
   "source": [
    "generated_questions = []\n",
    "bs = eval_batch['question1_input_ids'].shape[0]\n",
    "mbr = 5\n",
    "if mbr > 1:     # using MBR decoding\n",
    "    batch_questions = []\n",
    "    for cnt in range(mbr):\n",
    "        x_T = torch.randn(size=(bs,\n",
    "                                diffusion_model.config.max_position_embeddings,\n",
    "                                diffusion_model.config.word_embedding_dim))\n",
    "        final_hidden_state = diffusion_model.ddim_sample(x_T.to(device),\n",
    "                                              sampling_timesteps=200,\n",
    "                                              eta=0,\n",
    "                                              src_ids=eval_batch['question1_input_ids'].to(device),\n",
    "                                              src_attention_mask=eval_batch['question1_attention_mask'].to(device),\n",
    "                                              return_hidden_states=False,\n",
    "                                              verbose=False\n",
    "                                              )\n",
    "        sampled_ids = diffusion_model.rounding(final_hidden_state).cpu()\n",
    "        questions = [[rev_tokenizer[token_id.item()] for token_id in sampled_id] for sampled_id in sampled_ids]\n",
    "        batch_questions.append([list(filter(lambda x: x not in ['[PAD]', '[START]', '[END]'], question)) for question in questions])\n",
    "    # batch_questions [mbr, bs, question]\n",
    "    for batch_ind in range(bs):\n",
    "        candidates = [one_generation[batch_ind] for one_generation in batch_questions]      # [mbr, question]\n",
    "        bleu_scores = torch.zeros(mbr)\n",
    "        for candidate_ind, candidate in enumerate(candidates):\n",
    "            for ref_ind, ref in enumerate(candidates):\n",
    "                if ref_ind != candidate_ind:\n",
    "                    bleu_scores[candidate_ind] += sentence_bleu([ref], candidate)\n",
    "        select_ind = torch.argmax(bleu_scores).item()\n",
    "        generated_questions.append(batch_questions[select_ind][batch_ind])"
   ]
  },
  {
   "cell_type": "code",
   "execution_count": null,
   "metadata": {
    "collapsed": false,
    "pycharm": {
     "name": "#%%\n"
    }
   },
   "outputs": [],
   "source": []
  },
  {
   "cell_type": "code",
   "execution_count": null,
   "metadata": {
    "collapsed": false,
    "pycharm": {
     "name": "#%%\n"
    }
   },
   "outputs": [],
   "source": [
    "bert_tokenizer = BertTokenizerFast.from_pretrained(\"bert-base-uncased\")"
   ]
  },
  {
   "cell_type": "code",
   "execution_count": null,
   "metadata": {
    "collapsed": false,
    "pycharm": {
     "name": "#%%\n"
    }
   },
   "outputs": [],
   "source": [
    "diffusion_model.eval()\n",
    "\n",
    "with torch.no_grad():\n",
    "    x_T = torch.randn(size=(batch_size, max_len, diffusion_model.config.word_embedding_dim))\n",
    "    final_hidden_state, hidden_states = diffusion_model.sample(x_T.to(device),\n",
    "                                        src_ids=eval_batch['question1_input_ids'].to(device),\n",
    "                                        src_attention_mask=eval_batch['question1_attention_mask'].to(device),\n",
    "                                        return_hidden_states=True,\n",
    "                                        verbose=True)"
   ]
  },
  {
   "cell_type": "code",
   "execution_count": null,
   "metadata": {
    "collapsed": false,
    "pycharm": {
     "name": "#%%\n"
    }
   },
   "outputs": [],
   "source": [
    "diffusion_model.eval()\n",
    "\n",
    "with torch.no_grad():\n",
    "    x_T = torch.randn(size=(batch_size, max_len, diffusion_model.config.word_embedding_dim))\n",
    "    final_hidden_state_ddim, hidden_states_ddim = diffusion_model.ddim_sample(x_T.to(device), sampling_timesteps=200, src_ids=eval_batch['question1_input_ids'].to(device),src_attention_mask=eval_batch['question1_attention_mask'].to(device), return_hidden_states=True, verbose=True)"
   ]
  },
  {
   "cell_type": "code",
   "execution_count": null,
   "metadata": {
    "collapsed": false,
    "pycharm": {
     "name": "#%%\n"
    }
   },
   "outputs": [],
   "source": [
    "diffusion_model.word_embeddings"
   ]
  },
  {
   "cell_type": "code",
   "execution_count": null,
   "metadata": {
    "collapsed": false,
    "pycharm": {
     "name": "#%%\n"
    }
   },
   "outputs": [],
   "source": [
    "# src_questions = bert_tokenizer.batch_decode(eval_batch['question1_input_ids_bert'], skip_special_tokens=True)\n",
    "src_questions = [[rev_tokenizer[id.item()] for id in ids] for ids in eval_batch['question1_input_ids']]\n",
    "for sample_idx in range(batch_size):\n",
    "    print(\"idx:\", sample_idx)\n",
    "    # print(src_questions[sample_idx])\n",
    "    print(\" \".join(src_questions[sample_idx]))"
   ]
  },
  {
   "cell_type": "code",
   "execution_count": null,
   "metadata": {
    "collapsed": false,
    "pycharm": {
     "name": "#%%\n"
    }
   },
   "outputs": [],
   "source": [
    "# target_questions = bert_tokenizer.batch_decode(eval_batch['question2_input_ids_bert'], skip_special_tokens=True)\n",
    "target_questions = [[rev_tokenizer[id.item()] for id in ids] for ids in eval_batch['question2_input_ids']]\n",
    "for sample_idx in range(batch_size):\n",
    "    print(\"idx:\", sample_idx)\n",
    "    # print(target_questions[sample_idx])\n",
    "    print(\" \".join(target_questions[sample_idx]))"
   ]
  },
  {
   "cell_type": "code",
   "execution_count": null,
   "metadata": {
    "collapsed": false,
    "pycharm": {
     "name": "#%%\n"
    }
   },
   "outputs": [],
   "source": [
    "with torch.no_grad():\n",
    "    sampled_ids = diffusion_model.rounding(hidden_states[-1])\n",
    "    generated_questions = [[rev_tokenizer[token_id.item()] for token_id in sampled_id] for sampled_id in sampled_ids]\n",
    "for sample_idx in range(batch_size):\n",
    "    print(\"sample_idx:\", sample_idx)\n",
    "    print(\" \".join(generated_questions[sample_idx]))"
   ]
  },
  {
   "cell_type": "code",
   "execution_count": null,
   "metadata": {
    "collapsed": false,
    "pycharm": {
     "name": "#%%\n"
    }
   },
   "outputs": [],
   "source": [
    "with torch.no_grad():\n",
    "    sampled_ids = diffusion_model.rounding(hidden_states_ddim[-1])\n",
    "    generated_questions = [[rev_tokenizer[token_id.item()] for token_id in sampled_id] for sampled_id in sampled_ids]\n",
    "for sample_idx in range(batch_size):\n",
    "    print(\"sample_idx:\", sample_idx)\n",
    "    print(\" \".join(generated_questions[sample_idx]))"
   ]
  },
  {
   "cell_type": "code",
   "execution_count": null,
   "metadata": {
    "collapsed": false,
    "pycharm": {
     "name": "#%%\n"
    }
   },
   "outputs": [],
   "source": [
    "hidden_states_ddim[199]"
   ]
  },
  {
   "cell_type": "code",
   "execution_count": null,
   "metadata": {
    "collapsed": false,
    "pycharm": {
     "name": "#%%\n"
    }
   },
   "outputs": [],
   "source": [
    "diffusion_model"
   ]
  },
  {
   "cell_type": "code",
   "execution_count": null,
   "metadata": {
    "collapsed": false,
    "pycharm": {
     "name": "#%%\n"
    }
   },
   "outputs": [],
   "source": [
    "sample_idx = 63\n",
    "for step in [1000,1900,1940,1980,1990,1993,1994,1995,1996,1997,1998,-1]:\n",
    "    hidden_state = hidden_states[step][sample_idx]\n",
    "    with torch.no_grad():\n",
    "        sampled_ids = diffusion_model.rounding(hidden_state)\n",
    "        sampled_seq = [rev_tokenizer[token_id.item()] for token_id in sampled_ids]\n",
    "        print(\"step:\", step)\n",
    "        print(\" \".join(sampled_seq))"
   ]
  },
  {
   "cell_type": "code",
   "execution_count": null,
   "metadata": {
    "collapsed": false,
    "pycharm": {
     "name": "#%%\n"
    }
   },
   "outputs": [],
   "source": [
    "sample_idx = 63\n",
    "for step in [0,150,180,190,195,197,198,-1]:\n",
    "    hidden_state = hidden_states_ddim[step][sample_idx]\n",
    "    with torch.no_grad():\n",
    "        sampled_ids = diffusion_model.rounding(hidden_state)\n",
    "        sampled_seq = [rev_tokenizer[token_id.item()] for token_id in sampled_ids]\n",
    "        print(\"step:\", step)\n",
    "        print(\" \".join(sampled_seq))"
   ]
  },
  {
   "cell_type": "code",
   "execution_count": null,
   "metadata": {
    "collapsed": false,
    "pycharm": {
     "name": "#%%\n"
    }
   },
   "outputs": [],
   "source": []
  },
  {
   "cell_type": "code",
   "execution_count": null,
   "metadata": {
    "collapsed": false,
    "pycharm": {
     "name": "#%%\n"
    }
   },
   "outputs": [],
   "source": [
    "train_batch = next(iter(train_dataloader))"
   ]
  },
  {
   "cell_type": "code",
   "execution_count": null,
   "metadata": {
    "collapsed": false,
    "pycharm": {
     "name": "#%%\n"
    }
   },
   "outputs": [],
   "source": [
    "final_hidden_state2, hidden_states2 = diffusion_model.sample(x_T.to(device),\n",
    "                                                           src_ids=train_batch['question1_input_ids'].to(device),\n",
    "                                                           src_attention_mask=train_batch['question1_attention_mask'].to(device),\n",
    "                                                           return_hidden_states=True,\n",
    "                                                           verbose=True)"
   ]
  },
  {
   "cell_type": "code",
   "execution_count": null,
   "metadata": {
    "collapsed": false,
    "pycharm": {
     "name": "#%%\n"
    }
   },
   "outputs": [],
   "source": [
    "# src_questions = bert_tokenizer.batch_decode(eval_batch['question1_input_ids_bert'], skip_special_tokens=True)\n",
    "src_questions = [[rev_tokenizer[id.item()] for id in ids] for ids in train_batch['question1_input_ids']]\n",
    "for sample_idx in range(batch_size):\n",
    "    print(\"idx:\", sample_idx)\n",
    "    # print(src_questions[sample_idx])\n",
    "    print(\" \".join(src_questions[sample_idx]))"
   ]
  },
  {
   "cell_type": "code",
   "execution_count": null,
   "metadata": {
    "collapsed": false,
    "pycharm": {
     "name": "#%%\n"
    }
   },
   "outputs": [],
   "source": [
    "# target_questions = bert_tokenizer.batch_decode(eval_batch['question2_input_ids_bert'], skip_special_tokens=True)\n",
    "target_questions = [[rev_tokenizer[id.item()] for id in ids] for ids in train_batch['question2_input_ids']]\n",
    "for sample_idx in range(batch_size):\n",
    "    print(\"idx:\", sample_idx)\n",
    "    # print(target_questions[sample_idx])\n",
    "    print(\" \".join(target_questions[sample_idx]))"
   ]
  },
  {
   "cell_type": "code",
   "execution_count": null,
   "metadata": {
    "collapsed": false,
    "pycharm": {
     "name": "#%%\n"
    }
   },
   "outputs": [],
   "source": [
    "with torch.no_grad():\n",
    "    sampled_ids = diffusion_model.rounding(hidden_states2[-1])\n",
    "    generated_questions = [[rev_tokenizer[token_id.item()] for token_id in sampled_id] for sampled_id in sampled_ids]\n",
    "for sample_idx in range(batch_size):\n",
    "    print(\"sample_idx:\", sample_idx)\n",
    "    print(\" \".join(generated_questions[sample_idx]))"
   ]
  },
  {
   "cell_type": "code",
   "execution_count": null,
   "metadata": {
    "collapsed": false,
    "pycharm": {
     "name": "#%%\n"
    }
   },
   "outputs": [],
   "source": [
    "bert_tokenizer.decode(eval_batch['question1_input_ids_bert'][0],skip_special_tokens=True)"
   ]
  },
  {
   "cell_type": "code",
   "execution_count": null,
   "metadata": {
    "collapsed": false,
    "pycharm": {
     "name": "#%%\n"
    }
   },
   "outputs": [],
   "source": [
    "bert_tokenizer.convert_ids_to_tokens(eval_batch['question1_input_ids_bert'][59], skip_special_tokens=True)"
   ]
  },
  {
   "cell_type": "code",
   "execution_count": null,
   "metadata": {
    "collapsed": false,
    "pycharm": {
     "name": "#%%\n"
    }
   },
   "outputs": [],
   "source": [
    "list(filter(lambda x:x not in ['[PAD]','[START]','[END]'], target_questions[0]))"
   ]
  },
  {
   "cell_type": "code",
   "execution_count": null,
   "metadata": {
    "collapsed": false,
    "pycharm": {
     "name": "#%%\n"
    }
   },
   "outputs": [],
   "source": [
    "list(filter(lambda x:x not in ['[PAD]','[START]','[END]'], generated_questions[0]))"
   ]
  },
  {
   "cell_type": "code",
   "execution_count": null,
   "metadata": {
    "collapsed": false,
    "pycharm": {
     "name": "#%%\n"
    }
   },
   "outputs": [],
   "source": []
  },
  {
   "cell_type": "code",
   "execution_count": null,
   "metadata": {
    "collapsed": false,
    "pycharm": {
     "name": "#%%\n"
    }
   },
   "outputs": [],
   "source": [
    "bleu_score = []\n",
    "for target, generate in zip(target_questions, generated_questions):\n",
    "    bleu_score.append(sentence_bleu([list(filter(lambda x:x not in ['[PAD]','[START]','[END]'], target))],\n",
    "    list(filter(lambda x:x not in ['[PAD]','[START]','[END]'], generate))))"
   ]
  },
  {
   "cell_type": "code",
   "execution_count": null,
   "metadata": {
    "collapsed": false,
    "pycharm": {
     "name": "#%%\n"
    }
   },
   "outputs": [],
   "source": [
    "sum(bleu_score)/len(bleu_score)"
   ]
  },
  {
   "cell_type": "code",
   "execution_count": null,
   "metadata": {
    "collapsed": false,
    "pycharm": {
     "name": "#%%\n"
    }
   },
   "outputs": [],
   "source": [
    "bleu_score = []\n",
    "for src, generate in zip(src_questions, generated_questions):\n",
    "    bleu_score.append(sentence_bleu([list(filter(lambda x:x not in ['[PAD]','[START]','[END]'], src))],\n",
    "                                    list(filter(lambda x:x not in ['[PAD]','[START]','[END]'], generate))))"
   ]
  },
  {
   "cell_type": "code",
   "execution_count": null,
   "metadata": {
    "collapsed": false,
    "pycharm": {
     "name": "#%%\n"
    }
   },
   "outputs": [],
   "source": [
    "sum(bleu_score)/len(bleu_score)"
   ]
  },
  {
   "cell_type": "code",
   "execution_count": null,
   "metadata": {
    "collapsed": false,
    "pycharm": {
     "name": "#%%\n"
    }
   },
   "outputs": [],
   "source": []
  },
  {
   "cell_type": "code",
   "execution_count": null,
   "metadata": {
    "collapsed": false,
    "pycharm": {
     "name": "#%%\n"
    }
   },
   "outputs": [],
   "source": [
    "len(eval_dataset)"
   ]
  },
  {
   "cell_type": "code",
   "execution_count": null,
   "metadata": {
    "collapsed": false,
    "pycharm": {
     "name": "#%%\n"
    }
   },
   "outputs": [],
   "source": [
    "eval_dataset[0]"
   ]
  },
  {
   "cell_type": "code",
   "execution_count": null,
   "metadata": {
    "collapsed": false,
    "pycharm": {
     "name": "#%%\n"
    }
   },
   "outputs": [],
   "source": [
    "small_dataset, rest_dataset = torch.utils.data.random_split(eval_dataset, [500, 12938])"
   ]
  },
  {
   "cell_type": "code",
   "execution_count": null,
   "metadata": {
    "collapsed": false,
    "pycharm": {
     "name": "#%%\n"
    }
   },
   "outputs": [],
   "source": [
    "generated_questions_mbr1 = diffusion_model.generate(\n",
    "    dataset = small_dataset,\n",
    "    rev_tokenizer=rev_tokenizer,\n",
    "    sampling_timesteps=200,\n",
    "    eta=0,\n",
    "    mbr=1,\n",
    ")"
   ]
  },
  {
   "cell_type": "code",
   "execution_count": null,
   "metadata": {
    "collapsed": false,
    "pycharm": {
     "name": "#%%\n"
    }
   },
   "outputs": [],
   "source": [
    "generated_questions_mbr1[0]"
   ]
  },
  {
   "cell_type": "code",
   "execution_count": null,
   "metadata": {
    "collapsed": false,
    "pycharm": {
     "name": "#%%\n"
    }
   },
   "outputs": [],
   "source": [
    "small_dataset[0]['question1_input_ids']"
   ]
  },
  {
   "cell_type": "code",
   "execution_count": 28,
   "metadata": {
    "collapsed": false,
    "pycharm": {
     "name": "#%%\n"
    }
   },
   "outputs": [
    {
     "data": {
      "text/plain": [
       "['[START]',\n",
       " 'Which',\n",
       " 'fruits',\n",
       " 'or',\n",
       " 'vegetables',\n",
       " 'should',\n",
       " 'be',\n",
       " 'eaten',\n",
       " 'regularly',\n",
       " 'to',\n",
       " 'get',\n",
       " 'vitamins',\n",
       " '?',\n",
       " '[END]',\n",
       " '[PAD]',\n",
       " '[PAD]',\n",
       " '[PAD]',\n",
       " '[PAD]',\n",
       " '[PAD]',\n",
       " '[PAD]',\n",
       " '[PAD]',\n",
       " '[PAD]',\n",
       " '[PAD]',\n",
       " '[PAD]',\n",
       " '[PAD]',\n",
       " '[PAD]',\n",
       " '[PAD]',\n",
       " '[PAD]',\n",
       " '[PAD]',\n",
       " '[PAD]',\n",
       " '[PAD]',\n",
       " '[PAD]']"
      ]
     },
     "execution_count": 28,
     "metadata": {},
     "output_type": "execute_result"
    }
   ],
   "source": [
    "[rev_tokenizer[i.item()] for i in small_dataset[0]['question2_input_ids']]"
   ]
  },
  {
   "cell_type": "code",
   "execution_count": 30,
   "metadata": {
    "collapsed": false,
    "pycharm": {
     "name": "#%%\n"
    }
   },
   "outputs": [],
   "source": [
    "def calculate_bleu(generated_questions, dataset, rev_tokenizer):\n",
    "    \"\"\"\n",
    "    calculate BLEU metric\n",
    "    :param generated_questions: list[token_list]\n",
    "    :param dataset: pytorch dataset\n",
    "    :param rev_tokenizer: token_id to token dict\n",
    "    :return: {\"bleu\": val_list, \"self_bleu\": val_list}\n",
    "    \"\"\"\n",
    "    bleu, self_bleu = [],[]\n",
    "    for ind, sample in enumerate(dataset):\n",
    "        src_question = [rev_tokenizer[id.item()] for id in sample['question1_input_ids']]\n",
    "        src_question = list(filter(lambda x:x not in ['[PAD]','[START]','[END]'], src_question))\n",
    "        tgt_question = [rev_tokenizer[id.item()] for id in sample['question2_input_ids']]\n",
    "        tgt_question = list(filter(lambda x:x not in ['[PAD]','[START]','[END]'], tgt_question))\n",
    "        bleu.append(sentence_bleu([tgt_question], generated_questions[ind]))\n",
    "        self_bleu.append(sentence_bleu([src_question], generated_questions[ind]))\n",
    "\n",
    "    return {\"bleu\": bleu, \"self_bleu\": self_bleu}"
   ]
  },
  {
   "cell_type": "code",
   "execution_count": 31,
   "metadata": {
    "collapsed": false,
    "pycharm": {
     "name": "#%%\n"
    }
   },
   "outputs": [
    {
     "name": "stderr",
     "output_type": "stream",
     "text": [
      "/home/dingyizhou/anaconda3/envs/gen/lib/python3.9/site-packages/nltk/translate/bleu_score.py:552: UserWarning: \n",
      "The hypothesis contains 0 counts of 3-gram overlaps.\n",
      "Therefore the BLEU score evaluates to 0, independently of\n",
      "how many N-gram overlaps of lower order it contains.\n",
      "Consider using lower n-gram order or use SmoothingFunction()\n",
      "  warnings.warn(_msg)\n",
      "/home/dingyizhou/anaconda3/envs/gen/lib/python3.9/site-packages/nltk/translate/bleu_score.py:552: UserWarning: \n",
      "The hypothesis contains 0 counts of 4-gram overlaps.\n",
      "Therefore the BLEU score evaluates to 0, independently of\n",
      "how many N-gram overlaps of lower order it contains.\n",
      "Consider using lower n-gram order or use SmoothingFunction()\n",
      "  warnings.warn(_msg)\n",
      "/home/dingyizhou/anaconda3/envs/gen/lib/python3.9/site-packages/nltk/translate/bleu_score.py:552: UserWarning: \n",
      "The hypothesis contains 0 counts of 2-gram overlaps.\n",
      "Therefore the BLEU score evaluates to 0, independently of\n",
      "how many N-gram overlaps of lower order it contains.\n",
      "Consider using lower n-gram order or use SmoothingFunction()\n",
      "  warnings.warn(_msg)\n"
     ]
    }
   ],
   "source": [
    "bleu_dict = calculate_bleu(generated_questions_mbr1, small_dataset, rev_tokenizer)"
   ]
  },
  {
   "cell_type": "code",
   "execution_count": 34,
   "metadata": {
    "collapsed": false,
    "pycharm": {
     "name": "#%%\n"
    }
   },
   "outputs": [
    {
     "data": {
      "text/plain": [
       "0.15005539419638644"
      ]
     },
     "execution_count": 34,
     "metadata": {},
     "output_type": "execute_result"
    }
   ],
   "source": [
    "sum(bleu_dict[\"bleu\"])/len(bleu_dict[\"bleu\"])"
   ]
  },
  {
   "cell_type": "code",
   "execution_count": 35,
   "metadata": {
    "collapsed": false,
    "pycharm": {
     "name": "#%%\n"
    }
   },
   "outputs": [
    {
     "data": {
      "text/plain": [
       "0.2198190329545948"
      ]
     },
     "execution_count": 35,
     "metadata": {},
     "output_type": "execute_result"
    }
   ],
   "source": [
    "sum(bleu_dict[\"self_bleu\"])/len(bleu_dict[\"self_bleu\"])"
   ]
  },
  {
   "cell_type": "code",
   "execution_count": 44,
   "metadata": {
    "collapsed": false,
    "pycharm": {
     "name": "#%%\n"
    }
   },
   "outputs": [
    {
     "data": {
      "text/plain": [
       "'Which is the better fruits to get eaten at critics ?'"
      ]
     },
     "execution_count": 44,
     "metadata": {},
     "output_type": "execute_result"
    }
   ],
   "source": [
    "\" \".join(generated_questions_mbr1[0])"
   ]
  },
  {
   "cell_type": "code",
   "execution_count": 46,
   "metadata": {
    "collapsed": false,
    "pycharm": {
     "name": "#%%\n"
    }
   },
   "outputs": [],
   "source": [
    "from rouge import Rouge"
   ]
  },
  {
   "cell_type": "code",
   "execution_count": 45,
   "metadata": {
    "collapsed": false,
    "pycharm": {
     "name": "#%%\n"
    }
   },
   "outputs": [],
   "source": [
    "def calculate_rouge(generated_questions, dataset, rev_tokenizer):\n",
    "    rouge = Rouge()\n",
    "    rouge_scores = []\n",
    "    for ind, sample in enumerate(dataset):\n",
    "        tgt_question = [rev_tokenizer[id.item()] for id in sample['question2_input_ids']]\n",
    "        tgt_question = list(filter(lambda x:x not in ['[PAD]','[START]','[END]'], tgt_question))\n",
    "        rouge_scores += rouge.get_scores(\" \".join(generated_questions[ind]), \" \".join(tgt_question))\n",
    "\n",
    "    return rouge_scores"
   ]
  },
  {
   "cell_type": "code",
   "execution_count": 48,
   "metadata": {
    "collapsed": false,
    "pycharm": {
     "name": "#%%\n"
    }
   },
   "outputs": [],
   "source": [
    "rouge_scores = calculate_rouge(generated_questions_mbr1, small_dataset, rev_tokenizer)"
   ]
  },
  {
   "cell_type": "code",
   "execution_count": 50,
   "metadata": {
    "collapsed": false,
    "pycharm": {
     "name": "#%%\n"
    }
   },
   "outputs": [
    {
     "data": {
      "text/plain": [
       "{'rouge-1': {'r': 0.5, 'p': 0.5454545454545454, 'f': 0.5217391254442345},\n",
       " 'rouge-2': {'r': 0.09090909090909091, 'p': 0.1, 'f': 0.09523809024943337},\n",
       " 'rouge-l': {'r': 0.4166666666666667,\n",
       "  'p': 0.45454545454545453,\n",
       "  'f': 0.434782603705104}}"
      ]
     },
     "execution_count": 50,
     "metadata": {},
     "output_type": "execute_result"
    }
   ],
   "source": [
    "rouge_scores[0]"
   ]
  },
  {
   "cell_type": "code",
   "execution_count": 51,
   "metadata": {
    "collapsed": false,
    "pycharm": {
     "name": "#%%\n"
    }
   },
   "outputs": [],
   "source": [
    "rouge_l_f = [d['rouge-l']['f'] for d in rouge_scores]"
   ]
  },
  {
   "cell_type": "code",
   "execution_count": null,
   "metadata": {
    "collapsed": false,
    "pycharm": {
     "name": "#%%\n"
    }
   },
   "outputs": [],
   "source": []
  }
 ],
 "metadata": {
  "kernelspec": {
   "display_name": "Python 3",
   "language": "python",
   "name": "python3"
  },
  "language_info": {
   "codemirror_mode": {
    "name": "ipython",
    "version": 3
   },
   "file_extension": ".py",
   "mimetype": "text/x-python",
   "name": "python",
   "nbconvert_exporter": "python",
   "pygments_lexer": "ipython3",
   "version": "3.11.2"
  }
 },
 "nbformat": 4,
 "nbformat_minor": 0
}
