{
 "cells": [
  {
   "cell_type": "code",
   "execution_count": 1,
   "metadata": {
    "pycharm": {
     "name": "#%%\n"
    }
   },
   "outputs": [],
   "source": [
    "import numpy as np\n",
    "import torch\n",
    "import transformers\n",
    "import matplotlib.pyplot as plt\n",
    "\n",
    "from transformers import BertConfig\n",
    "from transformers import get_cosine_schedule_with_warmup\n",
    "from sklearn.model_selection import train_test_split\n",
    "from torch.utils.data import DataLoader\n",
    "from sklearn.manifold import TSNE\n",
    "from tqdm.auto import tqdm\n",
    "\n",
    "from models import BertForDiffusion, DiffusionLM\n",
    "from data_utils import load_e2enlg_dataset_and_tokenizer, E2enlgDataset, load_rocstories_dataset_and_tokenizer, RocstoriesDataset\n",
    "from noise_schedule import get_named_beta_schedule\n",
    "from train_utils import train, evaluate\n",
    "\n",
    "%matplotlib inline"
   ]
  },
  {
   "cell_type": "code",
   "execution_count": 2,
   "metadata": {
    "pycharm": {
     "name": "#%%\n"
    }
   },
   "outputs": [],
   "source": [
    "# dataset args\n",
    "max_len = 72    # maximum length of input_ids\n",
    "vocab_threshold = 10    # occurrence time < threshold token as [UNK]\n",
    "test_size = 0.1     # size of evaluation dataset\n",
    "\n",
    "# training args\n",
    "batch_size = 64\n",
    "device = torch.device(\"cuda:0\")\n",
    "lr = 2e-4\n",
    "num_epoch = 50\n",
    "weight_decay = 0\n",
    "num_warmup_steps = 100\n",
    "\n",
    "# model args\n",
    "word_embedding_dim = 128\n",
    "# hidden_size = 768\n",
    "# num_hidden_layers = 12\n",
    "# num_attention_heads = 12\n",
    "# intermediate_size = 3072\n",
    "hidden_size = 512\n",
    "num_hidden_layers = 4\n",
    "num_attention_heads = 8\n",
    "intermediate_size = 2048\n",
    "max_position_embeddings = max_len"
   ]
  },
  {
   "cell_type": "code",
   "execution_count": 3,
   "metadata": {
    "pycharm": {
     "name": "#%%\n"
    }
   },
   "outputs": [
    {
     "name": "stderr",
     "output_type": "stream",
     "text": [
      "No config specified, defaulting to: roc_stories/all\n",
      "Reusing dataset roc_stories (/home/dingyizhou/.cache/huggingface/datasets/wza___roc_stories/all/2.1.0/43e2851d9f31e08e4b2dd07a8057ed7a64cbb25cc7105d09856c14e638695506)\n"
     ]
    },
    {
     "data": {
      "application/vnd.jupyter.widget-view+json": {
       "model_id": "d0a4a7ee17e14eea922f1e106b5e6e32",
       "version_major": 2,
       "version_minor": 0
      },
      "text/plain": [
       "  0%|          | 0/1 [00:00<?, ?it/s]"
      ]
     },
     "metadata": {},
     "output_type": "display_data"
    },
    {
     "data": {
      "application/vnd.jupyter.widget-view+json": {
       "model_id": "9fdb41d9820d4970a56a415a11d9b2de",
       "version_major": 2,
       "version_minor": 0
      },
      "text/plain": [
       "  0%|          | 0/98161 [00:00<?, ?it/s]"
      ]
     },
     "metadata": {},
     "output_type": "display_data"
    },
    {
     "data": {
      "application/vnd.jupyter.widget-view+json": {
       "model_id": "b06c6512c2ab426f9073109f2fad58b9",
       "version_major": 2,
       "version_minor": 0
      },
      "text/plain": [
       "  0%|          | 0/99 [00:00<?, ?ba/s]"
      ]
     },
     "metadata": {},
     "output_type": "display_data"
    },
    {
     "name": "stdout",
     "output_type": "stream",
     "text": [
      "Training set size: 88344\n",
      "Evaluation set size: 9817\n"
     ]
    }
   ],
   "source": [
    "tokenized_rocstories_dataset, tokenizer = load_rocstories_dataset_and_tokenizer(max_len=max_len, vocab_threshold=vocab_threshold)\n",
    "\n",
    "rev_tokenizer = {v: k for k, v in tokenizer.items()}\n",
    "\n",
    "train_set, eval_set = train_test_split(tokenized_rocstories_dataset, test_size=test_size, shuffle=True)\n",
    "\n",
    "train_dataset = RocstoriesDataset(data_lst=train_set['input_ids'], attention_mask_lst=train_set['attention_mask'])\n",
    "print(\"Training set size:\",len(train_dataset))\n",
    "eval_dataset = RocstoriesDataset(data_lst=eval_set['input_ids'], attention_mask_lst=eval_set['attention_mask'])\n",
    "print(\"Evaluation set size:\", len(eval_dataset))\n",
    "\n",
    "train_dataloader = DataLoader(train_dataset, batch_size=batch_size, shuffle=True)\n",
    "eval_dataloader = DataLoader(eval_dataset, batch_size=batch_size, shuffle=False)"
   ]
  },
  {
   "cell_type": "code",
   "execution_count": 4,
   "metadata": {
    "pycharm": {
     "name": "#%%\n"
    }
   },
   "outputs": [
    {
     "name": "stdout",
     "output_type": "stream",
     "text": [
      "BertConfig {\n",
      "  \"T\": 2000,\n",
      "  \"attention_probs_dropout_prob\": 0.1,\n",
      "  \"classifier_dropout\": null,\n",
      "  \"hidden_act\": \"gelu\",\n",
      "  \"hidden_dropout_prob\": 0.1,\n",
      "  \"hidden_size\": 512,\n",
      "  \"initializer_range\": 0.02,\n",
      "  \"intermediate_size\": 2048,\n",
      "  \"layer_norm_eps\": 1e-12,\n",
      "  \"max_position_embeddings\": 72,\n",
      "  \"model_type\": \"bert\",\n",
      "  \"num_attention_heads\": 8,\n",
      "  \"num_hidden_layers\": 4,\n",
      "  \"pad_token_id\": 3,\n",
      "  \"position_embedding_type\": \"absolute\",\n",
      "  \"transformers_version\": \"4.19.2\",\n",
      "  \"type_vocab_size\": 2,\n",
      "  \"use_cache\": true,\n",
      "  \"vocab_size\": 11831,\n",
      "  \"word_embedding_dim\": 128\n",
      "}\n",
      "\n"
     ]
    }
   ],
   "source": [
    "config = BertConfig(vocab_size=len(tokenizer), hidden_size=hidden_size, num_hidden_layers=num_hidden_layers, num_attention_heads=num_attention_heads, intermediate_size=intermediate_size, max_position_embeddings=max_position_embeddings, pad_token_id=tokenizer['[PAD]'])\n",
    "\n",
    "config.T = 2000\n",
    "config.word_embedding_dim = word_embedding_dim\n",
    "\n",
    "print(config)"
   ]
  },
  {
   "cell_type": "code",
   "execution_count": 6,
   "metadata": {
    "pycharm": {
     "name": "#%%\n"
    }
   },
   "outputs": [
    {
     "data": {
      "text/plain": [
       "[<matplotlib.lines.Line2D at 0x7f5375a6eb50>]"
      ]
     },
     "execution_count": 6,
     "metadata": {},
     "output_type": "execute_result"
    },
    {
     "data": {
      "image/png": "[encoded data removed]",
      "text/plain": [
       "<Figure size 432x288 with 1 Axes>"
      ]
     },
     "metadata": {
      "needs_background": "light"
     },
     "output_type": "display_data"
    }
   ],
   "source": [
    "betas = torch.Tensor(get_named_beta_schedule(schedule_name=\"sqrt\", num_diffusion_timesteps=config.T))\n",
    "# betas = torch.Tensor(get_named_beta_schedule(schedule_name=\"linear\", num_diffusion_timesteps=config.T))\n",
    "\n",
    "alphas = 1. - betas\n",
    "alphas_bar = torch.cumprod(alphas, dim=0)\n",
    "sqrt_one_minus_alphas_bar = torch.sqrt(1. - alphas_bar)\n",
    "plt.plot(sqrt_one_minus_alphas_bar)"
   ]
  },
  {
   "cell_type": "code",
   "execution_count": 7,
   "metadata": {
    "pycharm": {
     "name": "#%%\n"
    }
   },
   "outputs": [
    {
     "name": "stdout",
     "output_type": "stream",
     "text": [
      "Diffusion model #parameters:\n",
      "15147520\n"
     ]
    }
   ],
   "source": [
    "diffusion_model = DiffusionLM(config=config, betas=betas, use_shared_weight=True, lm_head_bias=False, add_emb_noise=False).to(device)\n",
    "\n",
    "print(\"Diffusion model #parameters:\")\n",
    "print(sum([p.numel() for p in diffusion_model.parameters()]))\n",
    "\n",
    "optimizer = torch.optim.AdamW(diffusion_model.parameters(), lr=lr, weight_decay=weight_decay)\n",
    "scheduler = get_cosine_schedule_with_warmup(optimizer=optimizer, num_warmup_steps=num_warmup_steps, num_training_steps=num_epoch*len(train_dataloader))"
   ]
  },
  {
   "cell_type": "code",
   "execution_count": 8,
   "metadata": {
    "pycharm": {
     "name": "#%%\n"
    }
   },
   "outputs": [
    {
     "data": {
      "application/vnd.jupyter.widget-view+json": {
       "model_id": "5e0029861cf24023b0836ab52c64209e",
       "version_major": 2,
       "version_minor": 0
      },
      "text/plain": [
       "  0%|          | 0/69050 [00:00<?, ?it/s]"
      ]
     },
     "metadata": {},
     "output_type": "display_data"
    },
    {
     "name": "stdout",
     "output_type": "stream",
     "text": [
      "epoch: 1\n",
      "step: 100\n",
      "mse  training loss=0.76369\n",
      "L_T  training loss=0.00000\n",
      "rounding  training loss=0.00000\n",
      "step: 200\n",
      "mse  training loss=0.46891\n",
      "L_T  training loss=0.00000\n",
      "rounding  training loss=0.00000\n",
      "step: 300\n",
      "mse  training loss=0.38310\n",
      "L_T  training loss=0.00000\n",
      "rounding  training loss=0.00000\n",
      "step: 400\n",
      "mse  training loss=0.34066\n",
      "L_T  training loss=0.00000\n",
      "rounding  training loss=0.00000\n",
      "step: 500\n",
      "mse  training loss=0.31846\n",
      "L_T  training loss=0.00000\n",
      "rounding  training loss=0.00000\n",
      "step: 600\n",
      "mse  training loss=0.30500\n",
      "L_T  training loss=0.00000\n",
      "rounding  training loss=0.00000\n",
      "step: 700\n",
      "mse  training loss=0.28796\n",
      "L_T  training loss=0.00000\n",
      "rounding  training loss=0.00000\n",
      "step: 800\n",
      "mse  training loss=0.27772\n",
      "L_T  training loss=0.00000\n",
      "rounding  training loss=0.00000\n",
      "step: 900\n",
      "mse  training loss=0.26611\n",
      "L_T  training loss=0.00000\n",
      "rounding  training loss=0.00000\n",
      "step: 1000\n",
      "mse  training loss=0.25230\n",
      "L_T  training loss=0.00000\n",
      "rounding  training loss=0.00000\n",
      "step: 1100\n",
      "mse  training loss=0.24824\n",
      "L_T  training loss=0.00000\n",
      "rounding  training loss=0.00000\n",
      "step: 1200\n",
      "mse  training loss=0.24501\n",
      "L_T  training loss=0.00000\n",
      "rounding  training loss=0.00000\n",
      "step: 1300\n",
      "mse  training loss=0.24159\n",
      "L_T  training loss=0.00000\n",
      "rounding  training loss=0.00000\n"
     ]
    },
    {
     "data": {
      "application/vnd.jupyter.widget-view+json": {
       "model_id": "49521a8acc854d9984ef9f29dad1e515",
       "version_major": 2,
       "version_minor": 0
      },
      "text/plain": [
       "  0%|          | 0/154 [00:00<?, ?it/s]"
      ]
     },
     "metadata": {},
     "output_type": "display_data"
    },
    {
     "name": "stdout",
     "output_type": "stream",
     "text": [
      "eval loss=0.21630\n",
      "epoch: 2\n",
      "step: 100\n",
      "mse  training loss=0.22619\n",
      "L_T  training loss=0.00000\n",
      "rounding  training loss=0.00000\n",
      "step: 200\n",
      "mse  training loss=0.22395\n",
      "L_T  training loss=0.00000\n",
      "rounding  training loss=0.00000\n",
      "step: 300\n",
      "mse  training loss=0.22028\n",
      "L_T  training loss=0.00000\n",
      "rounding  training loss=0.00000\n",
      "step: 400\n",
      "mse  training loss=0.21163\n",
      "L_T  training loss=0.00000\n",
      "rounding  training loss=0.00000\n",
      "step: 500\n",
      "mse  training loss=0.21174\n",
      "L_T  training loss=0.00000\n",
      "rounding  training loss=0.00000\n",
      "step: 600\n",
      "mse  training loss=0.20775\n",
      "L_T  training loss=0.00000\n",
      "rounding  training loss=0.00000\n",
      "step: 700\n",
      "mse  training loss=0.20603\n",
      "L_T  training loss=0.00000\n",
      "rounding  training loss=0.00000\n",
      "step: 800\n",
      "mse  training loss=0.20076\n",
      "L_T  training loss=0.00000\n",
      "rounding  training loss=0.00000\n",
      "step: 900\n",
      "mse  training loss=0.19987\n",
      "L_T  training loss=0.00000\n",
      "rounding  training loss=0.00000\n",
      "step: 1000\n",
      "mse  training loss=0.19819\n",
      "L_T  training loss=0.00000\n",
      "rounding  training loss=0.00000\n",
      "step: 1100\n",
      "mse  training loss=0.19344\n",
      "L_T  training loss=0.00000\n",
      "rounding  training loss=0.00000\n",
      "step: 1200\n",
      "mse  training loss=0.18936\n",
      "L_T  training loss=0.00000\n",
      "rounding  training loss=0.00000\n",
      "step: 1300\n",
      "mse  training loss=0.18672\n",
      "L_T  training loss=0.00000\n",
      "rounding  training loss=0.00000\n"
     ]
    },
    {
     "data": {
      "application/vnd.jupyter.widget-view+json": {
       "model_id": "5fc31aa08f054cccbcbbeffc77222ced",
       "version_major": 2,
       "version_minor": 0
      },
      "text/plain": [
       "  0%|          | 0/154 [00:00<?, ?it/s]"
      ]
     },
     "metadata": {},
     "output_type": "display_data"
    },
    {
     "name": "stdout",
     "output_type": "stream",
     "text": [
      "eval loss=0.17575\n",
      "epoch: 3\n",
      "step: 100\n",
      "mse  training loss=0.18534\n",
      "L_T  training loss=0.00000\n",
      "rounding  training loss=0.00000\n",
      "step: 200\n",
      "mse  training loss=0.17901\n",
      "L_T  training loss=0.00000\n",
      "rounding  training loss=0.00000\n",
      "step: 300\n",
      "mse  training loss=0.18168\n",
      "L_T  training loss=0.00000\n",
      "rounding  training loss=0.00000\n",
      "step: 400\n",
      "mse  training loss=0.17692\n",
      "L_T  training loss=0.00000\n",
      "rounding  training loss=0.00000\n",
      "step: 500\n",
      "mse  training loss=0.17666\n",
      "L_T  training loss=0.00000\n",
      "rounding  training loss=0.00000\n",
      "step: 600\n",
      "mse  training loss=0.17602\n",
      "L_T  training loss=0.00000\n",
      "rounding  training loss=0.00000\n",
      "step: 700\n",
      "mse  training loss=0.17502\n",
      "L_T  training loss=0.00000\n",
      "rounding  training loss=0.00000\n",
      "step: 800\n",
      "mse  training loss=0.17424\n",
      "L_T  training loss=0.00000\n",
      "rounding  training loss=0.00000\n",
      "step: 900\n",
      "mse  training loss=0.17162\n",
      "L_T  training loss=0.00000\n",
      "rounding  training loss=0.00000\n",
      "step: 1000\n",
      "mse  training loss=0.16382\n",
      "L_T  training loss=0.00000\n",
      "rounding  training loss=0.00000\n",
      "step: 1100\n",
      "mse  training loss=0.16855\n",
      "L_T  training loss=0.00000\n",
      "rounding  training loss=0.00000\n",
      "step: 1200\n",
      "mse  training loss=0.16788\n",
      "L_T  training loss=0.00000\n",
      "rounding  training loss=0.00000\n",
      "step: 1300\n",
      "mse  training loss=0.16277\n",
      "L_T  training loss=0.00000\n",
      "rounding  training loss=0.00000\n"
     ]
    },
    {
     "data": {
      "application/vnd.jupyter.widget-view+json": {
       "model_id": "91a4cc0411a64ab49c8de31a4850ec9c",
       "version_major": 2,
       "version_minor": 0
      },
      "text/plain": [
       "  0%|          | 0/154 [00:00<?, ?it/s]"
      ]
     },
     "metadata": {},
     "output_type": "display_data"
    },
    {
     "name": "stdout",
     "output_type": "stream",
     "text": [
      "eval loss=0.15423\n",
      "epoch: 4\n",
      "step: 100\n",
      "mse  training loss=0.16050\n",
      "L_T  training loss=0.00000\n",
      "rounding  training loss=0.00000\n",
      "step: 200\n",
      "mse  training loss=0.16131\n",
      "L_T  training loss=0.00000\n",
      "rounding  training loss=0.00000\n",
      "step: 300\n",
      "mse  training loss=0.15863\n",
      "L_T  training loss=0.00000\n",
      "rounding  training loss=0.00000\n",
      "step: 400\n",
      "mse  training loss=0.15609\n",
      "L_T  training loss=0.00000\n",
      "rounding  training loss=0.00000\n",
      "step: 500\n",
      "mse  training loss=0.15874\n",
      "L_T  training loss=0.00000\n",
      "rounding  training loss=0.00000\n",
      "step: 600\n",
      "mse  training loss=0.15534\n",
      "L_T  training loss=0.00000\n",
      "rounding  training loss=0.00000\n",
      "step: 700\n",
      "mse  training loss=0.15486\n",
      "L_T  training loss=0.00000\n",
      "rounding  training loss=0.00000\n",
      "step: 800\n",
      "mse  training loss=0.15390\n",
      "L_T  training loss=0.00000\n",
      "rounding  training loss=0.00000\n",
      "step: 900\n",
      "mse  training loss=0.15366\n",
      "L_T  training loss=0.00000\n",
      "rounding  training loss=0.00000\n",
      "step: 1000\n",
      "mse  training loss=0.15372\n",
      "L_T  training loss=0.00000\n",
      "rounding  training loss=0.00000\n",
      "step: 1100\n",
      "mse  training loss=0.14842\n",
      "L_T  training loss=0.00000\n",
      "rounding  training loss=0.00000\n",
      "step: 1200\n",
      "mse  training loss=0.14833\n",
      "L_T  training loss=0.00000\n",
      "rounding  training loss=0.00000\n",
      "step: 1300\n",
      "mse  training loss=0.14710\n",
      "L_T  training loss=0.00000\n",
      "rounding  training loss=0.00000\n"
     ]
    },
    {
     "data": {
      "application/vnd.jupyter.widget-view+json": {
       "model_id": "731c1efdbb4b46cfa9afd38c2756a6ca",
       "version_major": 2,
       "version_minor": 0
      },
      "text/plain": [
       "  0%|          | 0/154 [00:00<?, ?it/s]"
      ]
     },
     "metadata": {},
     "output_type": "display_data"
    },
    {
     "name": "stdout",
     "output_type": "stream",
     "text": [
      "eval loss=0.13970\n",
      "epoch: 5\n",
      "step: 100\n",
      "mse  training loss=0.14552\n",
      "L_T  training loss=0.00000\n",
      "rounding  training loss=0.00000\n",
      "step: 200\n",
      "mse  training loss=0.14378\n",
      "L_T  training loss=0.00000\n",
      "rounding  training loss=0.00000\n",
      "step: 300\n",
      "mse  training loss=0.14382\n",
      "L_T  training loss=0.00000\n",
      "rounding  training loss=0.00000\n",
      "step: 400\n",
      "mse  training loss=0.14528\n",
      "L_T  training loss=0.00000\n",
      "rounding  training loss=0.00000\n",
      "step: 500\n",
      "mse  training loss=0.14206\n",
      "L_T  training loss=0.00000\n",
      "rounding  training loss=0.00000\n",
      "step: 600\n",
      "mse  training loss=0.13875\n",
      "L_T  training loss=0.00000\n",
      "rounding  training loss=0.00000\n",
      "step: 700\n",
      "mse  training loss=0.14147\n",
      "L_T  training loss=0.00000\n",
      "rounding  training loss=0.00000\n",
      "step: 800\n",
      "mse  training loss=0.13966\n",
      "L_T  training loss=0.00000\n",
      "rounding  training loss=0.00000\n",
      "step: 900\n",
      "mse  training loss=0.13669\n",
      "L_T  training loss=0.00000\n",
      "rounding  training loss=0.00000\n",
      "step: 1000\n",
      "mse  training loss=0.13855\n",
      "L_T  training loss=0.00000\n",
      "rounding  training loss=0.00000\n",
      "step: 1100\n",
      "mse  training loss=0.13516\n",
      "L_T  training loss=0.00000\n",
      "rounding  training loss=0.00000\n",
      "step: 1200\n",
      "mse  training loss=0.13514\n",
      "L_T  training loss=0.00000\n",
      "rounding  training loss=0.00000\n",
      "step: 1300\n",
      "mse  training loss=0.13416\n",
      "L_T  training loss=0.00000\n",
      "rounding  training loss=0.00000\n"
     ]
    },
    {
     "data": {
      "application/vnd.jupyter.widget-view+json": {
       "model_id": "71d5d88cc39b40b0ac473c2e80feb301",
       "version_major": 2,
       "version_minor": 0
      },
      "text/plain": [
       "  0%|          | 0/154 [00:00<?, ?it/s]"
      ]
     },
     "metadata": {},
     "output_type": "display_data"
    },
    {
     "name": "stdout",
     "output_type": "stream",
     "text": [
      "eval loss=0.12707\n",
      "epoch: 6\n",
      "step: 100\n",
      "mse  training loss=0.13245\n",
      "L_T  training loss=0.00000\n",
      "rounding  training loss=0.00000\n",
      "step: 200\n",
      "mse  training loss=0.13062\n",
      "L_T  training loss=0.00000\n",
      "rounding  training loss=0.00000\n",
      "step: 300\n",
      "mse  training loss=0.13080\n",
      "L_T  training loss=0.00000\n",
      "rounding  training loss=0.00000\n",
      "step: 400\n",
      "mse  training loss=0.13050\n",
      "L_T  training loss=0.00000\n",
      "rounding  training loss=0.00000\n",
      "step: 500\n",
      "mse  training loss=0.13259\n",
      "L_T  training loss=0.00000\n",
      "rounding  training loss=0.00000\n",
      "step: 600\n",
      "mse  training loss=0.13083\n",
      "L_T  training loss=0.00000\n",
      "rounding  training loss=0.00000\n",
      "step: 700\n",
      "mse  training loss=0.12923\n",
      "L_T  training loss=0.00000\n",
      "rounding  training loss=0.00000\n",
      "step: 800\n",
      "mse  training loss=0.12679\n",
      "L_T  training loss=0.00000\n",
      "rounding  training loss=0.00000\n",
      "step: 900\n",
      "mse  training loss=0.12793\n",
      "L_T  training loss=0.00000\n",
      "rounding  training loss=0.00001\n",
      "step: 1000\n",
      "mse  training loss=0.12796\n",
      "L_T  training loss=0.00000\n",
      "rounding  training loss=0.00001\n",
      "step: 1100\n",
      "mse  training loss=0.12501\n",
      "L_T  training loss=0.00000\n",
      "rounding  training loss=0.00001\n",
      "step: 1200\n",
      "mse  training loss=0.12468\n",
      "L_T  training loss=0.00000\n",
      "rounding  training loss=0.00001\n",
      "step: 1300\n",
      "mse  training loss=0.12342\n",
      "L_T  training loss=0.00000\n",
      "rounding  training loss=0.00001\n"
     ]
    },
    {
     "data": {
      "application/vnd.jupyter.widget-view+json": {
       "model_id": "028ef53267524c5486dada7652a2da2c",
       "version_major": 2,
       "version_minor": 0
      },
      "text/plain": [
       "  0%|          | 0/154 [00:00<?, ?it/s]"
      ]
     },
     "metadata": {},
     "output_type": "display_data"
    },
    {
     "name": "stdout",
     "output_type": "stream",
     "text": [
      "eval loss=0.11929\n",
      "epoch: 7\n",
      "step: 100\n",
      "mse  training loss=0.12445\n",
      "L_T  training loss=0.00000\n",
      "rounding  training loss=0.00001\n",
      "step: 200\n",
      "mse  training loss=0.12130\n",
      "L_T  training loss=0.00000\n",
      "rounding  training loss=0.00001\n",
      "step: 300\n",
      "mse  training loss=0.12083\n",
      "L_T  training loss=0.00000\n",
      "rounding  training loss=0.00001\n",
      "step: 400\n",
      "mse  training loss=0.12002\n",
      "L_T  training loss=0.00000\n",
      "rounding  training loss=0.00002\n",
      "step: 500\n",
      "mse  training loss=0.12075\n",
      "L_T  training loss=0.00000\n",
      "rounding  training loss=0.00002\n",
      "step: 600\n",
      "mse  training loss=0.12040\n",
      "L_T  training loss=0.00000\n",
      "rounding  training loss=0.00002\n",
      "step: 700\n",
      "mse  training loss=0.11698\n",
      "L_T  training loss=0.00000\n",
      "rounding  training loss=0.00002\n",
      "step: 800\n",
      "mse  training loss=0.11813\n",
      "L_T  training loss=0.00000\n",
      "rounding  training loss=0.00002\n",
      "step: 900\n",
      "mse  training loss=0.11544\n",
      "L_T  training loss=0.00000\n",
      "rounding  training loss=0.00003\n",
      "step: 1000\n",
      "mse  training loss=0.11398\n",
      "L_T  training loss=0.00000\n",
      "rounding  training loss=0.00003\n",
      "step: 1100\n",
      "mse  training loss=0.11442\n",
      "L_T  training loss=0.00000\n",
      "rounding  training loss=0.00003\n",
      "step: 1200\n",
      "mse  training loss=0.11346\n",
      "L_T  training loss=0.00000\n",
      "rounding  training loss=0.00003\n",
      "step: 1300\n",
      "mse  training loss=0.11297\n",
      "L_T  training loss=0.00000\n",
      "rounding  training loss=0.00004\n"
     ]
    },
    {
     "data": {
      "application/vnd.jupyter.widget-view+json": {
       "model_id": "f7a7f3adaf73495581b907fe7e53aae5",
       "version_major": 2,
       "version_minor": 0
      },
      "text/plain": [
       "  0%|          | 0/154 [00:00<?, ?it/s]"
      ]
     },
     "metadata": {},
     "output_type": "display_data"
    },
    {
     "name": "stdout",
     "output_type": "stream",
     "text": [
      "eval loss=0.10959\n",
      "epoch: 8\n",
      "step: 100\n",
      "mse  training loss=0.11267\n",
      "L_T  training loss=0.00000\n",
      "rounding  training loss=0.00005\n",
      "step: 200\n",
      "mse  training loss=0.11190\n",
      "L_T  training loss=0.00000\n",
      "rounding  training loss=0.00005\n",
      "step: 300\n",
      "mse  training loss=0.11204\n",
      "L_T  training loss=0.00000\n",
      "rounding  training loss=0.00006\n",
      "step: 400\n",
      "mse  training loss=0.10975\n",
      "L_T  training loss=0.00000\n",
      "rounding  training loss=0.00006\n",
      "step: 500\n",
      "mse  training loss=0.10988\n",
      "L_T  training loss=0.00000\n",
      "rounding  training loss=0.00007\n",
      "step: 600\n",
      "mse  training loss=0.10786\n",
      "L_T  training loss=0.00000\n",
      "rounding  training loss=0.00008\n",
      "step: 700\n",
      "mse  training loss=0.10988\n",
      "L_T  training loss=0.00000\n",
      "rounding  training loss=0.00008\n",
      "step: 800\n",
      "mse  training loss=0.10703\n",
      "L_T  training loss=0.00000\n",
      "rounding  training loss=0.00009\n",
      "step: 900\n",
      "mse  training loss=0.10641\n",
      "L_T  training loss=0.00000\n",
      "rounding  training loss=0.00010\n",
      "step: 1000\n",
      "mse  training loss=0.10366\n",
      "L_T  training loss=0.00000\n",
      "rounding  training loss=0.00011\n",
      "step: 1100\n",
      "mse  training loss=0.10580\n",
      "L_T  training loss=0.00000\n",
      "rounding  training loss=0.00012\n",
      "step: 1200\n",
      "mse  training loss=0.10450\n",
      "L_T  training loss=0.00000\n",
      "rounding  training loss=0.00014\n",
      "step: 1300\n",
      "mse  training loss=0.10320\n",
      "L_T  training loss=0.00000\n",
      "rounding  training loss=0.00015\n"
     ]
    },
    {
     "data": {
      "application/vnd.jupyter.widget-view+json": {
       "model_id": "80d25acf2f8a4f81ba48bea8c07aef6e",
       "version_major": 2,
       "version_minor": 0
      },
      "text/plain": [
       "  0%|          | 0/154 [00:00<?, ?it/s]"
      ]
     },
     "metadata": {},
     "output_type": "display_data"
    },
    {
     "name": "stdout",
     "output_type": "stream",
     "text": [
      "eval loss=0.09936\n",
      "epoch: 9\n",
      "step: 100\n",
      "mse  training loss=0.10384\n",
      "L_T  training loss=0.00000\n",
      "rounding  training loss=0.00017\n",
      "step: 200\n",
      "mse  training loss=0.10355\n",
      "L_T  training loss=0.00000\n",
      "rounding  training loss=0.00019\n",
      "step: 300\n",
      "mse  training loss=0.10156\n",
      "L_T  training loss=0.00000\n",
      "rounding  training loss=0.00021\n",
      "step: 400\n",
      "mse  training loss=0.10132\n",
      "L_T  training loss=0.00000\n",
      "rounding  training loss=0.00022\n",
      "step: 500\n",
      "mse  training loss=0.10046\n",
      "L_T  training loss=0.00000\n",
      "rounding  training loss=0.00024\n",
      "step: 600\n",
      "mse  training loss=0.09852\n",
      "L_T  training loss=0.00000\n",
      "rounding  training loss=0.00026\n",
      "step: 700\n",
      "mse  training loss=0.09936\n",
      "L_T  training loss=0.00000\n",
      "rounding  training loss=0.00027\n",
      "step: 800\n",
      "mse  training loss=0.09772\n",
      "L_T  training loss=0.00000\n",
      "rounding  training loss=0.00029\n",
      "step: 900\n",
      "mse  training loss=0.09922\n",
      "L_T  training loss=0.00000\n",
      "rounding  training loss=0.00031\n",
      "step: 1000\n",
      "mse  training loss=0.09674\n",
      "L_T  training loss=0.00000\n",
      "rounding  training loss=0.00033\n",
      "step: 1100\n",
      "mse  training loss=0.09510\n",
      "L_T  training loss=0.00000\n",
      "rounding  training loss=0.00034\n",
      "step: 1200\n",
      "mse  training loss=0.09534\n",
      "L_T  training loss=0.00000\n",
      "rounding  training loss=0.00037\n",
      "step: 1300\n",
      "mse  training loss=0.09433\n",
      "L_T  training loss=0.00000\n",
      "rounding  training loss=0.00038\n"
     ]
    },
    {
     "data": {
      "application/vnd.jupyter.widget-view+json": {
       "model_id": "71b2ba957b0041a583d6f7211016f16e",
       "version_major": 2,
       "version_minor": 0
      },
      "text/plain": [
       "  0%|          | 0/154 [00:00<?, ?it/s]"
      ]
     },
     "metadata": {},
     "output_type": "display_data"
    },
    {
     "name": "stdout",
     "output_type": "stream",
     "text": [
      "eval loss=0.09135\n",
      "epoch: 10\n",
      "step: 100\n",
      "mse  training loss=0.09458\n",
      "L_T  training loss=0.00000\n",
      "rounding  training loss=0.00043\n",
      "step: 200\n",
      "mse  training loss=0.09396\n",
      "L_T  training loss=0.00000\n",
      "rounding  training loss=0.00045\n",
      "step: 300\n",
      "mse  training loss=0.09289\n",
      "L_T  training loss=0.00000\n",
      "rounding  training loss=0.00047\n",
      "step: 400\n",
      "mse  training loss=0.09224\n",
      "L_T  training loss=0.00000\n",
      "rounding  training loss=0.00049\n",
      "step: 500\n",
      "mse  training loss=0.09092\n",
      "L_T  training loss=0.00000\n",
      "rounding  training loss=0.00051\n",
      "step: 600\n",
      "mse  training loss=0.09004\n",
      "L_T  training loss=0.00000\n",
      "rounding  training loss=0.00053\n",
      "step: 700\n",
      "mse  training loss=0.08995\n",
      "L_T  training loss=0.00000\n",
      "rounding  training loss=0.00054\n",
      "step: 800\n",
      "mse  training loss=0.08867\n",
      "L_T  training loss=0.00000\n",
      "rounding  training loss=0.00056\n",
      "step: 900\n",
      "mse  training loss=0.08828\n",
      "L_T  training loss=0.00000\n",
      "rounding  training loss=0.00058\n",
      "step: 1000\n",
      "mse  training loss=0.08878\n",
      "L_T  training loss=0.00000\n",
      "rounding  training loss=0.00060\n",
      "step: 1100\n",
      "mse  training loss=0.08887\n",
      "L_T  training loss=0.00000\n",
      "rounding  training loss=0.00062\n",
      "step: 1200\n",
      "mse  training loss=0.08798\n",
      "L_T  training loss=0.00000\n",
      "rounding  training loss=0.00065\n",
      "step: 1300\n",
      "mse  training loss=0.08756\n",
      "L_T  training loss=0.00000\n",
      "rounding  training loss=0.00067\n"
     ]
    },
    {
     "data": {
      "application/vnd.jupyter.widget-view+json": {
       "model_id": "defd23cb47024ba7942286e9bfc3fea4",
       "version_major": 2,
       "version_minor": 0
      },
      "text/plain": [
       "  0%|          | 0/154 [00:00<?, ?it/s]"
      ]
     },
     "metadata": {},
     "output_type": "display_data"
    },
    {
     "name": "stdout",
     "output_type": "stream",
     "text": [
      "eval loss=0.08481\n",
      "epoch: 11\n",
      "step: 100\n",
      "mse  training loss=0.08644\n",
      "L_T  training loss=0.00000\n",
      "rounding  training loss=0.00073\n",
      "step: 200\n",
      "mse  training loss=0.08657\n",
      "L_T  training loss=0.00000\n",
      "rounding  training loss=0.00074\n",
      "step: 300\n",
      "mse  training loss=0.08588\n",
      "L_T  training loss=0.00000\n",
      "rounding  training loss=0.00077\n",
      "step: 400\n",
      "mse  training loss=0.08350\n",
      "L_T  training loss=0.00000\n",
      "rounding  training loss=0.00079\n",
      "step: 500\n",
      "mse  training loss=0.08520\n",
      "L_T  training loss=0.00000\n",
      "rounding  training loss=0.00081\n",
      "step: 600\n",
      "mse  training loss=0.08572\n",
      "L_T  training loss=0.00000\n",
      "rounding  training loss=0.00085\n",
      "step: 700\n",
      "mse  training loss=0.08270\n",
      "L_T  training loss=0.00000\n",
      "rounding  training loss=0.00087\n",
      "step: 800\n",
      "mse  training loss=0.08316\n",
      "L_T  training loss=0.00000\n",
      "rounding  training loss=0.00089\n",
      "step: 900\n",
      "mse  training loss=0.08193\n",
      "L_T  training loss=0.00000\n",
      "rounding  training loss=0.00091\n",
      "step: 1000\n",
      "mse  training loss=0.08299\n",
      "L_T  training loss=0.00000\n",
      "rounding  training loss=0.00094\n",
      "step: 1100\n",
      "mse  training loss=0.08274\n",
      "L_T  training loss=0.00000\n",
      "rounding  training loss=0.00096\n",
      "step: 1200\n",
      "mse  training loss=0.08072\n",
      "L_T  training loss=0.00000\n",
      "rounding  training loss=0.00098\n",
      "step: 1300\n",
      "mse  training loss=0.08088\n",
      "L_T  training loss=0.00000\n",
      "rounding  training loss=0.00100\n"
     ]
    },
    {
     "data": {
      "application/vnd.jupyter.widget-view+json": {
       "model_id": "6710ca81b09942509a1ab306a4a34b7e",
       "version_major": 2,
       "version_minor": 0
      },
      "text/plain": [
       "  0%|          | 0/154 [00:00<?, ?it/s]"
      ]
     },
     "metadata": {},
     "output_type": "display_data"
    },
    {
     "name": "stdout",
     "output_type": "stream",
     "text": [
      "eval loss=0.07990\n",
      "epoch: 12\n",
      "step: 100\n",
      "mse  training loss=0.07875\n",
      "L_T  training loss=0.00000\n",
      "rounding  training loss=0.00103\n",
      "step: 200\n",
      "mse  training loss=0.07989\n",
      "L_T  training loss=0.00000\n",
      "rounding  training loss=0.00103\n",
      "step: 300\n",
      "mse  training loss=0.07933\n",
      "L_T  training loss=0.00000\n",
      "rounding  training loss=0.00106\n",
      "step: 400\n",
      "mse  training loss=0.07933\n",
      "L_T  training loss=0.00000\n",
      "rounding  training loss=0.00108\n",
      "step: 500\n",
      "mse  training loss=0.07768\n",
      "L_T  training loss=0.00000\n",
      "rounding  training loss=0.00109\n",
      "step: 600\n",
      "mse  training loss=0.07900\n",
      "L_T  training loss=0.00000\n",
      "rounding  training loss=0.00109\n",
      "step: 700\n",
      "mse  training loss=0.07782\n",
      "L_T  training loss=0.00000\n",
      "rounding  training loss=0.00111\n",
      "step: 800\n",
      "mse  training loss=0.07725\n",
      "L_T  training loss=0.00000\n",
      "rounding  training loss=0.00114\n",
      "step: 900\n",
      "mse  training loss=0.07789\n",
      "L_T  training loss=0.00000\n",
      "rounding  training loss=0.00115\n",
      "step: 1000\n",
      "mse  training loss=0.07636\n",
      "L_T  training loss=0.00000\n",
      "rounding  training loss=0.00118\n",
      "step: 1100\n",
      "mse  training loss=0.07619\n",
      "L_T  training loss=0.00000\n",
      "rounding  training loss=0.00118\n",
      "step: 1200\n",
      "mse  training loss=0.07576\n",
      "L_T  training loss=0.00000\n",
      "rounding  training loss=0.00119\n",
      "step: 1300\n",
      "mse  training loss=0.07500\n",
      "L_T  training loss=0.00000\n",
      "rounding  training loss=0.00121\n"
     ]
    },
    {
     "data": {
      "application/vnd.jupyter.widget-view+json": {
       "model_id": "76adc5da2ec9462999fc9d532b3e314b",
       "version_major": 2,
       "version_minor": 0
      },
      "text/plain": [
       "  0%|          | 0/154 [00:00<?, ?it/s]"
      ]
     },
     "metadata": {},
     "output_type": "display_data"
    },
    {
     "name": "stdout",
     "output_type": "stream",
     "text": [
      "eval loss=0.07409\n",
      "epoch: 13\n",
      "step: 100\n",
      "mse  training loss=0.07476\n",
      "L_T  training loss=0.00000\n",
      "rounding  training loss=0.00122\n",
      "step: 200\n",
      "mse  training loss=0.07378\n",
      "L_T  training loss=0.00000\n",
      "rounding  training loss=0.00123\n",
      "step: 300\n",
      "mse  training loss=0.07462\n",
      "L_T  training loss=0.00000\n",
      "rounding  training loss=0.00127\n",
      "step: 400\n",
      "mse  training loss=0.07437\n",
      "L_T  training loss=0.00000\n",
      "rounding  training loss=0.00129\n",
      "step: 500\n",
      "mse  training loss=0.07339\n",
      "L_T  training loss=0.00000\n",
      "rounding  training loss=0.00131\n",
      "step: 600\n",
      "mse  training loss=0.07261\n",
      "L_T  training loss=0.00000\n",
      "rounding  training loss=0.00130\n",
      "step: 700\n",
      "mse  training loss=0.07286\n",
      "L_T  training loss=0.00000\n",
      "rounding  training loss=0.00132\n",
      "step: 800\n",
      "mse  training loss=0.07172\n",
      "L_T  training loss=0.00000\n",
      "rounding  training loss=0.00132\n",
      "step: 900\n",
      "mse  training loss=0.07160\n",
      "L_T  training loss=0.00000\n",
      "rounding  training loss=0.00133\n",
      "step: 1000\n",
      "mse  training loss=0.07118\n",
      "L_T  training loss=0.00000\n",
      "rounding  training loss=0.00134\n",
      "step: 1100\n",
      "mse  training loss=0.07099\n",
      "L_T  training loss=0.00000\n",
      "rounding  training loss=0.00135\n",
      "step: 1200\n",
      "mse  training loss=0.07000\n",
      "L_T  training loss=0.00000\n",
      "rounding  training loss=0.00137\n",
      "step: 1300\n",
      "mse  training loss=0.07090\n",
      "L_T  training loss=0.00000\n",
      "rounding  training loss=0.00138\n"
     ]
    },
    {
     "data": {
      "application/vnd.jupyter.widget-view+json": {
       "model_id": "78168b0e6d334fc7ac2e34d7689a0b3f",
       "version_major": 2,
       "version_minor": 0
      },
      "text/plain": [
       "  0%|          | 0/154 [00:00<?, ?it/s]"
      ]
     },
     "metadata": {},
     "output_type": "display_data"
    },
    {
     "name": "stdout",
     "output_type": "stream",
     "text": [
      "eval loss=0.07000\n",
      "epoch: 14\n",
      "step: 100\n",
      "mse  training loss=0.07037\n",
      "L_T  training loss=0.00000\n",
      "rounding  training loss=0.00141\n",
      "step: 200\n",
      "mse  training loss=0.07031\n",
      "L_T  training loss=0.00000\n",
      "rounding  training loss=0.00145\n",
      "step: 300\n",
      "mse  training loss=0.07005\n",
      "L_T  training loss=0.00000\n",
      "rounding  training loss=0.00148\n",
      "step: 400\n",
      "mse  training loss=0.06910\n",
      "L_T  training loss=0.00000\n",
      "rounding  training loss=0.00147\n",
      "step: 500\n",
      "mse  training loss=0.06942\n",
      "L_T  training loss=0.00000\n",
      "rounding  training loss=0.00148\n",
      "step: 600\n",
      "mse  training loss=0.06902\n",
      "L_T  training loss=0.00000\n",
      "rounding  training loss=0.00151\n",
      "step: 700\n",
      "mse  training loss=0.06833\n",
      "L_T  training loss=0.00000\n",
      "rounding  training loss=0.00152\n",
      "step: 800\n",
      "mse  training loss=0.06794\n",
      "L_T  training loss=0.00000\n",
      "rounding  training loss=0.00153\n",
      "step: 900\n",
      "mse  training loss=0.06793\n",
      "L_T  training loss=0.00000\n",
      "rounding  training loss=0.00153\n",
      "step: 1000\n",
      "mse  training loss=0.06701\n",
      "L_T  training loss=0.00000\n",
      "rounding  training loss=0.00154\n",
      "step: 1100\n",
      "mse  training loss=0.06703\n",
      "L_T  training loss=0.00000\n",
      "rounding  training loss=0.00156\n",
      "step: 1200\n",
      "mse  training loss=0.06651\n",
      "L_T  training loss=0.00000\n",
      "rounding  training loss=0.00154\n",
      "step: 1300\n",
      "mse  training loss=0.06690\n",
      "L_T  training loss=0.00000\n",
      "rounding  training loss=0.00156\n"
     ]
    },
    {
     "data": {
      "application/vnd.jupyter.widget-view+json": {
       "model_id": "d5090045f4f5441cba687349160c9dcc",
       "version_major": 2,
       "version_minor": 0
      },
      "text/plain": [
       "  0%|          | 0/154 [00:00<?, ?it/s]"
      ]
     },
     "metadata": {},
     "output_type": "display_data"
    },
    {
     "name": "stdout",
     "output_type": "stream",
     "text": [
      "eval loss=0.06667\n",
      "epoch: 15\n",
      "step: 100\n",
      "mse  training loss=0.06613\n",
      "L_T  training loss=0.00000\n",
      "rounding  training loss=0.00160\n",
      "step: 200\n",
      "mse  training loss=0.06573\n",
      "L_T  training loss=0.00000\n",
      "rounding  training loss=0.00161\n",
      "step: 300\n",
      "mse  training loss=0.06550\n",
      "L_T  training loss=0.00000\n",
      "rounding  training loss=0.00161\n",
      "step: 400\n",
      "mse  training loss=0.06508\n",
      "L_T  training loss=0.00000\n",
      "rounding  training loss=0.00163\n",
      "step: 500\n",
      "mse  training loss=0.06596\n",
      "L_T  training loss=0.00000\n",
      "rounding  training loss=0.00166\n",
      "step: 600\n",
      "mse  training loss=0.06465\n",
      "L_T  training loss=0.00000\n",
      "rounding  training loss=0.00166\n",
      "step: 700\n",
      "mse  training loss=0.06409\n",
      "L_T  training loss=0.00000\n",
      "rounding  training loss=0.00166\n",
      "step: 800\n",
      "mse  training loss=0.06390\n",
      "L_T  training loss=0.00000\n",
      "rounding  training loss=0.00165\n",
      "step: 900\n",
      "mse  training loss=0.06419\n",
      "L_T  training loss=0.00000\n",
      "rounding  training loss=0.00167\n",
      "step: 1000\n",
      "mse  training loss=0.06423\n",
      "L_T  training loss=0.00000\n",
      "rounding  training loss=0.00168\n",
      "step: 1100\n",
      "mse  training loss=0.06371\n",
      "L_T  training loss=0.00000\n",
      "rounding  training loss=0.00172\n",
      "step: 1200\n",
      "mse  training loss=0.06455\n",
      "L_T  training loss=0.00000\n",
      "rounding  training loss=0.00174\n",
      "step: 1300\n",
      "mse  training loss=0.06270\n",
      "L_T  training loss=0.00000\n",
      "rounding  training loss=0.00175\n"
     ]
    },
    {
     "data": {
      "application/vnd.jupyter.widget-view+json": {
       "model_id": "867029005c6645889bb50014681b9a06",
       "version_major": 2,
       "version_minor": 0
      },
      "text/plain": [
       "  0%|          | 0/154 [00:00<?, ?it/s]"
      ]
     },
     "metadata": {},
     "output_type": "display_data"
    },
    {
     "name": "stdout",
     "output_type": "stream",
     "text": [
      "eval loss=0.06326\n",
      "epoch: 16\n",
      "step: 100\n",
      "mse  training loss=0.06244\n",
      "L_T  training loss=0.00000\n",
      "rounding  training loss=0.00172\n",
      "step: 200\n",
      "mse  training loss=0.06250\n",
      "L_T  training loss=0.00000\n",
      "rounding  training loss=0.00172\n",
      "step: 300\n",
      "mse  training loss=0.06223\n",
      "L_T  training loss=0.00000\n",
      "rounding  training loss=0.00174\n",
      "step: 400\n",
      "mse  training loss=0.06226\n",
      "L_T  training loss=0.00000\n",
      "rounding  training loss=0.00177\n",
      "step: 500\n",
      "mse  training loss=0.06246\n",
      "L_T  training loss=0.00000\n",
      "rounding  training loss=0.00178\n",
      "step: 600\n",
      "mse  training loss=0.06173\n",
      "L_T  training loss=0.00000\n",
      "rounding  training loss=0.00178\n",
      "step: 700\n",
      "mse  training loss=0.06208\n",
      "L_T  training loss=0.00000\n",
      "rounding  training loss=0.00181\n",
      "step: 800\n",
      "mse  training loss=0.06116\n",
      "L_T  training loss=0.00000\n",
      "rounding  training loss=0.00180\n",
      "step: 900\n",
      "mse  training loss=0.06179\n",
      "L_T  training loss=0.00000\n",
      "rounding  training loss=0.00181\n",
      "step: 1000\n",
      "mse  training loss=0.06120\n",
      "L_T  training loss=0.00000\n",
      "rounding  training loss=0.00181\n",
      "step: 1100\n",
      "mse  training loss=0.06109\n",
      "L_T  training loss=0.00000\n",
      "rounding  training loss=0.00182\n",
      "step: 1200\n",
      "mse  training loss=0.06017\n",
      "L_T  training loss=0.00000\n",
      "rounding  training loss=0.00182\n",
      "step: 1300\n",
      "mse  training loss=0.06055\n",
      "L_T  training loss=0.00000\n",
      "rounding  training loss=0.00184\n"
     ]
    },
    {
     "data": {
      "application/vnd.jupyter.widget-view+json": {
       "model_id": "2b1bdd8b6c8d4181b53899f947435b00",
       "version_major": 2,
       "version_minor": 0
      },
      "text/plain": [
       "  0%|          | 0/154 [00:00<?, ?it/s]"
      ]
     },
     "metadata": {},
     "output_type": "display_data"
    },
    {
     "name": "stdout",
     "output_type": "stream",
     "text": [
      "eval loss=0.06109\n",
      "epoch: 17\n",
      "step: 100\n",
      "mse  training loss=0.06002\n",
      "L_T  training loss=0.00000\n",
      "rounding  training loss=0.00184\n",
      "step: 200\n",
      "mse  training loss=0.06012\n",
      "L_T  training loss=0.00000\n",
      "rounding  training loss=0.00185\n",
      "step: 300\n",
      "mse  training loss=0.06022\n",
      "L_T  training loss=0.00000\n",
      "rounding  training loss=0.00185\n",
      "step: 400\n",
      "mse  training loss=0.05989\n",
      "L_T  training loss=0.00000\n",
      "rounding  training loss=0.00188\n",
      "step: 500\n",
      "mse  training loss=0.05904\n",
      "L_T  training loss=0.00000\n",
      "rounding  training loss=0.00187\n",
      "step: 600\n",
      "mse  training loss=0.06101\n",
      "L_T  training loss=0.00000\n",
      "rounding  training loss=0.00191\n",
      "step: 700\n",
      "mse  training loss=0.06028\n",
      "L_T  training loss=0.00000\n",
      "rounding  training loss=0.00193\n",
      "step: 800\n",
      "mse  training loss=0.06012\n",
      "L_T  training loss=0.00000\n",
      "rounding  training loss=0.00192\n",
      "step: 900\n",
      "mse  training loss=0.05945\n",
      "L_T  training loss=0.00000\n",
      "rounding  training loss=0.00192\n",
      "step: 1000\n",
      "mse  training loss=0.05954\n",
      "L_T  training loss=0.00000\n",
      "rounding  training loss=0.00192\n",
      "step: 1100\n",
      "mse  training loss=0.05878\n",
      "L_T  training loss=0.00000\n",
      "rounding  training loss=0.00194\n",
      "step: 1200\n",
      "mse  training loss=0.05886\n",
      "L_T  training loss=0.00000\n",
      "rounding  training loss=0.00193\n",
      "step: 1300\n",
      "mse  training loss=0.05943\n",
      "L_T  training loss=0.00000\n",
      "rounding  training loss=0.00192\n"
     ]
    },
    {
     "data": {
      "application/vnd.jupyter.widget-view+json": {
       "model_id": "badedc356a614d5b957e3d6fc7521761",
       "version_major": 2,
       "version_minor": 0
      },
      "text/plain": [
       "  0%|          | 0/154 [00:00<?, ?it/s]"
      ]
     },
     "metadata": {},
     "output_type": "display_data"
    },
    {
     "name": "stdout",
     "output_type": "stream",
     "text": [
      "eval loss=0.05958\n",
      "epoch: 18\n",
      "step: 100\n",
      "mse  training loss=0.05896\n",
      "L_T  training loss=0.00000\n",
      "rounding  training loss=0.00196\n",
      "step: 200\n",
      "mse  training loss=0.05823\n",
      "L_T  training loss=0.00000\n",
      "rounding  training loss=0.00195\n",
      "step: 300\n",
      "mse  training loss=0.05880\n",
      "L_T  training loss=0.00000\n",
      "rounding  training loss=0.00195\n",
      "step: 400\n",
      "mse  training loss=0.05867\n",
      "L_T  training loss=0.00000\n",
      "rounding  training loss=0.00196\n",
      "step: 500\n",
      "mse  training loss=0.05788\n",
      "L_T  training loss=0.00000\n",
      "rounding  training loss=0.00196\n",
      "step: 600\n",
      "mse  training loss=0.05821\n",
      "L_T  training loss=0.00000\n",
      "rounding  training loss=0.00195\n",
      "step: 700\n",
      "mse  training loss=0.05738\n",
      "L_T  training loss=0.00000\n",
      "rounding  training loss=0.00194\n",
      "step: 800\n",
      "mse  training loss=0.05818\n",
      "L_T  training loss=0.00000\n",
      "rounding  training loss=0.00197\n",
      "step: 900\n",
      "mse  training loss=0.05824\n",
      "L_T  training loss=0.00000\n",
      "rounding  training loss=0.00199\n",
      "step: 1000\n",
      "mse  training loss=0.05700\n",
      "L_T  training loss=0.00000\n",
      "rounding  training loss=0.00198\n",
      "step: 1100\n",
      "mse  training loss=0.05744\n",
      "L_T  training loss=0.00000\n",
      "rounding  training loss=0.00196\n",
      "step: 1200\n",
      "mse  training loss=0.05740\n",
      "L_T  training loss=0.00000\n",
      "rounding  training loss=0.00197\n",
      "step: 1300\n",
      "mse  training loss=0.05691\n",
      "L_T  training loss=0.00000\n",
      "rounding  training loss=0.00197\n"
     ]
    },
    {
     "data": {
      "application/vnd.jupyter.widget-view+json": {
       "model_id": "5b647ae7f81f4a8ba1e9daefac30c8d2",
       "version_major": 2,
       "version_minor": 0
      },
      "text/plain": [
       "  0%|          | 0/154 [00:00<?, ?it/s]"
      ]
     },
     "metadata": {},
     "output_type": "display_data"
    },
    {
     "name": "stdout",
     "output_type": "stream",
     "text": [
      "eval loss=0.05852\n",
      "epoch: 19\n",
      "step: 100\n",
      "mse  training loss=0.05740\n",
      "L_T  training loss=0.00000\n",
      "rounding  training loss=0.00198\n",
      "step: 200\n",
      "mse  training loss=0.05773\n",
      "L_T  training loss=0.00000\n",
      "rounding  training loss=0.00201\n",
      "step: 300\n",
      "mse  training loss=0.05699\n",
      "L_T  training loss=0.00000\n",
      "rounding  training loss=0.00200\n",
      "step: 400\n",
      "mse  training loss=0.05739\n",
      "L_T  training loss=0.00000\n",
      "rounding  training loss=0.00203\n",
      "step: 500\n",
      "mse  training loss=0.05720\n",
      "L_T  training loss=0.00000\n",
      "rounding  training loss=0.00203\n",
      "step: 600\n",
      "mse  training loss=0.05691\n",
      "L_T  training loss=0.00000\n",
      "rounding  training loss=0.00201\n",
      "step: 700\n",
      "mse  training loss=0.05703\n",
      "L_T  training loss=0.00000\n",
      "rounding  training loss=0.00204\n",
      "step: 800\n",
      "mse  training loss=0.05610\n",
      "L_T  training loss=0.00000\n",
      "rounding  training loss=0.00201\n",
      "step: 900\n",
      "mse  training loss=0.05693\n",
      "L_T  training loss=0.00000\n",
      "rounding  training loss=0.00202\n",
      "step: 1000\n",
      "mse  training loss=0.05679\n",
      "L_T  training loss=0.00000\n",
      "rounding  training loss=0.00205\n",
      "step: 1100\n",
      "mse  training loss=0.05501\n",
      "L_T  training loss=0.00000\n",
      "rounding  training loss=0.00202\n",
      "step: 1200\n",
      "mse  training loss=0.05617\n",
      "L_T  training loss=0.00000\n",
      "rounding  training loss=0.00201\n",
      "step: 1300\n",
      "mse  training loss=0.05553\n",
      "L_T  training loss=0.00000\n",
      "rounding  training loss=0.00201\n"
     ]
    },
    {
     "data": {
      "application/vnd.jupyter.widget-view+json": {
       "model_id": "082cc7697bf44aaa9774aa14c3666300",
       "version_major": 2,
       "version_minor": 0
      },
      "text/plain": [
       "  0%|          | 0/154 [00:00<?, ?it/s]"
      ]
     },
     "metadata": {},
     "output_type": "display_data"
    },
    {
     "name": "stdout",
     "output_type": "stream",
     "text": [
      "eval loss=0.05675\n",
      "epoch: 20\n",
      "step: 100\n",
      "mse  training loss=0.05651\n",
      "L_T  training loss=0.00000\n",
      "rounding  training loss=0.00205\n",
      "step: 200\n",
      "mse  training loss=0.05564\n",
      "L_T  training loss=0.00000\n",
      "rounding  training loss=0.00205\n",
      "step: 300\n",
      "mse  training loss=0.05542\n",
      "L_T  training loss=0.00000\n",
      "rounding  training loss=0.00205\n",
      "step: 400\n",
      "mse  training loss=0.05613\n",
      "L_T  training loss=0.00000\n",
      "rounding  training loss=0.00204\n",
      "step: 500\n",
      "mse  training loss=0.05576\n",
      "L_T  training loss=0.00000\n",
      "rounding  training loss=0.00207\n",
      "step: 600\n",
      "mse  training loss=0.05598\n",
      "L_T  training loss=0.00000\n",
      "rounding  training loss=0.00208\n",
      "step: 700\n",
      "mse  training loss=0.05468\n",
      "L_T  training loss=0.00000\n",
      "rounding  training loss=0.00207\n",
      "step: 800\n",
      "mse  training loss=0.05535\n",
      "L_T  training loss=0.00000\n",
      "rounding  training loss=0.00205\n",
      "step: 900\n",
      "mse  training loss=0.05523\n",
      "L_T  training loss=0.00000\n",
      "rounding  training loss=0.00206\n",
      "step: 1000\n",
      "mse  training loss=0.05493\n",
      "L_T  training loss=0.00000\n",
      "rounding  training loss=0.00204\n",
      "step: 1100\n",
      "mse  training loss=0.05423\n",
      "L_T  training loss=0.00000\n",
      "rounding  training loss=0.00203\n",
      "step: 1200\n",
      "mse  training loss=0.05512\n",
      "L_T  training loss=0.00000\n",
      "rounding  training loss=0.00204\n",
      "step: 1300\n",
      "mse  training loss=0.05454\n",
      "L_T  training loss=0.00000\n",
      "rounding  training loss=0.00206\n"
     ]
    },
    {
     "data": {
      "application/vnd.jupyter.widget-view+json": {
       "model_id": "4448225f0dca4a3cb32513790786c2d6",
       "version_major": 2,
       "version_minor": 0
      },
      "text/plain": [
       "  0%|          | 0/154 [00:00<?, ?it/s]"
      ]
     },
     "metadata": {},
     "output_type": "display_data"
    },
    {
     "name": "stdout",
     "output_type": "stream",
     "text": [
      "eval loss=0.05556\n",
      "epoch: 21\n",
      "step: 100\n",
      "mse  training loss=0.05472\n",
      "L_T  training loss=0.00000\n",
      "rounding  training loss=0.00206\n",
      "step: 200\n",
      "mse  training loss=0.05467\n",
      "L_T  training loss=0.00000\n",
      "rounding  training loss=0.00204\n",
      "step: 300\n",
      "mse  training loss=0.05479\n",
      "L_T  training loss=0.00000\n",
      "rounding  training loss=0.00208\n",
      "step: 400\n",
      "mse  training loss=0.05449\n",
      "L_T  training loss=0.00000\n",
      "rounding  training loss=0.00207\n",
      "step: 500\n",
      "mse  training loss=0.05456\n",
      "L_T  training loss=0.00000\n",
      "rounding  training loss=0.00206\n",
      "step: 600\n",
      "mse  training loss=0.05500\n",
      "L_T  training loss=0.00000\n",
      "rounding  training loss=0.00208\n",
      "step: 700\n",
      "mse  training loss=0.05382\n",
      "L_T  training loss=0.00000\n",
      "rounding  training loss=0.00206\n",
      "step: 800\n",
      "mse  training loss=0.05384\n",
      "L_T  training loss=0.00000\n",
      "rounding  training loss=0.00204\n",
      "step: 900\n",
      "mse  training loss=0.05401\n",
      "L_T  training loss=0.00000\n",
      "rounding  training loss=0.00204\n",
      "step: 1000\n",
      "mse  training loss=0.05420\n",
      "L_T  training loss=0.00000\n",
      "rounding  training loss=0.00208\n",
      "step: 1100\n",
      "mse  training loss=0.05447\n",
      "L_T  training loss=0.00000\n",
      "rounding  training loss=0.00207\n",
      "step: 1200\n",
      "mse  training loss=0.05410\n",
      "L_T  training loss=0.00000\n",
      "rounding  training loss=0.00210\n",
      "step: 1300\n",
      "mse  training loss=0.05402\n",
      "L_T  training loss=0.00000\n",
      "rounding  training loss=0.00210\n"
     ]
    },
    {
     "data": {
      "application/vnd.jupyter.widget-view+json": {
       "model_id": "9c63522f7518423c8b412aeb564e98ac",
       "version_major": 2,
       "version_minor": 0
      },
      "text/plain": [
       "  0%|          | 0/154 [00:00<?, ?it/s]"
      ]
     },
     "metadata": {},
     "output_type": "display_data"
    },
    {
     "name": "stdout",
     "output_type": "stream",
     "text": [
      "eval loss=0.05519\n",
      "epoch: 22\n",
      "step: 100\n",
      "mse  training loss=0.05354\n",
      "L_T  training loss=0.00000\n",
      "rounding  training loss=0.00209\n",
      "step: 200\n",
      "mse  training loss=0.05440\n",
      "L_T  training loss=0.00000\n",
      "rounding  training loss=0.00207\n",
      "step: 300\n",
      "mse  training loss=0.05362\n",
      "L_T  training loss=0.00000\n",
      "rounding  training loss=0.00210\n",
      "step: 400\n",
      "mse  training loss=0.05370\n",
      "L_T  training loss=0.00000\n",
      "rounding  training loss=0.00210\n",
      "step: 500\n",
      "mse  training loss=0.05396\n",
      "L_T  training loss=0.00000\n",
      "rounding  training loss=0.00213\n",
      "step: 600\n",
      "mse  training loss=0.05331\n",
      "L_T  training loss=0.00000\n",
      "rounding  training loss=0.00209\n",
      "step: 700\n",
      "mse  training loss=0.05323\n",
      "L_T  training loss=0.00000\n",
      "rounding  training loss=0.00207\n",
      "step: 800\n",
      "mse  training loss=0.05404\n",
      "L_T  training loss=0.00000\n",
      "rounding  training loss=0.00211\n",
      "step: 900\n",
      "mse  training loss=0.05304\n",
      "L_T  training loss=0.00000\n",
      "rounding  training loss=0.00210\n",
      "step: 1000\n",
      "mse  training loss=0.05300\n",
      "L_T  training loss=0.00000\n",
      "rounding  training loss=0.00208\n",
      "step: 1100\n",
      "mse  training loss=0.05312\n",
      "L_T  training loss=0.00000\n",
      "rounding  training loss=0.00208\n",
      "step: 1200\n",
      "mse  training loss=0.05322\n",
      "L_T  training loss=0.00000\n",
      "rounding  training loss=0.00207\n",
      "step: 1300\n",
      "mse  training loss=0.05400\n",
      "L_T  training loss=0.00000\n",
      "rounding  training loss=0.00212\n"
     ]
    },
    {
     "data": {
      "application/vnd.jupyter.widget-view+json": {
       "model_id": "afc4b2b0c69b494596a64ef52a51dfbe",
       "version_major": 2,
       "version_minor": 0
      },
      "text/plain": [
       "  0%|          | 0/154 [00:00<?, ?it/s]"
      ]
     },
     "metadata": {},
     "output_type": "display_data"
    },
    {
     "name": "stdout",
     "output_type": "stream",
     "text": [
      "eval loss=0.05483\n",
      "epoch: 23\n",
      "step: 100\n",
      "mse  training loss=0.05281\n",
      "L_T  training loss=0.00000\n",
      "rounding  training loss=0.00212\n",
      "step: 200\n",
      "mse  training loss=0.05335\n",
      "L_T  training loss=0.00000\n",
      "rounding  training loss=0.00211\n",
      "step: 300\n",
      "mse  training loss=0.05276\n",
      "L_T  training loss=0.00000\n",
      "rounding  training loss=0.00212\n",
      "step: 400\n",
      "mse  training loss=0.05310\n",
      "L_T  training loss=0.00000\n",
      "rounding  training loss=0.00210\n",
      "step: 500\n",
      "mse  training loss=0.05285\n",
      "L_T  training loss=0.00000\n",
      "rounding  training loss=0.00212\n",
      "step: 600\n",
      "mse  training loss=0.05221\n",
      "L_T  training loss=0.00000\n",
      "rounding  training loss=0.00209\n",
      "step: 700\n",
      "mse  training loss=0.05283\n",
      "L_T  training loss=0.00000\n",
      "rounding  training loss=0.00209\n",
      "step: 800\n",
      "mse  training loss=0.05216\n",
      "L_T  training loss=0.00000\n",
      "rounding  training loss=0.00208\n",
      "step: 900\n",
      "mse  training loss=0.05287\n",
      "L_T  training loss=0.00000\n",
      "rounding  training loss=0.00210\n",
      "step: 1000\n",
      "mse  training loss=0.05324\n",
      "L_T  training loss=0.00000\n",
      "rounding  training loss=0.00211\n",
      "step: 1100\n",
      "mse  training loss=0.05275\n",
      "L_T  training loss=0.00000\n",
      "rounding  training loss=0.00212\n",
      "step: 1200\n",
      "mse  training loss=0.05292\n",
      "L_T  training loss=0.00000\n",
      "rounding  training loss=0.00210\n",
      "step: 1300\n",
      "mse  training loss=0.05182\n",
      "L_T  training loss=0.00000\n",
      "rounding  training loss=0.00209\n"
     ]
    },
    {
     "data": {
      "application/vnd.jupyter.widget-view+json": {
       "model_id": "54f7ee6e1fe048d6a485ae4326e2989d",
       "version_major": 2,
       "version_minor": 0
      },
      "text/plain": [
       "  0%|          | 0/154 [00:00<?, ?it/s]"
      ]
     },
     "metadata": {},
     "output_type": "display_data"
    },
    {
     "name": "stdout",
     "output_type": "stream",
     "text": [
      "eval loss=0.05384\n",
      "epoch: 24\n",
      "step: 100\n",
      "mse  training loss=0.05248\n",
      "L_T  training loss=0.00000\n",
      "rounding  training loss=0.00213\n",
      "step: 200\n",
      "mse  training loss=0.05224\n",
      "L_T  training loss=0.00000\n",
      "rounding  training loss=0.00210\n",
      "step: 300\n",
      "mse  training loss=0.05289\n",
      "L_T  training loss=0.00000\n",
      "rounding  training loss=0.00210\n",
      "step: 400\n",
      "mse  training loss=0.05189\n",
      "L_T  training loss=0.00000\n",
      "rounding  training loss=0.00212\n",
      "step: 500\n",
      "mse  training loss=0.05254\n",
      "L_T  training loss=0.00000\n",
      "rounding  training loss=0.00211\n",
      "step: 600\n",
      "mse  training loss=0.05292\n",
      "L_T  training loss=0.00000\n",
      "rounding  training loss=0.00210\n",
      "step: 700\n",
      "mse  training loss=0.05258\n",
      "L_T  training loss=0.00000\n",
      "rounding  training loss=0.00213\n",
      "step: 800\n",
      "mse  training loss=0.05251\n",
      "L_T  training loss=0.00000\n",
      "rounding  training loss=0.00213\n",
      "step: 900\n",
      "mse  training loss=0.05218\n",
      "L_T  training loss=0.00000\n",
      "rounding  training loss=0.00211\n",
      "step: 1000\n",
      "mse  training loss=0.05136\n",
      "L_T  training loss=0.00000\n",
      "rounding  training loss=0.00211\n",
      "step: 1100\n",
      "mse  training loss=0.05175\n",
      "L_T  training loss=0.00000\n",
      "rounding  training loss=0.00210\n",
      "step: 1200\n",
      "mse  training loss=0.05246\n",
      "L_T  training loss=0.00000\n",
      "rounding  training loss=0.00211\n",
      "step: 1300\n",
      "mse  training loss=0.05186\n",
      "L_T  training loss=0.00000\n",
      "rounding  training loss=0.00210\n"
     ]
    },
    {
     "data": {
      "application/vnd.jupyter.widget-view+json": {
       "model_id": "5007772d05ca4d23ae329615bee5c552",
       "version_major": 2,
       "version_minor": 0
      },
      "text/plain": [
       "  0%|          | 0/154 [00:00<?, ?it/s]"
      ]
     },
     "metadata": {},
     "output_type": "display_data"
    },
    {
     "name": "stdout",
     "output_type": "stream",
     "text": [
      "eval loss=0.05312\n",
      "epoch: 25\n",
      "step: 100\n",
      "mse  training loss=0.05208\n",
      "L_T  training loss=0.00000\n",
      "rounding  training loss=0.00210\n",
      "step: 200\n",
      "mse  training loss=0.05137\n",
      "L_T  training loss=0.00000\n",
      "rounding  training loss=0.00212\n",
      "step: 300\n",
      "mse  training loss=0.05180\n",
      "L_T  training loss=0.00000\n",
      "rounding  training loss=0.00211\n",
      "step: 400\n",
      "mse  training loss=0.05232\n",
      "L_T  training loss=0.00000\n",
      "rounding  training loss=0.00213\n",
      "step: 500\n",
      "mse  training loss=0.05182\n",
      "L_T  training loss=0.00000\n",
      "rounding  training loss=0.00212\n",
      "step: 600\n",
      "mse  training loss=0.05208\n",
      "L_T  training loss=0.00000\n",
      "rounding  training loss=0.00213\n",
      "step: 700\n",
      "mse  training loss=0.05155\n",
      "L_T  training loss=0.00000\n",
      "rounding  training loss=0.00213\n",
      "step: 800\n",
      "mse  training loss=0.05123\n",
      "L_T  training loss=0.00000\n",
      "rounding  training loss=0.00212\n",
      "step: 900\n",
      "mse  training loss=0.05127\n",
      "L_T  training loss=0.00000\n",
      "rounding  training loss=0.00209\n",
      "step: 1000\n",
      "mse  training loss=0.05159\n",
      "L_T  training loss=0.00000\n",
      "rounding  training loss=0.00212\n",
      "step: 1100\n",
      "mse  training loss=0.05149\n",
      "L_T  training loss=0.00000\n",
      "rounding  training loss=0.00211\n",
      "step: 1200\n",
      "mse  training loss=0.05162\n",
      "L_T  training loss=0.00000\n",
      "rounding  training loss=0.00212\n",
      "step: 1300\n",
      "mse  training loss=0.05210\n",
      "L_T  training loss=0.00000\n",
      "rounding  training loss=0.00213\n"
     ]
    },
    {
     "data": {
      "application/vnd.jupyter.widget-view+json": {
       "model_id": "3c54c171517e43dd8331051b3c489b79",
       "version_major": 2,
       "version_minor": 0
      },
      "text/plain": [
       "  0%|          | 0/154 [00:00<?, ?it/s]"
      ]
     },
     "metadata": {},
     "output_type": "display_data"
    },
    {
     "name": "stdout",
     "output_type": "stream",
     "text": [
      "eval loss=0.05244\n",
      "epoch: 26\n",
      "step: 100\n",
      "mse  training loss=0.05173\n",
      "L_T  training loss=0.00000\n",
      "rounding  training loss=0.00214\n",
      "step: 200\n",
      "mse  training loss=0.05152\n",
      "L_T  training loss=0.00000\n",
      "rounding  training loss=0.00213\n",
      "step: 300\n",
      "mse  training loss=0.05200\n",
      "L_T  training loss=0.00000\n",
      "rounding  training loss=0.00214\n",
      "step: 400\n",
      "mse  training loss=0.05166\n",
      "L_T  training loss=0.00000\n",
      "rounding  training loss=0.00216\n",
      "step: 500\n",
      "mse  training loss=0.05165\n",
      "L_T  training loss=0.00000\n",
      "rounding  training loss=0.00216\n",
      "step: 600\n",
      "mse  training loss=0.05148\n",
      "L_T  training loss=0.00000\n",
      "rounding  training loss=0.00214\n",
      "step: 700\n",
      "mse  training loss=0.05121\n",
      "L_T  training loss=0.00000\n",
      "rounding  training loss=0.00215\n",
      "step: 800\n",
      "mse  training loss=0.05179\n",
      "L_T  training loss=0.00000\n",
      "rounding  training loss=0.00215\n",
      "step: 900\n",
      "mse  training loss=0.05090\n",
      "L_T  training loss=0.00000\n",
      "rounding  training loss=0.00213\n",
      "step: 1000\n",
      "mse  training loss=0.05121\n",
      "L_T  training loss=0.00000\n",
      "rounding  training loss=0.00215\n",
      "step: 1100\n",
      "mse  training loss=0.05061\n",
      "L_T  training loss=0.00000\n",
      "rounding  training loss=0.00214\n",
      "step: 1200\n",
      "mse  training loss=0.05108\n",
      "L_T  training loss=0.00000\n",
      "rounding  training loss=0.00213\n",
      "step: 1300\n",
      "mse  training loss=0.05098\n",
      "L_T  training loss=0.00000\n",
      "rounding  training loss=0.00213\n"
     ]
    },
    {
     "data": {
      "application/vnd.jupyter.widget-view+json": {
       "model_id": "0397798f58df48a1a40fbc37e64fe843",
       "version_major": 2,
       "version_minor": 0
      },
      "text/plain": [
       "  0%|          | 0/154 [00:00<?, ?it/s]"
      ]
     },
     "metadata": {},
     "output_type": "display_data"
    },
    {
     "name": "stdout",
     "output_type": "stream",
     "text": [
      "eval loss=0.05263\n",
      "epoch: 27\n",
      "step: 100\n",
      "mse  training loss=0.05107\n",
      "L_T  training loss=0.00000\n",
      "rounding  training loss=0.00211\n",
      "step: 200\n",
      "mse  training loss=0.05109\n",
      "L_T  training loss=0.00000\n",
      "rounding  training loss=0.00211\n",
      "step: 300\n",
      "mse  training loss=0.05067\n",
      "L_T  training loss=0.00000\n",
      "rounding  training loss=0.00212\n",
      "step: 400\n",
      "mse  training loss=0.05062\n",
      "L_T  training loss=0.00000\n",
      "rounding  training loss=0.00212\n",
      "step: 500\n",
      "mse  training loss=0.05041\n",
      "L_T  training loss=0.00000\n",
      "rounding  training loss=0.00212\n",
      "step: 600\n",
      "mse  training loss=0.05146\n",
      "L_T  training loss=0.00000\n",
      "rounding  training loss=0.00213\n",
      "step: 700\n",
      "mse  training loss=0.05148\n",
      "L_T  training loss=0.00000\n",
      "rounding  training loss=0.00215\n",
      "step: 800\n",
      "mse  training loss=0.05123\n",
      "L_T  training loss=0.00000\n",
      "rounding  training loss=0.00215\n",
      "step: 900\n",
      "mse  training loss=0.05053\n",
      "L_T  training loss=0.00000\n",
      "rounding  training loss=0.00215\n",
      "step: 1000\n",
      "mse  training loss=0.05080\n",
      "L_T  training loss=0.00000\n",
      "rounding  training loss=0.00215\n",
      "step: 1100\n",
      "mse  training loss=0.05034\n",
      "L_T  training loss=0.00000\n",
      "rounding  training loss=0.00213\n",
      "step: 1200\n",
      "mse  training loss=0.05066\n",
      "L_T  training loss=0.00000\n",
      "rounding  training loss=0.00213\n",
      "step: 1300\n",
      "mse  training loss=0.05105\n",
      "L_T  training loss=0.00000\n",
      "rounding  training loss=0.00215\n"
     ]
    },
    {
     "data": {
      "application/vnd.jupyter.widget-view+json": {
       "model_id": "1d206427175e4270a1178f40925b6115",
       "version_major": 2,
       "version_minor": 0
      },
      "text/plain": [
       "  0%|          | 0/154 [00:00<?, ?it/s]"
      ]
     },
     "metadata": {},
     "output_type": "display_data"
    },
    {
     "name": "stdout",
     "output_type": "stream",
     "text": [
      "eval loss=0.05207\n",
      "epoch: 28\n",
      "step: 100\n",
      "mse  training loss=0.05045\n",
      "L_T  training loss=0.00000\n",
      "rounding  training loss=0.00213\n",
      "step: 200\n",
      "mse  training loss=0.05112\n",
      "L_T  training loss=0.00000\n",
      "rounding  training loss=0.00214\n",
      "step: 300\n",
      "mse  training loss=0.04967\n",
      "L_T  training loss=0.00000\n",
      "rounding  training loss=0.00213\n",
      "step: 400\n",
      "mse  training loss=0.05083\n",
      "L_T  training loss=0.00000\n",
      "rounding  training loss=0.00213\n",
      "step: 500\n",
      "mse  training loss=0.05059\n",
      "L_T  training loss=0.00000\n",
      "rounding  training loss=0.00214\n",
      "step: 600\n",
      "mse  training loss=0.05051\n",
      "L_T  training loss=0.00000\n",
      "rounding  training loss=0.00214\n",
      "step: 700\n",
      "mse  training loss=0.05037\n",
      "L_T  training loss=0.00000\n",
      "rounding  training loss=0.00213\n",
      "step: 800\n",
      "mse  training loss=0.05079\n",
      "L_T  training loss=0.00000\n",
      "rounding  training loss=0.00215\n",
      "step: 900\n",
      "mse  training loss=0.05003\n",
      "L_T  training loss=0.00000\n",
      "rounding  training loss=0.00212\n",
      "step: 1000\n",
      "mse  training loss=0.05101\n",
      "L_T  training loss=0.00000\n",
      "rounding  training loss=0.00213\n",
      "step: 1100\n",
      "mse  training loss=0.05016\n",
      "L_T  training loss=0.00000\n",
      "rounding  training loss=0.00213\n",
      "step: 1200\n",
      "mse  training loss=0.05070\n",
      "L_T  training loss=0.00000\n",
      "rounding  training loss=0.00214\n",
      "step: 1300\n",
      "mse  training loss=0.05015\n",
      "L_T  training loss=0.00000\n",
      "rounding  training loss=0.00214\n"
     ]
    },
    {
     "data": {
      "application/vnd.jupyter.widget-view+json": {
       "model_id": "70966cdfe10a4a62ad4b9d571e71c59c",
       "version_major": 2,
       "version_minor": 0
      },
      "text/plain": [
       "  0%|          | 0/154 [00:00<?, ?it/s]"
      ]
     },
     "metadata": {},
     "output_type": "display_data"
    },
    {
     "name": "stdout",
     "output_type": "stream",
     "text": [
      "eval loss=0.05150\n",
      "epoch: 29\n",
      "step: 100\n",
      "mse  training loss=0.04989\n",
      "L_T  training loss=0.00000\n",
      "rounding  training loss=0.00214\n",
      "step: 200\n",
      "mse  training loss=0.04982\n",
      "L_T  training loss=0.00000\n",
      "rounding  training loss=0.00212\n",
      "step: 300\n",
      "mse  training loss=0.05076\n",
      "L_T  training loss=0.00000\n",
      "rounding  training loss=0.00214\n",
      "step: 400\n",
      "mse  training loss=0.04991\n",
      "L_T  training loss=0.00000\n",
      "rounding  training loss=0.00214\n",
      "step: 500\n",
      "mse  training loss=0.04962\n",
      "L_T  training loss=0.00000\n",
      "rounding  training loss=0.00213\n",
      "step: 600\n",
      "mse  training loss=0.05012\n",
      "L_T  training loss=0.00000\n",
      "rounding  training loss=0.00212\n",
      "step: 700\n",
      "mse  training loss=0.05032\n",
      "L_T  training loss=0.00000\n",
      "rounding  training loss=0.00214\n",
      "step: 800\n",
      "mse  training loss=0.04993\n",
      "L_T  training loss=0.00000\n",
      "rounding  training loss=0.00214\n",
      "step: 900\n",
      "mse  training loss=0.05006\n",
      "L_T  training loss=0.00000\n",
      "rounding  training loss=0.00214\n",
      "step: 1000\n",
      "mse  training loss=0.05001\n",
      "L_T  training loss=0.00000\n",
      "rounding  training loss=0.00212\n",
      "step: 1100\n",
      "mse  training loss=0.04970\n",
      "L_T  training loss=0.00000\n",
      "rounding  training loss=0.00211\n",
      "step: 1200\n",
      "mse  training loss=0.04962\n",
      "L_T  training loss=0.00000\n",
      "rounding  training loss=0.00212\n",
      "step: 1300\n",
      "mse  training loss=0.04918\n",
      "L_T  training loss=0.00000\n",
      "rounding  training loss=0.00210\n"
     ]
    },
    {
     "data": {
      "application/vnd.jupyter.widget-view+json": {
       "model_id": "558b3a94a55546eca4fe2fb8ffc1baba",
       "version_major": 2,
       "version_minor": 0
      },
      "text/plain": [
       "  0%|          | 0/154 [00:00<?, ?it/s]"
      ]
     },
     "metadata": {},
     "output_type": "display_data"
    },
    {
     "name": "stdout",
     "output_type": "stream",
     "text": [
      "eval loss=0.05140\n",
      "epoch: 30\n",
      "step: 100\n",
      "mse  training loss=0.05062\n",
      "L_T  training loss=0.00000\n",
      "rounding  training loss=0.00212\n",
      "step: 200\n",
      "mse  training loss=0.04993\n",
      "L_T  training loss=0.00000\n",
      "rounding  training loss=0.00213\n",
      "step: 300\n",
      "mse  training loss=0.05058\n",
      "L_T  training loss=0.00000\n",
      "rounding  training loss=0.00214\n",
      "step: 400\n",
      "mse  training loss=0.04994\n",
      "L_T  training loss=0.00000\n",
      "rounding  training loss=0.00215\n",
      "step: 500\n",
      "mse  training loss=0.04923\n",
      "L_T  training loss=0.00000\n",
      "rounding  training loss=0.00213\n",
      "step: 600\n",
      "mse  training loss=0.04966\n",
      "L_T  training loss=0.00000\n",
      "rounding  training loss=0.00213\n",
      "step: 700\n",
      "mse  training loss=0.04926\n",
      "L_T  training loss=0.00000\n",
      "rounding  training loss=0.00213\n",
      "step: 800\n",
      "mse  training loss=0.04969\n",
      "L_T  training loss=0.00000\n",
      "rounding  training loss=0.00213\n",
      "step: 900\n",
      "mse  training loss=0.04965\n",
      "L_T  training loss=0.00000\n",
      "rounding  training loss=0.00212\n",
      "step: 1000\n",
      "mse  training loss=0.04898\n",
      "L_T  training loss=0.00000\n",
      "rounding  training loss=0.00212\n",
      "step: 1100\n",
      "mse  training loss=0.04982\n",
      "L_T  training loss=0.00000\n",
      "rounding  training loss=0.00212\n",
      "step: 1200\n",
      "mse  training loss=0.04936\n",
      "L_T  training loss=0.00000\n",
      "rounding  training loss=0.00212\n",
      "step: 1300\n",
      "mse  training loss=0.04948\n",
      "L_T  training loss=0.00000\n",
      "rounding  training loss=0.00212\n"
     ]
    },
    {
     "data": {
      "application/vnd.jupyter.widget-view+json": {
       "model_id": "cde9585b0c854a35849ebb161a132a48",
       "version_major": 2,
       "version_minor": 0
      },
      "text/plain": [
       "  0%|          | 0/154 [00:00<?, ?it/s]"
      ]
     },
     "metadata": {},
     "output_type": "display_data"
    },
    {
     "name": "stdout",
     "output_type": "stream",
     "text": [
      "eval loss=0.05040\n",
      "epoch: 31\n",
      "step: 100\n",
      "mse  training loss=0.05015\n",
      "L_T  training loss=0.00000\n",
      "rounding  training loss=0.00214\n",
      "step: 200\n",
      "mse  training loss=0.04952\n",
      "L_T  training loss=0.00000\n",
      "rounding  training loss=0.00214\n",
      "step: 300\n",
      "mse  training loss=0.04942\n",
      "L_T  training loss=0.00000\n",
      "rounding  training loss=0.00213\n",
      "step: 400\n",
      "mse  training loss=0.04964\n",
      "L_T  training loss=0.00000\n",
      "rounding  training loss=0.00212\n",
      "step: 500\n",
      "mse  training loss=0.04958\n",
      "L_T  training loss=0.00000\n",
      "rounding  training loss=0.00213\n",
      "step: 600\n",
      "mse  training loss=0.04958\n",
      "L_T  training loss=0.00000\n",
      "rounding  training loss=0.00213\n",
      "step: 700\n",
      "mse  training loss=0.04888\n",
      "L_T  training loss=0.00000\n",
      "rounding  training loss=0.00212\n",
      "step: 800\n",
      "mse  training loss=0.04963\n",
      "L_T  training loss=0.00000\n",
      "rounding  training loss=0.00212\n",
      "step: 900\n",
      "mse  training loss=0.05001\n",
      "L_T  training loss=0.00000\n",
      "rounding  training loss=0.00214\n",
      "step: 1000\n",
      "mse  training loss=0.04941\n",
      "L_T  training loss=0.00000\n",
      "rounding  training loss=0.00213\n",
      "step: 1100\n",
      "mse  training loss=0.04951\n",
      "L_T  training loss=0.00000\n",
      "rounding  training loss=0.00213\n",
      "step: 1200\n",
      "mse  training loss=0.04986\n",
      "L_T  training loss=0.00000\n",
      "rounding  training loss=0.00214\n",
      "step: 1300\n",
      "mse  training loss=0.04896\n",
      "L_T  training loss=0.00000\n",
      "rounding  training loss=0.00214\n"
     ]
    },
    {
     "data": {
      "application/vnd.jupyter.widget-view+json": {
       "model_id": "ecb2e35051ab48e7a9772803a17bd188",
       "version_major": 2,
       "version_minor": 0
      },
      "text/plain": [
       "  0%|          | 0/154 [00:00<?, ?it/s]"
      ]
     },
     "metadata": {},
     "output_type": "display_data"
    },
    {
     "name": "stdout",
     "output_type": "stream",
     "text": [
      "eval loss=0.05075\n",
      "epoch: 32\n",
      "step: 100\n",
      "mse  training loss=0.04912\n",
      "L_T  training loss=0.00000\n",
      "rounding  training loss=0.00213\n",
      "step: 200\n",
      "mse  training loss=0.04880\n",
      "L_T  training loss=0.00000\n",
      "rounding  training loss=0.00213\n",
      "step: 300\n",
      "mse  training loss=0.04916\n",
      "L_T  training loss=0.00000\n",
      "rounding  training loss=0.00212\n",
      "step: 400\n",
      "mse  training loss=0.04876\n",
      "L_T  training loss=0.00000\n",
      "rounding  training loss=0.00211\n",
      "step: 500\n",
      "mse  training loss=0.04891\n",
      "L_T  training loss=0.00000\n",
      "rounding  training loss=0.00212\n",
      "step: 600\n",
      "mse  training loss=0.04918\n",
      "L_T  training loss=0.00000\n",
      "rounding  training loss=0.00210\n",
      "step: 700\n",
      "mse  training loss=0.04939\n",
      "L_T  training loss=0.00000\n",
      "rounding  training loss=0.00213\n",
      "step: 800\n",
      "mse  training loss=0.04912\n",
      "L_T  training loss=0.00000\n",
      "rounding  training loss=0.00213\n",
      "step: 900\n",
      "mse  training loss=0.04890\n",
      "L_T  training loss=0.00000\n",
      "rounding  training loss=0.00213\n",
      "step: 1000\n",
      "mse  training loss=0.04945\n",
      "L_T  training loss=0.00000\n",
      "rounding  training loss=0.00213\n",
      "step: 1100\n",
      "mse  training loss=0.04855\n",
      "L_T  training loss=0.00000\n",
      "rounding  training loss=0.00212\n",
      "step: 1200\n",
      "mse  training loss=0.04933\n",
      "L_T  training loss=0.00000\n",
      "rounding  training loss=0.00212\n",
      "step: 1300\n",
      "mse  training loss=0.04953\n",
      "L_T  training loss=0.00000\n",
      "rounding  training loss=0.00213\n"
     ]
    },
    {
     "data": {
      "application/vnd.jupyter.widget-view+json": {
       "model_id": "60725c6ed5774044bc7d5d9ca87f1d04",
       "version_major": 2,
       "version_minor": 0
      },
      "text/plain": [
       "  0%|          | 0/154 [00:00<?, ?it/s]"
      ]
     },
     "metadata": {},
     "output_type": "display_data"
    },
    {
     "name": "stdout",
     "output_type": "stream",
     "text": [
      "eval loss=0.04997\n",
      "epoch: 33\n",
      "step: 100\n",
      "mse  training loss=0.04892\n",
      "L_T  training loss=0.00000\n",
      "rounding  training loss=0.00214\n",
      "step: 200\n",
      "mse  training loss=0.04931\n",
      "L_T  training loss=0.00000\n",
      "rounding  training loss=0.00214\n",
      "step: 300\n",
      "mse  training loss=0.04932\n",
      "L_T  training loss=0.00000\n",
      "rounding  training loss=0.00214\n",
      "step: 400\n",
      "mse  training loss=0.04883\n",
      "L_T  training loss=0.00000\n",
      "rounding  training loss=0.00214\n",
      "step: 500\n",
      "mse  training loss=0.04941\n",
      "L_T  training loss=0.00000\n",
      "rounding  training loss=0.00213\n",
      "step: 600\n",
      "mse  training loss=0.04888\n",
      "L_T  training loss=0.00000\n",
      "rounding  training loss=0.00213\n",
      "step: 700\n",
      "mse  training loss=0.04920\n",
      "L_T  training loss=0.00000\n",
      "rounding  training loss=0.00213\n",
      "step: 800\n",
      "mse  training loss=0.04922\n",
      "L_T  training loss=0.00000\n",
      "rounding  training loss=0.00215\n",
      "step: 900\n",
      "mse  training loss=0.04857\n",
      "L_T  training loss=0.00000\n",
      "rounding  training loss=0.00214\n",
      "step: 1000\n",
      "mse  training loss=0.04864\n",
      "L_T  training loss=0.00000\n",
      "rounding  training loss=0.00213\n",
      "step: 1100\n",
      "mse  training loss=0.04869\n",
      "L_T  training loss=0.00000\n",
      "rounding  training loss=0.00213\n",
      "step: 1200\n",
      "mse  training loss=0.04891\n",
      "L_T  training loss=0.00000\n",
      "rounding  training loss=0.00212\n",
      "step: 1300\n",
      "mse  training loss=0.04914\n",
      "L_T  training loss=0.00000\n",
      "rounding  training loss=0.00212\n"
     ]
    },
    {
     "data": {
      "application/vnd.jupyter.widget-view+json": {
       "model_id": "53fc46252b104f759634b5917d9fcc0b",
       "version_major": 2,
       "version_minor": 0
      },
      "text/plain": [
       "  0%|          | 0/154 [00:00<?, ?it/s]"
      ]
     },
     "metadata": {},
     "output_type": "display_data"
    },
    {
     "name": "stdout",
     "output_type": "stream",
     "text": [
      "eval loss=0.04999\n",
      "epoch: 34\n",
      "step: 100\n",
      "mse  training loss=0.04859\n",
      "L_T  training loss=0.00000\n",
      "rounding  training loss=0.00212\n",
      "step: 200\n",
      "mse  training loss=0.04864\n",
      "L_T  training loss=0.00000\n",
      "rounding  training loss=0.00212\n",
      "step: 300\n",
      "mse  training loss=0.04962\n",
      "L_T  training loss=0.00000\n",
      "rounding  training loss=0.00214\n",
      "step: 400\n",
      "mse  training loss=0.04849\n",
      "L_T  training loss=0.00000\n",
      "rounding  training loss=0.00213\n",
      "step: 500\n",
      "mse  training loss=0.04883\n",
      "L_T  training loss=0.00000\n",
      "rounding  training loss=0.00213\n",
      "step: 600\n",
      "mse  training loss=0.04907\n",
      "L_T  training loss=0.00000\n",
      "rounding  training loss=0.00215\n",
      "step: 700\n",
      "mse  training loss=0.04924\n",
      "L_T  training loss=0.00000\n",
      "rounding  training loss=0.00215\n",
      "step: 800\n",
      "mse  training loss=0.04862\n",
      "L_T  training loss=0.00000\n",
      "rounding  training loss=0.00215\n",
      "step: 900\n",
      "mse  training loss=0.04894\n",
      "L_T  training loss=0.00000\n",
      "rounding  training loss=0.00214\n",
      "step: 1000\n",
      "mse  training loss=0.04855\n",
      "L_T  training loss=0.00000\n",
      "rounding  training loss=0.00214\n",
      "step: 1100\n",
      "mse  training loss=0.04882\n",
      "L_T  training loss=0.00000\n",
      "rounding  training loss=0.00213\n",
      "step: 1200\n",
      "mse  training loss=0.04857\n",
      "L_T  training loss=0.00000\n",
      "rounding  training loss=0.00213\n",
      "step: 1300\n",
      "mse  training loss=0.04944\n",
      "L_T  training loss=0.00000\n",
      "rounding  training loss=0.00213\n"
     ]
    },
    {
     "data": {
      "application/vnd.jupyter.widget-view+json": {
       "model_id": "f71ad0674229424eb671d5148c23f983",
       "version_major": 2,
       "version_minor": 0
      },
      "text/plain": [
       "  0%|          | 0/154 [00:00<?, ?it/s]"
      ]
     },
     "metadata": {},
     "output_type": "display_data"
    },
    {
     "name": "stdout",
     "output_type": "stream",
     "text": [
      "eval loss=0.04975\n",
      "epoch: 35\n",
      "step: 100\n",
      "mse  training loss=0.04903\n",
      "L_T  training loss=0.00000\n",
      "rounding  training loss=0.00214\n",
      "step: 200\n",
      "mse  training loss=0.04819\n",
      "L_T  training loss=0.00000\n",
      "rounding  training loss=0.00212\n",
      "step: 300\n",
      "mse  training loss=0.04906\n",
      "L_T  training loss=0.00000\n",
      "rounding  training loss=0.00213\n",
      "step: 400\n",
      "mse  training loss=0.04889\n",
      "L_T  training loss=0.00000\n",
      "rounding  training loss=0.00213\n",
      "step: 500\n",
      "mse  training loss=0.04876\n",
      "L_T  training loss=0.00000\n",
      "rounding  training loss=0.00214\n",
      "step: 600\n",
      "mse  training loss=0.04851\n",
      "L_T  training loss=0.00000\n",
      "rounding  training loss=0.00213\n",
      "step: 700\n",
      "mse  training loss=0.04800\n",
      "L_T  training loss=0.00000\n",
      "rounding  training loss=0.00213\n",
      "step: 800\n",
      "mse  training loss=0.04816\n",
      "L_T  training loss=0.00000\n",
      "rounding  training loss=0.00212\n",
      "step: 900\n",
      "mse  training loss=0.04888\n",
      "L_T  training loss=0.00000\n",
      "rounding  training loss=0.00212\n",
      "step: 1000\n",
      "mse  training loss=0.04853\n",
      "L_T  training loss=0.00000\n",
      "rounding  training loss=0.00212\n",
      "step: 1100\n",
      "mse  training loss=0.04869\n",
      "L_T  training loss=0.00000\n",
      "rounding  training loss=0.00212\n",
      "step: 1200\n",
      "mse  training loss=0.04831\n",
      "L_T  training loss=0.00000\n",
      "rounding  training loss=0.00213\n",
      "step: 1300\n",
      "mse  training loss=0.04846\n",
      "L_T  training loss=0.00000\n",
      "rounding  training loss=0.00213\n"
     ]
    },
    {
     "data": {
      "application/vnd.jupyter.widget-view+json": {
       "model_id": "34dafd061eb444119cc39453f5b6f12c",
       "version_major": 2,
       "version_minor": 0
      },
      "text/plain": [
       "  0%|          | 0/154 [00:00<?, ?it/s]"
      ]
     },
     "metadata": {},
     "output_type": "display_data"
    },
    {
     "name": "stdout",
     "output_type": "stream",
     "text": [
      "eval loss=0.04974\n",
      "epoch: 36\n",
      "step: 100\n",
      "mse  training loss=0.04838\n",
      "L_T  training loss=0.00000\n",
      "rounding  training loss=0.00211\n",
      "step: 200\n",
      "mse  training loss=0.04861\n",
      "L_T  training loss=0.00000\n",
      "rounding  training loss=0.00211\n",
      "step: 300\n",
      "mse  training loss=0.04869\n",
      "L_T  training loss=0.00000\n",
      "rounding  training loss=0.00211\n",
      "step: 400\n",
      "mse  training loss=0.04882\n",
      "L_T  training loss=0.00000\n",
      "rounding  training loss=0.00212\n",
      "step: 500\n",
      "mse  training loss=0.04834\n",
      "L_T  training loss=0.00000\n",
      "rounding  training loss=0.00211\n",
      "step: 600\n",
      "mse  training loss=0.04881\n",
      "L_T  training loss=0.00000\n",
      "rounding  training loss=0.00212\n",
      "step: 700\n",
      "mse  training loss=0.04828\n",
      "L_T  training loss=0.00000\n",
      "rounding  training loss=0.00211\n",
      "step: 800\n",
      "mse  training loss=0.04837\n",
      "L_T  training loss=0.00000\n",
      "rounding  training loss=0.00212\n",
      "step: 900\n",
      "mse  training loss=0.04794\n",
      "L_T  training loss=0.00000\n",
      "rounding  training loss=0.00212\n",
      "step: 1000\n",
      "mse  training loss=0.04793\n",
      "L_T  training loss=0.00000\n",
      "rounding  training loss=0.00210\n",
      "step: 1100\n",
      "mse  training loss=0.04877\n",
      "L_T  training loss=0.00000\n",
      "rounding  training loss=0.00211\n",
      "step: 1200\n",
      "mse  training loss=0.04832\n",
      "L_T  training loss=0.00000\n",
      "rounding  training loss=0.00212\n",
      "step: 1300\n",
      "mse  training loss=0.04821\n",
      "L_T  training loss=0.00000\n",
      "rounding  training loss=0.00212\n"
     ]
    },
    {
     "data": {
      "application/vnd.jupyter.widget-view+json": {
       "model_id": "bc51098a84c748a18fb421cda1a1d3bb",
       "version_major": 2,
       "version_minor": 0
      },
      "text/plain": [
       "  0%|          | 0/154 [00:00<?, ?it/s]"
      ]
     },
     "metadata": {},
     "output_type": "display_data"
    },
    {
     "name": "stdout",
     "output_type": "stream",
     "text": [
      "eval loss=0.04978\n",
      "epoch: 37\n",
      "step: 100\n",
      "mse  training loss=0.04817\n",
      "L_T  training loss=0.00000\n",
      "rounding  training loss=0.00211\n",
      "step: 200\n",
      "mse  training loss=0.04866\n",
      "L_T  training loss=0.00000\n",
      "rounding  training loss=0.00213\n",
      "step: 300\n",
      "mse  training loss=0.04884\n",
      "L_T  training loss=0.00000\n",
      "rounding  training loss=0.00214\n",
      "step: 400\n",
      "mse  training loss=0.04855\n",
      "L_T  training loss=0.00000\n",
      "rounding  training loss=0.00213\n",
      "step: 500\n",
      "mse  training loss=0.04872\n",
      "L_T  training loss=0.00000\n",
      "rounding  training loss=0.00214\n",
      "step: 600\n",
      "mse  training loss=0.04813\n",
      "L_T  training loss=0.00000\n",
      "rounding  training loss=0.00213\n",
      "step: 700\n",
      "mse  training loss=0.04880\n",
      "L_T  training loss=0.00000\n",
      "rounding  training loss=0.00214\n",
      "step: 800\n",
      "mse  training loss=0.04792\n",
      "L_T  training loss=0.00000\n",
      "rounding  training loss=0.00213\n",
      "step: 900\n",
      "mse  training loss=0.04779\n",
      "L_T  training loss=0.00000\n",
      "rounding  training loss=0.00212\n",
      "step: 1000\n",
      "mse  training loss=0.04834\n",
      "L_T  training loss=0.00000\n",
      "rounding  training loss=0.00212\n",
      "step: 1100\n",
      "mse  training loss=0.04858\n",
      "L_T  training loss=0.00000\n",
      "rounding  training loss=0.00212\n",
      "step: 1200\n",
      "mse  training loss=0.04850\n",
      "L_T  training loss=0.00000\n",
      "rounding  training loss=0.00212\n",
      "step: 1300\n",
      "mse  training loss=0.04801\n",
      "L_T  training loss=0.00000\n",
      "rounding  training loss=0.00212\n"
     ]
    },
    {
     "data": {
      "application/vnd.jupyter.widget-view+json": {
       "model_id": "4076a655546649a784c4eaa5b162da9a",
       "version_major": 2,
       "version_minor": 0
      },
      "text/plain": [
       "  0%|          | 0/154 [00:00<?, ?it/s]"
      ]
     },
     "metadata": {},
     "output_type": "display_data"
    },
    {
     "name": "stdout",
     "output_type": "stream",
     "text": [
      "eval loss=0.04957\n",
      "epoch: 38\n",
      "step: 100\n",
      "mse  training loss=0.04786\n",
      "L_T  training loss=0.00000\n",
      "rounding  training loss=0.00212\n",
      "step: 200\n",
      "mse  training loss=0.04764\n",
      "L_T  training loss=0.00000\n",
      "rounding  training loss=0.00211\n",
      "step: 300\n",
      "mse  training loss=0.04799\n",
      "L_T  training loss=0.00000\n",
      "rounding  training loss=0.00211\n",
      "step: 400\n",
      "mse  training loss=0.04783\n",
      "L_T  training loss=0.00000\n",
      "rounding  training loss=0.00210\n",
      "step: 500\n",
      "mse  training loss=0.04824\n",
      "L_T  training loss=0.00000\n",
      "rounding  training loss=0.00212\n",
      "step: 600\n",
      "mse  training loss=0.04814\n",
      "L_T  training loss=0.00000\n",
      "rounding  training loss=0.00211\n",
      "step: 700\n",
      "mse  training loss=0.04804\n",
      "L_T  training loss=0.00000\n",
      "rounding  training loss=0.00212\n",
      "step: 800\n",
      "mse  training loss=0.04785\n",
      "L_T  training loss=0.00000\n",
      "rounding  training loss=0.00211\n",
      "step: 900\n",
      "mse  training loss=0.04815\n",
      "L_T  training loss=0.00000\n",
      "rounding  training loss=0.00210\n",
      "step: 1000\n",
      "mse  training loss=0.04831\n",
      "L_T  training loss=0.00000\n",
      "rounding  training loss=0.00211\n",
      "step: 1100\n",
      "mse  training loss=0.04863\n",
      "L_T  training loss=0.00000\n",
      "rounding  training loss=0.00212\n",
      "step: 1200\n",
      "mse  training loss=0.04809\n",
      "L_T  training loss=0.00000\n",
      "rounding  training loss=0.00210\n",
      "step: 1300\n",
      "mse  training loss=0.04854\n",
      "L_T  training loss=0.00000\n",
      "rounding  training loss=0.00211\n"
     ]
    },
    {
     "data": {
      "application/vnd.jupyter.widget-view+json": {
       "model_id": "1d49f25b18ce4654aaca9242f0ad91c4",
       "version_major": 2,
       "version_minor": 0
      },
      "text/plain": [
       "  0%|          | 0/154 [00:00<?, ?it/s]"
      ]
     },
     "metadata": {},
     "output_type": "display_data"
    },
    {
     "name": "stdout",
     "output_type": "stream",
     "text": [
      "eval loss=0.04940\n",
      "epoch: 39\n",
      "step: 100\n",
      "mse  training loss=0.04766\n",
      "L_T  training loss=0.00000\n",
      "rounding  training loss=0.00211\n",
      "step: 200\n",
      "mse  training loss=0.04882\n",
      "L_T  training loss=0.00000\n",
      "rounding  training loss=0.00212\n",
      "step: 300\n",
      "mse  training loss=0.04822\n",
      "L_T  training loss=0.00000\n",
      "rounding  training loss=0.00212\n",
      "step: 400\n",
      "mse  training loss=0.04730\n",
      "L_T  training loss=0.00000\n",
      "rounding  training loss=0.00211\n",
      "step: 500\n",
      "mse  training loss=0.04802\n",
      "L_T  training loss=0.00000\n",
      "rounding  training loss=0.00210\n",
      "step: 600\n",
      "mse  training loss=0.04837\n",
      "L_T  training loss=0.00000\n",
      "rounding  training loss=0.00212\n",
      "step: 700\n",
      "mse  training loss=0.04797\n",
      "L_T  training loss=0.00000\n",
      "rounding  training loss=0.00212\n",
      "step: 800\n",
      "mse  training loss=0.04809\n",
      "L_T  training loss=0.00000\n",
      "rounding  training loss=0.00212\n",
      "step: 900\n",
      "mse  training loss=0.04868\n",
      "L_T  training loss=0.00000\n",
      "rounding  training loss=0.00212\n",
      "step: 1000\n",
      "mse  training loss=0.04804\n",
      "L_T  training loss=0.00000\n",
      "rounding  training loss=0.00212\n",
      "step: 1100\n",
      "mse  training loss=0.04864\n",
      "L_T  training loss=0.00000\n",
      "rounding  training loss=0.00212\n",
      "step: 1200\n",
      "mse  training loss=0.04742\n",
      "L_T  training loss=0.00000\n",
      "rounding  training loss=0.00212\n",
      "step: 1300\n",
      "mse  training loss=0.04782\n",
      "L_T  training loss=0.00000\n",
      "rounding  training loss=0.00211\n"
     ]
    },
    {
     "data": {
      "application/vnd.jupyter.widget-view+json": {
       "model_id": "b85ce4d4176943bc944deaa71581bbcd",
       "version_major": 2,
       "version_minor": 0
      },
      "text/plain": [
       "  0%|          | 0/154 [00:00<?, ?it/s]"
      ]
     },
     "metadata": {},
     "output_type": "display_data"
    },
    {
     "name": "stdout",
     "output_type": "stream",
     "text": [
      "eval loss=0.04952\n",
      "epoch: 40\n",
      "step: 100\n",
      "mse  training loss=0.04784\n",
      "L_T  training loss=0.00000\n",
      "rounding  training loss=0.00212\n",
      "step: 200\n",
      "mse  training loss=0.04795\n",
      "L_T  training loss=0.00000\n",
      "rounding  training loss=0.00212\n",
      "step: 300\n",
      "mse  training loss=0.04840\n",
      "L_T  training loss=0.00000\n",
      "rounding  training loss=0.00211\n",
      "step: 400\n",
      "mse  training loss=0.04800\n",
      "L_T  training loss=0.00000\n",
      "rounding  training loss=0.00211\n",
      "step: 500\n",
      "mse  training loss=0.04821\n",
      "L_T  training loss=0.00000\n",
      "rounding  training loss=0.00212\n",
      "step: 600\n",
      "mse  training loss=0.04816\n",
      "L_T  training loss=0.00000\n",
      "rounding  training loss=0.00213\n",
      "step: 700\n",
      "mse  training loss=0.04795\n",
      "L_T  training loss=0.00000\n",
      "rounding  training loss=0.00212\n",
      "step: 800\n",
      "mse  training loss=0.04785\n",
      "L_T  training loss=0.00000\n",
      "rounding  training loss=0.00211\n",
      "step: 900\n",
      "mse  training loss=0.04835\n",
      "L_T  training loss=0.00000\n",
      "rounding  training loss=0.00211\n",
      "step: 1000\n",
      "mse  training loss=0.04781\n",
      "L_T  training loss=0.00000\n",
      "rounding  training loss=0.00212\n",
      "step: 1100\n",
      "mse  training loss=0.04776\n",
      "L_T  training loss=0.00000\n",
      "rounding  training loss=0.00211\n",
      "step: 1200\n",
      "mse  training loss=0.04816\n",
      "L_T  training loss=0.00000\n",
      "rounding  training loss=0.00212\n",
      "step: 1300\n",
      "mse  training loss=0.04719\n",
      "L_T  training loss=0.00000\n",
      "rounding  training loss=0.00211\n"
     ]
    },
    {
     "data": {
      "application/vnd.jupyter.widget-view+json": {
       "model_id": "9cfa8778911b40318b28f5c265a492a8",
       "version_major": 2,
       "version_minor": 0
      },
      "text/plain": [
       "  0%|          | 0/154 [00:00<?, ?it/s]"
      ]
     },
     "metadata": {},
     "output_type": "display_data"
    },
    {
     "name": "stdout",
     "output_type": "stream",
     "text": [
      "eval loss=0.04939\n",
      "epoch: 41\n",
      "step: 100\n",
      "mse  training loss=0.04790\n",
      "L_T  training loss=0.00000\n",
      "rounding  training loss=0.00211\n",
      "step: 200\n",
      "mse  training loss=0.04744\n",
      "L_T  training loss=0.00000\n",
      "rounding  training loss=0.00211\n",
      "step: 300\n",
      "mse  training loss=0.04800\n",
      "L_T  training loss=0.00000\n",
      "rounding  training loss=0.00211\n",
      "step: 400\n",
      "mse  training loss=0.04809\n",
      "L_T  training loss=0.00000\n",
      "rounding  training loss=0.00212\n",
      "step: 500\n",
      "mse  training loss=0.04749\n",
      "L_T  training loss=0.00000\n",
      "rounding  training loss=0.00211\n",
      "step: 600\n",
      "mse  training loss=0.04828\n",
      "L_T  training loss=0.00000\n",
      "rounding  training loss=0.00212\n",
      "step: 700\n",
      "mse  training loss=0.04735\n",
      "L_T  training loss=0.00000\n",
      "rounding  training loss=0.00211\n",
      "step: 800\n",
      "mse  training loss=0.04817\n",
      "L_T  training loss=0.00000\n",
      "rounding  training loss=0.00210\n",
      "step: 900\n",
      "mse  training loss=0.04791\n",
      "L_T  training loss=0.00000\n",
      "rounding  training loss=0.00212\n",
      "step: 1000\n",
      "mse  training loss=0.04795\n",
      "L_T  training loss=0.00000\n",
      "rounding  training loss=0.00212\n",
      "step: 1100\n",
      "mse  training loss=0.04799\n",
      "L_T  training loss=0.00000\n",
      "rounding  training loss=0.00212\n",
      "step: 1200\n",
      "mse  training loss=0.04785\n",
      "L_T  training loss=0.00000\n",
      "rounding  training loss=0.00212\n",
      "step: 1300\n",
      "mse  training loss=0.04757\n",
      "L_T  training loss=0.00000\n",
      "rounding  training loss=0.00211\n"
     ]
    },
    {
     "data": {
      "application/vnd.jupyter.widget-view+json": {
       "model_id": "ac5b0cb1e19d4b33aafc4153d4e8b5ad",
       "version_major": 2,
       "version_minor": 0
      },
      "text/plain": [
       "  0%|          | 0/154 [00:00<?, ?it/s]"
      ]
     },
     "metadata": {},
     "output_type": "display_data"
    },
    {
     "name": "stdout",
     "output_type": "stream",
     "text": [
      "eval loss=0.04944\n",
      "epoch: 42\n",
      "step: 100\n",
      "mse  training loss=0.04777\n",
      "L_T  training loss=0.00000\n",
      "rounding  training loss=0.00212\n",
      "step: 200\n",
      "mse  training loss=0.04759\n",
      "L_T  training loss=0.00000\n",
      "rounding  training loss=0.00210\n",
      "step: 300\n",
      "mse  training loss=0.04808\n",
      "L_T  training loss=0.00000\n",
      "rounding  training loss=0.00212\n",
      "step: 400\n",
      "mse  training loss=0.04802\n",
      "L_T  training loss=0.00000\n",
      "rounding  training loss=0.00212\n",
      "step: 500\n",
      "mse  training loss=0.04869\n",
      "L_T  training loss=0.00000\n",
      "rounding  training loss=0.00213\n",
      "step: 600\n",
      "mse  training loss=0.04759\n",
      "L_T  training loss=0.00000\n",
      "rounding  training loss=0.00213\n",
      "step: 700\n",
      "mse  training loss=0.04792\n",
      "L_T  training loss=0.00000\n",
      "rounding  training loss=0.00213\n",
      "step: 800\n",
      "mse  training loss=0.04746\n",
      "L_T  training loss=0.00000\n",
      "rounding  training loss=0.00212\n",
      "step: 900\n",
      "mse  training loss=0.04837\n",
      "L_T  training loss=0.00000\n",
      "rounding  training loss=0.00212\n",
      "step: 1000\n",
      "mse  training loss=0.04807\n",
      "L_T  training loss=0.00000\n",
      "rounding  training loss=0.00212\n",
      "step: 1100\n",
      "mse  training loss=0.04755\n",
      "L_T  training loss=0.00000\n",
      "rounding  training loss=0.00212\n",
      "step: 1200\n",
      "mse  training loss=0.04783\n",
      "L_T  training loss=0.00000\n",
      "rounding  training loss=0.00212\n",
      "step: 1300\n",
      "mse  training loss=0.04786\n",
      "L_T  training loss=0.00000\n",
      "rounding  training loss=0.00212\n"
     ]
    },
    {
     "data": {
      "application/vnd.jupyter.widget-view+json": {
       "model_id": "3cc97ae4182f4dd3b9a6034b524c2f59",
       "version_major": 2,
       "version_minor": 0
      },
      "text/plain": [
       "  0%|          | 0/154 [00:00<?, ?it/s]"
      ]
     },
     "metadata": {},
     "output_type": "display_data"
    },
    {
     "name": "stdout",
     "output_type": "stream",
     "text": [
      "eval loss=0.04918\n",
      "epoch: 43\n",
      "step: 100\n",
      "mse  training loss=0.04774\n",
      "L_T  training loss=0.00000\n",
      "rounding  training loss=0.00212\n",
      "step: 200\n",
      "mse  training loss=0.04798\n",
      "L_T  training loss=0.00000\n",
      "rounding  training loss=0.00212\n",
      "step: 300\n",
      "mse  training loss=0.04788\n",
      "L_T  training loss=0.00000\n",
      "rounding  training loss=0.00212\n",
      "step: 400\n",
      "mse  training loss=0.04805\n",
      "L_T  training loss=0.00000\n",
      "rounding  training loss=0.00212\n",
      "step: 500\n",
      "mse  training loss=0.04781\n",
      "L_T  training loss=0.00000\n",
      "rounding  training loss=0.00211\n",
      "step: 600\n",
      "mse  training loss=0.04763\n",
      "L_T  training loss=0.00000\n",
      "rounding  training loss=0.00212\n",
      "step: 700\n",
      "mse  training loss=0.04745\n",
      "L_T  training loss=0.00000\n",
      "rounding  training loss=0.00211\n",
      "step: 800\n",
      "mse  training loss=0.04754\n",
      "L_T  training loss=0.00000\n",
      "rounding  training loss=0.00211\n",
      "step: 900\n",
      "mse  training loss=0.04807\n",
      "L_T  training loss=0.00000\n",
      "rounding  training loss=0.00213\n",
      "step: 1000\n",
      "mse  training loss=0.04803\n",
      "L_T  training loss=0.00000\n",
      "rounding  training loss=0.00212\n",
      "step: 1100\n",
      "mse  training loss=0.04727\n",
      "L_T  training loss=0.00000\n",
      "rounding  training loss=0.00212\n",
      "step: 1200\n",
      "mse  training loss=0.04769\n",
      "L_T  training loss=0.00000\n",
      "rounding  training loss=0.00213\n",
      "step: 1300\n",
      "mse  training loss=0.04767\n",
      "L_T  training loss=0.00000\n",
      "rounding  training loss=0.00213\n"
     ]
    },
    {
     "data": {
      "application/vnd.jupyter.widget-view+json": {
       "model_id": "5b09092bd3744d81969b6c1a2c3fe5dd",
       "version_major": 2,
       "version_minor": 0
      },
      "text/plain": [
       "  0%|          | 0/154 [00:00<?, ?it/s]"
      ]
     },
     "metadata": {},
     "output_type": "display_data"
    },
    {
     "name": "stdout",
     "output_type": "stream",
     "text": [
      "eval loss=0.04891\n",
      "epoch: 44\n",
      "step: 100\n",
      "mse  training loss=0.04681\n",
      "L_T  training loss=0.00000\n",
      "rounding  training loss=0.00211\n",
      "step: 200\n",
      "mse  training loss=0.04750\n",
      "L_T  training loss=0.00000\n",
      "rounding  training loss=0.00212\n",
      "step: 300\n",
      "mse  training loss=0.04790\n",
      "L_T  training loss=0.00000\n",
      "rounding  training loss=0.00211\n",
      "step: 400\n",
      "mse  training loss=0.04758\n",
      "L_T  training loss=0.00000\n",
      "rounding  training loss=0.00212\n",
      "step: 500\n",
      "mse  training loss=0.04832\n",
      "L_T  training loss=0.00000\n",
      "rounding  training loss=0.00212\n",
      "step: 600\n",
      "mse  training loss=0.04729\n",
      "L_T  training loss=0.00000\n",
      "rounding  training loss=0.00211\n",
      "step: 700\n",
      "mse  training loss=0.04785\n",
      "L_T  training loss=0.00000\n",
      "rounding  training loss=0.00211\n",
      "step: 800\n",
      "mse  training loss=0.04712\n",
      "L_T  training loss=0.00000\n",
      "rounding  training loss=0.00212\n",
      "step: 900\n",
      "mse  training loss=0.04770\n",
      "L_T  training loss=0.00000\n",
      "rounding  training loss=0.00211\n",
      "step: 1000\n",
      "mse  training loss=0.04740\n",
      "L_T  training loss=0.00000\n",
      "rounding  training loss=0.00211\n",
      "step: 1100\n",
      "mse  training loss=0.04837\n",
      "L_T  training loss=0.00000\n",
      "rounding  training loss=0.00212\n",
      "step: 1200\n",
      "mse  training loss=0.04823\n",
      "L_T  training loss=0.00000\n",
      "rounding  training loss=0.00212\n",
      "step: 1300\n",
      "mse  training loss=0.04719\n",
      "L_T  training loss=0.00000\n",
      "rounding  training loss=0.00212\n"
     ]
    },
    {
     "data": {
      "application/vnd.jupyter.widget-view+json": {
       "model_id": "110d15142ab243caae3ca19a322f1c58",
       "version_major": 2,
       "version_minor": 0
      },
      "text/plain": [
       "  0%|          | 0/154 [00:00<?, ?it/s]"
      ]
     },
     "metadata": {},
     "output_type": "display_data"
    },
    {
     "name": "stdout",
     "output_type": "stream",
     "text": [
      "eval loss=0.04866\n",
      "epoch: 45\n",
      "step: 100\n",
      "mse  training loss=0.04799\n",
      "L_T  training loss=0.00000\n",
      "rounding  training loss=0.00212\n",
      "step: 200\n",
      "mse  training loss=0.04789\n",
      "L_T  training loss=0.00000\n",
      "rounding  training loss=0.00213\n",
      "step: 300\n",
      "mse  training loss=0.04778\n",
      "L_T  training loss=0.00000\n",
      "rounding  training loss=0.00211\n",
      "step: 400\n",
      "mse  training loss=0.04802\n",
      "L_T  training loss=0.00000\n",
      "rounding  training loss=0.00211\n",
      "step: 500\n",
      "mse  training loss=0.04768\n",
      "L_T  training loss=0.00000\n",
      "rounding  training loss=0.00212\n",
      "step: 600\n",
      "mse  training loss=0.04776\n",
      "L_T  training loss=0.00000\n",
      "rounding  training loss=0.00212\n",
      "step: 700\n",
      "mse  training loss=0.04753\n",
      "L_T  training loss=0.00000\n",
      "rounding  training loss=0.00211\n",
      "step: 800\n",
      "mse  training loss=0.04801\n",
      "L_T  training loss=0.00000\n",
      "rounding  training loss=0.00212\n",
      "step: 900\n",
      "mse  training loss=0.04749\n",
      "L_T  training loss=0.00000\n",
      "rounding  training loss=0.00211\n",
      "step: 1000\n",
      "mse  training loss=0.04856\n",
      "L_T  training loss=0.00000\n",
      "rounding  training loss=0.00210\n",
      "step: 1100\n",
      "mse  training loss=0.04740\n",
      "L_T  training loss=0.00000\n",
      "rounding  training loss=0.00212\n",
      "step: 1200\n",
      "mse  training loss=0.04755\n",
      "L_T  training loss=0.00000\n",
      "rounding  training loss=0.00211\n",
      "step: 1300\n",
      "mse  training loss=0.04772\n",
      "L_T  training loss=0.00000\n",
      "rounding  training loss=0.00211\n"
     ]
    },
    {
     "data": {
      "application/vnd.jupyter.widget-view+json": {
       "model_id": "35205a5e4f4a4c64a4f10b7ea60f9b1c",
       "version_major": 2,
       "version_minor": 0
      },
      "text/plain": [
       "  0%|          | 0/154 [00:00<?, ?it/s]"
      ]
     },
     "metadata": {},
     "output_type": "display_data"
    },
    {
     "name": "stdout",
     "output_type": "stream",
     "text": [
      "eval loss=0.04906\n",
      "epoch: 46\n",
      "step: 100\n",
      "mse  training loss=0.04794\n",
      "L_T  training loss=0.00000\n",
      "rounding  training loss=0.00212\n",
      "step: 200\n",
      "mse  training loss=0.04732\n",
      "L_T  training loss=0.00000\n",
      "rounding  training loss=0.00212\n",
      "step: 300\n",
      "mse  training loss=0.04775\n",
      "L_T  training loss=0.00000\n",
      "rounding  training loss=0.00211\n",
      "step: 400\n",
      "mse  training loss=0.04778\n",
      "L_T  training loss=0.00000\n",
      "rounding  training loss=0.00211\n",
      "step: 500\n",
      "mse  training loss=0.04736\n",
      "L_T  training loss=0.00000\n",
      "rounding  training loss=0.00211\n",
      "step: 600\n",
      "mse  training loss=0.04746\n",
      "L_T  training loss=0.00000\n",
      "rounding  training loss=0.00211\n",
      "step: 700\n",
      "mse  training loss=0.04768\n",
      "L_T  training loss=0.00000\n",
      "rounding  training loss=0.00211\n",
      "step: 800\n",
      "mse  training loss=0.04881\n",
      "L_T  training loss=0.00000\n",
      "rounding  training loss=0.00212\n",
      "step: 900\n",
      "mse  training loss=0.04805\n",
      "L_T  training loss=0.00000\n",
      "rounding  training loss=0.00212\n",
      "step: 1000\n",
      "mse  training loss=0.04732\n",
      "L_T  training loss=0.00000\n",
      "rounding  training loss=0.00211\n",
      "step: 1100\n",
      "mse  training loss=0.04777\n",
      "L_T  training loss=0.00000\n",
      "rounding  training loss=0.00212\n",
      "step: 1200\n",
      "mse  training loss=0.04835\n",
      "L_T  training loss=0.00000\n",
      "rounding  training loss=0.00211\n",
      "step: 1300\n",
      "mse  training loss=0.04682\n",
      "L_T  training loss=0.00000\n",
      "rounding  training loss=0.00210\n"
     ]
    },
    {
     "data": {
      "application/vnd.jupyter.widget-view+json": {
       "model_id": "95855044ad304f9ea0fe4b56be94b63c",
       "version_major": 2,
       "version_minor": 0
      },
      "text/plain": [
       "  0%|          | 0/154 [00:00<?, ?it/s]"
      ]
     },
     "metadata": {},
     "output_type": "display_data"
    },
    {
     "name": "stdout",
     "output_type": "stream",
     "text": [
      "eval loss=0.04896\n",
      "epoch: 47\n",
      "step: 100\n",
      "mse  training loss=0.04755\n",
      "L_T  training loss=0.00000\n",
      "rounding  training loss=0.00211\n",
      "step: 200\n",
      "mse  training loss=0.04732\n",
      "L_T  training loss=0.00000\n",
      "rounding  training loss=0.00211\n",
      "step: 300\n",
      "mse  training loss=0.04749\n",
      "L_T  training loss=0.00000\n",
      "rounding  training loss=0.00211\n",
      "step: 400\n",
      "mse  training loss=0.04772\n",
      "L_T  training loss=0.00000\n",
      "rounding  training loss=0.00211\n",
      "step: 500\n",
      "mse  training loss=0.04792\n",
      "L_T  training loss=0.00000\n",
      "rounding  training loss=0.00212\n",
      "step: 600\n",
      "mse  training loss=0.04767\n",
      "L_T  training loss=0.00000\n",
      "rounding  training loss=0.00212\n",
      "step: 700\n",
      "mse  training loss=0.04791\n",
      "L_T  training loss=0.00000\n",
      "rounding  training loss=0.00212\n",
      "step: 800\n",
      "mse  training loss=0.04897\n",
      "L_T  training loss=0.00000\n",
      "rounding  training loss=0.00212\n",
      "step: 900\n",
      "mse  training loss=0.04733\n",
      "L_T  training loss=0.00000\n",
      "rounding  training loss=0.00211\n",
      "step: 1000\n",
      "mse  training loss=0.04739\n",
      "L_T  training loss=0.00000\n",
      "rounding  training loss=0.00211\n",
      "step: 1100\n",
      "mse  training loss=0.04773\n",
      "L_T  training loss=0.00000\n",
      "rounding  training loss=0.00212\n",
      "step: 1200\n",
      "mse  training loss=0.04745\n",
      "L_T  training loss=0.00000\n",
      "rounding  training loss=0.00212\n",
      "step: 1300\n",
      "mse  training loss=0.04735\n",
      "L_T  training loss=0.00000\n",
      "rounding  training loss=0.00210\n"
     ]
    },
    {
     "data": {
      "application/vnd.jupyter.widget-view+json": {
       "model_id": "50873ef0b3dc4329a6050d29485b07b5",
       "version_major": 2,
       "version_minor": 0
      },
      "text/plain": [
       "  0%|          | 0/154 [00:00<?, ?it/s]"
      ]
     },
     "metadata": {},
     "output_type": "display_data"
    },
    {
     "name": "stdout",
     "output_type": "stream",
     "text": [
      "eval loss=0.04926\n",
      "epoch: 48\n",
      "step: 100\n",
      "mse  training loss=0.04821\n",
      "L_T  training loss=0.00000\n",
      "rounding  training loss=0.00211\n",
      "step: 200\n",
      "mse  training loss=0.04827\n",
      "L_T  training loss=0.00000\n",
      "rounding  training loss=0.00212\n",
      "step: 300\n",
      "mse  training loss=0.04770\n",
      "L_T  training loss=0.00000\n",
      "rounding  training loss=0.00212\n",
      "step: 400\n",
      "mse  training loss=0.04805\n",
      "L_T  training loss=0.00000\n",
      "rounding  training loss=0.00212\n",
      "step: 500\n",
      "mse  training loss=0.04799\n",
      "L_T  training loss=0.00000\n",
      "rounding  training loss=0.00212\n",
      "step: 600\n",
      "mse  training loss=0.04722\n",
      "L_T  training loss=0.00000\n",
      "rounding  training loss=0.00211\n",
      "step: 700\n",
      "mse  training loss=0.04719\n",
      "L_T  training loss=0.00000\n",
      "rounding  training loss=0.00211\n",
      "step: 800\n",
      "mse  training loss=0.04767\n",
      "L_T  training loss=0.00000\n",
      "rounding  training loss=0.00211\n",
      "step: 900\n",
      "mse  training loss=0.04790\n",
      "L_T  training loss=0.00000\n",
      "rounding  training loss=0.00212\n",
      "step: 1000\n",
      "mse  training loss=0.04793\n",
      "L_T  training loss=0.00000\n",
      "rounding  training loss=0.00211\n",
      "step: 1100\n",
      "mse  training loss=0.04783\n",
      "L_T  training loss=0.00000\n",
      "rounding  training loss=0.00212\n",
      "step: 1200\n",
      "mse  training loss=0.04790\n",
      "L_T  training loss=0.00000\n",
      "rounding  training loss=0.00211\n",
      "step: 1300\n",
      "mse  training loss=0.04777\n",
      "L_T  training loss=0.00000\n",
      "rounding  training loss=0.00212\n"
     ]
    },
    {
     "data": {
      "application/vnd.jupyter.widget-view+json": {
       "model_id": "00c8722284fc44ff96572a08af4ad290",
       "version_major": 2,
       "version_minor": 0
      },
      "text/plain": [
       "  0%|          | 0/154 [00:00<?, ?it/s]"
      ]
     },
     "metadata": {},
     "output_type": "display_data"
    },
    {
     "name": "stdout",
     "output_type": "stream",
     "text": [
      "eval loss=0.04907\n",
      "epoch: 49\n",
      "step: 100\n",
      "mse  training loss=0.04748\n",
      "L_T  training loss=0.00000\n",
      "rounding  training loss=0.00212\n",
      "step: 200\n",
      "mse  training loss=0.04837\n",
      "L_T  training loss=0.00000\n",
      "rounding  training loss=0.00213\n",
      "step: 300\n",
      "mse  training loss=0.04729\n",
      "L_T  training loss=0.00000\n",
      "rounding  training loss=0.00211\n",
      "step: 400\n",
      "mse  training loss=0.04769\n",
      "L_T  training loss=0.00000\n",
      "rounding  training loss=0.00212\n",
      "step: 500\n",
      "mse  training loss=0.04777\n",
      "L_T  training loss=0.00000\n",
      "rounding  training loss=0.00211\n",
      "step: 600\n",
      "mse  training loss=0.04822\n",
      "L_T  training loss=0.00000\n",
      "rounding  training loss=0.00212\n",
      "step: 700\n",
      "mse  training loss=0.04746\n",
      "L_T  training loss=0.00000\n",
      "rounding  training loss=0.00212\n",
      "step: 800\n",
      "mse  training loss=0.04771\n",
      "L_T  training loss=0.00000\n",
      "rounding  training loss=0.00212\n",
      "step: 900\n",
      "mse  training loss=0.04696\n",
      "L_T  training loss=0.00000\n",
      "rounding  training loss=0.00211\n",
      "step: 1000\n",
      "mse  training loss=0.04754\n",
      "L_T  training loss=0.00000\n",
      "rounding  training loss=0.00211\n",
      "step: 1100\n",
      "mse  training loss=0.04780\n",
      "L_T  training loss=0.00000\n",
      "rounding  training loss=0.00211\n",
      "step: 1200\n",
      "mse  training loss=0.04743\n",
      "L_T  training loss=0.00000\n",
      "rounding  training loss=0.00211\n",
      "step: 1300\n",
      "mse  training loss=0.04714\n",
      "L_T  training loss=0.00000\n",
      "rounding  training loss=0.00211\n"
     ]
    },
    {
     "data": {
      "application/vnd.jupyter.widget-view+json": {
       "model_id": "6b4a2512ba3a4cb29e32711bba4b1dbc",
       "version_major": 2,
       "version_minor": 0
      },
      "text/plain": [
       "  0%|          | 0/154 [00:00<?, ?it/s]"
      ]
     },
     "metadata": {},
     "output_type": "display_data"
    },
    {
     "name": "stdout",
     "output_type": "stream",
     "text": [
      "eval loss=0.04872\n",
      "epoch: 50\n",
      "step: 100\n",
      "mse  training loss=0.04747\n",
      "L_T  training loss=0.00000\n",
      "rounding  training loss=0.00212\n",
      "step: 200\n",
      "mse  training loss=0.04773\n",
      "L_T  training loss=0.00000\n",
      "rounding  training loss=0.00211\n",
      "step: 300\n",
      "mse  training loss=0.04776\n",
      "L_T  training loss=0.00000\n",
      "rounding  training loss=0.00211\n",
      "step: 400\n",
      "mse  training loss=0.04782\n",
      "L_T  training loss=0.00000\n",
      "rounding  training loss=0.00211\n",
      "step: 500\n",
      "mse  training loss=0.04777\n",
      "L_T  training loss=0.00000\n",
      "rounding  training loss=0.00211\n",
      "step: 600\n",
      "mse  training loss=0.04797\n",
      "L_T  training loss=0.00000\n",
      "rounding  training loss=0.00212\n",
      "step: 700\n",
      "mse  training loss=0.04741\n",
      "L_T  training loss=0.00000\n",
      "rounding  training loss=0.00212\n",
      "step: 800\n",
      "mse  training loss=0.04776\n",
      "L_T  training loss=0.00000\n",
      "rounding  training loss=0.00211\n",
      "step: 900\n",
      "mse  training loss=0.04733\n",
      "L_T  training loss=0.00000\n",
      "rounding  training loss=0.00211\n",
      "step: 1000\n",
      "mse  training loss=0.04728\n",
      "L_T  training loss=0.00000\n",
      "rounding  training loss=0.00210\n",
      "step: 1100\n",
      "mse  training loss=0.04788\n",
      "L_T  training loss=0.00000\n",
      "rounding  training loss=0.00212\n",
      "step: 1200\n",
      "mse  training loss=0.04734\n",
      "L_T  training loss=0.00000\n",
      "rounding  training loss=0.00212\n",
      "step: 1300\n",
      "mse  training loss=0.04804\n",
      "L_T  training loss=0.00000\n",
      "rounding  training loss=0.00211\n"
     ]
    },
    {
     "data": {
      "application/vnd.jupyter.widget-view+json": {
       "model_id": "49fd1e95187f43e2960dc6496e75a2b5",
       "version_major": 2,
       "version_minor": 0
      },
      "text/plain": [
       "  0%|          | 0/154 [00:00<?, ?it/s]"
      ]
     },
     "metadata": {},
     "output_type": "display_data"
    },
    {
     "name": "stdout",
     "output_type": "stream",
     "text": [
      "eval loss=0.04901\n"
     ]
    }
   ],
   "source": [
    "loss_terms_dict_lst = []\n",
    "progress_bar = tqdm(range(num_epoch*len(train_dataloader)))\n",
    "\n",
    "for epoch in range(num_epoch):\n",
    "    print(\"epoch:\",epoch+1)\n",
    "    loss_terms_dict_lst.append(train(diffusion_model=diffusion_model, dataloader=train_dataloader, optimizer=optimizer, scheduler=scheduler ,progress_bar=progress_bar ,verbose=True))\n",
    "    evaluate(diffusion_model=diffusion_model, dataloader=eval_dataloader,)"
   ]
  },
  {
   "cell_type": "code",
   "execution_count": 19,
   "metadata": {
    "pycharm": {
     "name": "#%%\n"
    }
   },
   "outputs": [],
   "source": [
    "torch.save(diffusion_model.state_dict(), \"checkpoints/epoch50_unshared_dim24.pth\")"
   ]
  },
  {
   "cell_type": "code",
   "execution_count": 9,
   "metadata": {
    "pycharm": {
     "name": "#%%\n"
    }
   },
   "outputs": [],
   "source": [
    "loss_terms_dict = {'mse':[], 'L_T':[], 'rounding':[]}\n",
    "for key in loss_terms_dict_lst[0].keys():\n",
    "    for ep in range(num_epoch):\n",
    "        loss_terms_dict[key] += loss_terms_dict_lst[ep][key]"
   ]
  },
  {
   "cell_type": "code",
   "execution_count": 10,
   "metadata": {
    "pycharm": {
     "name": "#%%\n"
    }
   },
   "outputs": [
    {
     "data": {
      "image/png": "[encoded data removed]",
      "text/plain": [
       "<Figure size 432x288 with 1 Axes>"
      ]
     },
     "metadata": {
      "needs_background": "light"
     },
     "output_type": "display_data"
    }
   ],
   "source": [
    "plt.plot(loss_terms_dict['mse'], label='mse')\n",
    "plt.plot(loss_terms_dict['rounding'], label='rounding')\n",
    "plt.legend()\n",
    "plt.yscale('log')"
   ]
  },
  {
   "cell_type": "code",
   "execution_count": 7,
   "metadata": {
    "pycharm": {
     "name": "#%%\n"
    }
   },
   "outputs": [
    {
     "data": {
      "text/plain": [
       "<All keys matched successfully>"
      ]
     },
     "execution_count": 7,
     "metadata": {},
     "output_type": "execute_result"
    }
   ],
   "source": [
    "diffusion_model.load_state_dict(torch.load(\"checkpoints/roc_unshared_dim128.pth\"))"
   ]
  },
  {
   "cell_type": "code",
   "execution_count": 11,
   "metadata": {
    "pycharm": {
     "name": "#%%\n"
    }
   },
   "outputs": [],
   "source": [
    "x_T = torch.randn(size=(batch_size, max_len, word_embedding_dim))"
   ]
  },
  {
   "cell_type": "code",
   "execution_count": 12,
   "metadata": {
    "pycharm": {
     "name": "#%%\n"
    }
   },
   "outputs": [
    {
     "data": {
      "application/vnd.jupyter.widget-view+json": {
       "model_id": "dc0132cfd7044a789dcb5bb455640af2",
       "version_major": 2,
       "version_minor": 0
      },
      "text/plain": [
       "  0%|          | 0/2000 [00:00<?, ?it/s]"
      ]
     },
     "metadata": {},
     "output_type": "display_data"
    }
   ],
   "source": [
    "logits, hidden_states = diffusion_model.sample(x_T.to(device), return_hidden_states=True, verbose=True)"
   ]
  },
  {
   "cell_type": "code",
   "execution_count": 19,
   "metadata": {
    "pycharm": {
     "name": "#%%\n"
    },
    "scrolled": true
   },
   "outputs": [
    {
     "name": "stdout",
     "output_type": "stream",
     "text": [
      "step: 0\n",
      "exchanging Kacie eyebrow [START] rec Darius Emil ) Cher Lamar blimp blimp Darren irate hikers unicorn Cammie docks hummingbird Emil Celine Becka PhD Cherry outer reveal blaring ipod legos Seamus Remi mexico slimy Addison demonstrated Chet sucker RN ATV housekeeper tick Cass Buttons visitor Celine Micah infestation hack females Pierre despised Woody Too thorough Ellis Reuben wives reference manufacturing Mika cornbread geese artistic Playstation midway Jemma vendors curl bay goats jogger Duncan\n",
      "step: 1000\n",
      "[START] Cancun Mika girly kayaks Yvonne Su renowned Cliff squirmed igloo Oswald she bladder ref Grady Velma convert Myra Loki while Floyd Tessa connections Giants the Cedric margaritas flinched quieter goose bats Brownie enlisted Veronica Luther Silas Gertrude once patron Tinder Young thump Vick was Lanie Jocelyn [END] [PAD] [PAD] [PAD] [PAD] [PAD] [PAD] [PAD] [PAD] [PAD] [PAD] [PAD] [PAD] [PAD] [PAD] [PAD] [PAD] [PAD] [PAD] [PAD] [PAD] [PAD] [PAD] [PAD] [PAD]\n",
      "step: 1500\n",
      "[START] cords dead to go Remi Su wheeled Nana Ashton mints identification she was broken around the Delilah the Reese . Dante had starfish Maxwell the cigar . pointers Marines breastfeed toad Mika great widow seas infestation Luckily , Science because could Kip seagulls the Tricia . [END] [PAD] [PAD] [PAD] [PAD] [PAD] [PAD] [PAD] [PAD] [PAD] [PAD] [PAD] [PAD] [PAD] [PAD] [PAD] [PAD] [PAD] [PAD] [PAD] [PAD] [PAD] [PAD] [PAD] [PAD]\n",
      "step: 1800\n",
      "[START] cords wanted to go on a Eloise Jelly for . But she was broken around out on the rain . She had starfish before the pamphlet . She found indigestion at the hard of vacation . Luckily , the Zimmy she sent light the down . [END] [PAD] [PAD] [PAD] [PAD] [PAD] [PAD] [PAD] [PAD] [PAD] [PAD] [PAD] [PAD] [PAD] [PAD] [PAD] [PAD] [PAD] [PAD] [PAD] [PAD] [PAD] [PAD] [PAD] [PAD]\n",
      "step: 1900\n",
      "[START] ached wanted to go on a Jemma Patti for . But she was broken around out on the rain . She had never before the plane . She found yelled at the best of vacation . Luckily , the horse she sent light the game . [END] [PAD] [PAD] [PAD] [PAD] [PAD] [PAD] [PAD] [PAD] [PAD] [PAD] [PAD] [PAD] [PAD] [PAD] [PAD] [PAD] [PAD] [PAD] [PAD] [PAD] [PAD] [PAD] [PAD] [PAD]\n",
      "step: 1950\n",
      "[START] Jenny wanted to go on a flowers Patti blue . But she was broken around out on the rain . She had never before the plane . She found yelled at the best of vacation . Luckily , the horse she sent love the game . [END] [PAD] [PAD] [PAD] [PAD] [PAD] [PAD] [PAD] [PAD] [PAD] [PAD] [PAD] [PAD] [PAD] [PAD] [PAD] [PAD] [PAD] [PAD] [PAD] [PAD] [PAD] [PAD] [PAD] [PAD]\n",
      "step: 1990\n",
      "[START] Jenny wanted to go on a feet Nicholas minivan . But she was broken around out on the rain . She had never before the plane . She found yelled at the best of vacation . Luckily , the horse she sent love the game . [END] [PAD] [PAD] [PAD] [PAD] [PAD] [PAD] [PAD] [PAD] [PAD] [PAD] [PAD] [PAD] [PAD] [PAD] [PAD] [PAD] [PAD] [PAD] [PAD] [PAD] [PAD] [PAD] [PAD] [PAD]\n",
      "step: 1995\n",
      "[START] Jenny wanted to go on a feet Nicholas bedroom . But she was broken around out on the rain . She had never before the desk . She found yelled at the best of vacation . Luckily , the horse she sent love the game . [END] [PAD] [PAD] [PAD] [PAD] [PAD] [PAD] [PAD] [PAD] [PAD] [PAD] [PAD] [PAD] [PAD] [PAD] [PAD] [PAD] [PAD] [PAD] [PAD] [PAD] [PAD] [PAD] [PAD] [PAD]\n",
      "step: 1998\n",
      "[START] Jenny wanted to go on a feet Nicholas bedroom . But she was broken around out on the rain . She had never before the desk . She found yelled at the best of vacation . Luckily , the horse she sent love the game . [END] [PAD] [PAD] [PAD] [PAD] [PAD] [PAD] [PAD] [PAD] [PAD] [PAD] [PAD] [PAD] [PAD] [PAD] [PAD] [PAD] [PAD] [PAD] [PAD] [PAD] [PAD] [PAD] [PAD] [PAD]\n",
      "step: 1999\n",
      "[START] Jenny wanted to go on a feet of place . But she was broken around out on the rain . She had never before the desk . She found yelled at the best of vacation . Luckily , the horse she sent love the game . [END] [PAD] [PAD] [PAD] [PAD] [PAD] [PAD] [PAD] [PAD] [PAD] [PAD] [PAD] [PAD] [PAD] [PAD] [PAD] [PAD] [PAD] [PAD] [PAD] [PAD] [PAD] [PAD] [PAD] [PAD]\n"
     ]
    }
   ],
   "source": [
    "sample_idx = 62\n",
    "for step in [0,1000,1500,1800,1900,1950,1990,1995,1998,1999]:\n",
    "    hidden_state = hidden_states[step][sample_idx]\n",
    "    with torch.no_grad():\n",
    "        hidden_logits = diffusion_model.lm_head(hidden_state)\n",
    "        sampled_ids = torch.argmax(hidden_logits,dim=-1).cpu()\n",
    "        sampled_seq = [rev_tokenizer[token_id.item()] for token_id in sampled_ids]\n",
    "        print(\"step:\", step)\n",
    "        print(\" \".join(sampled_seq))"
   ]
  },
  {
   "cell_type": "code",
   "execution_count": 15,
   "metadata": {
    "pycharm": {
     "name": "#%%\n"
    }
   },
   "outputs": [
    {
     "name": "stdout",
     "output_type": "stream",
     "text": [
      "sample_idx: 0\n",
      "[START] Jason 's his father was day . He called his friends brother inside to see a bit . Jason was a lot day at the shirt . a lot of appointment and they cleaned the whole store . Jason walked all the baby of same proud of their cream . [END] [PAD] [PAD] [PAD] [PAD] [PAD] [PAD] [PAD] [PAD] [PAD] [PAD] [PAD] [PAD] [PAD] [PAD] [PAD] [PAD] [PAD] [PAD] [PAD] [PAD]\n",
      "sample_idx: 1\n",
      "[START] The falling driver took him to the street . Suddenly , Ted was a mom while apologized the band was with them . She wanted to do some careful and fell on . Ted 's wife was taking [UNK] to the arm thermos . Ted almost were the rest of burned again was out the song . [END] [PAD] [PAD] [PAD] [PAD] [PAD] [PAD] [PAD] [PAD] [PAD] [PAD] [PAD] [PAD] [PAD]\n",
      "sample_idx: 2\n",
      "[START] Kia was working married . She found out in T . She forgot eating early and started to get better . She felt on her back and started walking to dance that . Kia went out a not alarm [UNK] blimp . [END] [PAD] [PAD] [PAD] [PAD] [PAD] [PAD] [PAD] [PAD] [PAD] [PAD] [PAD] [PAD] [PAD] [PAD] [PAD] [PAD] [PAD] [PAD] [PAD] [PAD] [PAD] [PAD] [PAD] [PAD] [PAD] [PAD] [PAD] [PAD]\n",
      "sample_idx: 3\n",
      "[START] Jimmy liked to eat yard of later . He stayed there , It was often . One day , there was the time which spent water . The ambitious my . Jimmy started and felt n't taken . [END] [PAD] [PAD] [PAD] [PAD] [PAD] [PAD] [PAD] [PAD] [PAD] [PAD] [PAD] [PAD] [PAD] [PAD] [PAD] [PAD] [PAD] [PAD] [PAD] [PAD] [PAD] [PAD] [PAD] [PAD] [PAD] [PAD] [PAD] [PAD] [PAD] [PAD] [PAD] [PAD]\n",
      "sample_idx: 4\n",
      "[START] Tom wanted to go to school . He came to his car woods a one night . He made how that found a song he snacked the first . They tried to eat go on eating week . After few time he was bored up let him nothing . [END] [PAD] [PAD] [PAD] [PAD] [PAD] [PAD] [PAD] [PAD] [PAD] [PAD] [PAD] [PAD] [PAD] [PAD] [PAD] [PAD] [PAD] [PAD] [PAD] [PAD] [PAD]\n",
      "sample_idx: 5\n",
      "[START] Randy wanted to build mom . No he had to go a long time for the police . The car got into a friend had to tell baseball . The screen finally , he was him away . Finally , the owner had been everything again . [END] [PAD] [PAD] [PAD] [PAD] [PAD] [PAD] [PAD] [PAD] [PAD] [PAD] [PAD] [PAD] [PAD] [PAD] [PAD] [PAD] [PAD] [PAD] [PAD] [PAD] [PAD] [PAD] [PAD]\n",
      "sample_idx: 6\n",
      "[START] Emily was promised trying to the kids side after fit . The sale was a HE , but to wait they had margaritas and down . When she was there , she wanted , for cooking . Emily annoying [UNK] to after to walk . But about the bag of a [UNK] of real ! [END] [PAD] [PAD] [PAD] [PAD] [PAD] [PAD] [PAD] [PAD] [PAD] [PAD] [PAD] [PAD] [PAD] [PAD] [PAD]\n",
      "sample_idx: 7\n",
      "[START] Bob took a color [UNK] on his car . There were always he screamed on the [UNK] cracker [UNK] . Bob [UNK] Michael and thought his neighborhood did n't have the Zachary [UNK] . Everyone talked by [UNK] the cat he tried to fix . A [UNK] away four such , he was to for [UNK] , nearby it Bob . [END] [PAD] [PAD] [PAD] [PAD] [PAD] [PAD] [PAD] [PAD] [PAD]\n",
      "sample_idx: 8\n",
      "[START] Emma sister was girl band with her friends . Her birthday went out and got the office . All the and , she had into her restaurant from her neighbor . Then she would be visiting . The she was not able much to save and late every night . [END] [PAD] [PAD] [PAD] [PAD] [PAD] [PAD] [PAD] [PAD] [PAD] [PAD] [PAD] [PAD] [PAD] [PAD] [PAD] [PAD] [PAD] [PAD] [PAD] [PAD]\n",
      "sample_idx: 9\n",
      "[START] Tommy did n't like driver [UNK] . All a contest , and kept cleaning on the [UNK] . It grabbed another perfectly and forgot to something for swimming . Tommy walked into the store and bought his very [UNK] . Tommy bought many interview , and ran bought food . [END] [PAD] [PAD] [PAD] [PAD] [PAD] [PAD] [PAD] [PAD] [PAD] [PAD] [PAD] [PAD] [PAD] [PAD] [PAD] [PAD] [PAD] [PAD] [PAD] [PAD]\n",
      "sample_idx: 10\n",
      "[START] I heard a church , but I had a the . The something hard of first money just asked me . I realized it was not to work for my child with ten . I was weird for a job . I decided to never Cedric a favorite ride . [END] [PAD] [PAD] [PAD] [PAD] [PAD] [PAD] [PAD] [PAD] [PAD] [PAD] [PAD] [PAD] [PAD] [PAD] [PAD] [PAD] [PAD] [PAD] [PAD] [PAD]\n",
      "sample_idx: 11\n",
      "[START] The computer was about out in the child . There were about a the mad in the Walker full . One year he saw a high [UNK] - , and complained the computer of ! She landed the breakfast about long up and [UNK] the Diet . out of the [UNK] , but They had a lot of them ! [END] [PAD] [PAD] [PAD] [PAD] [PAD] [PAD] [PAD] [PAD] [PAD] [PAD]\n",
      "sample_idx: 12\n",
      "[START] My family went in school . I saw on games it . I did not against the show the paint . My friend takes the owner . They spent two Samuel fun away . [END] [PAD] [PAD] [PAD] [PAD] [PAD] [PAD] [PAD] [PAD] [PAD] [PAD] [PAD] [PAD] [PAD] [PAD] [PAD] [PAD] [PAD] [PAD] [PAD] [PAD] [PAD] [PAD] [PAD] [PAD] [PAD] [PAD] [PAD] [PAD] [PAD] [PAD] [PAD] [PAD] [PAD] [PAD] [PAD] [PAD]\n",
      "sample_idx: 13\n",
      "[START] The kids is a homework restaurant . The dad has . The town down to become . The kids he went to leave the man . They flew out with his ocean . [END] [PAD] [PAD] [PAD] [PAD] [PAD] [PAD] [PAD] [PAD] [PAD] [PAD] [PAD] [PAD] [PAD] [PAD] [PAD] [PAD] [PAD] [PAD] [PAD] [PAD] [PAD] [PAD] [PAD] [PAD] [PAD] [PAD] [PAD] [PAD] [PAD] [PAD] [PAD] [PAD] [PAD] [PAD] [PAD] [PAD] [PAD]\n",
      "sample_idx: 14\n",
      "[START] Tina was about to see her garden . She was an body 's he in her leg . At the stand filled on small phone Cornelius . Tina did not keep . Jan broke climbed at the have the stand into the math park . [END] [PAD] [PAD] [PAD] [PAD] [PAD] [PAD] [PAD] [PAD] [PAD] [PAD] [PAD] [PAD] [PAD] [PAD] [PAD] [PAD] [PAD] [PAD] [PAD] [PAD] [PAD] [PAD] [PAD] [PAD] [PAD]\n",
      "sample_idx: 15\n",
      "[START] Stan was an paint . The restaurant on the Batman backyard . He immediately . They became Tiara at an hour dinner . It was very ten and looked in the last house . [END] [PAD] [PAD] [PAD] [PAD] [PAD] [PAD] [PAD] [PAD] [PAD] [PAD] [PAD] [PAD] [PAD] [PAD] [PAD] [PAD] [PAD] [PAD] [PAD] [PAD] [PAD] [PAD] [PAD] [PAD] [PAD] [PAD] [PAD] [PAD] [PAD] [PAD] [PAD] [PAD] [PAD] [PAD] [PAD] [PAD]\n",
      "sample_idx: 16\n",
      "[START] Ken was Maxwell out of the his field who helped drinking to find help . A Lionel bear extra of a money to lose . He visited a new music and is . He told the Kristy that he had a to find the second off himself . Ken did n't wait so home , he would inside it in an old Patti . [END] [PAD] [PAD] [PAD] [PAD] [PAD] [PAD]\n",
      "sample_idx: 17\n",
      "[START] Jemma never trying to take his kitchen . But she is a well with get any of only . He told his crush Eden . No hours , a trees saw to take on it . He won his cold summer . [END] [PAD] [PAD] [PAD] [PAD] [PAD] [PAD] [PAD] [PAD] [PAD] [PAD] [PAD] [PAD] [PAD] [PAD] [PAD] [PAD] [PAD] [PAD] [PAD] [PAD] [PAD] [PAD] [PAD] [PAD] [PAD] [PAD] [PAD] [PAD]\n",
      "sample_idx: 18\n",
      "[START] Jen decided she did not do proud for out of a week . She took the store and could n't find a chair . She needed to the store he had just quite a lot of clothes . The bedroom was rushed when she sold her her the clothes . She was sent that the bat to play , they offered the bread . [END] [PAD] [PAD] [PAD] [PAD] [PAD] [PAD]\n",
      "sample_idx: 19\n",
      "[START] Sarah loved to save Kirby on her driver . She had a three months cooking early and school . Unfortunately , every day she got a fit in the yard house . Her mom was making out of the same for Laurence . Her boss was everything to give [UNK] her . [END] [PAD] [PAD] [PAD] [PAD] [PAD] [PAD] [PAD] [PAD] [PAD] [PAD] [PAD] [PAD] [PAD] [PAD] [PAD] [PAD] [PAD] [PAD]\n",
      "sample_idx: 20\n",
      "[START] Amy was Ellis when she had a Javier as the girl visited . Amy was a date to the beach . Javier 's kids were giving on covered . When she got a tooth her class 's friends . Amy tried when so she knew the dark on she car up . [END] [PAD] [PAD] [PAD] [PAD] [PAD] [PAD] [PAD] [PAD] [PAD] [PAD] [PAD] [PAD] [PAD] [PAD] [PAD] [PAD] [PAD] [PAD]\n",
      "sample_idx: 21\n",
      "[START] A [UNK] moving to the man . He planned why the garage of his parents realized it did n't stay . When he was pleased , the manager had been ended riding ! So , he decided to be a bad time well . A grabbed owner accepted his very quiet of his girlfriend . [END] [PAD] [PAD] [PAD] [PAD] [PAD] [PAD] [PAD] [PAD] [PAD] [PAD] [PAD] [PAD] [PAD] [PAD] [PAD]\n",
      "sample_idx: 22\n",
      "[START] [UNK] wanted a baby she has a test sandwich . The country was trying to it was flowers to everyone planned money . He has the car and studied [UNK] at the classes . Now many time , visited for the [UNK] . But she searched that she [UNK] 's even turned on the mess . [END] [PAD] [PAD] [PAD] [PAD] [PAD] [PAD] [PAD] [PAD] [PAD] [PAD] [PAD] [PAD] [PAD] [PAD]\n",
      "sample_idx: 23\n",
      "[START] Ben loved to around in town . He was very excited . At his friend olives came on it and bought the class . On college night , Ben snacked never liked off . Ben could n't need a day . [END] [PAD] [PAD] [PAD] [PAD] [PAD] [PAD] [PAD] [PAD] [PAD] [PAD] [PAD] [PAD] [PAD] [PAD] [PAD] [PAD] [PAD] [PAD] [PAD] [PAD] [PAD] [PAD] [PAD] [PAD] [PAD] [PAD] [PAD] [PAD] [PAD]\n",
      "sample_idx: 24\n",
      "[START] I went to take fishing my year last family . I went to my dad with her family . My friend was [UNK] . When I took out to play the to play in my Costa . I decided to take a will music was together now . [END] [PAD] [PAD] [PAD] [PAD] [PAD] [PAD] [PAD] [PAD] [PAD] [PAD] [PAD] [PAD] [PAD] [PAD] [PAD] [PAD] [PAD] [PAD] [PAD] [PAD] [PAD] [PAD]\n",
      "sample_idx: 25\n",
      "[START] Kyle was at a school . He started the [UNK] weather , but he loved it up . They had a now are [UNK] homecoming . He felt boat . However they had made him that the driver for him . [END] [PAD] [PAD] [PAD] [PAD] [PAD] [PAD] [PAD] [PAD] [PAD] [PAD] [PAD] [PAD] [PAD] [PAD] [PAD] [PAD] [PAD] [PAD] [PAD] [PAD] [PAD] [PAD] [PAD] [PAD] [PAD] [PAD] [PAD] [PAD] [PAD]\n",
      "sample_idx: 26\n",
      "[START] Michael had his sold came in the spider garden . They summer stopped when the first looked like . It was so mad that he had to save him . So very his friends in and did not wrong street spared . Everything was really [UNK] next better he felt sick . [END] [PAD] [PAD] [PAD] [PAD] [PAD] [PAD] [PAD] [PAD] [PAD] [PAD] [PAD] [PAD] [PAD] [PAD] [PAD] [PAD] [PAD] [PAD]\n",
      "sample_idx: 27\n",
      "[START] Julie was in of a chair , driving . Her boyfriend its Desi on the kids from three one expensive with her [UNK] . She found out of eat the bus , but wanted to make them . In the trees n't find anymore she realized , they had to start it . Her side saw this sign had they could n't her slice . [END] [PAD] [PAD] [PAD] [PAD] [PAD]\n",
      "sample_idx: 28\n",
      "[START] I went to stay getting law . He noticed a book just early a shirt extremely . He dropped up and Ricardo that up . They started to break his . He then felt perfect . [END] [PAD] [PAD] [PAD] [PAD] [PAD] [PAD] [PAD] [PAD] [PAD] [PAD] [PAD] [PAD] [PAD] [PAD] [PAD] [PAD] [PAD] [PAD] [PAD] [PAD] [PAD] [PAD] [PAD] [PAD] [PAD] [PAD] [PAD] [PAD] [PAD] [PAD] [PAD] [PAD] [PAD] [PAD]\n",
      "sample_idx: 29\n",
      "[START] Eric had been asleep from the state one night searched . He had too hard to the flowers some . When several break , Eric finally decided to move flowers . To his farm of they all the police and kept second the time sand . He decided to buy all the store . [END] [PAD] [PAD] [PAD] [PAD] [PAD] [PAD] [PAD] [PAD] [PAD] [PAD] [PAD] [PAD] [PAD] [PAD] [PAD] [PAD]\n",
      "sample_idx: 30\n",
      "[START] Jenny 's favorite dog with her mother in front with a horse . All of the Brenna home opened the city . Jenny and began looking for a birthday to look at her family . They found the of boys of a everything game . Thankfully she had found out the store left without the family life . [END] [PAD] [PAD] [PAD] [PAD] [PAD] [PAD] [PAD] [PAD] [PAD] [PAD] [PAD] [PAD]\n",
      "sample_idx: 31\n",
      "[START] Sam brought her to the library to computer parents . His food one were disappointed . They were had to competition . Sam had been friends too cold for problem . They forgot her and were him . [END] [PAD] [PAD] [PAD] [PAD] [PAD] [PAD] [PAD] [PAD] [PAD] [PAD] [PAD] [PAD] [PAD] [PAD] [PAD] [PAD] [PAD] [PAD] [PAD] [PAD] [PAD] [PAD] [PAD] [PAD] [PAD] [PAD] [PAD] [PAD] [PAD] [PAD] [PAD] [PAD]\n",
      "sample_idx: 32\n",
      "[START] Harry went to be taking job and but did not have a breakfast . Her dad was there on several office . Lita of the trip Harry out two a Rupert , who got a well . Harry saw the barefoot at all and dad decided much vacation . They got disappointed very and cried it and know soda every dead . [END] [PAD] [PAD] [PAD] [PAD] [PAD] [PAD] [PAD] [PAD]\n",
      "sample_idx: 33\n",
      "[START] [UNK] was really go to join . One day she decided it was the day fell . Suddenly , they opened the train . [UNK] decided to try hurt . She did decide in the end of coach . [END] [PAD] [PAD] [PAD] [PAD] [PAD] [PAD] [PAD] [PAD] [PAD] [PAD] [PAD] [PAD] [PAD] [PAD] [PAD] [PAD] [PAD] [PAD] [PAD] [PAD] [PAD] [PAD] [PAD] [PAD] [PAD] [PAD] [PAD] [PAD] [PAD] [PAD] [PAD]\n",
      "sample_idx: 34\n",
      "[START] Eric had a country . Then , he had to just lunch in class . He had forgot into a one ! He had to n't out he lived . She [UNK] to plan and missed up in his Hester at the seat ! [END] [PAD] [PAD] [PAD] [PAD] [PAD] [PAD] [PAD] [PAD] [PAD] [PAD] [PAD] [PAD] [PAD] [PAD] [PAD] [PAD] [PAD] [PAD] [PAD] [PAD] [PAD] [PAD] [PAD] [PAD] [PAD] [PAD]\n",
      "sample_idx: 35\n",
      "[START] Jake could n't wait to cook an library team . They had took a job feeling contest table to only . He joined the town trying to go better . He was really $ high and was visited because of the job . Jake hired up and Lorrie disappointed and had a team in . [END] [PAD] [PAD] [PAD] [PAD] [PAD] [PAD] [PAD] [PAD] [PAD] [PAD] [PAD] [PAD] [PAD] [PAD] [PAD]\n",
      "sample_idx: 36\n",
      "[START] Robert was bored 's family to cords at the show first date . The city brought a noise day of contest . On the driver he felt that can go a start for the gym . Robert flew for his [UNK] at the whole ones . It refused to get home he pay with the happy hours . [END] [PAD] [PAD] [PAD] [PAD] [PAD] [PAD] [PAD] [PAD] [PAD] [PAD] [PAD] [PAD]\n",
      "sample_idx: 37\n",
      "[START] There , it was driving in local wedding . He said on the ocean in a fish 's way . She knew each other path did n't have n't nearby her . The date remembered and fell down the water . She ran away back to the ground . [END] [PAD] [PAD] [PAD] [PAD] [PAD] [PAD] [PAD] [PAD] [PAD] [PAD] [PAD] [PAD] [PAD] [PAD] [PAD] [PAD] [PAD] [PAD] [PAD] [PAD] [PAD]\n",
      "sample_idx: 38\n",
      "[START] [UNK] was home from the kid . It was a run with her rock to friend . She called them a along turn Lane on the spot side . He was Baylee out to the police . Soon , [UNK] was back out over to stay a week . [END] [PAD] [PAD] [PAD] [PAD] [PAD] [PAD] [PAD] [PAD] [PAD] [PAD] [PAD] [PAD] [PAD] [PAD] [PAD] [PAD] [PAD] [PAD] [PAD] [PAD] [PAD]\n",
      "sample_idx: 39\n",
      "[START] Samantha had enjoyed her friends of this night . They tasted loved being things instead of quite shoes . One day she was able to throw the shoes . One day , she had to sit animal on a hours . The test does not buy fun eyes again . [END] [PAD] [PAD] [PAD] [PAD] [PAD] [PAD] [PAD] [PAD] [PAD] [PAD] [PAD] [PAD] [PAD] [PAD] [PAD] [PAD] [PAD] [PAD] [PAD] [PAD]\n",
      "sample_idx: 40\n",
      "[START] Randy watched some Annika the ash . He bought up a little and grade got ate them . He leaving trail at it ! The friends told them as that he 'd took it . Everyone left when he left home . [END] [PAD] [PAD] [PAD] [PAD] [PAD] [PAD] [PAD] [PAD] [PAD] [PAD] [PAD] [PAD] [PAD] [PAD] [PAD] [PAD] [PAD] [PAD] [PAD] [PAD] [PAD] [PAD] [PAD] [PAD] [PAD] [PAD] [PAD] [PAD]\n",
      "sample_idx: 41\n",
      "[START] Jason played soccer for drink . His baby wanted to return it . Jason opened it . Everyone really all some ten from it loud too . Jason started using a red and proud she loved it what to work . [END] [PAD] [PAD] [PAD] [PAD] [PAD] [PAD] [PAD] [PAD] [PAD] [PAD] [PAD] [PAD] [PAD] [PAD] [PAD] [PAD] [PAD] [PAD] [PAD] [PAD] [PAD] [PAD] [PAD] [PAD] [PAD] [PAD] [PAD] [PAD] [PAD]\n",
      "sample_idx: 42\n",
      "[START] Theo 's mom was a [UNK] class . She had an taking second to the [UNK] . One day she cleaned , she had saved the doctor near her . Soon She then day she called the walk . Theo 's mom was able to start on . [END] [PAD] [PAD] [PAD] [PAD] [PAD] [PAD] [PAD] [PAD] [PAD] [PAD] [PAD] [PAD] [PAD] [PAD] [PAD] [PAD] [PAD] [PAD] [PAD] [PAD] [PAD] [PAD]\n",
      "sample_idx: 43\n",
      "[START] Sam wanted a sign for the video before . The horse went home to get . Sam would really his favorite other who was thrilled . Sam was a very [UNK] . His few found player their dad went home . [END] [PAD] [PAD] [PAD] [PAD] [PAD] [PAD] [PAD] [PAD] [PAD] [PAD] [PAD] [PAD] [PAD] [PAD] [PAD] [PAD] [PAD] [PAD] [PAD] [PAD] [PAD] [PAD] [PAD] [PAD] [PAD] [PAD] [PAD] [PAD] [PAD]\n",
      "sample_idx: 44\n",
      "[START] I needed a job in a shirt . I got home of the [UNK] . Before , a - hive a machine to have a water . The recliner down it was in keeper . [UNK] the water was in that water . [END] [PAD] [PAD] [PAD] [PAD] [PAD] [PAD] [PAD] [PAD] [PAD] [PAD] [PAD] [PAD] [PAD] [PAD] [PAD] [PAD] [PAD] [PAD] [PAD] [PAD] [PAD] [PAD] [PAD] [PAD] [PAD] [PAD] [PAD]\n",
      "sample_idx: 45\n",
      "[START] I went on the house to do . I took like it to put . It took it bread to the table with . I dropped the ground . When it was back students I could not find that it . [END] [PAD] [PAD] [PAD] [PAD] [PAD] [PAD] [PAD] [PAD] [PAD] [PAD] [PAD] [PAD] [PAD] [PAD] [PAD] [PAD] [PAD] [PAD] [PAD] [PAD] [PAD] [PAD] [PAD] [PAD] [PAD] [PAD] [PAD] [PAD] [PAD]\n",
      "sample_idx: 46\n",
      "[START] Sue was waiting outside her apartment with her new boat . But at the kitchen . When she got home the floor got to the music Ko of fine the number . She 's , she found gas crazy five free . Her teacher said And be invited her that it was better . [END] [PAD] [PAD] [PAD] [PAD] [PAD] [PAD] [PAD] [PAD] [PAD] [PAD] [PAD] [PAD] [PAD] [PAD] [PAD] [PAD]\n",
      "sample_idx: 47\n",
      "[START] Tim wanted to cook [UNK] . He was [UNK] the street and bought them start on a mosh . Once , he apologized out all the end they bat , riding . Tim fell out ball and after were grabbed vowed . They out he took it the ball . [END] [PAD] [PAD] [PAD] [PAD] [PAD] [PAD] [PAD] [PAD] [PAD] [PAD] [PAD] [PAD] [PAD] [PAD] [PAD] [PAD] [PAD] [PAD] [PAD] [PAD]\n",
      "sample_idx: 48\n",
      "[START] After my new house am me for an birthday . I kept my new mom loved visiting . But I was scared that I needed to buy a new screen and toy hired them ! I became my mom and been to just him . [END] [PAD] [PAD] [PAD] [PAD] [PAD] [PAD] [PAD] [PAD] [PAD] [PAD] [PAD] [PAD] [PAD] [PAD] [PAD] [PAD] [PAD] [PAD] [PAD] [PAD] [PAD] [PAD] [PAD] [PAD] [PAD]\n",
      "sample_idx: 49\n",
      "[START] Andre wanted using pet work . He decided to lose much . He needed to take pregnant , so she got bored . But it was happy to her . [UNK] all lost ! [END] [PAD] [PAD] [PAD] [PAD] [PAD] [PAD] [PAD] [PAD] [PAD] [PAD] [PAD] [PAD] [PAD] [PAD] [PAD] [PAD] [PAD] [PAD] [PAD] [PAD] [PAD] [PAD] [PAD] [PAD] [PAD] [PAD] [PAD] [PAD] [PAD] [PAD] [PAD] [PAD] [PAD] [PAD] [PAD] [PAD]\n",
      "sample_idx: 50\n",
      "[START] Terry was in class , Greta the [UNK] . He decided to lose the bottle of worker . The Ingrid hit him . The worker later , he showed up over the Ingrid . Terry 's busy now peek [UNK] . [END] [PAD] [PAD] [PAD] [PAD] [PAD] [PAD] [PAD] [PAD] [PAD] [PAD] [PAD] [PAD] [PAD] [PAD] [PAD] [PAD] [PAD] [PAD] [PAD] [PAD] [PAD] [PAD] [PAD] [PAD] [PAD] [PAD] [PAD] [PAD] [PAD]\n",
      "sample_idx: 51\n",
      "[START] [UNK] decided to try on his well sign to his . He soon be very flowers up he said his best an violin . She made a new trip never , with him in her Lionel . There won a last as but he was [UNK] from [UNK] as , he was very happy . [END] [PAD] [PAD] [PAD] [PAD] [PAD] [PAD] [PAD] [PAD] [PAD] [PAD] [PAD] [PAD] [PAD] [PAD] [PAD]\n",
      "sample_idx: 52\n",
      "[START] She wanted to have named me mother . She was invited to have a her son started to in too . She made rockets at classes but it was getting anyone . She was happy to fall She 's owner again . [END] [PAD] [PAD] [PAD] [PAD] [PAD] [PAD] [PAD] [PAD] [PAD] [PAD] [PAD] [PAD] [PAD] [PAD] [PAD] [PAD] [PAD] [PAD] [PAD] [PAD] [PAD] [PAD] [PAD] [PAD] [PAD] [PAD] [PAD] [PAD]\n",
      "sample_idx: 53\n",
      "[START] [UNK] was on the pie in . When she tried , she decided to spend a building of appointment . As she was too a to get for a cat , weather It was a rock sale , hour shoe had 5 thing . [UNK] had to return . Eventually the time when she was just pie . [END] [PAD] [PAD] [PAD] [PAD] [PAD] [PAD] [PAD] [PAD] [PAD] [PAD] [PAD] [PAD]\n",
      "sample_idx: 54\n",
      "[START] Tom was excited better with friends . It was really was up by class . Tom tried to find his horse . Tom could n't want . Tom said everything Tom his first food . [END] [PAD] [PAD] [PAD] [PAD] [PAD] [PAD] [PAD] [PAD] [PAD] [PAD] [PAD] [PAD] [PAD] [PAD] [PAD] [PAD] [PAD] [PAD] [PAD] [PAD] [PAD] [PAD] [PAD] [PAD] [PAD] [PAD] [PAD] [PAD] [PAD] [PAD] [PAD] [PAD] [PAD] [PAD] [PAD]\n",
      "sample_idx: 55\n",
      "[START] [UNK] 's car were due was small . My wife had suddenly had a five and shot some shoot . He did our 's wife told her to him [UNK] and outside . She [UNK] on the town until she vowed . It hit not strewn the mom . [END] [PAD] [PAD] [PAD] [PAD] [PAD] [PAD] [PAD] [PAD] [PAD] [PAD] [PAD] [PAD] [PAD] [PAD] [PAD] [PAD] [PAD] [PAD] [PAD] [PAD] [PAD]\n",
      "sample_idx: 56\n",
      "[START] Today was always played his football every summer game . On the car , they drove a worker so games . One day Tim take dad online to play play . He made and went to save their friends the next could take a own news . Tim did n't wait him to quit the team . [END] [PAD] [PAD] [PAD] [PAD] [PAD] [PAD] [PAD] [PAD] [PAD] [PAD] [PAD] [PAD] [PAD]\n",
      "sample_idx: 57\n",
      "[START] I was very radiation . She ended up taking her bus her taken . I decided to give my cat late . The bus was not to the table . She picked up it was done she table . [END] [PAD] [PAD] [PAD] [PAD] [PAD] [PAD] [PAD] [PAD] [PAD] [PAD] [PAD] [PAD] [PAD] [PAD] [PAD] [PAD] [PAD] [PAD] [PAD] [PAD] [PAD] [PAD] [PAD] [PAD] [PAD] [PAD] [PAD] [PAD] [PAD] [PAD] [PAD]\n",
      "sample_idx: 58\n",
      "[START] Maddie 's grandma were missing milk . A friend started did not play like only very the rock . The teacher said there was excited by a floor room . He looked fall a new card to cry and found past in the test . They wore his eyes for he had n't special out that [END] [PAD] [PAD] [PAD] [PAD] [PAD] [PAD] [PAD] [PAD] [PAD] [PAD] [PAD] [PAD] [PAD] [PAD]\n",
      "sample_idx: 59\n",
      "[START] Jason took a new pet color . He was having a company . His girlfriend said she got all . She decided to get it to a good big [UNK] attention . Jason had caught the ride . [END] [PAD] [PAD] [PAD] [PAD] [PAD] [PAD] [PAD] [PAD] [PAD] [PAD] [PAD] [PAD] [PAD] [PAD] [PAD] [PAD] [PAD] [PAD] [PAD] [PAD] [PAD] [PAD] [PAD] [PAD] [PAD] [PAD] [PAD] [PAD] [PAD] [PAD] [PAD] [PAD]\n",
      "sample_idx: 60\n",
      "[START] Ken was having problems of his team down for the [UNK] . He did always have signed glasses . He decided the store too the [UNK] . Suddenly he was leaving . Ken had to think for a died . [END] [PAD] [PAD] [PAD] [PAD] [PAD] [PAD] [PAD] [PAD] [PAD] [PAD] [PAD] [PAD] [PAD] [PAD] [PAD] [PAD] [PAD] [PAD] [PAD] [PAD] [PAD] [PAD] [PAD] [PAD] [PAD] [PAD] [PAD] [PAD] [PAD] [PAD]\n",
      "sample_idx: 61\n",
      "[START] Terry went shopping for the time in she 'd he never all morning . She gave him it for her for it and . Before she was while that day . So he started right hard in her house . She [UNK] she ended up , she walked out a black time . [END] [PAD] [PAD] [PAD] [PAD] [PAD] [PAD] [PAD] [PAD] [PAD] [PAD] [PAD] [PAD] [PAD] [PAD] [PAD] [PAD] [PAD]\n",
      "sample_idx: 62\n",
      "[START] Jenny wanted to go on a feet of place . But she was broken around out on the rain . She had never before the desk . She found yelled at the best of vacation . Luckily , the horse she sent love the game . [END] [PAD] [PAD] [PAD] [PAD] [PAD] [PAD] [PAD] [PAD] [PAD] [PAD] [PAD] [PAD] [PAD] [PAD] [PAD] [PAD] [PAD] [PAD] [PAD] [PAD] [PAD] [PAD] [PAD] [PAD]\n",
      "sample_idx: 63\n",
      "[START] Jake was thrilled with his new Pedro . Jake purchased for hours to the mall . renovations still would not drink out . He cooked it late . Jake decided to go home back at . [END] [PAD] [PAD] [PAD] [PAD] [PAD] [PAD] [PAD] [PAD] [PAD] [PAD] [PAD] [PAD] [PAD] [PAD] [PAD] [PAD] [PAD] [PAD] [PAD] [PAD] [PAD] [PAD] [PAD] [PAD] [PAD] [PAD] [PAD] [PAD] [PAD] [PAD] [PAD] [PAD] [PAD] [PAD]\n"
     ]
    }
   ],
   "source": [
    "for sample_idx in range(batch_size):\n",
    "    hidden_state = hidden_states[-1][sample_idx]\n",
    "    with torch.no_grad():\n",
    "        hidden_logits = diffusion_model.lm_head(hidden_state)\n",
    "        sampled_ids = torch.argmax(hidden_logits,dim=-1).cpu()\n",
    "        sampled_seq = [rev_tokenizer[token_id.item()] for token_id in sampled_ids]\n",
    "        print(\"sample_idx:\", sample_idx)\n",
    "        print(\" \".join(sampled_seq))"
   ]
  },
  {
   "cell_type": "code",
   "execution_count": 17,
   "metadata": {
    "collapsed": false,
    "pycharm": {
     "name": "#%%\n"
    }
   },
   "outputs": [
    {
     "data": {
      "text/plain": [
       "128"
      ]
     },
     "execution_count": 17,
     "metadata": {},
     "output_type": "execute_result"
    }
   ],
   "source": [
    "diffusion_model.config.word_embedding_dim"
   ]
  },
  {
   "cell_type": "code",
   "execution_count": 16,
   "metadata": {
    "pycharm": {
     "name": "#%%\n"
    }
   },
   "outputs": [
    {
     "data": {
      "application/vnd.jupyter.widget-view+json": {
       "model_id": "346894f3158c4f4681583f9c769342b6",
       "version_major": 2,
       "version_minor": 0
      },
      "text/plain": [
       "  0%|          | 0/2000 [00:00<?, ?it/s]"
      ]
     },
     "metadata": {},
     "output_type": "display_data"
    }
   ],
   "source": [
    "logits2, hidden_states2 = diffusion_model.sample(x_T.to(device), clamp='rounding', return_hidden_states=True, verbose=True)"
   ]
  },
  {
   "cell_type": "code",
   "execution_count": 17,
   "metadata": {
    "pycharm": {
     "name": "#%%\n"
    }
   },
   "outputs": [
    {
     "name": "stdout",
     "output_type": "stream",
     "text": [
      "sample_idx: 0\n",
      "[PAD] [PAD] [PAD] [PAD] [PAD] [PAD] [PAD] [PAD] [PAD] [PAD] [PAD] [PAD] [PAD] [PAD] [PAD] [PAD] [PAD] [PAD] [PAD] [PAD] [PAD] [PAD] [PAD] [PAD] [PAD] [PAD] [PAD] [PAD] [PAD] [PAD] [PAD] [PAD] [PAD] [PAD] [PAD] [PAD] [PAD] [PAD] [PAD] [PAD] [PAD] [PAD] [PAD] [PAD] [PAD] [PAD] [PAD] [PAD] [PAD] [PAD] [PAD] [PAD] [PAD] [PAD] [PAD] [PAD] [PAD] [PAD] [PAD] [PAD] [PAD] [PAD] [PAD] [PAD] [PAD] [PAD] [PAD] [PAD] [PAD] [PAD] [PAD] [PAD]\n",
      "sample_idx: 1\n",
      "[PAD] [PAD] [PAD] [PAD] [PAD] [PAD] [PAD] [PAD] [PAD] [PAD] [PAD] [PAD] [PAD] [PAD] [PAD] [PAD] [PAD] [PAD] [PAD] [PAD] [PAD] [PAD] [PAD] [PAD] [PAD] [PAD] [PAD] [PAD] [PAD] [PAD] [PAD] [PAD] [PAD] [PAD] [PAD] [PAD] [PAD] [PAD] [PAD] [PAD] [PAD] [PAD] [PAD] [PAD] [PAD] [PAD] [PAD] [PAD] [PAD] [PAD] [PAD] [PAD] [PAD] [PAD] [PAD] [PAD] [PAD] [PAD] [PAD] [PAD] [PAD] [PAD] [PAD] [PAD] [PAD] [PAD] [PAD] [PAD] [PAD] [PAD] [PAD] [PAD]\n",
      "sample_idx: 2\n",
      "[PAD] [PAD] [PAD] [PAD] [PAD] [PAD] [PAD] [PAD] [PAD] [PAD] [PAD] [PAD] [PAD] [PAD] [PAD] [PAD] [PAD] [PAD] [PAD] [PAD] [PAD] [PAD] [PAD] [PAD] [PAD] [PAD] [PAD] [PAD] [PAD] [PAD] [PAD] [PAD] [PAD] [PAD] [PAD] [PAD] [PAD] [PAD] [PAD] [PAD] [PAD] [PAD] [PAD] [PAD] [PAD] [PAD] [PAD] [PAD] [PAD] [PAD] [PAD] [PAD] [PAD] [PAD] [PAD] [PAD] [PAD] [PAD] [PAD] [PAD] [PAD] [PAD] [PAD] [PAD] [PAD] [PAD] [PAD] [PAD] [PAD] [PAD] [PAD] [PAD]\n",
      "sample_idx: 3\n",
      "[PAD] [PAD] [PAD] [PAD] [PAD] [PAD] [PAD] [PAD] [PAD] [PAD] [PAD] [PAD] [PAD] [PAD] [PAD] [PAD] [PAD] [PAD] [PAD] [PAD] [PAD] [PAD] [PAD] [PAD] [PAD] [PAD] [PAD] [PAD] [PAD] [PAD] [PAD] [PAD] [PAD] [PAD] [PAD] [PAD] [PAD] [PAD] [PAD] [PAD] [PAD] [PAD] [PAD] [PAD] [PAD] [PAD] [PAD] [PAD] [PAD] [PAD] [PAD] [PAD] [PAD] [PAD] [PAD] [PAD] [PAD] [PAD] [PAD] [PAD] [PAD] [PAD] [PAD] [PAD] [PAD] [PAD] [PAD] [PAD] [PAD] [PAD] [PAD] [PAD]\n",
      "sample_idx: 4\n",
      "[PAD] [PAD] [PAD] [PAD] [PAD] [PAD] [PAD] [PAD] [PAD] [PAD] [PAD] [PAD] [PAD] [PAD] [PAD] [PAD] [PAD] [PAD] [PAD] [PAD] [PAD] [PAD] [PAD] [PAD] [PAD] [PAD] [PAD] [PAD] [PAD] [PAD] [PAD] [PAD] [PAD] [PAD] [PAD] [PAD] [PAD] [PAD] [PAD] [PAD] [PAD] [PAD] [PAD] [PAD] [PAD] [PAD] [PAD] [PAD] [PAD] [PAD] [PAD] [PAD] [PAD] [PAD] [PAD] [PAD] [PAD] [PAD] [PAD] [PAD] [PAD] [PAD] [PAD] [PAD] [PAD] [PAD] [PAD] [PAD] [PAD] [PAD] [PAD] [PAD]\n",
      "sample_idx: 5\n",
      "[PAD] [PAD] [PAD] [PAD] [PAD] [PAD] [PAD] [PAD] [PAD] [PAD] [PAD] [PAD] [PAD] [PAD] [PAD] [PAD] [PAD] [PAD] [PAD] [PAD] [PAD] [PAD] [PAD] [PAD] [PAD] [PAD] [PAD] [PAD] [PAD] [PAD] [PAD] [PAD] [PAD] [PAD] [PAD] [PAD] [PAD] [PAD] [PAD] [PAD] [PAD] [PAD] [PAD] [PAD] [PAD] [PAD] [PAD] [PAD] [PAD] [PAD] [PAD] [PAD] [PAD] [PAD] [PAD] [PAD] [PAD] [PAD] [PAD] [PAD] [PAD] [PAD] [PAD] [PAD] [PAD] [PAD] [PAD] [PAD] [PAD] [PAD] [PAD] [PAD]\n",
      "sample_idx: 6\n",
      "[PAD] [PAD] [PAD] [PAD] [PAD] [PAD] [PAD] [PAD] [PAD] [PAD] [PAD] [PAD] [PAD] [PAD] [PAD] [PAD] [PAD] [PAD] [PAD] [PAD] [PAD] [PAD] [PAD] [PAD] [PAD] [PAD] [PAD] [PAD] [PAD] [PAD] [PAD] [PAD] [PAD] [PAD] [PAD] [PAD] [PAD] [PAD] [PAD] [PAD] [PAD] [PAD] [PAD] [PAD] [PAD] [PAD] [PAD] [PAD] [PAD] [PAD] [PAD] [PAD] [PAD] [PAD] [PAD] [PAD] [PAD] [PAD] [PAD] [PAD] [PAD] [PAD] [PAD] [PAD] [PAD] [PAD] [PAD] [PAD] [PAD] [PAD] [PAD] [PAD]\n",
      "sample_idx: 7\n",
      "[PAD] [PAD] [PAD] [PAD] [PAD] [PAD] [PAD] [PAD] [PAD] [PAD] [PAD] [PAD] [PAD] [PAD] [PAD] [PAD] [PAD] [PAD] [PAD] [PAD] [PAD] [PAD] [PAD] [PAD] [PAD] [PAD] [PAD] [PAD] [PAD] [PAD] [PAD] [PAD] [PAD] [PAD] [PAD] [PAD] [PAD] [PAD] [PAD] [PAD] [PAD] [PAD] [PAD] [PAD] [PAD] [PAD] [PAD] [PAD] [PAD] [PAD] [PAD] [PAD] [PAD] [PAD] [PAD] [PAD] [PAD] [PAD] [PAD] [PAD] [PAD] [PAD] [PAD] [PAD] [PAD] [PAD] [PAD] [PAD] [PAD] [PAD] [PAD] [PAD]\n",
      "sample_idx: 8\n",
      "[PAD] [PAD] [PAD] [PAD] [PAD] [PAD] [PAD] [PAD] [PAD] [PAD] [PAD] [PAD] [PAD] [PAD] [PAD] [PAD] [PAD] [PAD] [PAD] [PAD] [PAD] [PAD] [PAD] [PAD] [PAD] [PAD] [PAD] [PAD] [PAD] [PAD] [PAD] [PAD] [PAD] [PAD] [PAD] [PAD] [PAD] [PAD] [PAD] [PAD] [PAD] [PAD] [PAD] [PAD] [PAD] [PAD] [PAD] [PAD] [PAD] [PAD] [PAD] [PAD] [PAD] [PAD] [PAD] [PAD] [PAD] [PAD] [PAD] [PAD] [PAD] [PAD] [PAD] [PAD] [PAD] [PAD] [PAD] [PAD] [PAD] [PAD] [PAD] [PAD]\n",
      "sample_idx: 9\n",
      "[PAD] [PAD] [PAD] [PAD] [PAD] [PAD] [PAD] [PAD] [PAD] [PAD] [PAD] [PAD] [PAD] [PAD] [PAD] [PAD] [PAD] [PAD] [PAD] [PAD] [PAD] [PAD] [PAD] [PAD] [PAD] [PAD] [PAD] [PAD] [PAD] [PAD] [PAD] [PAD] [PAD] [PAD] [PAD] [PAD] [PAD] [PAD] [PAD] [PAD] [PAD] [PAD] [PAD] [PAD] [PAD] [PAD] [PAD] [PAD] [PAD] [PAD] [PAD] [PAD] [PAD] [PAD] [PAD] [PAD] [PAD] [PAD] [PAD] [PAD] [PAD] [PAD] [PAD] [PAD] [PAD] [PAD] [PAD] [PAD] [PAD] [PAD] [PAD] [PAD]\n",
      "sample_idx: 10\n",
      "[PAD] [PAD] [PAD] [PAD] [PAD] [PAD] [PAD] [PAD] [PAD] [PAD] [PAD] [PAD] [PAD] [PAD] [PAD] [PAD] [PAD] [PAD] [PAD] [PAD] [PAD] [PAD] [PAD] [PAD] [PAD] [PAD] [PAD] [PAD] [PAD] [PAD] [PAD] [PAD] [PAD] [PAD] [PAD] [PAD] [PAD] [PAD] [PAD] [PAD] [PAD] [PAD] [PAD] [PAD] [PAD] [PAD] [PAD] [PAD] [PAD] [PAD] [PAD] [PAD] [PAD] [PAD] [PAD] [PAD] [PAD] [PAD] [PAD] [PAD] [PAD] [PAD] [PAD] [PAD] [PAD] [PAD] [PAD] [PAD] [PAD] [PAD] [PAD] [PAD]\n",
      "sample_idx: 11\n",
      "[PAD] [PAD] [PAD] [PAD] [PAD] [PAD] [PAD] [PAD] [PAD] [PAD] [PAD] [PAD] [PAD] [PAD] [PAD] [PAD] [PAD] [PAD] [PAD] [PAD] [PAD] [PAD] [PAD] [PAD] [PAD] [PAD] [PAD] [PAD] [PAD] [PAD] [PAD] [PAD] [PAD] [PAD] [PAD] [PAD] [PAD] [PAD] [PAD] [PAD] [PAD] [PAD] [PAD] [PAD] [PAD] [PAD] [PAD] [PAD] [PAD] [PAD] [PAD] [PAD] [PAD] [PAD] [PAD] [PAD] [PAD] [PAD] [PAD] [PAD] [PAD] [PAD] [PAD] [PAD] [PAD] [PAD] [PAD] [PAD] [PAD] [PAD] [PAD] [PAD]\n",
      "sample_idx: 12\n",
      "[PAD] [PAD] [PAD] [PAD] [PAD] [PAD] [PAD] [PAD] [PAD] [PAD] [PAD] [PAD] [PAD] [PAD] [PAD] [PAD] [PAD] [PAD] [PAD] [PAD] [PAD] [PAD] [PAD] [PAD] [PAD] [PAD] [PAD] [PAD] [PAD] [PAD] [PAD] [PAD] [PAD] [PAD] [PAD] [PAD] [PAD] [PAD] [PAD] [PAD] [PAD] [PAD] [PAD] [PAD] [PAD] [PAD] [PAD] [PAD] [PAD] [PAD] [PAD] [PAD] [PAD] [PAD] [PAD] [PAD] [PAD] [PAD] [PAD] [PAD] [PAD] [PAD] [PAD] [PAD] [PAD] [PAD] [PAD] [PAD] [PAD] [PAD] [PAD] [PAD]\n",
      "sample_idx: 13\n",
      "[PAD] [PAD] [PAD] [PAD] [PAD] [PAD] [PAD] [PAD] [PAD] [PAD] [PAD] [PAD] [PAD] [PAD] [PAD] [PAD] [PAD] [PAD] [PAD] [PAD] [PAD] [PAD] [PAD] [PAD] [PAD] [PAD] [PAD] [PAD] [PAD] [PAD] [PAD] [PAD] [PAD] [PAD] [PAD] [PAD] [PAD] [PAD] [PAD] [PAD] [PAD] [PAD] [PAD] [PAD] [PAD] [PAD] [PAD] [PAD] [PAD] [PAD] [PAD] [PAD] [PAD] [PAD] [PAD] [PAD] [PAD] [PAD] [PAD] [PAD] [PAD] [PAD] [PAD] [PAD] [PAD] [PAD] [PAD] [PAD] [PAD] [PAD] [PAD] [PAD]\n",
      "sample_idx: 14\n",
      "[PAD] [PAD] [PAD] [PAD] [PAD] [PAD] [PAD] [PAD] [PAD] [PAD] [PAD] [PAD] [PAD] [PAD] [PAD] [PAD] [PAD] [PAD] [PAD] [PAD] [PAD] [PAD] [PAD] [PAD] [PAD] [PAD] [PAD] [PAD] [PAD] [PAD] [PAD] [PAD] [PAD] [PAD] [PAD] [PAD] [PAD] [PAD] [PAD] [PAD] [PAD] [PAD] [PAD] [PAD] [PAD] [PAD] [PAD] [PAD] [PAD] [PAD] [PAD] [PAD] [PAD] [PAD] [PAD] [PAD] [PAD] [PAD] [PAD] [PAD] [PAD] [PAD] [PAD] [PAD] [PAD] [PAD] [PAD] [PAD] [PAD] [PAD] [PAD] [PAD]\n",
      "sample_idx: 15\n",
      "[PAD] [PAD] [PAD] [PAD] [PAD] [PAD] [PAD] [PAD] [PAD] [PAD] [PAD] [PAD] [PAD] [PAD] [PAD] [PAD] [PAD] [PAD] [PAD] [PAD] [PAD] [PAD] [PAD] [PAD] [PAD] [PAD] [PAD] [PAD] [PAD] [PAD] [PAD] [PAD] [PAD] [PAD] [PAD] [PAD] [PAD] [PAD] [PAD] [PAD] [PAD] [PAD] [PAD] [PAD] [PAD] [PAD] [PAD] [PAD] [PAD] [PAD] [PAD] [PAD] [PAD] [PAD] [PAD] [PAD] [PAD] [PAD] [PAD] [PAD] [PAD] [PAD] [PAD] [PAD] [PAD] [PAD] [PAD] [PAD] [PAD] [PAD] [PAD] [PAD]\n",
      "sample_idx: 16\n",
      "[PAD] [PAD] [PAD] [PAD] [PAD] [PAD] [PAD] [PAD] [PAD] [PAD] [PAD] [PAD] [PAD] [PAD] [PAD] [PAD] [PAD] [PAD] [PAD] [PAD] [PAD] [PAD] [PAD] [PAD] [PAD] [PAD] [PAD] [PAD] [PAD] [PAD] [PAD] [PAD] [PAD] [PAD] [PAD] [PAD] [PAD] [PAD] [PAD] [PAD] [PAD] [PAD] [PAD] [PAD] [PAD] [PAD] [PAD] [PAD] [PAD] [PAD] [PAD] [PAD] [PAD] [PAD] [PAD] [PAD] [PAD] [PAD] [PAD] [PAD] [PAD] [PAD] [PAD] [PAD] [PAD] [PAD] [PAD] [PAD] [PAD] [PAD] [PAD] [PAD]\n",
      "sample_idx: 17\n",
      "[PAD] [PAD] [PAD] [PAD] [PAD] [PAD] [PAD] [PAD] [PAD] [PAD] [PAD] [PAD] [PAD] [PAD] [PAD] [PAD] [PAD] [PAD] [PAD] [PAD] [PAD] [PAD] [PAD] [PAD] [PAD] [PAD] [PAD] [PAD] [PAD] [PAD] [PAD] [PAD] [PAD] [PAD] [PAD] [PAD] [PAD] [PAD] [PAD] [PAD] [PAD] [PAD] [PAD] [PAD] [PAD] [PAD] [PAD] [PAD] [PAD] [PAD] [PAD] [PAD] [PAD] [PAD] [PAD] [PAD] [PAD] [PAD] [PAD] [PAD] [PAD] [PAD] [PAD] [PAD] [PAD] [PAD] [PAD] [PAD] [PAD] [PAD] [PAD] [PAD]\n",
      "sample_idx: 18\n",
      "[PAD] [PAD] [PAD] [PAD] [PAD] [PAD] [PAD] [PAD] [PAD] [PAD] [PAD] [PAD] [PAD] [PAD] [PAD] [PAD] [PAD] [PAD] [PAD] [PAD] [PAD] [PAD] [PAD] [PAD] [PAD] [PAD] [PAD] [PAD] [PAD] [PAD] [PAD] [PAD] [PAD] [PAD] [PAD] [PAD] [PAD] [PAD] [PAD] [PAD] [PAD] [PAD] [PAD] [PAD] [PAD] [PAD] [PAD] [PAD] [PAD] [PAD] [PAD] [PAD] [PAD] [PAD] [PAD] [PAD] [PAD] [PAD] [PAD] [PAD] [PAD] [PAD] [PAD] [PAD] [PAD] [PAD] [PAD] [PAD] [PAD] [PAD] [PAD] [PAD]\n",
      "sample_idx: 19\n",
      "[PAD] [PAD] [PAD] [PAD] [PAD] [PAD] [PAD] [PAD] [PAD] [PAD] [PAD] [PAD] [PAD] [PAD] [PAD] [PAD] [PAD] [PAD] [PAD] [PAD] [PAD] [PAD] [PAD] [PAD] [PAD] [PAD] [PAD] [PAD] [PAD] [PAD] [PAD] [PAD] [PAD] [PAD] [PAD] [PAD] [PAD] [PAD] [PAD] [PAD] [PAD] [PAD] [PAD] [PAD] [PAD] [PAD] [PAD] [PAD] [PAD] [PAD] [PAD] [PAD] [PAD] [PAD] [PAD] [PAD] [PAD] [PAD] [PAD] [PAD] [PAD] [PAD] [PAD] [PAD] [PAD] [PAD] [PAD] [PAD] [PAD] [PAD] [PAD] [PAD]\n",
      "sample_idx: 20\n",
      "[PAD] [PAD] [PAD] [PAD] [PAD] [PAD] [PAD] [PAD] [PAD] [PAD] [PAD] [PAD] [PAD] [PAD] [PAD] [PAD] [PAD] [PAD] [PAD] [PAD] [PAD] [PAD] [PAD] [PAD] [PAD] [PAD] [PAD] [PAD] [PAD] [PAD] [PAD] [PAD] [PAD] [PAD] [PAD] [PAD] [PAD] [PAD] [PAD] [PAD] [PAD] [PAD] [PAD] [PAD] [PAD] [PAD] [PAD] [PAD] [PAD] [PAD] [PAD] [PAD] [PAD] [PAD] [PAD] [PAD] [PAD] [PAD] [PAD] [PAD] [PAD] [PAD] [PAD] [PAD] [PAD] [PAD] [PAD] [PAD] [PAD] [PAD] [PAD] [PAD]\n",
      "sample_idx: 21\n",
      "[PAD] [PAD] [PAD] [PAD] [PAD] [PAD] [PAD] [PAD] [PAD] [PAD] [PAD] [PAD] [PAD] [PAD] [PAD] [PAD] [PAD] [PAD] [PAD] [PAD] [PAD] [PAD] [PAD] [PAD] [PAD] [PAD] [PAD] [PAD] [PAD] [PAD] [PAD] [PAD] [PAD] [PAD] [PAD] [PAD] [PAD] [PAD] [PAD] [PAD] [PAD] [PAD] [PAD] [PAD] [PAD] [PAD] [PAD] [PAD] [PAD] [PAD] [PAD] [PAD] [PAD] [PAD] [PAD] [PAD] [PAD] [PAD] [PAD] [PAD] [PAD] [PAD] [PAD] [PAD] [PAD] [PAD] [PAD] [PAD] [PAD] [PAD] [PAD] [PAD]\n",
      "sample_idx: 22\n",
      "[PAD] [PAD] [PAD] [PAD] [PAD] [PAD] [PAD] [PAD] [PAD] [PAD] [PAD] [PAD] [PAD] [PAD] [PAD] [PAD] [PAD] [PAD] [PAD] [PAD] [PAD] [PAD] [PAD] [PAD] [PAD] [PAD] [PAD] [PAD] [PAD] [PAD] [PAD] [PAD] [PAD] [PAD] [PAD] [PAD] [PAD] [PAD] [PAD] [PAD] [PAD] [PAD] [PAD] [PAD] [PAD] [PAD] [PAD] [PAD] [PAD] [PAD] [PAD] [PAD] [PAD] [PAD] [PAD] [PAD] [PAD] [PAD] [PAD] [PAD] [PAD] [PAD] [PAD] [PAD] [PAD] [PAD] [PAD] [PAD] [PAD] [PAD] [PAD] [PAD]\n",
      "sample_idx: 23\n",
      "[PAD] [PAD] [PAD] [PAD] [PAD] [PAD] [PAD] [PAD] [PAD] [PAD] [PAD] [PAD] [PAD] [PAD] [PAD] [PAD] [PAD] [PAD] [PAD] [PAD] [PAD] [PAD] [PAD] [PAD] [PAD] [PAD] [PAD] [PAD] [PAD] [PAD] [PAD] [PAD] [PAD] [PAD] [PAD] [PAD] [PAD] [PAD] [PAD] [PAD] [PAD] [PAD] [PAD] [PAD] [PAD] [PAD] [PAD] [PAD] [PAD] [PAD] [PAD] [PAD] [PAD] [PAD] [PAD] [PAD] [PAD] [PAD] [PAD] [PAD] [PAD] [PAD] [PAD] [PAD] [PAD] [PAD] [PAD] [PAD] [PAD] [PAD] [PAD] [PAD]\n",
      "sample_idx: 24\n",
      "[PAD] [PAD] [PAD] [PAD] [PAD] [PAD] [PAD] [PAD] [PAD] [PAD] [PAD] [PAD] [PAD] [PAD] [PAD] [PAD] [PAD] [PAD] [PAD] [PAD] [PAD] [PAD] [PAD] [PAD] [PAD] [PAD] [PAD] [PAD] [PAD] [PAD] [PAD] [PAD] [PAD] [PAD] [PAD] [PAD] [PAD] [PAD] [PAD] [PAD] [PAD] [PAD] [PAD] [PAD] [PAD] [PAD] [PAD] [PAD] [PAD] [PAD] [PAD] [PAD] [PAD] [PAD] [PAD] [PAD] [PAD] [PAD] [PAD] [PAD] [PAD] [PAD] [PAD] [PAD] [PAD] [PAD] [PAD] [PAD] [PAD] [PAD] [PAD] [PAD]\n",
      "sample_idx: 25\n",
      "[PAD] [PAD] [PAD] [PAD] [PAD] [PAD] [PAD] [PAD] [PAD] [PAD] [PAD] [PAD] [PAD] [PAD] [PAD] [PAD] [PAD] [PAD] [PAD] [PAD] [PAD] [PAD] [PAD] [PAD] [PAD] [PAD] [PAD] [PAD] [PAD] [PAD] [PAD] [PAD] [PAD] [PAD] [PAD] [PAD] [PAD] [PAD] [PAD] [PAD] [PAD] [PAD] [PAD] [PAD] [PAD] [PAD] [PAD] [PAD] [PAD] [PAD] [PAD] [PAD] [PAD] [PAD] [PAD] [PAD] [PAD] [PAD] [PAD] [PAD] [PAD] [PAD] [PAD] [PAD] [PAD] [PAD] [PAD] [PAD] [PAD] [PAD] [PAD] [PAD]\n",
      "sample_idx: 26\n",
      "[PAD] [PAD] [PAD] [PAD] [PAD] [PAD] [PAD] [PAD] [PAD] [PAD] [PAD] [PAD] [PAD] [PAD] [PAD] [PAD] [PAD] [PAD] [PAD] [PAD] [PAD] [PAD] [PAD] [PAD] [PAD] [PAD] [PAD] [PAD] [PAD] [PAD] [PAD] [PAD] [PAD] [PAD] [PAD] [PAD] [PAD] [PAD] [PAD] [PAD] [PAD] [PAD] [PAD] [PAD] [PAD] [PAD] [PAD] [PAD] [PAD] [PAD] [PAD] [PAD] [PAD] [PAD] [PAD] [PAD] [PAD] [PAD] [PAD] [PAD] [PAD] [PAD] [PAD] [PAD] [PAD] [PAD] [PAD] [PAD] [PAD] [PAD] [PAD] [PAD]\n",
      "sample_idx: 27\n",
      "[PAD] [PAD] [PAD] [PAD] [PAD] [PAD] [PAD] [PAD] [PAD] [PAD] [PAD] [PAD] [PAD] [PAD] [PAD] [PAD] [PAD] [PAD] [PAD] [PAD] [PAD] [PAD] [PAD] [PAD] [PAD] [PAD] [PAD] [PAD] [PAD] [PAD] [PAD] [PAD] [PAD] [PAD] [PAD] [PAD] [PAD] [PAD] [PAD] [PAD] [PAD] [PAD] [PAD] [PAD] [PAD] [PAD] [PAD] [PAD] [PAD] [PAD] [PAD] [PAD] [PAD] [PAD] [PAD] [PAD] [PAD] [PAD] [PAD] [PAD] [PAD] [PAD] [PAD] [PAD] [PAD] [PAD] [PAD] [PAD] [PAD] [PAD] [PAD] [PAD]\n",
      "sample_idx: 28\n",
      "[PAD] [PAD] [PAD] [PAD] [PAD] [PAD] [PAD] [PAD] [PAD] [PAD] [PAD] [PAD] [PAD] [PAD] [PAD] [PAD] [PAD] [PAD] [PAD] [PAD] [PAD] [PAD] [PAD] [PAD] [PAD] [PAD] [PAD] [PAD] [PAD] [PAD] [PAD] [PAD] [PAD] [PAD] [PAD] [PAD] [PAD] [PAD] [PAD] [PAD] [PAD] [PAD] [PAD] [PAD] [PAD] [PAD] [PAD] [PAD] [PAD] [PAD] [PAD] [PAD] [PAD] [PAD] [PAD] [PAD] [PAD] [PAD] [PAD] [PAD] [PAD] [PAD] [PAD] [PAD] [PAD] [PAD] [PAD] [PAD] [PAD] [PAD] [PAD] [PAD]\n",
      "sample_idx: 29\n",
      "[PAD] [PAD] [PAD] [PAD] [PAD] [PAD] [PAD] [PAD] [PAD] [PAD] [PAD] [PAD] [PAD] [PAD] [PAD] [PAD] [PAD] [PAD] [PAD] [PAD] [PAD] [PAD] [PAD] [PAD] [PAD] [PAD] [PAD] [PAD] [PAD] [PAD] [PAD] [PAD] [PAD] [PAD] [PAD] [PAD] [PAD] [PAD] [PAD] [PAD] [PAD] [PAD] [PAD] [PAD] [PAD] [PAD] [PAD] [PAD] [PAD] [PAD] [PAD] [PAD] [PAD] [PAD] [PAD] [PAD] [PAD] [PAD] [PAD] [PAD] [PAD] [PAD] [PAD] [PAD] [PAD] [PAD] [PAD] [PAD] [PAD] [PAD] [PAD] [PAD]\n",
      "sample_idx: 30\n",
      "[PAD] [PAD] [PAD] [PAD] [PAD] [PAD] [PAD] [PAD] [PAD] [PAD] [PAD] [PAD] [PAD] [PAD] [PAD] [PAD] [PAD] [PAD] [PAD] [PAD] [PAD] [PAD] [PAD] [PAD] [PAD] [PAD] [PAD] [PAD] [PAD] [PAD] [PAD] [PAD] [PAD] [PAD] [PAD] [PAD] [PAD] [PAD] [PAD] [PAD] [PAD] [PAD] [PAD] [PAD] [PAD] [PAD] [PAD] [PAD] [PAD] [PAD] [PAD] [PAD] [PAD] [PAD] [PAD] [PAD] [PAD] [PAD] [PAD] [PAD] [PAD] [PAD] [PAD] [PAD] [PAD] [PAD] [PAD] [PAD] [PAD] [PAD] [PAD] [PAD]\n",
      "sample_idx: 31\n",
      "[PAD] [PAD] [PAD] [PAD] [PAD] [PAD] [PAD] [PAD] [PAD] [PAD] [PAD] [PAD] [PAD] [PAD] [PAD] [PAD] [PAD] [PAD] [PAD] [PAD] [PAD] [PAD] [PAD] [PAD] [PAD] [PAD] [PAD] [PAD] [PAD] [PAD] [PAD] [PAD] [PAD] [PAD] [PAD] [PAD] [PAD] [PAD] [PAD] [PAD] [PAD] [PAD] [PAD] [PAD] [PAD] [PAD] [PAD] [PAD] [PAD] [PAD] [PAD] [PAD] [PAD] [PAD] [PAD] [PAD] [PAD] [PAD] [PAD] [PAD] [PAD] [PAD] [PAD] [PAD] [PAD] [PAD] [PAD] [PAD] [PAD] [PAD] [PAD] [PAD]\n"
     ]
    }
   ],
   "source": [
    "for sample_idx in range(32):\n",
    "    hidden_state = hidden_states2[-1][sample_idx]\n",
    "    with torch.no_grad():\n",
    "        hidden_logits = diffusion_model.lm_head(hidden_state)\n",
    "        sampled_ids = torch.argmax(hidden_logits,dim=-1).cpu()\n",
    "        sampled_seq = [rev_tokenizer[token_id.item()] for token_id in sampled_ids]\n",
    "        print(\"sample_idx:\", sample_idx)\n",
    "        print(\" \".join(sampled_seq))"
   ]
  },
  {
   "cell_type": "code",
   "execution_count": 18,
   "metadata": {
    "pycharm": {
     "name": "#%%\n"
    },
    "scrolled": true
   },
   "outputs": [
    {
     "name": "stdout",
     "output_type": "stream",
     "text": [
      "word_embeddings.weight\n",
      "lm_head.bias\n",
      "model.encoder.layer.0.attention.self.query.weight\n",
      "model.encoder.layer.0.attention.self.query.bias\n",
      "model.encoder.layer.0.attention.self.key.weight\n",
      "model.encoder.layer.0.attention.self.key.bias\n",
      "model.encoder.layer.0.attention.self.value.weight\n",
      "model.encoder.layer.0.attention.self.value.bias\n",
      "model.encoder.layer.0.attention.output.dense.weight\n",
      "model.encoder.layer.0.attention.output.dense.bias\n",
      "model.encoder.layer.0.attention.output.LayerNorm.weight\n",
      "model.encoder.layer.0.attention.output.LayerNorm.bias\n",
      "model.encoder.layer.0.intermediate.dense.weight\n",
      "model.encoder.layer.0.intermediate.dense.bias\n",
      "model.encoder.layer.0.output.dense.weight\n",
      "model.encoder.layer.0.output.dense.bias\n",
      "model.encoder.layer.0.output.LayerNorm.weight\n",
      "model.encoder.layer.0.output.LayerNorm.bias\n",
      "model.encoder.layer.1.attention.self.query.weight\n",
      "model.encoder.layer.1.attention.self.query.bias\n",
      "model.encoder.layer.1.attention.self.key.weight\n",
      "model.encoder.layer.1.attention.self.key.bias\n",
      "model.encoder.layer.1.attention.self.value.weight\n",
      "model.encoder.layer.1.attention.self.value.bias\n",
      "model.encoder.layer.1.attention.output.dense.weight\n",
      "model.encoder.layer.1.attention.output.dense.bias\n",
      "model.encoder.layer.1.attention.output.LayerNorm.weight\n",
      "model.encoder.layer.1.attention.output.LayerNorm.bias\n",
      "model.encoder.layer.1.intermediate.dense.weight\n",
      "model.encoder.layer.1.intermediate.dense.bias\n",
      "model.encoder.layer.1.output.dense.weight\n",
      "model.encoder.layer.1.output.dense.bias\n",
      "model.encoder.layer.1.output.LayerNorm.weight\n",
      "model.encoder.layer.1.output.LayerNorm.bias\n",
      "model.encoder.layer.2.attention.self.query.weight\n",
      "model.encoder.layer.2.attention.self.query.bias\n",
      "model.encoder.layer.2.attention.self.key.weight\n",
      "model.encoder.layer.2.attention.self.key.bias\n",
      "model.encoder.layer.2.attention.self.value.weight\n",
      "model.encoder.layer.2.attention.self.value.bias\n",
      "model.encoder.layer.2.attention.output.dense.weight\n",
      "model.encoder.layer.2.attention.output.dense.bias\n",
      "model.encoder.layer.2.attention.output.LayerNorm.weight\n",
      "model.encoder.layer.2.attention.output.LayerNorm.bias\n",
      "model.encoder.layer.2.intermediate.dense.weight\n",
      "model.encoder.layer.2.intermediate.dense.bias\n",
      "model.encoder.layer.2.output.dense.weight\n",
      "model.encoder.layer.2.output.dense.bias\n",
      "model.encoder.layer.2.output.LayerNorm.weight\n",
      "model.encoder.layer.2.output.LayerNorm.bias\n",
      "model.encoder.layer.3.attention.self.query.weight\n",
      "model.encoder.layer.3.attention.self.query.bias\n",
      "model.encoder.layer.3.attention.self.key.weight\n",
      "model.encoder.layer.3.attention.self.key.bias\n",
      "model.encoder.layer.3.attention.self.value.weight\n",
      "model.encoder.layer.3.attention.self.value.bias\n",
      "model.encoder.layer.3.attention.output.dense.weight\n",
      "model.encoder.layer.3.attention.output.dense.bias\n",
      "model.encoder.layer.3.attention.output.LayerNorm.weight\n",
      "model.encoder.layer.3.attention.output.LayerNorm.bias\n",
      "model.encoder.layer.3.intermediate.dense.weight\n",
      "model.encoder.layer.3.intermediate.dense.bias\n",
      "model.encoder.layer.3.output.dense.weight\n",
      "model.encoder.layer.3.output.dense.bias\n",
      "model.encoder.layer.3.output.LayerNorm.weight\n",
      "model.encoder.layer.3.output.LayerNorm.bias\n",
      "model.encoder.layer.4.attention.self.query.weight\n",
      "model.encoder.layer.4.attention.self.query.bias\n",
      "model.encoder.layer.4.attention.self.key.weight\n",
      "model.encoder.layer.4.attention.self.key.bias\n",
      "model.encoder.layer.4.attention.self.value.weight\n",
      "model.encoder.layer.4.attention.self.value.bias\n",
      "model.encoder.layer.4.attention.output.dense.weight\n",
      "model.encoder.layer.4.attention.output.dense.bias\n",
      "model.encoder.layer.4.attention.output.LayerNorm.weight\n",
      "model.encoder.layer.4.attention.output.LayerNorm.bias\n",
      "model.encoder.layer.4.intermediate.dense.weight\n",
      "model.encoder.layer.4.intermediate.dense.bias\n",
      "model.encoder.layer.4.output.dense.weight\n",
      "model.encoder.layer.4.output.dense.bias\n",
      "model.encoder.layer.4.output.LayerNorm.weight\n",
      "model.encoder.layer.4.output.LayerNorm.bias\n",
      "model.encoder.layer.5.attention.self.query.weight\n",
      "model.encoder.layer.5.attention.self.query.bias\n",
      "model.encoder.layer.5.attention.self.key.weight\n",
      "model.encoder.layer.5.attention.self.key.bias\n",
      "model.encoder.layer.5.attention.self.value.weight\n",
      "model.encoder.layer.5.attention.self.value.bias\n",
      "model.encoder.layer.5.attention.output.dense.weight\n",
      "model.encoder.layer.5.attention.output.dense.bias\n",
      "model.encoder.layer.5.attention.output.LayerNorm.weight\n",
      "model.encoder.layer.5.attention.output.LayerNorm.bias\n",
      "model.encoder.layer.5.intermediate.dense.weight\n",
      "model.encoder.layer.5.intermediate.dense.bias\n",
      "model.encoder.layer.5.output.dense.weight\n",
      "model.encoder.layer.5.output.dense.bias\n",
      "model.encoder.layer.5.output.LayerNorm.weight\n",
      "model.encoder.layer.5.output.LayerNorm.bias\n",
      "model.encoder.layer.6.attention.self.query.weight\n",
      "model.encoder.layer.6.attention.self.query.bias\n",
      "model.encoder.layer.6.attention.self.key.weight\n",
      "model.encoder.layer.6.attention.self.key.bias\n",
      "model.encoder.layer.6.attention.self.value.weight\n",
      "model.encoder.layer.6.attention.self.value.bias\n",
      "model.encoder.layer.6.attention.output.dense.weight\n",
      "model.encoder.layer.6.attention.output.dense.bias\n",
      "model.encoder.layer.6.attention.output.LayerNorm.weight\n",
      "model.encoder.layer.6.attention.output.LayerNorm.bias\n",
      "model.encoder.layer.6.intermediate.dense.weight\n",
      "model.encoder.layer.6.intermediate.dense.bias\n",
      "model.encoder.layer.6.output.dense.weight\n",
      "model.encoder.layer.6.output.dense.bias\n",
      "model.encoder.layer.6.output.LayerNorm.weight\n",
      "model.encoder.layer.6.output.LayerNorm.bias\n",
      "model.encoder.layer.7.attention.self.query.weight\n",
      "model.encoder.layer.7.attention.self.query.bias\n",
      "model.encoder.layer.7.attention.self.key.weight\n",
      "model.encoder.layer.7.attention.self.key.bias\n",
      "model.encoder.layer.7.attention.self.value.weight\n",
      "model.encoder.layer.7.attention.self.value.bias\n",
      "model.encoder.layer.7.attention.output.dense.weight\n",
      "model.encoder.layer.7.attention.output.dense.bias\n",
      "model.encoder.layer.7.attention.output.LayerNorm.weight\n",
      "model.encoder.layer.7.attention.output.LayerNorm.bias\n",
      "model.encoder.layer.7.intermediate.dense.weight\n",
      "model.encoder.layer.7.intermediate.dense.bias\n",
      "model.encoder.layer.7.output.dense.weight\n",
      "model.encoder.layer.7.output.dense.bias\n",
      "model.encoder.layer.7.output.LayerNorm.weight\n",
      "model.encoder.layer.7.output.LayerNorm.bias\n",
      "model.encoder.layer.8.attention.self.query.weight\n",
      "model.encoder.layer.8.attention.self.query.bias\n",
      "model.encoder.layer.8.attention.self.key.weight\n",
      "model.encoder.layer.8.attention.self.key.bias\n",
      "model.encoder.layer.8.attention.self.value.weight\n",
      "model.encoder.layer.8.attention.self.value.bias\n",
      "model.encoder.layer.8.attention.output.dense.weight\n",
      "model.encoder.layer.8.attention.output.dense.bias\n",
      "model.encoder.layer.8.attention.output.LayerNorm.weight\n",
      "model.encoder.layer.8.attention.output.LayerNorm.bias\n",
      "model.encoder.layer.8.intermediate.dense.weight\n",
      "model.encoder.layer.8.intermediate.dense.bias\n",
      "model.encoder.layer.8.output.dense.weight\n",
      "model.encoder.layer.8.output.dense.bias\n",
      "model.encoder.layer.8.output.LayerNorm.weight\n",
      "model.encoder.layer.8.output.LayerNorm.bias\n",
      "model.encoder.layer.9.attention.self.query.weight\n",
      "model.encoder.layer.9.attention.self.query.bias\n",
      "model.encoder.layer.9.attention.self.key.weight\n",
      "model.encoder.layer.9.attention.self.key.bias\n",
      "model.encoder.layer.9.attention.self.value.weight\n",
      "model.encoder.layer.9.attention.self.value.bias\n",
      "model.encoder.layer.9.attention.output.dense.weight\n",
      "model.encoder.layer.9.attention.output.dense.bias\n",
      "model.encoder.layer.9.attention.output.LayerNorm.weight\n",
      "model.encoder.layer.9.attention.output.LayerNorm.bias\n",
      "model.encoder.layer.9.intermediate.dense.weight\n",
      "model.encoder.layer.9.intermediate.dense.bias\n",
      "model.encoder.layer.9.output.dense.weight\n",
      "model.encoder.layer.9.output.dense.bias\n",
      "model.encoder.layer.9.output.LayerNorm.weight\n",
      "model.encoder.layer.9.output.LayerNorm.bias\n",
      "model.encoder.layer.10.attention.self.query.weight\n",
      "model.encoder.layer.10.attention.self.query.bias\n",
      "model.encoder.layer.10.attention.self.key.weight\n",
      "model.encoder.layer.10.attention.self.key.bias\n",
      "model.encoder.layer.10.attention.self.value.weight\n",
      "model.encoder.layer.10.attention.self.value.bias\n",
      "model.encoder.layer.10.attention.output.dense.weight\n",
      "model.encoder.layer.10.attention.output.dense.bias\n",
      "model.encoder.layer.10.attention.output.LayerNorm.weight\n",
      "model.encoder.layer.10.attention.output.LayerNorm.bias\n",
      "model.encoder.layer.10.intermediate.dense.weight\n",
      "model.encoder.layer.10.intermediate.dense.bias\n",
      "model.encoder.layer.10.output.dense.weight\n",
      "model.encoder.layer.10.output.dense.bias\n",
      "model.encoder.layer.10.output.LayerNorm.weight\n",
      "model.encoder.layer.10.output.LayerNorm.bias\n",
      "model.encoder.layer.11.attention.self.query.weight\n",
      "model.encoder.layer.11.attention.self.query.bias\n",
      "model.encoder.layer.11.attention.self.key.weight\n",
      "model.encoder.layer.11.attention.self.key.bias\n",
      "model.encoder.layer.11.attention.self.value.weight\n",
      "model.encoder.layer.11.attention.self.value.bias\n",
      "model.encoder.layer.11.attention.output.dense.weight\n",
      "model.encoder.layer.11.attention.output.dense.bias\n",
      "model.encoder.layer.11.attention.output.LayerNorm.weight\n",
      "model.encoder.layer.11.attention.output.LayerNorm.bias\n",
      "model.encoder.layer.11.intermediate.dense.weight\n",
      "model.encoder.layer.11.intermediate.dense.bias\n",
      "model.encoder.layer.11.output.dense.weight\n",
      "model.encoder.layer.11.output.dense.bias\n",
      "model.encoder.layer.11.output.LayerNorm.weight\n",
      "model.encoder.layer.11.output.LayerNorm.bias\n",
      "model.input_proj.0.weight\n",
      "model.input_proj.0.bias\n",
      "model.input_proj.2.weight\n",
      "model.input_proj.2.bias\n",
      "model.position_embeddings.weight\n",
      "model.time_embeddings.1.weight\n",
      "model.time_embeddings.1.bias\n",
      "model.time_embeddings.3.weight\n",
      "model.time_embeddings.3.bias\n",
      "model.LayerNorm.weight\n",
      "model.LayerNorm.bias\n",
      "model.output_proj.0.weight\n",
      "model.output_proj.0.bias\n",
      "model.output_proj.2.weight\n",
      "model.output_proj.2.bias\n"
     ]
    }
   ],
   "source": [
    "for n,p in diffusion_model.named_parameters():\n",
    "    print(n)"
   ]
  },
  {
   "cell_type": "code",
   "execution_count": 15,
   "metadata": {
    "pycharm": {
     "name": "#%%\n"
    }
   },
   "outputs": [
    {
     "data": {
      "text/plain": [
       "tensor([0.0146, 0.0089, 0.0071,  ..., 0.3572, 0.5556, 0.9990], device='cuda:1')"
      ]
     },
     "execution_count": 15,
     "metadata": {},
     "output_type": "execute_result"
    }
   ],
   "source": [
    "diffusion_model.betas"
   ]
  },
  {
   "cell_type": "code",
   "execution_count": null,
   "metadata": {
    "pycharm": {
     "name": "#%%\n"
    }
   },
   "outputs": [],
   "source": []
  },
  {
   "cell_type": "code",
   "execution_count": 14,
   "metadata": {
    "pycharm": {
     "name": "#%%\n"
    }
   },
   "outputs": [
    {
     "data": {
      "text/plain": [
       "Parameter containing:\n",
       "tensor([[ 0.2217,  0.0254,  0.4711,  ...,  0.3230,  0.3838,  0.7482],\n",
       "        [ 0.0882,  1.0620,  0.5003,  ...,  0.6159,  0.3964,  0.6374],\n",
       "        [ 0.4291,  0.2313,  0.5281,  ...,  0.7738,  0.3877,  0.7236],\n",
       "        ...,\n",
       "        [-0.0897, -0.9293, -0.8582,  ...,  0.3125,  0.8776,  0.1680],\n",
       "        [ 0.1854,  0.0403, -0.2973,  ...,  0.3295,  0.4081,  0.3254],\n",
       "        [-0.3223, -0.1760,  0.1167,  ...,  0.2682,  0.5546,  0.2844]],\n",
       "       device='cuda:0', requires_grad=True)"
      ]
     },
     "execution_count": 14,
     "metadata": {},
     "output_type": "execute_result"
    }
   ],
   "source": [
    "diffusion_model.word_embeddings.weight"
   ]
  },
  {
   "cell_type": "code",
   "execution_count": 15,
   "metadata": {
    "pycharm": {
     "name": "#%%\n"
    }
   },
   "outputs": [
    {
     "data": {
      "text/plain": [
       "Parameter containing:\n",
       "tensor([[ 0.2217,  0.0254,  0.4711,  ...,  0.3230,  0.3838,  0.7482],\n",
       "        [ 0.0882,  1.0620,  0.5003,  ...,  0.6159,  0.3964,  0.6374],\n",
       "        [ 0.4291,  0.2313,  0.5281,  ...,  0.7738,  0.3877,  0.7236],\n",
       "        ...,\n",
       "        [-0.0897, -0.9293, -0.8582,  ...,  0.3125,  0.8776,  0.1680],\n",
       "        [ 0.1854,  0.0403, -0.2973,  ...,  0.3295,  0.4081,  0.3254],\n",
       "        [-0.3223, -0.1760,  0.1167,  ...,  0.2682,  0.5546,  0.2844]],\n",
       "       device='cuda:0', requires_grad=True)"
      ]
     },
     "execution_count": 15,
     "metadata": {},
     "output_type": "execute_result"
    }
   ],
   "source": [
    "diffusion_model.lm_head.weight"
   ]
  },
  {
   "cell_type": "code",
   "execution_count": 16,
   "metadata": {
    "pycharm": {
     "name": "#%%\n"
    }
   },
   "outputs": [
    {
     "data": {
      "text/plain": [
       "tensor([ 3.6980e-01,  1.4281e-02,  8.5134e-01,  4.6347e-01,  8.3883e-02,\n",
       "        -5.2226e-01, -1.1526e-01, -4.1208e-01, -1.9577e-01,  6.2380e-01,\n",
       "        -2.6762e-01,  4.4332e-01, -9.8043e-01,  4.9860e-01, -2.0108e-02,\n",
       "         1.1695e+00, -2.7346e-01, -2.1597e-01, -5.3292e-01,  4.1682e-01,\n",
       "        -9.3909e-01,  6.1473e-01, -2.9377e-01,  1.1352e+00,  8.1860e-02,\n",
       "        -1.8189e-01,  3.6770e-01,  8.8562e-02,  2.9779e-01,  7.9326e-01,\n",
       "        -1.5170e-01,  2.6372e-01,  7.0391e-01,  4.8530e-01, -1.2471e-01,\n",
       "        -7.3973e-01, -6.7852e-01,  2.4380e-01,  6.1742e-01,  2.6714e-01,\n",
       "         7.7159e-02, -1.3679e-01, -2.5824e-01,  4.2884e-01,  3.4468e-01,\n",
       "        -6.4796e-02,  3.2856e-01, -3.2289e-01, -3.0372e-01, -6.2548e-01,\n",
       "         2.5278e-01,  2.4888e-01, -1.6193e+00, -3.0788e-01,  1.0746e+00,\n",
       "         3.9899e-01, -2.5974e-01, -2.6729e-01, -1.2117e-02,  2.3565e-01,\n",
       "        -4.8559e-02,  6.6479e-03, -2.5953e-01, -3.3761e-01, -2.2743e-01,\n",
       "         1.5445e-01, -9.6112e-01,  4.0863e-01,  7.8468e-01, -9.2408e-01,\n",
       "         5.5759e-02, -3.6187e-03,  6.7993e-02,  4.4304e-01,  9.8677e-02,\n",
       "        -2.2572e-01, -2.6864e-01, -2.2325e-02,  1.8399e-01,  2.2916e-01,\n",
       "        -3.6513e-01, -6.1419e-01, -1.1048e-01, -7.1105e-02,  1.0752e-01,\n",
       "        -2.5626e-01, -7.3421e-01,  1.5189e-01,  9.0777e-01, -5.0355e-02,\n",
       "        -3.5372e-01, -3.3626e-01,  4.6736e-01, -5.7868e-01,  5.0262e-01,\n",
       "        -1.7609e-01,  4.4141e-02, -4.6102e-01, -5.7399e-01,  5.5169e-01,\n",
       "        -3.9665e-01, -1.5652e-01, -3.3808e-01,  1.8683e-01, -4.7386e-01,\n",
       "         1.5278e-03, -2.7083e-01, -6.7287e-02, -1.9300e-01,  3.7845e-01,\n",
       "        -1.3603e-01,  5.8891e-01, -7.9629e-01, -3.6117e-01, -1.3069e-02,\n",
       "         1.2453e-01,  4.5170e-02, -3.9554e-01,  3.7371e-01,  1.9167e-01,\n",
       "        -1.5190e-01,  6.6808e-01, -2.9200e-01,  4.6201e-02,  2.9329e-01,\n",
       "         4.1599e-01,  3.6041e-01,  6.6362e-01], device='cuda:0',\n",
       "       grad_fn=<SelectBackward0>)"
      ]
     },
     "execution_count": 16,
     "metadata": {},
     "output_type": "execute_result"
    }
   ],
   "source": [
    "diffusion_model.word_embeddings.weight[3]"
   ]
  },
  {
   "cell_type": "code",
   "execution_count": 17,
   "metadata": {
    "pycharm": {
     "name": "#%%\n"
    }
   },
   "outputs": [
    {
     "data": {
      "text/plain": [
       "Linear(in_features=128, out_features=11831, bias=False)"
      ]
     },
     "execution_count": 17,
     "metadata": {},
     "output_type": "execute_result"
    }
   ],
   "source": [
    "diffusion_model.lm_head"
   ]
  },
  {
   "cell_type": "code",
   "execution_count": 25,
   "metadata": {
    "collapsed": false,
    "pycharm": {
     "name": "#%%\n"
    }
   },
   "outputs": [
    {
     "name": "stdout",
     "output_type": "stream",
     "text": [
      "tensor([ 4.3935,  4.4273,  3.1125,  4.4660, -2.4534,  1.5366, -0.5221,  0.9753,\n",
      "        -3.2307,  5.0618], device='cuda:0')\n"
     ]
    }
   ],
   "source": [
    "print(diffusion_model.lm_head.bias.data[:10])"
   ]
  },
  {
   "cell_type": "code",
   "execution_count": 18,
   "metadata": {
    "pycharm": {
     "name": "#%%\n"
    }
   },
   "outputs": [],
   "source": [
    "learned_emb = diffusion_model.word_embeddings.weight.data.cpu().numpy()"
   ]
  },
  {
   "cell_type": "code",
   "execution_count": 19,
   "metadata": {
    "pycharm": {
     "name": "#%%\n"
    }
   },
   "outputs": [
    {
     "data": {
      "text/plain": [
       "(11831, 128)"
      ]
     },
     "execution_count": 19,
     "metadata": {},
     "output_type": "execute_result"
    }
   ],
   "source": [
    "learned_emb.shape"
   ]
  },
  {
   "cell_type": "code",
   "execution_count": 50,
   "metadata": {
    "pycharm": {
     "name": "#%%\n"
    }
   },
   "outputs": [
    {
     "name": "stderr",
     "output_type": "stream",
     "text": [
      "/home/dingyizhou/anaconda3/envs/gen/lib/python3.9/site-packages/sklearn/manifold/_t_sne.py:795: FutureWarning: The default initialization in TSNE will change from 'random' to 'pca' in 1.2.\n",
      "  warnings.warn(\n"
     ]
    }
   ],
   "source": [
    "emb_2d = TSNE(learning_rate='auto').fit_transform(learned_emb)"
   ]
  },
  {
   "cell_type": "code",
   "execution_count": 51,
   "metadata": {
    "pycharm": {
     "name": "#%%\n"
    }
   },
   "outputs": [
    {
     "data": {
      "text/plain": [
       "(852, 2)"
      ]
     },
     "execution_count": 51,
     "metadata": {},
     "output_type": "execute_result"
    }
   ],
   "source": [
    "emb_2d.shape"
   ]
  },
  {
   "cell_type": "code",
   "execution_count": 53,
   "metadata": {
    "pycharm": {
     "name": "#%%\n"
    }
   },
   "outputs": [
    {
     "data": {
      "text/plain": [
       "<matplotlib.collections.PathCollection at 0x7fc4afc5c070>"
      ]
     },
     "execution_count": 53,
     "metadata": {},
     "output_type": "execute_result"
    },
    {
     "data": {
      "image/png": "[encoded data removed]",
      "text/plain": [
       "<Figure size 432x288 with 1 Axes>"
      ]
     },
     "metadata": {
      "needs_background": "light"
     },
     "output_type": "display_data"
    }
   ],
   "source": [
    "plt.scatter(x=emb_2d[:,0], y=emb_2d[:,1])"
   ]
  },
  {
   "cell_type": "code",
   "execution_count": 20,
   "metadata": {
    "pycharm": {
     "name": "#%%\n"
    }
   },
   "outputs": [],
   "source": [
    "learned_rounding = diffusion_model.lm_head.weight.data.cpu().numpy()"
   ]
  },
  {
   "cell_type": "code",
   "execution_count": 21,
   "metadata": {
    "pycharm": {
     "name": "#%%\n"
    }
   },
   "outputs": [
    {
     "data": {
      "text/plain": [
       "(11831, 128)"
      ]
     },
     "execution_count": 21,
     "metadata": {},
     "output_type": "execute_result"
    }
   ],
   "source": [
    "learned_rounding.shape"
   ]
  },
  {
   "cell_type": "code",
   "execution_count": 22,
   "metadata": {
    "pycharm": {
     "name": "#%%\n"
    }
   },
   "outputs": [
    {
     "data": {
      "text/plain": [
       "<matplotlib.image.AxesImage at 0x7f60a957ff40>"
      ]
     },
     "execution_count": 22,
     "metadata": {},
     "output_type": "execute_result"
    },
    {
     "data": {
      "image/png": "[encoded data removed]",
      "text/plain": [
       "<Figure size 576x576 with 1 Axes>"
      ]
     },
     "metadata": {
      "needs_background": "light"
     },
     "output_type": "display_data"
    }
   ],
   "source": [
    "plt.figure(figsize=(8,8))\n",
    "plt.imshow(np.matmul(learned_emb[:20,:], learned_rounding[:20,:].T), cmap='gray')"
   ]
  },
  {
   "cell_type": "code",
   "execution_count": 12,
   "metadata": {
    "pycharm": {
     "name": "#%%\n"
    }
   },
   "outputs": [
    {
     "data": {
      "text/plain": [
       "<matplotlib.image.AxesImage at 0x7f1ca9088610>"
      ]
     },
     "execution_count": 12,
     "metadata": {},
     "output_type": "execute_result"
    },
    {
     "data": {
      "image/png": "[encoded data removed]",
      "text/plain": [
       "<Figure size 432x288 with 1 Axes>"
      ]
     },
     "metadata": {
      "needs_background": "light"
     },
     "output_type": "display_data"
    }
   ],
   "source": [
    "t = torch.randn(size=(100,10))\n",
    "plt.imshow(torch.matmul(t, t.T), cmap='gray')"
   ]
  },
  {
   "cell_type": "code",
   "execution_count": null,
   "metadata": {
    "pycharm": {
     "name": "#%%\n"
    }
   },
   "outputs": [],
   "source": []
  }
 ],
 "metadata": {
  "kernelspec": {
   "display_name": "Python 3 (ipykernel)",
   "language": "python",
   "name": "python3"
  },
  "language_info": {
   "codemirror_mode": {
    "name": "ipython",
    "version": 3
   },
   "file_extension": ".py",
   "mimetype": "text/x-python",
   "name": "python",
   "nbconvert_exporter": "python",
   "pygments_lexer": "ipython3",
   "version": "3.9.12"
  }
 },
 "nbformat": 4,
 "nbformat_minor": 1
}
