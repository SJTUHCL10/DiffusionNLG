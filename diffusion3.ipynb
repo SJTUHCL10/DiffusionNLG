{
 "cells": [
  {
   "cell_type": "code",
   "execution_count": 1,
   "metadata": {
    "pycharm": {
     "name": "#%%\n"
    }
   },
   "outputs": [],
   "source": [
    "import numpy as np\n",
    "import torch\n",
    "import transformers\n",
    "import matplotlib.pyplot as plt\n",
    "\n",
    "from transformers import BertConfig\n",
    "from transformers import get_cosine_schedule_with_warmup\n",
    "from sklearn.model_selection import train_test_split\n",
    "from torch.utils.data import DataLoader\n",
    "from sklearn.manifold import TSNE\n",
    "from tqdm.auto import tqdm\n",
    "\n",
    "from models import BertForDiffusion, DiffusionLM\n",
    "from data_utils import load_e2enlg_dataset_and_tokenizer, E2enlgDataset, load_rocstories_dataset_and_tokenizer, RocstoriesDataset\n",
    "from noise_schedule import get_named_beta_schedule\n",
    "from train_utils import train, evaluate\n",
    "\n",
    "%matplotlib inline"
   ]
  },
  {
   "cell_type": "code",
   "execution_count": 2,
   "metadata": {
    "pycharm": {
     "name": "#%%\n"
    }
   },
   "outputs": [],
   "source": [
    "# dataset args\n",
    "max_len = 72    # maximum length of input_ids\n",
    "vocab_threshold = 10    # occurrence time < threshold token as [UNK]\n",
    "test_size = 0.1     # size of evaluation dataset\n",
    "\n",
    "# training args\n",
    "batch_size = 32\n",
    "device = torch.device(\"cuda:0\")\n",
    "lr = 2e-4\n",
    "num_epoch = 50\n",
    "weight_decay = 0\n",
    "num_warmup_steps = 100\n",
    "\n",
    "# model args\n",
    "word_embedding_dim = 128\n",
    "hidden_size = 512\n",
    "num_hidden_layers = 4\n",
    "num_attention_heads = 8\n",
    "intermediate_size = 2048\n",
    "max_position_embeddings = max_len"
   ]
  },
  {
   "cell_type": "code",
   "execution_count": 3,
   "metadata": {
    "pycharm": {
     "name": "#%%\n"
    }
   },
   "outputs": [
    {
     "name": "stderr",
     "output_type": "stream",
     "text": [
      "No config specified, defaulting to: roc_stories/all\n",
      "Reusing dataset roc_stories (/home/dingyizhou/.cache/huggingface/datasets/wza___roc_stories/all/2.1.0/43e2851d9f31e08e4b2dd07a8057ed7a64cbb25cc7105d09856c14e638695506)\n"
     ]
    },
    {
     "data": {
      "application/vnd.jupyter.widget-view+json": {
       "model_id": "4c1ef7944ced45ca942c48a2997b854d",
       "version_major": 2,
       "version_minor": 0
      },
      "text/plain": [
       "  0%|          | 0/1 [00:00<?, ?it/s]"
      ]
     },
     "metadata": {},
     "output_type": "display_data"
    },
    {
     "data": {
      "application/vnd.jupyter.widget-view+json": {
       "model_id": "fdada6134ff9462388bcf24c4a870d45",
       "version_major": 2,
       "version_minor": 0
      },
      "text/plain": [
       "  0%|          | 0/98161 [00:00<?, ?it/s]"
      ]
     },
     "metadata": {},
     "output_type": "display_data"
    },
    {
     "data": {
      "application/vnd.jupyter.widget-view+json": {
       "model_id": "17940616d8254a09a2750c120cc0e625",
       "version_major": 2,
       "version_minor": 0
      },
      "text/plain": [
       "  0%|          | 0/99 [00:00<?, ?ba/s]"
      ]
     },
     "metadata": {},
     "output_type": "display_data"
    },
    {
     "name": "stdout",
     "output_type": "stream",
     "text": [
      "Training set size: 88344\n",
      "Evaluation set size: 9817\n"
     ]
    }
   ],
   "source": [
    "tokenized_rocstories_dataset, tokenizer = load_rocstories_dataset_and_tokenizer(max_len=max_len, vocab_threshold=vocab_threshold)\n",
    "\n",
    "rev_tokenizer = {v: k for k, v in tokenizer.items()}\n",
    "\n",
    "train_set, eval_set = train_test_split(tokenized_rocstories_dataset, test_size=test_size, shuffle=True)\n",
    "\n",
    "train_dataset = RocstoriesDataset(data_lst=train_set['input_ids'], attention_mask_lst=train_set['attention_mask'])\n",
    "print(\"Training set size:\",len(train_dataset))\n",
    "eval_dataset = RocstoriesDataset(data_lst=eval_set['input_ids'], attention_mask_lst=eval_set['attention_mask'])\n",
    "print(\"Evaluation set size:\", len(eval_dataset))\n",
    "\n",
    "train_dataloader = DataLoader(train_dataset, batch_size=batch_size, shuffle=True)\n",
    "eval_dataloader = DataLoader(eval_dataset, batch_size=batch_size, shuffle=False)"
   ]
  },
  {
   "cell_type": "code",
   "execution_count": 4,
   "metadata": {
    "pycharm": {
     "name": "#%%\n"
    },
    "scrolled": true
   },
   "outputs": [
    {
     "name": "stdout",
     "output_type": "stream",
     "text": [
      "BertConfig {\n",
      "  \"T\": 2000,\n",
      "  \"attention_probs_dropout_prob\": 0.1,\n",
      "  \"classifier_dropout\": null,\n",
      "  \"hidden_act\": \"gelu\",\n",
      "  \"hidden_dropout_prob\": 0.1,\n",
      "  \"hidden_size\": 512,\n",
      "  \"initializer_range\": 0.02,\n",
      "  \"intermediate_size\": 2048,\n",
      "  \"layer_norm_eps\": 1e-12,\n",
      "  \"max_position_embeddings\": 72,\n",
      "  \"model_type\": \"bert\",\n",
      "  \"num_attention_heads\": 8,\n",
      "  \"num_hidden_layers\": 4,\n",
      "  \"pad_token_id\": 3,\n",
      "  \"position_embedding_type\": \"absolute\",\n",
      "  \"transformers_version\": \"4.19.2\",\n",
      "  \"type_vocab_size\": 2,\n",
      "  \"use_cache\": true,\n",
      "  \"vocab_size\": 11831,\n",
      "  \"word_embedding_dim\": 128\n",
      "}\n",
      "\n"
     ]
    }
   ],
   "source": [
    "config = BertConfig(vocab_size=len(tokenizer), hidden_size=hidden_size, num_hidden_layers=num_hidden_layers, num_attention_heads=num_attention_heads, intermediate_size=intermediate_size, max_position_embeddings=max_position_embeddings, pad_token_id=tokenizer['[PAD]'])\n",
    "\n",
    "config.T = 2000\n",
    "config.word_embedding_dim = word_embedding_dim\n",
    "\n",
    "print(config)"
   ]
  },
  {
   "cell_type": "code",
   "execution_count": 5,
   "metadata": {
    "pycharm": {
     "name": "#%%\n"
    }
   },
   "outputs": [
    {
     "data": {
      "text/plain": [
       "[<matplotlib.lines.Line2D at 0x7fed45374fa0>]"
      ]
     },
     "execution_count": 5,
     "metadata": {},
     "output_type": "execute_result"
    },
    {
     "data": {
      "image/png": "[encoded data removed]",
      "text/plain": [
       "<Figure size 432x288 with 1 Axes>"
      ]
     },
     "metadata": {
      "needs_background": "light"
     },
     "output_type": "display_data"
    }
   ],
   "source": [
    "betas = torch.Tensor(get_named_beta_schedule(schedule_name=\"sqrt\", num_diffusion_timesteps=config.T))\n",
    "# betas = torch.Tensor(get_named_beta_schedule(schedule_name=\"linear\", num_diffusion_timesteps=config.T))\n",
    "\n",
    "alphas = 1. - betas\n",
    "alphas_bar = torch.cumprod(alphas, dim=0)\n",
    "sqrt_one_minus_alphas_bar = torch.sqrt(1. - alphas_bar)\n",
    "plt.plot(sqrt_one_minus_alphas_bar)"
   ]
  },
  {
   "cell_type": "code",
   "execution_count": 6,
   "metadata": {
    "pycharm": {
     "name": "#%%\n"
    }
   },
   "outputs": [
    {
     "name": "stdout",
     "output_type": "stream",
     "text": [
      "Diffusion model #parameters:\n",
      "15854647\n"
     ]
    }
   ],
   "source": [
    "diffusion_model = DiffusionLM(config=config, betas=betas, use_shared_weight=True, add_emb_noise=False).to(device)\n",
    "\n",
    "print(\"Diffusion model #parameters:\")\n",
    "print(sum([p.numel() for p in diffusion_model.parameters()]))\n",
    "\n",
    "optimizer = torch.optim.AdamW(diffusion_model.parameters(), lr=lr, weight_decay=weight_decay)\n",
    "scheduler = get_cosine_schedule_with_warmup(optimizer=optimizer, num_warmup_steps=num_warmup_steps, num_training_steps=num_epoch*len(train_dataloader))"
   ]
  },
  {
   "cell_type": "code",
   "execution_count": 8,
   "metadata": {
    "pycharm": {
     "name": "#%%\n"
    }
   },
   "outputs": [
    {
     "data": {
      "application/vnd.jupyter.widget-view+json": {
       "model_id": "0bebec8a837e4dc29fbc473156e7797a",
       "version_major": 2,
       "version_minor": 0
      },
      "text/plain": [
       "  0%|          | 0/59150 [00:00<?, ?it/s]"
      ]
     },
     "metadata": {},
     "output_type": "display_data"
    },
    {
     "name": "stdout",
     "output_type": "stream",
     "text": [
      "epoch: 1\n",
      "step: 100\n",
      "mse  training loss=0.4567\n",
      "L_T  training loss=0.0000\n",
      "rounding  training loss=0.5953\n",
      "step: 200\n",
      "mse  training loss=0.2924\n",
      "L_T  training loss=0.0000\n",
      "rounding  training loss=0.4180\n",
      "step: 300\n",
      "mse  training loss=0.2502\n",
      "L_T  training loss=0.0000\n",
      "rounding  training loss=0.2713\n",
      "step: 400\n",
      "mse  training loss=0.2253\n",
      "L_T  training loss=0.0000\n",
      "rounding  training loss=0.1817\n",
      "step: 500\n",
      "mse  training loss=0.2080\n",
      "L_T  training loss=0.0000\n",
      "rounding  training loss=0.1274\n",
      "step: 600\n",
      "mse  training loss=0.2042\n",
      "L_T  training loss=0.0000\n",
      "rounding  training loss=0.0931\n",
      "step: 700\n",
      "mse  training loss=0.1963\n",
      "L_T  training loss=0.0000\n",
      "rounding  training loss=0.0706\n",
      "step: 800\n",
      "mse  training loss=0.1919\n",
      "L_T  training loss=0.0000\n",
      "rounding  training loss=0.0550\n",
      "step: 900\n",
      "mse  training loss=0.1834\n",
      "L_T  training loss=0.0000\n",
      "rounding  training loss=0.0440\n",
      "step: 1000\n",
      "mse  training loss=0.1792\n",
      "L_T  training loss=0.0000\n",
      "rounding  training loss=0.0360\n",
      "step: 1100\n",
      "mse  training loss=0.1775\n",
      "L_T  training loss=0.0000\n",
      "rounding  training loss=0.0301\n"
     ]
    },
    {
     "data": {
      "application/vnd.jupyter.widget-view+json": {
       "model_id": "343cef49497b4973b004bf1b17943e3b",
       "version_major": 2,
       "version_minor": 0
      },
      "text/plain": [
       "  0%|          | 0/132 [00:00<?, ?it/s]"
      ]
     },
     "metadata": {},
     "output_type": "display_data"
    },
    {
     "name": "stdout",
     "output_type": "stream",
     "text": [
      "eval loss=0.1908\n",
      "epoch: 2\n",
      "step: 100\n",
      "mse  training loss=0.1721\n",
      "L_T  training loss=0.0000\n",
      "rounding  training loss=0.0225\n",
      "step: 200\n",
      "mse  training loss=0.1651\n",
      "L_T  training loss=0.0000\n",
      "rounding  training loss=0.0197\n",
      "step: 300\n",
      "mse  training loss=0.1655\n",
      "L_T  training loss=0.0000\n",
      "rounding  training loss=0.0172\n",
      "step: 400\n",
      "mse  training loss=0.1631\n",
      "L_T  training loss=0.0000\n",
      "rounding  training loss=0.0153\n",
      "step: 500\n",
      "mse  training loss=0.1620\n",
      "L_T  training loss=0.0000\n",
      "rounding  training loss=0.0137\n",
      "step: 600\n",
      "mse  training loss=0.1585\n",
      "L_T  training loss=0.0000\n",
      "rounding  training loss=0.0125\n",
      "step: 700\n",
      "mse  training loss=0.1565\n",
      "L_T  training loss=0.0000\n",
      "rounding  training loss=0.0114\n",
      "step: 800\n",
      "mse  training loss=0.1469\n",
      "L_T  training loss=0.0000\n",
      "rounding  training loss=0.0104\n",
      "step: 900\n",
      "mse  training loss=0.1472\n",
      "L_T  training loss=0.0000\n",
      "rounding  training loss=0.0096\n",
      "step: 1000\n",
      "mse  training loss=0.1486\n",
      "L_T  training loss=0.0000\n",
      "rounding  training loss=0.0089\n",
      "step: 1100\n",
      "mse  training loss=0.1458\n",
      "L_T  training loss=0.0000\n",
      "rounding  training loss=0.0083\n"
     ]
    },
    {
     "data": {
      "application/vnd.jupyter.widget-view+json": {
       "model_id": "1a6ab188d0044af0a8d87f3cf94ace65",
       "version_major": 2,
       "version_minor": 0
      },
      "text/plain": [
       "  0%|          | 0/132 [00:00<?, ?it/s]"
      ]
     },
     "metadata": {},
     "output_type": "display_data"
    },
    {
     "name": "stdout",
     "output_type": "stream",
     "text": [
      "eval loss=0.1443\n",
      "epoch: 3\n",
      "step: 100\n",
      "mse  training loss=0.1400\n",
      "L_T  training loss=0.0000\n",
      "rounding  training loss=0.0075\n",
      "step: 200\n",
      "mse  training loss=0.1383\n",
      "L_T  training loss=0.0000\n",
      "rounding  training loss=0.0071\n",
      "step: 300\n",
      "mse  training loss=0.1403\n",
      "L_T  training loss=0.0000\n",
      "rounding  training loss=0.0068\n",
      "step: 400\n",
      "mse  training loss=0.1370\n",
      "L_T  training loss=0.0000\n",
      "rounding  training loss=0.0065\n",
      "step: 500\n",
      "mse  training loss=0.1347\n",
      "L_T  training loss=0.0000\n",
      "rounding  training loss=0.0062\n",
      "step: 600\n",
      "mse  training loss=0.1309\n",
      "L_T  training loss=0.0000\n",
      "rounding  training loss=0.0060\n",
      "step: 700\n",
      "mse  training loss=0.1301\n",
      "L_T  training loss=0.0000\n",
      "rounding  training loss=0.0058\n",
      "step: 800\n",
      "mse  training loss=0.1317\n",
      "L_T  training loss=0.0000\n",
      "rounding  training loss=0.0057\n",
      "step: 900\n",
      "mse  training loss=0.1285\n",
      "L_T  training loss=0.0000\n",
      "rounding  training loss=0.0055\n",
      "step: 1000\n",
      "mse  training loss=0.1268\n",
      "L_T  training loss=0.0000\n",
      "rounding  training loss=0.0054\n",
      "step: 1100\n",
      "mse  training loss=0.1298\n",
      "L_T  training loss=0.0000\n",
      "rounding  training loss=0.0053\n"
     ]
    },
    {
     "data": {
      "application/vnd.jupyter.widget-view+json": {
       "model_id": "94ef2300724b4e5cbf4c22a1a878cb94",
       "version_major": 2,
       "version_minor": 0
      },
      "text/plain": [
       "  0%|          | 0/132 [00:00<?, ?it/s]"
      ]
     },
     "metadata": {},
     "output_type": "display_data"
    },
    {
     "name": "stdout",
     "output_type": "stream",
     "text": [
      "eval loss=0.1266\n",
      "epoch: 4\n",
      "step: 100\n",
      "mse  training loss=0.1243\n",
      "L_T  training loss=0.0000\n",
      "rounding  training loss=0.0051\n",
      "step: 200\n",
      "mse  training loss=0.1226\n",
      "L_T  training loss=0.0000\n",
      "rounding  training loss=0.0051\n",
      "step: 300\n",
      "mse  training loss=0.1235\n",
      "L_T  training loss=0.0000\n",
      "rounding  training loss=0.0050\n",
      "step: 400\n",
      "mse  training loss=0.1226\n",
      "L_T  training loss=0.0000\n",
      "rounding  training loss=0.0051\n",
      "step: 500\n",
      "mse  training loss=0.1197\n",
      "L_T  training loss=0.0000\n",
      "rounding  training loss=0.0049\n",
      "step: 600\n",
      "mse  training loss=0.1167\n",
      "L_T  training loss=0.0000\n",
      "rounding  training loss=0.0049\n",
      "step: 700\n",
      "mse  training loss=0.1191\n",
      "L_T  training loss=0.0000\n",
      "rounding  training loss=0.0049\n",
      "step: 800\n",
      "mse  training loss=0.1175\n",
      "L_T  training loss=0.0000\n",
      "rounding  training loss=0.0049\n",
      "step: 900\n",
      "mse  training loss=0.1140\n",
      "L_T  training loss=0.0000\n",
      "rounding  training loss=0.0049\n",
      "step: 1000\n",
      "mse  training loss=0.1151\n",
      "L_T  training loss=0.0000\n",
      "rounding  training loss=0.0048\n",
      "step: 1100\n",
      "mse  training loss=0.1125\n",
      "L_T  training loss=0.0000\n",
      "rounding  training loss=0.0048\n"
     ]
    },
    {
     "data": {
      "application/vnd.jupyter.widget-view+json": {
       "model_id": "3c4985c555c049269994e2d608628659",
       "version_major": 2,
       "version_minor": 0
      },
      "text/plain": [
       "  0%|          | 0/132 [00:00<?, ?it/s]"
      ]
     },
     "metadata": {},
     "output_type": "display_data"
    },
    {
     "name": "stdout",
     "output_type": "stream",
     "text": [
      "eval loss=0.1149\n",
      "epoch: 5\n",
      "step: 100\n",
      "mse  training loss=0.1136\n",
      "L_T  training loss=0.0000\n",
      "rounding  training loss=0.0049\n",
      "step: 200\n",
      "mse  training loss=0.1112\n",
      "L_T  training loss=0.0000\n",
      "rounding  training loss=0.0049\n",
      "step: 300\n",
      "mse  training loss=0.1136\n",
      "L_T  training loss=0.0000\n",
      "rounding  training loss=0.0049\n",
      "step: 400\n",
      "mse  training loss=0.1105\n",
      "L_T  training loss=0.0000\n",
      "rounding  training loss=0.0049\n",
      "step: 500\n",
      "mse  training loss=0.1116\n",
      "L_T  training loss=0.0000\n",
      "rounding  training loss=0.0050\n",
      "step: 600\n",
      "mse  training loss=0.1075\n",
      "L_T  training loss=0.0000\n",
      "rounding  training loss=0.0049\n",
      "step: 700\n",
      "mse  training loss=0.1088\n",
      "L_T  training loss=0.0000\n",
      "rounding  training loss=0.0049\n",
      "step: 800\n",
      "mse  training loss=0.1070\n",
      "L_T  training loss=0.0000\n",
      "rounding  training loss=0.0049\n",
      "step: 900\n",
      "mse  training loss=0.1071\n",
      "L_T  training loss=0.0000\n",
      "rounding  training loss=0.0049\n",
      "step: 1000\n",
      "mse  training loss=0.1105\n",
      "L_T  training loss=0.0000\n",
      "rounding  training loss=0.0050\n",
      "step: 1100\n",
      "mse  training loss=0.1066\n",
      "L_T  training loss=0.0000\n",
      "rounding  training loss=0.0050\n"
     ]
    },
    {
     "data": {
      "application/vnd.jupyter.widget-view+json": {
       "model_id": "e5751b35b3ef45c995274b39f9c05f72",
       "version_major": 2,
       "version_minor": 0
      },
      "text/plain": [
       "  0%|          | 0/132 [00:00<?, ?it/s]"
      ]
     },
     "metadata": {},
     "output_type": "display_data"
    },
    {
     "name": "stdout",
     "output_type": "stream",
     "text": [
      "eval loss=0.1067\n",
      "epoch: 6\n",
      "step: 100\n",
      "mse  training loss=0.1046\n",
      "L_T  training loss=0.0000\n",
      "rounding  training loss=0.0049\n",
      "step: 200\n",
      "mse  training loss=0.1029\n",
      "L_T  training loss=0.0000\n",
      "rounding  training loss=0.0050\n",
      "step: 300\n",
      "mse  training loss=0.1041\n",
      "L_T  training loss=0.0000\n",
      "rounding  training loss=0.0050\n",
      "step: 400\n",
      "mse  training loss=0.1028\n",
      "L_T  training loss=0.0000\n",
      "rounding  training loss=0.0050\n",
      "step: 500\n",
      "mse  training loss=0.1028\n",
      "L_T  training loss=0.0000\n",
      "rounding  training loss=0.0050\n",
      "step: 600\n",
      "mse  training loss=0.1032\n",
      "L_T  training loss=0.0000\n",
      "rounding  training loss=0.0050\n",
      "step: 700\n",
      "mse  training loss=0.1010\n",
      "L_T  training loss=0.0000\n",
      "rounding  training loss=0.0051\n",
      "step: 800\n",
      "mse  training loss=0.1020\n",
      "L_T  training loss=0.0000\n",
      "rounding  training loss=0.0051\n",
      "step: 900\n",
      "mse  training loss=0.0998\n",
      "L_T  training loss=0.0000\n",
      "rounding  training loss=0.0051\n",
      "step: 1000\n",
      "mse  training loss=0.0978\n",
      "L_T  training loss=0.0000\n",
      "rounding  training loss=0.0051\n",
      "step: 1100\n",
      "mse  training loss=0.1010\n",
      "L_T  training loss=0.0000\n",
      "rounding  training loss=0.0051\n"
     ]
    },
    {
     "data": {
      "application/vnd.jupyter.widget-view+json": {
       "model_id": "18f42de8aca2410aa4ac0dc9f16323ed",
       "version_major": 2,
       "version_minor": 0
      },
      "text/plain": [
       "  0%|          | 0/132 [00:00<?, ?it/s]"
      ]
     },
     "metadata": {},
     "output_type": "display_data"
    },
    {
     "name": "stdout",
     "output_type": "stream",
     "text": [
      "eval loss=0.1025\n",
      "epoch: 7\n",
      "step: 100\n",
      "mse  training loss=0.0973\n",
      "L_T  training loss=0.0000\n",
      "rounding  training loss=0.0050\n",
      "step: 200\n",
      "mse  training loss=0.0986\n",
      "L_T  training loss=0.0000\n",
      "rounding  training loss=0.0050\n",
      "step: 300\n",
      "mse  training loss=0.0964\n",
      "L_T  training loss=0.0000\n",
      "rounding  training loss=0.0050\n",
      "step: 400\n",
      "mse  training loss=0.0983\n",
      "L_T  training loss=0.0000\n",
      "rounding  training loss=0.0051\n",
      "step: 500\n",
      "mse  training loss=0.0955\n",
      "L_T  training loss=0.0000\n",
      "rounding  training loss=0.0050\n",
      "step: 600\n",
      "mse  training loss=0.0967\n",
      "L_T  training loss=0.0000\n",
      "rounding  training loss=0.0050\n",
      "step: 700\n",
      "mse  training loss=0.0978\n",
      "L_T  training loss=0.0000\n",
      "rounding  training loss=0.0051\n",
      "step: 800\n",
      "mse  training loss=0.0963\n",
      "L_T  training loss=0.0000\n",
      "rounding  training loss=0.0051\n",
      "step: 900\n",
      "mse  training loss=0.0967\n",
      "L_T  training loss=0.0000\n",
      "rounding  training loss=0.0050\n",
      "step: 1000\n",
      "mse  training loss=0.0960\n",
      "L_T  training loss=0.0000\n",
      "rounding  training loss=0.0051\n",
      "step: 1100\n",
      "mse  training loss=0.0937\n",
      "L_T  training loss=0.0000\n",
      "rounding  training loss=0.0051\n"
     ]
    },
    {
     "data": {
      "application/vnd.jupyter.widget-view+json": {
       "model_id": "18a81611f94147f08cda94b1c3f7568b",
       "version_major": 2,
       "version_minor": 0
      },
      "text/plain": [
       "  0%|          | 0/132 [00:00<?, ?it/s]"
      ]
     },
     "metadata": {},
     "output_type": "display_data"
    },
    {
     "name": "stdout",
     "output_type": "stream",
     "text": [
      "eval loss=0.0978\n",
      "epoch: 8\n",
      "step: 100\n",
      "mse  training loss=0.0951\n",
      "L_T  training loss=0.0000\n",
      "rounding  training loss=0.0051\n",
      "step: 200\n",
      "mse  training loss=0.0955\n",
      "L_T  training loss=0.0000\n",
      "rounding  training loss=0.0052\n",
      "step: 300\n",
      "mse  training loss=0.0942\n",
      "L_T  training loss=0.0000\n",
      "rounding  training loss=0.0051\n",
      "step: 400\n",
      "mse  training loss=0.0928\n",
      "L_T  training loss=0.0000\n",
      "rounding  training loss=0.0052\n",
      "step: 500\n",
      "mse  training loss=0.0913\n",
      "L_T  training loss=0.0000\n",
      "rounding  training loss=0.0051\n",
      "step: 600\n",
      "mse  training loss=0.0955\n",
      "L_T  training loss=0.0000\n",
      "rounding  training loss=0.0052\n",
      "step: 700\n",
      "mse  training loss=0.0959\n",
      "L_T  training loss=0.0000\n",
      "rounding  training loss=0.0052\n",
      "step: 800\n",
      "mse  training loss=0.0925\n",
      "L_T  training loss=0.0000\n",
      "rounding  training loss=0.0051\n",
      "step: 900\n",
      "mse  training loss=0.0912\n",
      "L_T  training loss=0.0000\n",
      "rounding  training loss=0.0051\n",
      "step: 1000\n",
      "mse  training loss=0.0917\n",
      "L_T  training loss=0.0000\n",
      "rounding  training loss=0.0051\n",
      "step: 1100\n",
      "mse  training loss=0.0926\n",
      "L_T  training loss=0.0000\n",
      "rounding  training loss=0.0051\n"
     ]
    },
    {
     "data": {
      "application/vnd.jupyter.widget-view+json": {
       "model_id": "9a03889ff8f24cd2b443f35c6fbc7f07",
       "version_major": 2,
       "version_minor": 0
      },
      "text/plain": [
       "  0%|          | 0/132 [00:00<?, ?it/s]"
      ]
     },
     "metadata": {},
     "output_type": "display_data"
    },
    {
     "name": "stdout",
     "output_type": "stream",
     "text": [
      "eval loss=0.0932\n",
      "epoch: 9\n",
      "step: 100\n",
      "mse  training loss=0.0913\n",
      "L_T  training loss=0.0000\n",
      "rounding  training loss=0.0050\n",
      "step: 200\n",
      "mse  training loss=0.0907\n",
      "L_T  training loss=0.0000\n",
      "rounding  training loss=0.0051\n",
      "step: 300\n",
      "mse  training loss=0.0914\n",
      "L_T  training loss=0.0000\n",
      "rounding  training loss=0.0051\n",
      "step: 400\n",
      "mse  training loss=0.0910\n",
      "L_T  training loss=0.0000\n",
      "rounding  training loss=0.0051\n",
      "step: 500\n",
      "mse  training loss=0.0891\n",
      "L_T  training loss=0.0000\n",
      "rounding  training loss=0.0051\n",
      "step: 600\n",
      "mse  training loss=0.0887\n",
      "L_T  training loss=0.0000\n",
      "rounding  training loss=0.0050\n",
      "step: 700\n",
      "mse  training loss=0.0889\n",
      "L_T  training loss=0.0000\n",
      "rounding  training loss=0.0050\n",
      "step: 800\n",
      "mse  training loss=0.0887\n",
      "L_T  training loss=0.0000\n",
      "rounding  training loss=0.0049\n",
      "step: 900\n",
      "mse  training loss=0.0909\n",
      "L_T  training loss=0.0000\n",
      "rounding  training loss=0.0051\n",
      "step: 1000\n",
      "mse  training loss=0.0901\n",
      "L_T  training loss=0.0000\n",
      "rounding  training loss=0.0050\n",
      "step: 1100\n",
      "mse  training loss=0.0881\n",
      "L_T  training loss=0.0000\n",
      "rounding  training loss=0.0050\n"
     ]
    },
    {
     "data": {
      "application/vnd.jupyter.widget-view+json": {
       "model_id": "7f873a2a49064f82ad1b380ff16c3245",
       "version_major": 2,
       "version_minor": 0
      },
      "text/plain": [
       "  0%|          | 0/132 [00:00<?, ?it/s]"
      ]
     },
     "metadata": {},
     "output_type": "display_data"
    },
    {
     "name": "stdout",
     "output_type": "stream",
     "text": [
      "eval loss=0.0915\n",
      "epoch: 10\n",
      "step: 100\n",
      "mse  training loss=0.0895\n",
      "L_T  training loss=0.0000\n",
      "rounding  training loss=0.0050\n",
      "step: 200\n",
      "mse  training loss=0.0900\n",
      "L_T  training loss=0.0000\n",
      "rounding  training loss=0.0051\n",
      "step: 300\n",
      "mse  training loss=0.0876\n",
      "L_T  training loss=0.0000\n",
      "rounding  training loss=0.0050\n",
      "step: 400\n",
      "mse  training loss=0.0876\n",
      "L_T  training loss=0.0000\n",
      "rounding  training loss=0.0050\n",
      "step: 500\n",
      "mse  training loss=0.0889\n",
      "L_T  training loss=0.0000\n",
      "rounding  training loss=0.0050\n",
      "step: 600\n",
      "mse  training loss=0.0878\n",
      "L_T  training loss=0.0000\n",
      "rounding  training loss=0.0050\n",
      "step: 700\n",
      "mse  training loss=0.0870\n",
      "L_T  training loss=0.0000\n",
      "rounding  training loss=0.0050\n",
      "step: 800\n",
      "mse  training loss=0.0899\n",
      "L_T  training loss=0.0000\n",
      "rounding  training loss=0.0050\n",
      "step: 900\n",
      "mse  training loss=0.0883\n",
      "L_T  training loss=0.0000\n",
      "rounding  training loss=0.0051\n",
      "step: 1000\n",
      "mse  training loss=0.0894\n",
      "L_T  training loss=0.0000\n",
      "rounding  training loss=0.0050\n",
      "step: 1100\n",
      "mse  training loss=0.0876\n",
      "L_T  training loss=0.0000\n",
      "rounding  training loss=0.0050\n"
     ]
    },
    {
     "data": {
      "application/vnd.jupyter.widget-view+json": {
       "model_id": "133802047c9644d599445c601a97bf1c",
       "version_major": 2,
       "version_minor": 0
      },
      "text/plain": [
       "  0%|          | 0/132 [00:00<?, ?it/s]"
      ]
     },
     "metadata": {},
     "output_type": "display_data"
    },
    {
     "name": "stdout",
     "output_type": "stream",
     "text": [
      "eval loss=0.0893\n",
      "epoch: 11\n",
      "step: 100\n",
      "mse  training loss=0.0869\n",
      "L_T  training loss=0.0000\n",
      "rounding  training loss=0.0051\n",
      "step: 200\n",
      "mse  training loss=0.0890\n",
      "L_T  training loss=0.0000\n",
      "rounding  training loss=0.0051\n",
      "step: 300\n",
      "mse  training loss=0.0877\n",
      "L_T  training loss=0.0000\n",
      "rounding  training loss=0.0052\n",
      "step: 400\n",
      "mse  training loss=0.0863\n",
      "L_T  training loss=0.0000\n",
      "rounding  training loss=0.0051\n",
      "step: 500\n",
      "mse  training loss=0.0860\n",
      "L_T  training loss=0.0000\n",
      "rounding  training loss=0.0051\n",
      "step: 600\n",
      "mse  training loss=0.0870\n",
      "L_T  training loss=0.0000\n",
      "rounding  training loss=0.0051\n",
      "step: 700\n",
      "mse  training loss=0.0871\n",
      "L_T  training loss=0.0000\n",
      "rounding  training loss=0.0051\n",
      "step: 800\n",
      "mse  training loss=0.0856\n",
      "L_T  training loss=0.0000\n",
      "rounding  training loss=0.0051\n",
      "step: 900\n",
      "mse  training loss=0.0855\n",
      "L_T  training loss=0.0000\n",
      "rounding  training loss=0.0049\n",
      "step: 1000\n",
      "mse  training loss=0.0864\n",
      "L_T  training loss=0.0000\n",
      "rounding  training loss=0.0051\n",
      "step: 1100\n",
      "mse  training loss=0.0838\n",
      "L_T  training loss=0.0000\n",
      "rounding  training loss=0.0050\n"
     ]
    },
    {
     "data": {
      "application/vnd.jupyter.widget-view+json": {
       "model_id": "da393bcc5fc849c09e86ac73d80986f6",
       "version_major": 2,
       "version_minor": 0
      },
      "text/plain": [
       "  0%|          | 0/132 [00:00<?, ?it/s]"
      ]
     },
     "metadata": {},
     "output_type": "display_data"
    },
    {
     "name": "stdout",
     "output_type": "stream",
     "text": [
      "eval loss=0.0841\n",
      "epoch: 12\n",
      "step: 100\n",
      "mse  training loss=0.0814\n",
      "L_T  training loss=0.0000\n",
      "rounding  training loss=0.0049\n",
      "step: 200\n",
      "mse  training loss=0.0861\n",
      "L_T  training loss=0.0000\n",
      "rounding  training loss=0.0049\n",
      "step: 300\n",
      "mse  training loss=0.0849\n",
      "L_T  training loss=0.0000\n",
      "rounding  training loss=0.0049\n",
      "step: 400\n",
      "mse  training loss=0.0842\n",
      "L_T  training loss=0.0000\n",
      "rounding  training loss=0.0049\n",
      "step: 500\n",
      "mse  training loss=0.0842\n",
      "L_T  training loss=0.0000\n",
      "rounding  training loss=0.0049\n",
      "step: 600\n",
      "mse  training loss=0.0854\n",
      "L_T  training loss=0.0000\n",
      "rounding  training loss=0.0049\n",
      "step: 700\n",
      "mse  training loss=0.0859\n",
      "L_T  training loss=0.0000\n",
      "rounding  training loss=0.0050\n",
      "step: 800\n",
      "mse  training loss=0.0855\n",
      "L_T  training loss=0.0000\n",
      "rounding  training loss=0.0051\n",
      "step: 900\n",
      "mse  training loss=0.0851\n",
      "L_T  training loss=0.0000\n",
      "rounding  training loss=0.0050\n",
      "step: 1000\n",
      "mse  training loss=0.0862\n",
      "L_T  training loss=0.0000\n",
      "rounding  training loss=0.0050\n",
      "step: 1100\n",
      "mse  training loss=0.0863\n",
      "L_T  training loss=0.0000\n",
      "rounding  training loss=0.0051\n"
     ]
    },
    {
     "data": {
      "application/vnd.jupyter.widget-view+json": {
       "model_id": "93703db77aba46bcb759aff64942e450",
       "version_major": 2,
       "version_minor": 0
      },
      "text/plain": [
       "  0%|          | 0/132 [00:00<?, ?it/s]"
      ]
     },
     "metadata": {},
     "output_type": "display_data"
    },
    {
     "name": "stdout",
     "output_type": "stream",
     "text": [
      "eval loss=0.0841\n",
      "epoch: 13\n",
      "step: 100\n",
      "mse  training loss=0.0839\n",
      "L_T  training loss=0.0000\n",
      "rounding  training loss=0.0050\n",
      "step: 200\n",
      "mse  training loss=0.0845\n",
      "L_T  training loss=0.0000\n",
      "rounding  training loss=0.0050\n",
      "step: 300\n",
      "mse  training loss=0.0813\n",
      "L_T  training loss=0.0000\n",
      "rounding  training loss=0.0049\n",
      "step: 400\n",
      "mse  training loss=0.0818\n",
      "L_T  training loss=0.0000\n",
      "rounding  training loss=0.0049\n",
      "step: 500\n",
      "mse  training loss=0.0838\n",
      "L_T  training loss=0.0000\n",
      "rounding  training loss=0.0048\n",
      "step: 600\n",
      "mse  training loss=0.0804\n",
      "L_T  training loss=0.0000\n",
      "rounding  training loss=0.0049\n",
      "step: 700\n",
      "mse  training loss=0.0854\n",
      "L_T  training loss=0.0000\n",
      "rounding  training loss=0.0048\n",
      "step: 800\n",
      "mse  training loss=0.0801\n",
      "L_T  training loss=0.0000\n",
      "rounding  training loss=0.0048\n",
      "step: 900\n",
      "mse  training loss=0.0814\n",
      "L_T  training loss=0.0000\n",
      "rounding  training loss=0.0048\n",
      "step: 1000\n",
      "mse  training loss=0.0821\n",
      "L_T  training loss=0.0000\n",
      "rounding  training loss=0.0047\n",
      "step: 1100\n",
      "mse  training loss=0.0819\n",
      "L_T  training loss=0.0000\n",
      "rounding  training loss=0.0048\n"
     ]
    },
    {
     "data": {
      "application/vnd.jupyter.widget-view+json": {
       "model_id": "13880a8f08c6452486994cd2ce266960",
       "version_major": 2,
       "version_minor": 0
      },
      "text/plain": [
       "  0%|          | 0/132 [00:00<?, ?it/s]"
      ]
     },
     "metadata": {},
     "output_type": "display_data"
    },
    {
     "name": "stdout",
     "output_type": "stream",
     "text": [
      "eval loss=0.0871\n",
      "epoch: 14\n",
      "step: 100\n",
      "mse  training loss=0.0822\n",
      "L_T  training loss=0.0000\n",
      "rounding  training loss=0.0047\n",
      "step: 200\n",
      "mse  training loss=0.0823\n",
      "L_T  training loss=0.0000\n",
      "rounding  training loss=0.0048\n",
      "step: 300\n",
      "mse  training loss=0.0816\n",
      "L_T  training loss=0.0000\n",
      "rounding  training loss=0.0048\n",
      "step: 400\n",
      "mse  training loss=0.0814\n",
      "L_T  training loss=0.0000\n",
      "rounding  training loss=0.0048\n",
      "step: 500\n",
      "mse  training loss=0.0810\n",
      "L_T  training loss=0.0000\n",
      "rounding  training loss=0.0047\n",
      "step: 600\n",
      "mse  training loss=0.0824\n",
      "L_T  training loss=0.0000\n",
      "rounding  training loss=0.0047\n",
      "step: 700\n",
      "mse  training loss=0.0811\n",
      "L_T  training loss=0.0000\n",
      "rounding  training loss=0.0047\n",
      "step: 800\n",
      "mse  training loss=0.0830\n",
      "L_T  training loss=0.0000\n",
      "rounding  training loss=0.0048\n",
      "step: 900\n",
      "mse  training loss=0.0820\n",
      "L_T  training loss=0.0000\n",
      "rounding  training loss=0.0047\n",
      "step: 1000\n",
      "mse  training loss=0.0826\n",
      "L_T  training loss=0.0000\n",
      "rounding  training loss=0.0048\n",
      "step: 1100\n",
      "mse  training loss=0.0825\n",
      "L_T  training loss=0.0000\n",
      "rounding  training loss=0.0048\n"
     ]
    },
    {
     "data": {
      "application/vnd.jupyter.widget-view+json": {
       "model_id": "ff437f9284154c07951806b0b37fa634",
       "version_major": 2,
       "version_minor": 0
      },
      "text/plain": [
       "  0%|          | 0/132 [00:00<?, ?it/s]"
      ]
     },
     "metadata": {},
     "output_type": "display_data"
    },
    {
     "name": "stdout",
     "output_type": "stream",
     "text": [
      "eval loss=0.0837\n",
      "epoch: 15\n",
      "step: 100\n",
      "mse  training loss=0.0813\n",
      "L_T  training loss=0.0000\n",
      "rounding  training loss=0.0048\n",
      "step: 200\n",
      "mse  training loss=0.0836\n",
      "L_T  training loss=0.0000\n",
      "rounding  training loss=0.0048\n",
      "step: 300\n",
      "mse  training loss=0.0813\n",
      "L_T  training loss=0.0000\n",
      "rounding  training loss=0.0047\n",
      "step: 400\n",
      "mse  training loss=0.0827\n",
      "L_T  training loss=0.0000\n",
      "rounding  training loss=0.0047\n",
      "step: 500\n",
      "mse  training loss=0.0800\n",
      "L_T  training loss=0.0000\n",
      "rounding  training loss=0.0047\n",
      "step: 600\n",
      "mse  training loss=0.0798\n",
      "L_T  training loss=0.0000\n",
      "rounding  training loss=0.0047\n",
      "step: 700\n",
      "mse  training loss=0.0825\n",
      "L_T  training loss=0.0000\n",
      "rounding  training loss=0.0047\n",
      "step: 800\n",
      "mse  training loss=0.0821\n",
      "L_T  training loss=0.0000\n",
      "rounding  training loss=0.0047\n",
      "step: 900\n",
      "mse  training loss=0.0798\n",
      "L_T  training loss=0.0000\n",
      "rounding  training loss=0.0047\n",
      "step: 1000\n",
      "mse  training loss=0.0800\n",
      "L_T  training loss=0.0000\n",
      "rounding  training loss=0.0047\n",
      "step: 1100\n",
      "mse  training loss=0.0791\n",
      "L_T  training loss=0.0000\n",
      "rounding  training loss=0.0046\n"
     ]
    },
    {
     "data": {
      "application/vnd.jupyter.widget-view+json": {
       "model_id": "c622d6dde3804982bbeb125510e28703",
       "version_major": 2,
       "version_minor": 0
      },
      "text/plain": [
       "  0%|          | 0/132 [00:00<?, ?it/s]"
      ]
     },
     "metadata": {},
     "output_type": "display_data"
    },
    {
     "name": "stdout",
     "output_type": "stream",
     "text": [
      "eval loss=0.0811\n",
      "epoch: 16\n",
      "step: 100\n",
      "mse  training loss=0.0788\n",
      "L_T  training loss=0.0000\n",
      "rounding  training loss=0.0046\n",
      "step: 200\n",
      "mse  training loss=0.0787\n",
      "L_T  training loss=0.0000\n",
      "rounding  training loss=0.0046\n",
      "step: 300\n",
      "mse  training loss=0.0814\n",
      "L_T  training loss=0.0000\n",
      "rounding  training loss=0.0046\n",
      "step: 400\n",
      "mse  training loss=0.0817\n",
      "L_T  training loss=0.0000\n",
      "rounding  training loss=0.0046\n",
      "step: 500\n",
      "mse  training loss=0.0819\n",
      "L_T  training loss=0.0000\n",
      "rounding  training loss=0.0047\n",
      "step: 600\n",
      "mse  training loss=0.0795\n",
      "L_T  training loss=0.0000\n",
      "rounding  training loss=0.0046\n",
      "step: 700\n",
      "mse  training loss=0.0823\n",
      "L_T  training loss=0.0000\n",
      "rounding  training loss=0.0047\n",
      "step: 800\n",
      "mse  training loss=0.0811\n",
      "L_T  training loss=0.0000\n",
      "rounding  training loss=0.0047\n",
      "step: 900\n",
      "mse  training loss=0.0793\n",
      "L_T  training loss=0.0000\n",
      "rounding  training loss=0.0047\n",
      "step: 1000\n",
      "mse  training loss=0.0810\n",
      "L_T  training loss=0.0000\n",
      "rounding  training loss=0.0047\n",
      "step: 1100\n",
      "mse  training loss=0.0777\n",
      "L_T  training loss=0.0000\n",
      "rounding  training loss=0.0047\n"
     ]
    },
    {
     "data": {
      "application/vnd.jupyter.widget-view+json": {
       "model_id": "c1bbeba9e0134071b537b7f44732edad",
       "version_major": 2,
       "version_minor": 0
      },
      "text/plain": [
       "  0%|          | 0/132 [00:00<?, ?it/s]"
      ]
     },
     "metadata": {},
     "output_type": "display_data"
    },
    {
     "name": "stdout",
     "output_type": "stream",
     "text": [
      "eval loss=0.0799\n",
      "epoch: 17\n",
      "step: 100\n",
      "mse  training loss=0.0799\n",
      "L_T  training loss=0.0000\n",
      "rounding  training loss=0.0046\n",
      "step: 200\n",
      "mse  training loss=0.0794\n",
      "L_T  training loss=0.0000\n",
      "rounding  training loss=0.0046\n",
      "step: 300\n",
      "mse  training loss=0.0801\n",
      "L_T  training loss=0.0000\n",
      "rounding  training loss=0.0046\n",
      "step: 400\n",
      "mse  training loss=0.0793\n",
      "L_T  training loss=0.0000\n",
      "rounding  training loss=0.0046\n",
      "step: 500\n",
      "mse  training loss=0.0804\n",
      "L_T  training loss=0.0000\n",
      "rounding  training loss=0.0046\n",
      "step: 600\n",
      "mse  training loss=0.0806\n",
      "L_T  training loss=0.0000\n",
      "rounding  training loss=0.0046\n",
      "step: 700\n",
      "mse  training loss=0.0810\n",
      "L_T  training loss=0.0000\n",
      "rounding  training loss=0.0047\n",
      "step: 800\n",
      "mse  training loss=0.0796\n",
      "L_T  training loss=0.0000\n",
      "rounding  training loss=0.0047\n",
      "step: 900\n",
      "mse  training loss=0.0787\n",
      "L_T  training loss=0.0000\n",
      "rounding  training loss=0.0046\n",
      "step: 1000\n",
      "mse  training loss=0.0788\n",
      "L_T  training loss=0.0000\n",
      "rounding  training loss=0.0047\n",
      "step: 1100\n",
      "mse  training loss=0.0761\n",
      "L_T  training loss=0.0000\n",
      "rounding  training loss=0.0045\n"
     ]
    },
    {
     "data": {
      "application/vnd.jupyter.widget-view+json": {
       "model_id": "318edfb9304442dd94fbb3be4420f01d",
       "version_major": 2,
       "version_minor": 0
      },
      "text/plain": [
       "  0%|          | 0/132 [00:00<?, ?it/s]"
      ]
     },
     "metadata": {},
     "output_type": "display_data"
    },
    {
     "name": "stdout",
     "output_type": "stream",
     "text": [
      "eval loss=0.0781\n",
      "epoch: 18\n",
      "step: 100\n",
      "mse  training loss=0.0771\n",
      "L_T  training loss=0.0000\n",
      "rounding  training loss=0.0044\n",
      "step: 200\n",
      "mse  training loss=0.0779\n",
      "L_T  training loss=0.0000\n",
      "rounding  training loss=0.0045\n",
      "step: 300\n",
      "mse  training loss=0.0762\n",
      "L_T  training loss=0.0000\n",
      "rounding  training loss=0.0044\n",
      "step: 400\n",
      "mse  training loss=0.0787\n",
      "L_T  training loss=0.0000\n",
      "rounding  training loss=0.0045\n",
      "step: 500\n",
      "mse  training loss=0.0791\n",
      "L_T  training loss=0.0000\n",
      "rounding  training loss=0.0045\n",
      "step: 600\n",
      "mse  training loss=0.0788\n",
      "L_T  training loss=0.0000\n",
      "rounding  training loss=0.0045\n",
      "step: 700\n",
      "mse  training loss=0.0794\n",
      "L_T  training loss=0.0000\n",
      "rounding  training loss=0.0045\n",
      "step: 800\n",
      "mse  training loss=0.0786\n",
      "L_T  training loss=0.0000\n",
      "rounding  training loss=0.0044\n",
      "step: 900\n",
      "mse  training loss=0.0783\n",
      "L_T  training loss=0.0000\n",
      "rounding  training loss=0.0045\n",
      "step: 1000\n",
      "mse  training loss=0.0796\n",
      "L_T  training loss=0.0000\n",
      "rounding  training loss=0.0045\n",
      "step: 1100\n",
      "mse  training loss=0.0780\n",
      "L_T  training loss=0.0000\n",
      "rounding  training loss=0.0045\n"
     ]
    },
    {
     "data": {
      "application/vnd.jupyter.widget-view+json": {
       "model_id": "c621146db56c44c7b51a8c14b5c3f66e",
       "version_major": 2,
       "version_minor": 0
      },
      "text/plain": [
       "  0%|          | 0/132 [00:00<?, ?it/s]"
      ]
     },
     "metadata": {},
     "output_type": "display_data"
    },
    {
     "name": "stdout",
     "output_type": "stream",
     "text": [
      "eval loss=0.0823\n",
      "epoch: 19\n",
      "step: 100\n",
      "mse  training loss=0.0791\n",
      "L_T  training loss=0.0000\n",
      "rounding  training loss=0.0045\n",
      "step: 200\n",
      "mse  training loss=0.0782\n",
      "L_T  training loss=0.0000\n",
      "rounding  training loss=0.0045\n",
      "step: 300\n",
      "mse  training loss=0.0772\n",
      "L_T  training loss=0.0000\n",
      "rounding  training loss=0.0044\n",
      "step: 400\n",
      "mse  training loss=0.0758\n",
      "L_T  training loss=0.0000\n",
      "rounding  training loss=0.0044\n",
      "step: 500\n",
      "mse  training loss=0.0785\n",
      "L_T  training loss=0.0000\n",
      "rounding  training loss=0.0045\n",
      "step: 600\n",
      "mse  training loss=0.0786\n",
      "L_T  training loss=0.0000\n",
      "rounding  training loss=0.0045\n",
      "step: 700\n",
      "mse  training loss=0.0763\n",
      "L_T  training loss=0.0000\n",
      "rounding  training loss=0.0045\n",
      "step: 800\n",
      "mse  training loss=0.0766\n",
      "L_T  training loss=0.0000\n",
      "rounding  training loss=0.0044\n",
      "step: 900\n",
      "mse  training loss=0.0766\n",
      "L_T  training loss=0.0000\n",
      "rounding  training loss=0.0044\n",
      "step: 1000\n",
      "mse  training loss=0.0772\n",
      "L_T  training loss=0.0000\n",
      "rounding  training loss=0.0044\n",
      "step: 1100\n",
      "mse  training loss=0.0780\n",
      "L_T  training loss=0.0000\n",
      "rounding  training loss=0.0044\n"
     ]
    },
    {
     "data": {
      "application/vnd.jupyter.widget-view+json": {
       "model_id": "52704f237bae41f5a4a4b7287e1549a4",
       "version_major": 2,
       "version_minor": 0
      },
      "text/plain": [
       "  0%|          | 0/132 [00:00<?, ?it/s]"
      ]
     },
     "metadata": {},
     "output_type": "display_data"
    },
    {
     "name": "stdout",
     "output_type": "stream",
     "text": [
      "eval loss=0.0782\n",
      "epoch: 20\n",
      "step: 100\n",
      "mse  training loss=0.0757\n",
      "L_T  training loss=0.0000\n",
      "rounding  training loss=0.0044\n",
      "step: 200\n",
      "mse  training loss=0.0762\n",
      "L_T  training loss=0.0000\n",
      "rounding  training loss=0.0044\n",
      "step: 300\n",
      "mse  training loss=0.0777\n",
      "L_T  training loss=0.0000\n",
      "rounding  training loss=0.0044\n",
      "step: 400\n",
      "mse  training loss=0.0778\n",
      "L_T  training loss=0.0000\n",
      "rounding  training loss=0.0044\n",
      "step: 500\n",
      "mse  training loss=0.0783\n",
      "L_T  training loss=0.0000\n",
      "rounding  training loss=0.0044\n",
      "step: 600\n",
      "mse  training loss=0.0768\n",
      "L_T  training loss=0.0000\n",
      "rounding  training loss=0.0044\n",
      "step: 700\n",
      "mse  training loss=0.0784\n",
      "L_T  training loss=0.0000\n",
      "rounding  training loss=0.0044\n",
      "step: 800\n",
      "mse  training loss=0.0777\n",
      "L_T  training loss=0.0000\n",
      "rounding  training loss=0.0043\n",
      "step: 900\n",
      "mse  training loss=0.0763\n",
      "L_T  training loss=0.0000\n",
      "rounding  training loss=0.0044\n",
      "step: 1000\n",
      "mse  training loss=0.0762\n",
      "L_T  training loss=0.0000\n",
      "rounding  training loss=0.0044\n",
      "step: 1100\n",
      "mse  training loss=0.0771\n",
      "L_T  training loss=0.0000\n",
      "rounding  training loss=0.0043\n"
     ]
    },
    {
     "data": {
      "application/vnd.jupyter.widget-view+json": {
       "model_id": "9733e13d380e4624bbeabc087e0b2f07",
       "version_major": 2,
       "version_minor": 0
      },
      "text/plain": [
       "  0%|          | 0/132 [00:00<?, ?it/s]"
      ]
     },
     "metadata": {},
     "output_type": "display_data"
    },
    {
     "name": "stdout",
     "output_type": "stream",
     "text": [
      "eval loss=0.0778\n",
      "epoch: 21\n",
      "step: 100\n",
      "mse  training loss=0.0758\n",
      "L_T  training loss=0.0000\n",
      "rounding  training loss=0.0044\n",
      "step: 200\n",
      "mse  training loss=0.0779\n",
      "L_T  training loss=0.0000\n",
      "rounding  training loss=0.0044\n",
      "step: 300\n",
      "mse  training loss=0.0755\n",
      "L_T  training loss=0.0000\n",
      "rounding  training loss=0.0044\n",
      "step: 400\n",
      "mse  training loss=0.0774\n",
      "L_T  training loss=0.0000\n",
      "rounding  training loss=0.0044\n",
      "step: 500\n",
      "mse  training loss=0.0740\n",
      "L_T  training loss=0.0000\n",
      "rounding  training loss=0.0043\n",
      "step: 600\n",
      "mse  training loss=0.0767\n",
      "L_T  training loss=0.0000\n",
      "rounding  training loss=0.0043\n",
      "step: 700\n",
      "mse  training loss=0.0776\n",
      "L_T  training loss=0.0000\n",
      "rounding  training loss=0.0043\n",
      "step: 800\n",
      "mse  training loss=0.0765\n",
      "L_T  training loss=0.0000\n",
      "rounding  training loss=0.0044\n",
      "step: 900\n",
      "mse  training loss=0.0768\n",
      "L_T  training loss=0.0000\n",
      "rounding  training loss=0.0043\n",
      "step: 1000\n",
      "mse  training loss=0.0740\n",
      "L_T  training loss=0.0000\n",
      "rounding  training loss=0.0043\n",
      "step: 1100\n",
      "mse  training loss=0.0773\n",
      "L_T  training loss=0.0000\n",
      "rounding  training loss=0.0043\n"
     ]
    },
    {
     "data": {
      "application/vnd.jupyter.widget-view+json": {
       "model_id": "152a877eed274c9c871a67689b733ebd",
       "version_major": 2,
       "version_minor": 0
      },
      "text/plain": [
       "  0%|          | 0/132 [00:00<?, ?it/s]"
      ]
     },
     "metadata": {},
     "output_type": "display_data"
    },
    {
     "name": "stdout",
     "output_type": "stream",
     "text": [
      "eval loss=0.0774\n",
      "epoch: 22\n",
      "step: 100\n",
      "mse  training loss=0.0780\n",
      "L_T  training loss=0.0000\n",
      "rounding  training loss=0.0044\n",
      "step: 200\n",
      "mse  training loss=0.0762\n",
      "L_T  training loss=0.0000\n",
      "rounding  training loss=0.0043\n",
      "step: 300\n",
      "mse  training loss=0.0770\n",
      "L_T  training loss=0.0000\n",
      "rounding  training loss=0.0043\n",
      "step: 400\n",
      "mse  training loss=0.0753\n",
      "L_T  training loss=0.0000\n",
      "rounding  training loss=0.0043\n",
      "step: 500\n",
      "mse  training loss=0.0760\n",
      "L_T  training loss=0.0000\n",
      "rounding  training loss=0.0043\n",
      "step: 600\n",
      "mse  training loss=0.0771\n",
      "L_T  training loss=0.0000\n",
      "rounding  training loss=0.0043\n",
      "step: 700\n",
      "mse  training loss=0.0753\n",
      "L_T  training loss=0.0000\n",
      "rounding  training loss=0.0043\n",
      "step: 800\n",
      "mse  training loss=0.0756\n",
      "L_T  training loss=0.0000\n",
      "rounding  training loss=0.0043\n",
      "step: 900\n",
      "mse  training loss=0.0767\n",
      "L_T  training loss=0.0000\n",
      "rounding  training loss=0.0042\n",
      "step: 1000\n",
      "mse  training loss=0.0751\n",
      "L_T  training loss=0.0000\n",
      "rounding  training loss=0.0043\n",
      "step: 1100\n",
      "mse  training loss=0.0750\n",
      "L_T  training loss=0.0000\n",
      "rounding  training loss=0.0042\n"
     ]
    },
    {
     "data": {
      "application/vnd.jupyter.widget-view+json": {
       "model_id": "857a0e2945dc44a5bd7bd70c011f3dac",
       "version_major": 2,
       "version_minor": 0
      },
      "text/plain": [
       "  0%|          | 0/132 [00:00<?, ?it/s]"
      ]
     },
     "metadata": {},
     "output_type": "display_data"
    },
    {
     "name": "stdout",
     "output_type": "stream",
     "text": [
      "eval loss=0.0766\n",
      "epoch: 23\n",
      "step: 100\n",
      "mse  training loss=0.0735\n",
      "L_T  training loss=0.0000\n",
      "rounding  training loss=0.0042\n",
      "step: 200\n",
      "mse  training loss=0.0748\n",
      "L_T  training loss=0.0000\n",
      "rounding  training loss=0.0042\n",
      "step: 300\n",
      "mse  training loss=0.0727\n",
      "L_T  training loss=0.0000\n",
      "rounding  training loss=0.0042\n",
      "step: 400\n",
      "mse  training loss=0.0751\n",
      "L_T  training loss=0.0000\n",
      "rounding  training loss=0.0042\n",
      "step: 500\n",
      "mse  training loss=0.0766\n",
      "L_T  training loss=0.0000\n",
      "rounding  training loss=0.0042\n",
      "step: 600\n",
      "mse  training loss=0.0763\n",
      "L_T  training loss=0.0000\n",
      "rounding  training loss=0.0042\n",
      "step: 700\n",
      "mse  training loss=0.0772\n",
      "L_T  training loss=0.0000\n",
      "rounding  training loss=0.0042\n",
      "step: 800\n",
      "mse  training loss=0.0749\n",
      "L_T  training loss=0.0000\n",
      "rounding  training loss=0.0042\n",
      "step: 900\n",
      "mse  training loss=0.0758\n",
      "L_T  training loss=0.0000\n",
      "rounding  training loss=0.0042\n",
      "step: 1000\n",
      "mse  training loss=0.0779\n",
      "L_T  training loss=0.0000\n",
      "rounding  training loss=0.0042\n",
      "step: 1100\n",
      "mse  training loss=0.0726\n",
      "L_T  training loss=0.0000\n",
      "rounding  training loss=0.0042\n"
     ]
    },
    {
     "data": {
      "application/vnd.jupyter.widget-view+json": {
       "model_id": "0f63531df8294b0a8f2d01f1cfaadacb",
       "version_major": 2,
       "version_minor": 0
      },
      "text/plain": [
       "  0%|          | 0/132 [00:00<?, ?it/s]"
      ]
     },
     "metadata": {},
     "output_type": "display_data"
    },
    {
     "name": "stdout",
     "output_type": "stream",
     "text": [
      "eval loss=0.0770\n",
      "epoch: 24\n",
      "step: 100\n",
      "mse  training loss=0.0766\n",
      "L_T  training loss=0.0000\n",
      "rounding  training loss=0.0042\n",
      "step: 200\n",
      "mse  training loss=0.0757\n",
      "L_T  training loss=0.0000\n",
      "rounding  training loss=0.0041\n",
      "step: 300\n",
      "mse  training loss=0.0769\n",
      "L_T  training loss=0.0000\n",
      "rounding  training loss=0.0042\n",
      "step: 400\n",
      "mse  training loss=0.0760\n",
      "L_T  training loss=0.0000\n",
      "rounding  training loss=0.0042\n",
      "step: 500\n",
      "mse  training loss=0.0747\n",
      "L_T  training loss=0.0000\n",
      "rounding  training loss=0.0041\n",
      "step: 600\n",
      "mse  training loss=0.0773\n",
      "L_T  training loss=0.0000\n",
      "rounding  training loss=0.0042\n",
      "step: 700\n",
      "mse  training loss=0.0749\n",
      "L_T  training loss=0.0000\n",
      "rounding  training loss=0.0042\n",
      "step: 800\n",
      "mse  training loss=0.0747\n",
      "L_T  training loss=0.0000\n",
      "rounding  training loss=0.0042\n",
      "step: 900\n",
      "mse  training loss=0.0762\n",
      "L_T  training loss=0.0000\n",
      "rounding  training loss=0.0042\n",
      "step: 1000\n",
      "mse  training loss=0.0763\n",
      "L_T  training loss=0.0000\n",
      "rounding  training loss=0.0043\n",
      "step: 1100\n",
      "mse  training loss=0.0734\n",
      "L_T  training loss=0.0000\n",
      "rounding  training loss=0.0042\n"
     ]
    },
    {
     "data": {
      "application/vnd.jupyter.widget-view+json": {
       "model_id": "eb19521bf17246028f437da14a80003b",
       "version_major": 2,
       "version_minor": 0
      },
      "text/plain": [
       "  0%|          | 0/132 [00:00<?, ?it/s]"
      ]
     },
     "metadata": {},
     "output_type": "display_data"
    },
    {
     "name": "stdout",
     "output_type": "stream",
     "text": [
      "eval loss=0.0775\n",
      "epoch: 25\n",
      "step: 100\n",
      "mse  training loss=0.0743\n",
      "L_T  training loss=0.0000\n",
      "rounding  training loss=0.0041\n",
      "step: 200\n",
      "mse  training loss=0.0747\n",
      "L_T  training loss=0.0000\n",
      "rounding  training loss=0.0042\n",
      "step: 300\n",
      "mse  training loss=0.0748\n",
      "L_T  training loss=0.0000\n",
      "rounding  training loss=0.0041\n",
      "step: 400\n",
      "mse  training loss=0.0737\n",
      "L_T  training loss=0.0000\n",
      "rounding  training loss=0.0041\n",
      "step: 500\n",
      "mse  training loss=0.0758\n",
      "L_T  training loss=0.0000\n",
      "rounding  training loss=0.0041\n",
      "step: 600\n",
      "mse  training loss=0.0734\n",
      "L_T  training loss=0.0000\n",
      "rounding  training loss=0.0041\n",
      "step: 700\n",
      "mse  training loss=0.0746\n",
      "L_T  training loss=0.0000\n",
      "rounding  training loss=0.0041\n",
      "step: 800\n",
      "mse  training loss=0.0755\n",
      "L_T  training loss=0.0000\n",
      "rounding  training loss=0.0041\n",
      "step: 900\n",
      "mse  training loss=0.0728\n",
      "L_T  training loss=0.0000\n",
      "rounding  training loss=0.0041\n",
      "step: 1000\n",
      "mse  training loss=0.0741\n",
      "L_T  training loss=0.0000\n",
      "rounding  training loss=0.0041\n",
      "step: 1100\n",
      "mse  training loss=0.0738\n",
      "L_T  training loss=0.0000\n",
      "rounding  training loss=0.0041\n"
     ]
    },
    {
     "data": {
      "application/vnd.jupyter.widget-view+json": {
       "model_id": "754acba977fa4325ad0e9e9d44e8bb43",
       "version_major": 2,
       "version_minor": 0
      },
      "text/plain": [
       "  0%|          | 0/132 [00:00<?, ?it/s]"
      ]
     },
     "metadata": {},
     "output_type": "display_data"
    },
    {
     "name": "stdout",
     "output_type": "stream",
     "text": [
      "eval loss=0.0755\n",
      "epoch: 26\n",
      "step: 100\n",
      "mse  training loss=0.0730\n",
      "L_T  training loss=0.0000\n",
      "rounding  training loss=0.0041\n",
      "step: 200\n",
      "mse  training loss=0.0761\n",
      "L_T  training loss=0.0000\n",
      "rounding  training loss=0.0041\n",
      "step: 300\n",
      "mse  training loss=0.0752\n",
      "L_T  training loss=0.0000\n",
      "rounding  training loss=0.0041\n",
      "step: 400\n",
      "mse  training loss=0.0747\n",
      "L_T  training loss=0.0000\n",
      "rounding  training loss=0.0041\n",
      "step: 500\n",
      "mse  training loss=0.0741\n",
      "L_T  training loss=0.0000\n",
      "rounding  training loss=0.0041\n",
      "step: 600\n",
      "mse  training loss=0.0723\n",
      "L_T  training loss=0.0000\n",
      "rounding  training loss=0.0041\n",
      "step: 700\n",
      "mse  training loss=0.0737\n",
      "L_T  training loss=0.0000\n",
      "rounding  training loss=0.0040\n",
      "step: 800\n",
      "mse  training loss=0.0763\n",
      "L_T  training loss=0.0000\n",
      "rounding  training loss=0.0041\n",
      "step: 900\n",
      "mse  training loss=0.0721\n",
      "L_T  training loss=0.0000\n",
      "rounding  training loss=0.0041\n",
      "step: 1000\n",
      "mse  training loss=0.0761\n",
      "L_T  training loss=0.0000\n",
      "rounding  training loss=0.0041\n",
      "step: 1100\n",
      "mse  training loss=0.0742\n",
      "L_T  training loss=0.0000\n",
      "rounding  training loss=0.0040\n"
     ]
    },
    {
     "data": {
      "application/vnd.jupyter.widget-view+json": {
       "model_id": "97df6c588aa246c7af884d719879c9e0",
       "version_major": 2,
       "version_minor": 0
      },
      "text/plain": [
       "  0%|          | 0/132 [00:00<?, ?it/s]"
      ]
     },
     "metadata": {},
     "output_type": "display_data"
    },
    {
     "name": "stdout",
     "output_type": "stream",
     "text": [
      "eval loss=0.0764\n",
      "epoch: 27\n",
      "step: 100\n",
      "mse  training loss=0.0743\n",
      "L_T  training loss=0.0000\n",
      "rounding  training loss=0.0041\n",
      "step: 200\n",
      "mse  training loss=0.0719\n",
      "L_T  training loss=0.0000\n",
      "rounding  training loss=0.0041\n",
      "step: 300\n",
      "mse  training loss=0.0755\n",
      "L_T  training loss=0.0000\n",
      "rounding  training loss=0.0041\n",
      "step: 400\n",
      "mse  training loss=0.0747\n",
      "L_T  training loss=0.0000\n",
      "rounding  training loss=0.0041\n",
      "step: 500\n",
      "mse  training loss=0.0749\n",
      "L_T  training loss=0.0000\n",
      "rounding  training loss=0.0041\n",
      "step: 600\n",
      "mse  training loss=0.0759\n",
      "L_T  training loss=0.0000\n",
      "rounding  training loss=0.0041\n",
      "step: 700\n",
      "mse  training loss=0.0743\n",
      "L_T  training loss=0.0000\n",
      "rounding  training loss=0.0041\n",
      "step: 800\n",
      "mse  training loss=0.0743\n",
      "L_T  training loss=0.0000\n",
      "rounding  training loss=0.0040\n",
      "step: 900\n",
      "mse  training loss=0.0737\n",
      "L_T  training loss=0.0000\n",
      "rounding  training loss=0.0041\n",
      "step: 1000\n",
      "mse  training loss=0.0728\n",
      "L_T  training loss=0.0000\n",
      "rounding  training loss=0.0041\n",
      "step: 1100\n",
      "mse  training loss=0.0741\n",
      "L_T  training loss=0.0000\n",
      "rounding  training loss=0.0040\n"
     ]
    },
    {
     "data": {
      "application/vnd.jupyter.widget-view+json": {
       "model_id": "ec66016302b44c8fa118fd55438073b1",
       "version_major": 2,
       "version_minor": 0
      },
      "text/plain": [
       "  0%|          | 0/132 [00:00<?, ?it/s]"
      ]
     },
     "metadata": {},
     "output_type": "display_data"
    },
    {
     "name": "stdout",
     "output_type": "stream",
     "text": [
      "eval loss=0.0771\n",
      "epoch: 28\n",
      "step: 100\n",
      "mse  training loss=0.0757\n",
      "L_T  training loss=0.0000\n",
      "rounding  training loss=0.0041\n",
      "step: 200\n",
      "mse  training loss=0.0723\n",
      "L_T  training loss=0.0000\n",
      "rounding  training loss=0.0040\n",
      "step: 300\n",
      "mse  training loss=0.0750\n",
      "L_T  training loss=0.0000\n",
      "rounding  training loss=0.0041\n",
      "step: 400\n",
      "mse  training loss=0.0747\n",
      "L_T  training loss=0.0000\n",
      "rounding  training loss=0.0041\n",
      "step: 500\n",
      "mse  training loss=0.0741\n",
      "L_T  training loss=0.0000\n",
      "rounding  training loss=0.0040\n",
      "step: 600\n",
      "mse  training loss=0.0732\n",
      "L_T  training loss=0.0000\n",
      "rounding  training loss=0.0041\n",
      "step: 700\n",
      "mse  training loss=0.0730\n",
      "L_T  training loss=0.0000\n",
      "rounding  training loss=0.0040\n",
      "step: 800\n",
      "mse  training loss=0.0727\n",
      "L_T  training loss=0.0000\n",
      "rounding  training loss=0.0040\n",
      "step: 900\n",
      "mse  training loss=0.0748\n",
      "L_T  training loss=0.0000\n",
      "rounding  training loss=0.0040\n",
      "step: 1000\n",
      "mse  training loss=0.0717\n",
      "L_T  training loss=0.0000\n",
      "rounding  training loss=0.0041\n",
      "step: 1100\n",
      "mse  training loss=0.0725\n",
      "L_T  training loss=0.0000\n",
      "rounding  training loss=0.0040\n"
     ]
    },
    {
     "data": {
      "application/vnd.jupyter.widget-view+json": {
       "model_id": "d17fa4fba6b24920ade56841e74c594e",
       "version_major": 2,
       "version_minor": 0
      },
      "text/plain": [
       "  0%|          | 0/132 [00:00<?, ?it/s]"
      ]
     },
     "metadata": {},
     "output_type": "display_data"
    },
    {
     "name": "stdout",
     "output_type": "stream",
     "text": [
      "eval loss=0.0754\n",
      "epoch: 29\n",
      "step: 100\n",
      "mse  training loss=0.0729\n",
      "L_T  training loss=0.0000\n",
      "rounding  training loss=0.0040\n",
      "step: 200\n",
      "mse  training loss=0.0730\n",
      "L_T  training loss=0.0000\n",
      "rounding  training loss=0.0040\n",
      "step: 300\n",
      "mse  training loss=0.0730\n",
      "L_T  training loss=0.0000\n",
      "rounding  training loss=0.0040\n",
      "step: 400\n",
      "mse  training loss=0.0731\n",
      "L_T  training loss=0.0000\n",
      "rounding  training loss=0.0040\n",
      "step: 500\n",
      "mse  training loss=0.0728\n",
      "L_T  training loss=0.0000\n",
      "rounding  training loss=0.0039\n",
      "step: 600\n",
      "mse  training loss=0.0708\n",
      "L_T  training loss=0.0000\n",
      "rounding  training loss=0.0039\n",
      "step: 700\n",
      "mse  training loss=0.0747\n",
      "L_T  training loss=0.0000\n",
      "rounding  training loss=0.0039\n",
      "step: 800\n",
      "mse  training loss=0.0744\n",
      "L_T  training loss=0.0000\n",
      "rounding  training loss=0.0040\n",
      "step: 900\n",
      "mse  training loss=0.0728\n",
      "L_T  training loss=0.0000\n",
      "rounding  training loss=0.0040\n",
      "step: 1000\n",
      "mse  training loss=0.0705\n",
      "L_T  training loss=0.0000\n",
      "rounding  training loss=0.0040\n",
      "step: 1100\n",
      "mse  training loss=0.0743\n",
      "L_T  training loss=0.0000\n",
      "rounding  training loss=0.0039\n"
     ]
    },
    {
     "data": {
      "application/vnd.jupyter.widget-view+json": {
       "model_id": "08808c6bc6624749b215225cd029de6c",
       "version_major": 2,
       "version_minor": 0
      },
      "text/plain": [
       "  0%|          | 0/132 [00:00<?, ?it/s]"
      ]
     },
     "metadata": {},
     "output_type": "display_data"
    },
    {
     "name": "stdout",
     "output_type": "stream",
     "text": [
      "eval loss=0.0746\n",
      "epoch: 30\n",
      "step: 100\n",
      "mse  training loss=0.0725\n",
      "L_T  training loss=0.0000\n",
      "rounding  training loss=0.0039\n",
      "step: 200\n",
      "mse  training loss=0.0734\n",
      "L_T  training loss=0.0000\n",
      "rounding  training loss=0.0039\n",
      "step: 300\n",
      "mse  training loss=0.0752\n",
      "L_T  training loss=0.0000\n",
      "rounding  training loss=0.0039\n",
      "step: 400\n",
      "mse  training loss=0.0732\n",
      "L_T  training loss=0.0000\n",
      "rounding  training loss=0.0040\n",
      "step: 500\n",
      "mse  training loss=0.0761\n",
      "L_T  training loss=0.0000\n",
      "rounding  training loss=0.0040\n",
      "step: 600\n",
      "mse  training loss=0.0717\n",
      "L_T  training loss=0.0000\n",
      "rounding  training loss=0.0039\n",
      "step: 700\n",
      "mse  training loss=0.0710\n",
      "L_T  training loss=0.0000\n",
      "rounding  training loss=0.0040\n",
      "step: 800\n",
      "mse  training loss=0.0744\n",
      "L_T  training loss=0.0000\n",
      "rounding  training loss=0.0040\n",
      "step: 900\n",
      "mse  training loss=0.0749\n",
      "L_T  training loss=0.0000\n",
      "rounding  training loss=0.0040\n",
      "step: 1000\n",
      "mse  training loss=0.0718\n",
      "L_T  training loss=0.0000\n",
      "rounding  training loss=0.0039\n",
      "step: 1100\n",
      "mse  training loss=0.0717\n",
      "L_T  training loss=0.0000\n",
      "rounding  training loss=0.0039\n"
     ]
    },
    {
     "data": {
      "application/vnd.jupyter.widget-view+json": {
       "model_id": "eee877a6536840a0bc724275476a30fc",
       "version_major": 2,
       "version_minor": 0
      },
      "text/plain": [
       "  0%|          | 0/132 [00:00<?, ?it/s]"
      ]
     },
     "metadata": {},
     "output_type": "display_data"
    },
    {
     "name": "stdout",
     "output_type": "stream",
     "text": [
      "eval loss=0.0739\n",
      "epoch: 31\n",
      "step: 100\n",
      "mse  training loss=0.0744\n",
      "L_T  training loss=0.0000\n",
      "rounding  training loss=0.0040\n",
      "step: 200\n",
      "mse  training loss=0.0723\n",
      "L_T  training loss=0.0000\n",
      "rounding  training loss=0.0039\n",
      "step: 300\n",
      "mse  training loss=0.0724\n",
      "L_T  training loss=0.0000\n",
      "rounding  training loss=0.0039\n",
      "step: 400\n",
      "mse  training loss=0.0763\n",
      "L_T  training loss=0.0000\n",
      "rounding  training loss=0.0039\n",
      "step: 500\n",
      "mse  training loss=0.0690\n",
      "L_T  training loss=0.0000\n",
      "rounding  training loss=0.0039\n",
      "step: 600\n",
      "mse  training loss=0.0737\n",
      "L_T  training loss=0.0000\n",
      "rounding  training loss=0.0039\n",
      "step: 700\n",
      "mse  training loss=0.0723\n",
      "L_T  training loss=0.0000\n",
      "rounding  training loss=0.0040\n",
      "step: 800\n",
      "mse  training loss=0.0730\n",
      "L_T  training loss=0.0000\n",
      "rounding  training loss=0.0039\n",
      "step: 900\n",
      "mse  training loss=0.0724\n",
      "L_T  training loss=0.0000\n",
      "rounding  training loss=0.0039\n",
      "step: 1000\n",
      "mse  training loss=0.0736\n",
      "L_T  training loss=0.0000\n",
      "rounding  training loss=0.0040\n",
      "step: 1100\n",
      "mse  training loss=0.0736\n",
      "L_T  training loss=0.0000\n",
      "rounding  training loss=0.0040\n"
     ]
    },
    {
     "data": {
      "application/vnd.jupyter.widget-view+json": {
       "model_id": "1344c9bbbd0741f49a29487abb17a71d",
       "version_major": 2,
       "version_minor": 0
      },
      "text/plain": [
       "  0%|          | 0/132 [00:00<?, ?it/s]"
      ]
     },
     "metadata": {},
     "output_type": "display_data"
    },
    {
     "name": "stdout",
     "output_type": "stream",
     "text": [
      "eval loss=0.0733\n",
      "epoch: 32\n",
      "step: 100\n",
      "mse  training loss=0.0737\n",
      "L_T  training loss=0.0000\n",
      "rounding  training loss=0.0039\n",
      "step: 200\n",
      "mse  training loss=0.0725\n",
      "L_T  training loss=0.0000\n",
      "rounding  training loss=0.0039\n",
      "step: 300\n",
      "mse  training loss=0.0739\n",
      "L_T  training loss=0.0000\n",
      "rounding  training loss=0.0039\n",
      "step: 400\n",
      "mse  training loss=0.0740\n",
      "L_T  training loss=0.0000\n",
      "rounding  training loss=0.0040\n",
      "step: 500\n",
      "mse  training loss=0.0721\n",
      "L_T  training loss=0.0000\n",
      "rounding  training loss=0.0039\n",
      "step: 600\n",
      "mse  training loss=0.0717\n",
      "L_T  training loss=0.0000\n",
      "rounding  training loss=0.0039\n",
      "step: 700\n",
      "mse  training loss=0.0712\n",
      "L_T  training loss=0.0000\n",
      "rounding  training loss=0.0039\n",
      "step: 800\n",
      "mse  training loss=0.0725\n",
      "L_T  training loss=0.0000\n",
      "rounding  training loss=0.0039\n",
      "step: 900\n",
      "mse  training loss=0.0736\n",
      "L_T  training loss=0.0000\n",
      "rounding  training loss=0.0040\n",
      "step: 1000\n",
      "mse  training loss=0.0714\n",
      "L_T  training loss=0.0000\n",
      "rounding  training loss=0.0039\n",
      "step: 1100\n",
      "mse  training loss=0.0742\n",
      "L_T  training loss=0.0000\n",
      "rounding  training loss=0.0039\n"
     ]
    },
    {
     "data": {
      "application/vnd.jupyter.widget-view+json": {
       "model_id": "24902158d4bc4e9f97548089fb15f2aa",
       "version_major": 2,
       "version_minor": 0
      },
      "text/plain": [
       "  0%|          | 0/132 [00:00<?, ?it/s]"
      ]
     },
     "metadata": {},
     "output_type": "display_data"
    },
    {
     "name": "stdout",
     "output_type": "stream",
     "text": [
      "eval loss=0.0721\n",
      "epoch: 33\n",
      "step: 100\n",
      "mse  training loss=0.0729\n",
      "L_T  training loss=0.0000\n",
      "rounding  training loss=0.0039\n",
      "step: 200\n",
      "mse  training loss=0.0719\n",
      "L_T  training loss=0.0000\n",
      "rounding  training loss=0.0039\n",
      "step: 300\n",
      "mse  training loss=0.0724\n",
      "L_T  training loss=0.0000\n",
      "rounding  training loss=0.0040\n",
      "step: 400\n",
      "mse  training loss=0.0731\n",
      "L_T  training loss=0.0000\n",
      "rounding  training loss=0.0039\n",
      "step: 500\n",
      "mse  training loss=0.0725\n",
      "L_T  training loss=0.0000\n",
      "rounding  training loss=0.0039\n",
      "step: 600\n",
      "mse  training loss=0.0720\n",
      "L_T  training loss=0.0000\n",
      "rounding  training loss=0.0039\n",
      "step: 700\n",
      "mse  training loss=0.0705\n",
      "L_T  training loss=0.0000\n",
      "rounding  training loss=0.0039\n",
      "step: 800\n",
      "mse  training loss=0.0713\n",
      "L_T  training loss=0.0000\n",
      "rounding  training loss=0.0039\n",
      "step: 900\n",
      "mse  training loss=0.0707\n",
      "L_T  training loss=0.0000\n",
      "rounding  training loss=0.0039\n",
      "step: 1000\n",
      "mse  training loss=0.0720\n",
      "L_T  training loss=0.0000\n",
      "rounding  training loss=0.0038\n",
      "step: 1100\n",
      "mse  training loss=0.0707\n",
      "L_T  training loss=0.0000\n",
      "rounding  training loss=0.0038\n"
     ]
    },
    {
     "data": {
      "application/vnd.jupyter.widget-view+json": {
       "model_id": "674c1a163eba4956a369b5887ef8bb62",
       "version_major": 2,
       "version_minor": 0
      },
      "text/plain": [
       "  0%|          | 0/132 [00:00<?, ?it/s]"
      ]
     },
     "metadata": {},
     "output_type": "display_data"
    },
    {
     "name": "stdout",
     "output_type": "stream",
     "text": [
      "eval loss=0.0719\n",
      "epoch: 34\n",
      "step: 100\n",
      "mse  training loss=0.0732\n",
      "L_T  training loss=0.0000\n",
      "rounding  training loss=0.0039\n",
      "step: 200\n",
      "mse  training loss=0.0702\n",
      "L_T  training loss=0.0000\n",
      "rounding  training loss=0.0038\n",
      "step: 300\n",
      "mse  training loss=0.0721\n",
      "L_T  training loss=0.0000\n",
      "rounding  training loss=0.0039\n",
      "step: 400\n",
      "mse  training loss=0.0743\n",
      "L_T  training loss=0.0000\n",
      "rounding  training loss=0.0038\n",
      "step: 500\n",
      "mse  training loss=0.0737\n",
      "L_T  training loss=0.0000\n",
      "rounding  training loss=0.0039\n",
      "step: 600\n",
      "mse  training loss=0.0726\n",
      "L_T  training loss=0.0000\n",
      "rounding  training loss=0.0038\n",
      "step: 700\n",
      "mse  training loss=0.0730\n",
      "L_T  training loss=0.0000\n",
      "rounding  training loss=0.0039\n",
      "step: 800\n",
      "mse  training loss=0.0718\n",
      "L_T  training loss=0.0000\n",
      "rounding  training loss=0.0038\n",
      "step: 900\n",
      "mse  training loss=0.0733\n",
      "L_T  training loss=0.0000\n",
      "rounding  training loss=0.0039\n",
      "step: 1000\n",
      "mse  training loss=0.0727\n",
      "L_T  training loss=0.0000\n",
      "rounding  training loss=0.0039\n",
      "step: 1100\n",
      "mse  training loss=0.0724\n",
      "L_T  training loss=0.0000\n",
      "rounding  training loss=0.0038\n"
     ]
    },
    {
     "data": {
      "application/vnd.jupyter.widget-view+json": {
       "model_id": "9b3c5463f4e049739347951760b0a1c2",
       "version_major": 2,
       "version_minor": 0
      },
      "text/plain": [
       "  0%|          | 0/132 [00:00<?, ?it/s]"
      ]
     },
     "metadata": {},
     "output_type": "display_data"
    },
    {
     "name": "stdout",
     "output_type": "stream",
     "text": [
      "eval loss=0.0731\n",
      "epoch: 35\n",
      "step: 100\n",
      "mse  training loss=0.0730\n",
      "L_T  training loss=0.0000\n",
      "rounding  training loss=0.0039\n",
      "step: 200\n",
      "mse  training loss=0.0695\n",
      "L_T  training loss=0.0000\n",
      "rounding  training loss=0.0039\n",
      "step: 300\n",
      "mse  training loss=0.0731\n",
      "L_T  training loss=0.0000\n",
      "rounding  training loss=0.0039\n",
      "step: 400\n",
      "mse  training loss=0.0720\n",
      "L_T  training loss=0.0000\n",
      "rounding  training loss=0.0039\n",
      "step: 500\n",
      "mse  training loss=0.0714\n",
      "L_T  training loss=0.0000\n",
      "rounding  training loss=0.0039\n",
      "step: 600\n",
      "mse  training loss=0.0704\n",
      "L_T  training loss=0.0000\n",
      "rounding  training loss=0.0039\n",
      "step: 700\n",
      "mse  training loss=0.0734\n",
      "L_T  training loss=0.0000\n",
      "rounding  training loss=0.0039\n",
      "step: 800\n",
      "mse  training loss=0.0733\n",
      "L_T  training loss=0.0000\n",
      "rounding  training loss=0.0038\n",
      "step: 900\n",
      "mse  training loss=0.0714\n",
      "L_T  training loss=0.0000\n",
      "rounding  training loss=0.0039\n",
      "step: 1000\n",
      "mse  training loss=0.0732\n",
      "L_T  training loss=0.0000\n",
      "rounding  training loss=0.0039\n",
      "step: 1100\n",
      "mse  training loss=0.0725\n",
      "L_T  training loss=0.0000\n",
      "rounding  training loss=0.0039\n"
     ]
    },
    {
     "data": {
      "application/vnd.jupyter.widget-view+json": {
       "model_id": "87cdf7177feb41fcb055d3000a2033d1",
       "version_major": 2,
       "version_minor": 0
      },
      "text/plain": [
       "  0%|          | 0/132 [00:00<?, ?it/s]"
      ]
     },
     "metadata": {},
     "output_type": "display_data"
    },
    {
     "name": "stdout",
     "output_type": "stream",
     "text": [
      "eval loss=0.0725\n",
      "epoch: 36\n",
      "step: 100\n",
      "mse  training loss=0.0698\n",
      "L_T  training loss=0.0000\n",
      "rounding  training loss=0.0038\n",
      "step: 200\n",
      "mse  training loss=0.0702\n",
      "L_T  training loss=0.0000\n",
      "rounding  training loss=0.0039\n",
      "step: 300\n",
      "mse  training loss=0.0709\n",
      "L_T  training loss=0.0000\n",
      "rounding  training loss=0.0039\n",
      "step: 400\n",
      "mse  training loss=0.0687\n",
      "L_T  training loss=0.0000\n",
      "rounding  training loss=0.0038\n",
      "step: 500\n",
      "mse  training loss=0.0745\n",
      "L_T  training loss=0.0000\n",
      "rounding  training loss=0.0039\n",
      "step: 600\n",
      "mse  training loss=0.0691\n",
      "L_T  training loss=0.0000\n",
      "rounding  training loss=0.0038\n",
      "step: 700\n",
      "mse  training loss=0.0710\n",
      "L_T  training loss=0.0000\n",
      "rounding  training loss=0.0039\n",
      "step: 800\n",
      "mse  training loss=0.0731\n",
      "L_T  training loss=0.0000\n",
      "rounding  training loss=0.0038\n",
      "step: 900\n",
      "mse  training loss=0.0717\n",
      "L_T  training loss=0.0000\n",
      "rounding  training loss=0.0038\n",
      "step: 1000\n",
      "mse  training loss=0.0730\n",
      "L_T  training loss=0.0000\n",
      "rounding  training loss=0.0038\n",
      "step: 1100\n",
      "mse  training loss=0.0738\n",
      "L_T  training loss=0.0000\n",
      "rounding  training loss=0.0039\n"
     ]
    },
    {
     "data": {
      "application/vnd.jupyter.widget-view+json": {
       "model_id": "7a8abe2858db4277abaf1dad794daab9",
       "version_major": 2,
       "version_minor": 0
      },
      "text/plain": [
       "  0%|          | 0/132 [00:00<?, ?it/s]"
      ]
     },
     "metadata": {},
     "output_type": "display_data"
    },
    {
     "name": "stdout",
     "output_type": "stream",
     "text": [
      "eval loss=0.0723\n",
      "epoch: 37\n",
      "step: 100\n",
      "mse  training loss=0.0713\n",
      "L_T  training loss=0.0000\n",
      "rounding  training loss=0.0038\n",
      "step: 200\n",
      "mse  training loss=0.0679\n",
      "L_T  training loss=0.0000\n",
      "rounding  training loss=0.0038\n",
      "step: 300\n",
      "mse  training loss=0.0721\n",
      "L_T  training loss=0.0000\n",
      "rounding  training loss=0.0038\n",
      "step: 400\n",
      "mse  training loss=0.0706\n",
      "L_T  training loss=0.0000\n",
      "rounding  training loss=0.0038\n",
      "step: 500\n",
      "mse  training loss=0.0726\n",
      "L_T  training loss=0.0000\n",
      "rounding  training loss=0.0038\n",
      "step: 600\n",
      "mse  training loss=0.0704\n",
      "L_T  training loss=0.0000\n",
      "rounding  training loss=0.0039\n",
      "step: 700\n",
      "mse  training loss=0.0715\n",
      "L_T  training loss=0.0000\n",
      "rounding  training loss=0.0038\n",
      "step: 800\n",
      "mse  training loss=0.0739\n",
      "L_T  training loss=0.0000\n",
      "rounding  training loss=0.0039\n",
      "step: 900\n",
      "mse  training loss=0.0713\n",
      "L_T  training loss=0.0000\n",
      "rounding  training loss=0.0039\n",
      "step: 1000\n",
      "mse  training loss=0.0707\n",
      "L_T  training loss=0.0000\n",
      "rounding  training loss=0.0038\n",
      "step: 1100\n",
      "mse  training loss=0.0726\n",
      "L_T  training loss=0.0000\n",
      "rounding  training loss=0.0038\n"
     ]
    },
    {
     "data": {
      "application/vnd.jupyter.widget-view+json": {
       "model_id": "33f4a6b1a97e4f0daea29142b78cefa0",
       "version_major": 2,
       "version_minor": 0
      },
      "text/plain": [
       "  0%|          | 0/132 [00:00<?, ?it/s]"
      ]
     },
     "metadata": {},
     "output_type": "display_data"
    },
    {
     "name": "stdout",
     "output_type": "stream",
     "text": [
      "eval loss=0.0737\n",
      "epoch: 38\n",
      "step: 100\n",
      "mse  training loss=0.0704\n",
      "L_T  training loss=0.0000\n",
      "rounding  training loss=0.0038\n",
      "step: 200\n",
      "mse  training loss=0.0696\n",
      "L_T  training loss=0.0000\n",
      "rounding  training loss=0.0038\n",
      "step: 300\n",
      "mse  training loss=0.0709\n",
      "L_T  training loss=0.0000\n",
      "rounding  training loss=0.0038\n",
      "step: 400\n",
      "mse  training loss=0.0714\n",
      "L_T  training loss=0.0000\n",
      "rounding  training loss=0.0038\n",
      "step: 500\n",
      "mse  training loss=0.0728\n",
      "L_T  training loss=0.0000\n",
      "rounding  training loss=0.0038\n",
      "step: 600\n",
      "mse  training loss=0.0724\n",
      "L_T  training loss=0.0000\n",
      "rounding  training loss=0.0039\n",
      "step: 700\n",
      "mse  training loss=0.0715\n",
      "L_T  training loss=0.0000\n",
      "rounding  training loss=0.0038\n",
      "step: 800\n",
      "mse  training loss=0.0730\n",
      "L_T  training loss=0.0000\n",
      "rounding  training loss=0.0039\n",
      "step: 900\n",
      "mse  training loss=0.0728\n",
      "L_T  training loss=0.0000\n",
      "rounding  training loss=0.0039\n",
      "step: 1000\n",
      "mse  training loss=0.0707\n",
      "L_T  training loss=0.0000\n",
      "rounding  training loss=0.0039\n",
      "step: 1100\n",
      "mse  training loss=0.0715\n",
      "L_T  training loss=0.0000\n",
      "rounding  training loss=0.0038\n"
     ]
    },
    {
     "data": {
      "application/vnd.jupyter.widget-view+json": {
       "model_id": "02cf41ef398b4bdf84aabf227834f89e",
       "version_major": 2,
       "version_minor": 0
      },
      "text/plain": [
       "  0%|          | 0/132 [00:00<?, ?it/s]"
      ]
     },
     "metadata": {},
     "output_type": "display_data"
    },
    {
     "name": "stdout",
     "output_type": "stream",
     "text": [
      "eval loss=0.0731\n",
      "epoch: 39\n",
      "step: 100\n",
      "mse  training loss=0.0712\n",
      "L_T  training loss=0.0000\n",
      "rounding  training loss=0.0038\n",
      "step: 200\n",
      "mse  training loss=0.0705\n",
      "L_T  training loss=0.0000\n",
      "rounding  training loss=0.0038\n",
      "step: 300\n",
      "mse  training loss=0.0709\n",
      "L_T  training loss=0.0000\n",
      "rounding  training loss=0.0038\n",
      "step: 400\n",
      "mse  training loss=0.0713\n",
      "L_T  training loss=0.0000\n",
      "rounding  training loss=0.0038\n",
      "step: 500\n",
      "mse  training loss=0.0702\n",
      "L_T  training loss=0.0000\n",
      "rounding  training loss=0.0038\n",
      "step: 600\n",
      "mse  training loss=0.0725\n",
      "L_T  training loss=0.0000\n",
      "rounding  training loss=0.0038\n",
      "step: 700\n",
      "mse  training loss=0.0723\n",
      "L_T  training loss=0.0000\n",
      "rounding  training loss=0.0038\n",
      "step: 800\n",
      "mse  training loss=0.0722\n",
      "L_T  training loss=0.0000\n",
      "rounding  training loss=0.0038\n",
      "step: 900\n",
      "mse  training loss=0.0725\n",
      "L_T  training loss=0.0000\n",
      "rounding  training loss=0.0038\n",
      "step: 1000\n",
      "mse  training loss=0.0734\n",
      "L_T  training loss=0.0000\n",
      "rounding  training loss=0.0039\n",
      "step: 1100\n",
      "mse  training loss=0.0744\n",
      "L_T  training loss=0.0000\n",
      "rounding  training loss=0.0038\n"
     ]
    },
    {
     "data": {
      "application/vnd.jupyter.widget-view+json": {
       "model_id": "e974e36a6985434ab508f2267c0b3062",
       "version_major": 2,
       "version_minor": 0
      },
      "text/plain": [
       "  0%|          | 0/132 [00:00<?, ?it/s]"
      ]
     },
     "metadata": {},
     "output_type": "display_data"
    },
    {
     "name": "stdout",
     "output_type": "stream",
     "text": [
      "eval loss=0.0722\n",
      "epoch: 40\n",
      "step: 100\n",
      "mse  training loss=0.0709\n",
      "L_T  training loss=0.0000\n",
      "rounding  training loss=0.0038\n",
      "step: 200\n",
      "mse  training loss=0.0727\n",
      "L_T  training loss=0.0000\n",
      "rounding  training loss=0.0038\n",
      "step: 300\n",
      "mse  training loss=0.0688\n",
      "L_T  training loss=0.0000\n",
      "rounding  training loss=0.0038\n",
      "step: 400\n",
      "mse  training loss=0.0691\n",
      "L_T  training loss=0.0000\n",
      "rounding  training loss=0.0038\n",
      "step: 500\n",
      "mse  training loss=0.0715\n",
      "L_T  training loss=0.0000\n",
      "rounding  training loss=0.0038\n",
      "step: 600\n",
      "mse  training loss=0.0721\n",
      "L_T  training loss=0.0000\n",
      "rounding  training loss=0.0038\n",
      "step: 700\n",
      "mse  training loss=0.0729\n",
      "L_T  training loss=0.0000\n",
      "rounding  training loss=0.0038\n",
      "step: 800\n",
      "mse  training loss=0.0722\n",
      "L_T  training loss=0.0000\n",
      "rounding  training loss=0.0038\n",
      "step: 900\n",
      "mse  training loss=0.0726\n",
      "L_T  training loss=0.0000\n",
      "rounding  training loss=0.0038\n",
      "step: 1000\n",
      "mse  training loss=0.0701\n",
      "L_T  training loss=0.0000\n",
      "rounding  training loss=0.0038\n",
      "step: 1100\n",
      "mse  training loss=0.0721\n",
      "L_T  training loss=0.0000\n",
      "rounding  training loss=0.0038\n"
     ]
    },
    {
     "data": {
      "application/vnd.jupyter.widget-view+json": {
       "model_id": "019e691334d5443cb3597a0ad1f70376",
       "version_major": 2,
       "version_minor": 0
      },
      "text/plain": [
       "  0%|          | 0/132 [00:00<?, ?it/s]"
      ]
     },
     "metadata": {},
     "output_type": "display_data"
    },
    {
     "name": "stdout",
     "output_type": "stream",
     "text": [
      "eval loss=0.0721\n",
      "epoch: 41\n",
      "step: 100\n",
      "mse  training loss=0.0698\n",
      "L_T  training loss=0.0000\n",
      "rounding  training loss=0.0038\n",
      "step: 200\n",
      "mse  training loss=0.0718\n",
      "L_T  training loss=0.0000\n",
      "rounding  training loss=0.0038\n",
      "step: 300\n",
      "mse  training loss=0.0706\n",
      "L_T  training loss=0.0000\n",
      "rounding  training loss=0.0038\n",
      "step: 400\n",
      "mse  training loss=0.0728\n",
      "L_T  training loss=0.0000\n",
      "rounding  training loss=0.0038\n",
      "step: 500\n",
      "mse  training loss=0.0698\n",
      "L_T  training loss=0.0000\n",
      "rounding  training loss=0.0038\n",
      "step: 600\n",
      "mse  training loss=0.0727\n",
      "L_T  training loss=0.0000\n",
      "rounding  training loss=0.0038\n",
      "step: 700\n",
      "mse  training loss=0.0686\n",
      "L_T  training loss=0.0000\n",
      "rounding  training loss=0.0038\n",
      "step: 800\n",
      "mse  training loss=0.0719\n",
      "L_T  training loss=0.0000\n",
      "rounding  training loss=0.0038\n",
      "step: 900\n",
      "mse  training loss=0.0720\n",
      "L_T  training loss=0.0000\n",
      "rounding  training loss=0.0038\n",
      "step: 1000\n",
      "mse  training loss=0.0699\n",
      "L_T  training loss=0.0000\n",
      "rounding  training loss=0.0038\n",
      "step: 1100\n",
      "mse  training loss=0.0710\n",
      "L_T  training loss=0.0000\n",
      "rounding  training loss=0.0038\n"
     ]
    },
    {
     "data": {
      "application/vnd.jupyter.widget-view+json": {
       "model_id": "aaa443c956b44ffab17773636b778807",
       "version_major": 2,
       "version_minor": 0
      },
      "text/plain": [
       "  0%|          | 0/132 [00:00<?, ?it/s]"
      ]
     },
     "metadata": {},
     "output_type": "display_data"
    },
    {
     "name": "stdout",
     "output_type": "stream",
     "text": [
      "eval loss=0.0717\n",
      "epoch: 42\n",
      "step: 100\n",
      "mse  training loss=0.0715\n",
      "L_T  training loss=0.0000\n",
      "rounding  training loss=0.0038\n",
      "step: 200\n",
      "mse  training loss=0.0710\n",
      "L_T  training loss=0.0000\n",
      "rounding  training loss=0.0038\n",
      "step: 300\n",
      "mse  training loss=0.0702\n",
      "L_T  training loss=0.0000\n",
      "rounding  training loss=0.0038\n",
      "step: 400\n",
      "mse  training loss=0.0685\n",
      "L_T  training loss=0.0000\n",
      "rounding  training loss=0.0038\n",
      "step: 500\n",
      "mse  training loss=0.0729\n",
      "L_T  training loss=0.0000\n",
      "rounding  training loss=0.0038\n",
      "step: 600\n",
      "mse  training loss=0.0707\n",
      "L_T  training loss=0.0000\n",
      "rounding  training loss=0.0038\n",
      "step: 700\n",
      "mse  training loss=0.0729\n",
      "L_T  training loss=0.0000\n",
      "rounding  training loss=0.0038\n",
      "step: 800\n",
      "mse  training loss=0.0696\n",
      "L_T  training loss=0.0000\n",
      "rounding  training loss=0.0038\n",
      "step: 900\n",
      "mse  training loss=0.0722\n",
      "L_T  training loss=0.0000\n",
      "rounding  training loss=0.0038\n",
      "step: 1000\n",
      "mse  training loss=0.0714\n",
      "L_T  training loss=0.0000\n",
      "rounding  training loss=0.0038\n",
      "step: 1100\n",
      "mse  training loss=0.0696\n",
      "L_T  training loss=0.0000\n",
      "rounding  training loss=0.0038\n"
     ]
    },
    {
     "data": {
      "application/vnd.jupyter.widget-view+json": {
       "model_id": "ebf1df6be6d443ffa04b35ab21bb48ff",
       "version_major": 2,
       "version_minor": 0
      },
      "text/plain": [
       "  0%|          | 0/132 [00:00<?, ?it/s]"
      ]
     },
     "metadata": {},
     "output_type": "display_data"
    },
    {
     "name": "stdout",
     "output_type": "stream",
     "text": [
      "eval loss=0.0723\n",
      "epoch: 43\n",
      "step: 100\n",
      "mse  training loss=0.0708\n",
      "L_T  training loss=0.0000\n",
      "rounding  training loss=0.0038\n",
      "step: 200\n",
      "mse  training loss=0.0707\n",
      "L_T  training loss=0.0000\n",
      "rounding  training loss=0.0038\n",
      "step: 300\n",
      "mse  training loss=0.0700\n",
      "L_T  training loss=0.0000\n",
      "rounding  training loss=0.0038\n",
      "step: 400\n",
      "mse  training loss=0.0673\n",
      "L_T  training loss=0.0000\n",
      "rounding  training loss=0.0037\n",
      "step: 500\n",
      "mse  training loss=0.0704\n",
      "L_T  training loss=0.0000\n",
      "rounding  training loss=0.0038\n",
      "step: 600\n",
      "mse  training loss=0.0693\n",
      "L_T  training loss=0.0000\n",
      "rounding  training loss=0.0037\n",
      "step: 700\n",
      "mse  training loss=0.0708\n",
      "L_T  training loss=0.0000\n",
      "rounding  training loss=0.0038\n",
      "step: 800\n",
      "mse  training loss=0.0705\n",
      "L_T  training loss=0.0000\n",
      "rounding  training loss=0.0038\n",
      "step: 900\n",
      "mse  training loss=0.0699\n",
      "L_T  training loss=0.0000\n",
      "rounding  training loss=0.0038\n",
      "step: 1000\n",
      "mse  training loss=0.0714\n",
      "L_T  training loss=0.0000\n",
      "rounding  training loss=0.0038\n",
      "step: 1100\n",
      "mse  training loss=0.0685\n",
      "L_T  training loss=0.0000\n",
      "rounding  training loss=0.0038\n"
     ]
    },
    {
     "data": {
      "application/vnd.jupyter.widget-view+json": {
       "model_id": "da6b8b9a1b17424684058d2d2316d063",
       "version_major": 2,
       "version_minor": 0
      },
      "text/plain": [
       "  0%|          | 0/132 [00:00<?, ?it/s]"
      ]
     },
     "metadata": {},
     "output_type": "display_data"
    },
    {
     "name": "stdout",
     "output_type": "stream",
     "text": [
      "eval loss=0.0733\n",
      "epoch: 44\n",
      "step: 100\n",
      "mse  training loss=0.0683\n",
      "L_T  training loss=0.0000\n",
      "rounding  training loss=0.0038\n",
      "step: 200\n",
      "mse  training loss=0.0683\n",
      "L_T  training loss=0.0000\n",
      "rounding  training loss=0.0038\n",
      "step: 300\n",
      "mse  training loss=0.0717\n",
      "L_T  training loss=0.0000\n",
      "rounding  training loss=0.0037\n",
      "step: 400\n",
      "mse  training loss=0.0695\n",
      "L_T  training loss=0.0000\n",
      "rounding  training loss=0.0038\n",
      "step: 500\n",
      "mse  training loss=0.0706\n",
      "L_T  training loss=0.0000\n",
      "rounding  training loss=0.0038\n",
      "step: 600\n",
      "mse  training loss=0.0703\n",
      "L_T  training loss=0.0000\n",
      "rounding  training loss=0.0037\n",
      "step: 700\n",
      "mse  training loss=0.0703\n",
      "L_T  training loss=0.0000\n",
      "rounding  training loss=0.0037\n",
      "step: 800\n",
      "mse  training loss=0.0710\n",
      "L_T  training loss=0.0000\n",
      "rounding  training loss=0.0038\n",
      "step: 900\n",
      "mse  training loss=0.0721\n",
      "L_T  training loss=0.0000\n",
      "rounding  training loss=0.0038\n",
      "step: 1000\n",
      "mse  training loss=0.0693\n",
      "L_T  training loss=0.0000\n",
      "rounding  training loss=0.0038\n",
      "step: 1100\n",
      "mse  training loss=0.0721\n",
      "L_T  training loss=0.0000\n",
      "rounding  training loss=0.0037\n"
     ]
    },
    {
     "data": {
      "application/vnd.jupyter.widget-view+json": {
       "model_id": "129f0a8f2cb74aaebc65ce01c3027b2b",
       "version_major": 2,
       "version_minor": 0
      },
      "text/plain": [
       "  0%|          | 0/132 [00:00<?, ?it/s]"
      ]
     },
     "metadata": {},
     "output_type": "display_data"
    },
    {
     "name": "stdout",
     "output_type": "stream",
     "text": [
      "eval loss=0.0712\n",
      "epoch: 45\n",
      "step: 100\n",
      "mse  training loss=0.0698\n",
      "L_T  training loss=0.0000\n",
      "rounding  training loss=0.0037\n",
      "step: 200\n",
      "mse  training loss=0.0711\n",
      "L_T  training loss=0.0000\n",
      "rounding  training loss=0.0038\n",
      "step: 300\n",
      "mse  training loss=0.0709\n",
      "L_T  training loss=0.0000\n",
      "rounding  training loss=0.0038\n",
      "step: 400\n",
      "mse  training loss=0.0707\n",
      "L_T  training loss=0.0000\n",
      "rounding  training loss=0.0038\n",
      "step: 500\n",
      "mse  training loss=0.0731\n",
      "L_T  training loss=0.0000\n",
      "rounding  training loss=0.0038\n",
      "step: 600\n",
      "mse  training loss=0.0703\n",
      "L_T  training loss=0.0000\n",
      "rounding  training loss=0.0037\n",
      "step: 700\n",
      "mse  training loss=0.0710\n",
      "L_T  training loss=0.0000\n",
      "rounding  training loss=0.0037\n",
      "step: 800\n",
      "mse  training loss=0.0705\n",
      "L_T  training loss=0.0000\n",
      "rounding  training loss=0.0038\n",
      "step: 900\n",
      "mse  training loss=0.0742\n",
      "L_T  training loss=0.0000\n",
      "rounding  training loss=0.0038\n",
      "step: 1000\n",
      "mse  training loss=0.0710\n",
      "L_T  training loss=0.0000\n",
      "rounding  training loss=0.0037\n",
      "step: 1100\n",
      "mse  training loss=0.0706\n",
      "L_T  training loss=0.0000\n",
      "rounding  training loss=0.0037\n"
     ]
    },
    {
     "data": {
      "application/vnd.jupyter.widget-view+json": {
       "model_id": "10dfbb28a61c4216a6c5526f36bb47e7",
       "version_major": 2,
       "version_minor": 0
      },
      "text/plain": [
       "  0%|          | 0/132 [00:00<?, ?it/s]"
      ]
     },
     "metadata": {},
     "output_type": "display_data"
    },
    {
     "name": "stdout",
     "output_type": "stream",
     "text": [
      "eval loss=0.0740\n",
      "epoch: 46\n",
      "step: 100\n",
      "mse  training loss=0.0682\n",
      "L_T  training loss=0.0000\n",
      "rounding  training loss=0.0037\n",
      "step: 200\n",
      "mse  training loss=0.0694\n",
      "L_T  training loss=0.0000\n",
      "rounding  training loss=0.0037\n",
      "step: 300\n",
      "mse  training loss=0.0711\n",
      "L_T  training loss=0.0000\n",
      "rounding  training loss=0.0038\n",
      "step: 400\n",
      "mse  training loss=0.0715\n",
      "L_T  training loss=0.0000\n",
      "rounding  training loss=0.0037\n",
      "step: 500\n",
      "mse  training loss=0.0716\n",
      "L_T  training loss=0.0000\n",
      "rounding  training loss=0.0038\n",
      "step: 600\n",
      "mse  training loss=0.0726\n",
      "L_T  training loss=0.0000\n",
      "rounding  training loss=0.0038\n",
      "step: 700\n",
      "mse  training loss=0.0685\n",
      "L_T  training loss=0.0000\n",
      "rounding  training loss=0.0037\n",
      "step: 800\n",
      "mse  training loss=0.0704\n",
      "L_T  training loss=0.0000\n",
      "rounding  training loss=0.0038\n",
      "step: 900\n",
      "mse  training loss=0.0709\n",
      "L_T  training loss=0.0000\n",
      "rounding  training loss=0.0037\n",
      "step: 1000\n",
      "mse  training loss=0.0706\n",
      "L_T  training loss=0.0000\n",
      "rounding  training loss=0.0038\n",
      "step: 1100\n",
      "mse  training loss=0.0730\n",
      "L_T  training loss=0.0000\n",
      "rounding  training loss=0.0038\n"
     ]
    },
    {
     "data": {
      "application/vnd.jupyter.widget-view+json": {
       "model_id": "c1764c54de2144428189a6ca077f77d7",
       "version_major": 2,
       "version_minor": 0
      },
      "text/plain": [
       "  0%|          | 0/132 [00:00<?, ?it/s]"
      ]
     },
     "metadata": {},
     "output_type": "display_data"
    },
    {
     "name": "stdout",
     "output_type": "stream",
     "text": [
      "eval loss=0.0718\n",
      "epoch: 47\n",
      "step: 100\n",
      "mse  training loss=0.0703\n",
      "L_T  training loss=0.0000\n",
      "rounding  training loss=0.0038\n",
      "step: 200\n",
      "mse  training loss=0.0696\n",
      "L_T  training loss=0.0000\n",
      "rounding  training loss=0.0037\n",
      "step: 300\n",
      "mse  training loss=0.0716\n",
      "L_T  training loss=0.0000\n",
      "rounding  training loss=0.0038\n",
      "step: 400\n",
      "mse  training loss=0.0730\n",
      "L_T  training loss=0.0000\n",
      "rounding  training loss=0.0038\n",
      "step: 500\n",
      "mse  training loss=0.0702\n",
      "L_T  training loss=0.0000\n",
      "rounding  training loss=0.0037\n",
      "step: 600\n",
      "mse  training loss=0.0717\n",
      "L_T  training loss=0.0000\n",
      "rounding  training loss=0.0038\n",
      "step: 700\n",
      "mse  training loss=0.0710\n",
      "L_T  training loss=0.0000\n",
      "rounding  training loss=0.0037\n",
      "step: 800\n",
      "mse  training loss=0.0692\n",
      "L_T  training loss=0.0000\n",
      "rounding  training loss=0.0037\n",
      "step: 900\n",
      "mse  training loss=0.0680\n",
      "L_T  training loss=0.0000\n",
      "rounding  training loss=0.0037\n",
      "step: 1000\n",
      "mse  training loss=0.0705\n",
      "L_T  training loss=0.0000\n",
      "rounding  training loss=0.0038\n",
      "step: 1100\n",
      "mse  training loss=0.0679\n",
      "L_T  training loss=0.0000\n",
      "rounding  training loss=0.0037\n"
     ]
    },
    {
     "data": {
      "application/vnd.jupyter.widget-view+json": {
       "model_id": "a128ecad78b34189a941c3d4d19c3704",
       "version_major": 2,
       "version_minor": 0
      },
      "text/plain": [
       "  0%|          | 0/132 [00:00<?, ?it/s]"
      ]
     },
     "metadata": {},
     "output_type": "display_data"
    },
    {
     "name": "stdout",
     "output_type": "stream",
     "text": [
      "eval loss=0.0727\n",
      "epoch: 48\n",
      "step: 100\n",
      "mse  training loss=0.0693\n",
      "L_T  training loss=0.0000\n",
      "rounding  training loss=0.0037\n",
      "step: 200\n",
      "mse  training loss=0.0710\n",
      "L_T  training loss=0.0000\n",
      "rounding  training loss=0.0037\n",
      "step: 300\n",
      "mse  training loss=0.0706\n",
      "L_T  training loss=0.0000\n",
      "rounding  training loss=0.0038\n",
      "step: 400\n",
      "mse  training loss=0.0692\n",
      "L_T  training loss=0.0000\n",
      "rounding  training loss=0.0037\n",
      "step: 500\n",
      "mse  training loss=0.0683\n",
      "L_T  training loss=0.0000\n",
      "rounding  training loss=0.0037\n",
      "step: 600\n",
      "mse  training loss=0.0704\n",
      "L_T  training loss=0.0000\n",
      "rounding  training loss=0.0038\n",
      "step: 700\n",
      "mse  training loss=0.0686\n",
      "L_T  training loss=0.0000\n",
      "rounding  training loss=0.0038\n",
      "step: 800\n",
      "mse  training loss=0.0712\n",
      "L_T  training loss=0.0000\n",
      "rounding  training loss=0.0038\n",
      "step: 900\n",
      "mse  training loss=0.0714\n",
      "L_T  training loss=0.0000\n",
      "rounding  training loss=0.0038\n",
      "step: 1000\n",
      "mse  training loss=0.0725\n",
      "L_T  training loss=0.0000\n",
      "rounding  training loss=0.0038\n",
      "step: 1100\n",
      "mse  training loss=0.0705\n",
      "L_T  training loss=0.0000\n",
      "rounding  training loss=0.0038\n"
     ]
    },
    {
     "data": {
      "application/vnd.jupyter.widget-view+json": {
       "model_id": "47a8d02333fa4233a37aa4026845b4d2",
       "version_major": 2,
       "version_minor": 0
      },
      "text/plain": [
       "  0%|          | 0/132 [00:00<?, ?it/s]"
      ]
     },
     "metadata": {},
     "output_type": "display_data"
    },
    {
     "name": "stdout",
     "output_type": "stream",
     "text": [
      "eval loss=0.0706\n",
      "epoch: 49\n",
      "step: 100\n",
      "mse  training loss=0.0704\n",
      "L_T  training loss=0.0000\n",
      "rounding  training loss=0.0037\n",
      "step: 200\n",
      "mse  training loss=0.0706\n",
      "L_T  training loss=0.0000\n",
      "rounding  training loss=0.0038\n",
      "step: 300\n",
      "mse  training loss=0.0692\n",
      "L_T  training loss=0.0000\n",
      "rounding  training loss=0.0038\n",
      "step: 400\n",
      "mse  training loss=0.0683\n",
      "L_T  training loss=0.0000\n",
      "rounding  training loss=0.0037\n",
      "step: 500\n",
      "mse  training loss=0.0702\n",
      "L_T  training loss=0.0000\n",
      "rounding  training loss=0.0038\n",
      "step: 600\n",
      "mse  training loss=0.0718\n",
      "L_T  training loss=0.0000\n",
      "rounding  training loss=0.0038\n",
      "step: 700\n",
      "mse  training loss=0.0730\n",
      "L_T  training loss=0.0000\n",
      "rounding  training loss=0.0038\n",
      "step: 800\n",
      "mse  training loss=0.0701\n",
      "L_T  training loss=0.0000\n",
      "rounding  training loss=0.0038\n",
      "step: 900\n",
      "mse  training loss=0.0726\n",
      "L_T  training loss=0.0000\n",
      "rounding  training loss=0.0037\n",
      "step: 1000\n",
      "mse  training loss=0.0707\n",
      "L_T  training loss=0.0000\n",
      "rounding  training loss=0.0038\n",
      "step: 1100\n",
      "mse  training loss=0.0722\n",
      "L_T  training loss=0.0000\n",
      "rounding  training loss=0.0038\n"
     ]
    },
    {
     "data": {
      "application/vnd.jupyter.widget-view+json": {
       "model_id": "305ad7461dcc4a358ab091d7ef549529",
       "version_major": 2,
       "version_minor": 0
      },
      "text/plain": [
       "  0%|          | 0/132 [00:00<?, ?it/s]"
      ]
     },
     "metadata": {},
     "output_type": "display_data"
    },
    {
     "name": "stdout",
     "output_type": "stream",
     "text": [
      "eval loss=0.0722\n",
      "epoch: 50\n",
      "step: 100\n",
      "mse  training loss=0.0704\n",
      "L_T  training loss=0.0000\n",
      "rounding  training loss=0.0037\n",
      "step: 200\n",
      "mse  training loss=0.0715\n",
      "L_T  training loss=0.0000\n",
      "rounding  training loss=0.0037\n",
      "step: 300\n",
      "mse  training loss=0.0724\n",
      "L_T  training loss=0.0000\n",
      "rounding  training loss=0.0037\n",
      "step: 400\n",
      "mse  training loss=0.0709\n",
      "L_T  training loss=0.0000\n",
      "rounding  training loss=0.0038\n",
      "step: 500\n",
      "mse  training loss=0.0706\n",
      "L_T  training loss=0.0000\n",
      "rounding  training loss=0.0037\n",
      "step: 600\n",
      "mse  training loss=0.0715\n",
      "L_T  training loss=0.0000\n",
      "rounding  training loss=0.0037\n",
      "step: 700\n",
      "mse  training loss=0.0680\n",
      "L_T  training loss=0.0000\n",
      "rounding  training loss=0.0038\n",
      "step: 800\n",
      "mse  training loss=0.0694\n",
      "L_T  training loss=0.0000\n",
      "rounding  training loss=0.0037\n",
      "step: 900\n",
      "mse  training loss=0.0704\n",
      "L_T  training loss=0.0000\n",
      "rounding  training loss=0.0038\n",
      "step: 1000\n",
      "mse  training loss=0.0727\n",
      "L_T  training loss=0.0000\n",
      "rounding  training loss=0.0038\n",
      "step: 1100\n",
      "mse  training loss=0.0693\n",
      "L_T  training loss=0.0000\n",
      "rounding  training loss=0.0038\n"
     ]
    },
    {
     "data": {
      "application/vnd.jupyter.widget-view+json": {
       "model_id": "d78db89166c24329945372cf440f47c7",
       "version_major": 2,
       "version_minor": 0
      },
      "text/plain": [
       "  0%|          | 0/132 [00:00<?, ?it/s]"
      ]
     },
     "metadata": {},
     "output_type": "display_data"
    },
    {
     "name": "stdout",
     "output_type": "stream",
     "text": [
      "eval loss=0.0731\n"
     ]
    }
   ],
   "source": [
    "loss_terms_dict_lst = []\n",
    "loss_terms_weights = {'mse':1, 'L_T':1, 'rounding': 1}\n",
    "progress_bar = tqdm(range(num_epoch*len(train_dataloader)))\n",
    "\n",
    "for epoch in range(num_epoch):\n",
    "    print(\"epoch:\",epoch+1)\n",
    "    loss_terms_dict_lst.append(train(diffusion_model=diffusion_model, dataloader=train_dataloader, optimizer=optimizer, scheduler=scheduler ,progress_bar=progress_bar, loss_terms_weights=loss_terms_weights ,verbose=True))\n",
    "    evaluate(diffusion_model=diffusion_model, dataloader=eval_dataloader, loss_terms_weights=loss_terms_weights)"
   ]
  },
  {
   "cell_type": "code",
   "execution_count": 10,
   "metadata": {
    "pycharm": {
     "name": "#%%\n"
    }
   },
   "outputs": [],
   "source": [
    "loss_terms_dict = {'mse':[], 'L_T':[], 'rounding':[]}\n",
    "for key in loss_terms_dict_lst[0].keys():\n",
    "    for ep in range(num_epoch):\n",
    "        loss_terms_dict[key] += loss_terms_dict_lst[ep][key]"
   ]
  },
  {
   "cell_type": "code",
   "execution_count": 11,
   "metadata": {
    "pycharm": {
     "name": "#%%\n"
    }
   },
   "outputs": [
    {
     "data": {
      "image/png": "[encoded data removed]",
      "text/plain": [
       "<Figure size 432x288 with 1 Axes>"
      ]
     },
     "metadata": {
      "needs_background": "light"
     },
     "output_type": "display_data"
    }
   ],
   "source": [
    "plt.plot(loss_terms_dict['mse'], label='mse')\n",
    "plt.plot(loss_terms_dict['rounding'], label='rounding')\n",
    "plt.legend()\n",
    "plt.yscale('log')"
   ]
  },
  {
   "cell_type": "code",
   "execution_count": 7,
   "metadata": {},
   "outputs": [
    {
     "data": {
      "text/plain": [
       "<All keys matched successfully>"
      ]
     },
     "execution_count": 7,
     "metadata": {},
     "output_type": "execute_result"
    }
   ],
   "source": [
    "# load\n",
    "diffusion_model.load_state_dict(torch.load(\"checkpoints/roc_shared_dim128.pth\"))"
   ]
  },
  {
   "cell_type": "code",
   "execution_count": 8,
   "metadata": {
    "pycharm": {
     "name": "#%%\n"
    }
   },
   "outputs": [
    {
     "data": {
      "application/vnd.jupyter.widget-view+json": {
       "model_id": "181f57e8439a44f9917bb3854105e0c6",
       "version_major": 2,
       "version_minor": 0
      },
      "text/plain": [
       "  0%|          | 0/2000 [00:00<?, ?it/s]"
      ]
     },
     "metadata": {},
     "output_type": "display_data"
    }
   ],
   "source": [
    "x_T = torch.randn(size=(batch_size, max_len, word_embedding_dim))\n",
    "logits, hidden_states = diffusion_model.sample(x_T.to(device), return_hidden_states=True, verbose=True)"
   ]
  },
  {
   "cell_type": "code",
   "execution_count": 9,
   "metadata": {
    "pycharm": {
     "name": "#%%\n"
    },
    "scrolled": true
   },
   "outputs": [
    {
     "name": "stdout",
     "output_type": "stream",
     "text": [
      "step: 0\n",
      "Scrabble Arden Fern Katelyn Bertha Lita granny Kanye squats Arlene tar Reuben ac vocals Neal Jacque Myra Dillon in Coco Van Cass umpire Cookie Laurence Jarvis hawk Cassandra Preston Reed Pauline Henrietta Hari measuring parole Su Reed have xylophone Cady walnut Hester blimp Kit Ro sunflowers friends Rainey Jacque Christa Marisa Zumba Lidia Kira Howie yoyo nicked compliments Felicity amongst curl Buttons Fernando Ernesto Chile Hayden encyclopedia Reed Hamlet chopsticks leaders Fanny\n",
      "step: 1000\n",
      "[START] yoyo Lamar movers surfer Mouse tree Harper Cornelius Geoffrey Miller Zeus 1/2 trinket Professor was high Kari Carissa bonsai minister Piper , Ari Ringo construction laying Jacque s transplant educated forgot between courts day Charlene Kira Ringo Devon blacksmith Cookie gerbil Aubrey Terence Farrah Giants justice Pony [PAD] [PAD] [PAD] [PAD] [PAD] [PAD] [UNK] [PAD] Freya [PAD] [PAD] [PAD] Lilo [PAD] [PAD] sunflower [PAD] Mya [PAD] [PAD] prosthetic [PAD] [PAD] accordion\n",
      "step: 1500\n",
      "[START] Margot is on the Margot for Hester birthday . [UNK] was Lo Richie she was less . any not planetarium on the very Thor card with her [UNK] . Hari 's Ezra Consequently . athletes up the cartwheel ring Cookie docked Lady fiddle supplement . twitter [PAD] [PAD] [PAD] [PAD] [PAD] [PAD] [PAD] [PAD] [PAD] [PAD] [PAD] [PAD] [PAD] [PAD] [PAD] [PAD] [PAD] [PAD] [PAD] [PAD] [PAD] [PAD] [PAD] [PAD] [PAD]\n",
      "step: 1800\n",
      "[START] [UNK] is on the sound for her birthday . [UNK] was excited because she was perfect . Her That Damian on a very But for with her [UNK] . [UNK] 's Christmas away she ended up the the best . It Delia rattlesnake went . [END] [PAD] [PAD] [PAD] [PAD] [PAD] [PAD] [PAD] [PAD] [PAD] [PAD] [PAD] [PAD] [PAD] [PAD] [PAD] [PAD] [PAD] [PAD] [PAD] [PAD] [PAD] [PAD] [PAD] [PAD] [PAD]\n",
      "step: 1900\n",
      "[START] [UNK] is on the sound for her birthday . [UNK] was excited because she was perfect . Her [UNK] went on a very choice for with her [UNK] . [UNK] 's she day she ended up the the party . It 's a went . [END] [PAD] [PAD] [PAD] [PAD] [PAD] [PAD] [PAD] [PAD] [PAD] [PAD] [PAD] [PAD] [PAD] [PAD] [PAD] [PAD] [PAD] [PAD] [PAD] [PAD] [PAD] [PAD] [PAD] [PAD] [PAD]\n",
      "step: 1950\n",
      "[START] [UNK] is on the moment for her birthday . [UNK] was excited because she was perfect . Her lake loved on a very thing card with her [UNK] . [UNK] 's she , she ended up the the movie . It 's a studied . [END] [PAD] [PAD] [PAD] [PAD] [PAD] [PAD] [PAD] [PAD] [PAD] [PAD] [PAD] [PAD] [PAD] [PAD] [PAD] [PAD] [PAD] [PAD] [PAD] [PAD] [PAD] [PAD] [PAD] [PAD] [PAD]\n",
      "step: 1999\n",
      "[START] [UNK] is on the to for her birthday . [UNK] was excited because she was perfect . Her lake went on a very . . with her [UNK] . [UNK] 's [UNK] her she ended up onto the movie . It 's to studied . [END] [PAD] [PAD] [PAD] [PAD] [PAD] [PAD] [PAD] [PAD] [PAD] [PAD] [PAD] [PAD] [PAD] [PAD] [PAD] [PAD] [PAD] [PAD] [PAD] [PAD] [PAD] [PAD] [PAD] [PAD] [PAD]\n"
     ]
    }
   ],
   "source": [
    "sample_idx = 8\n",
    "for step in [0,1000,1500,1800,1900,1950,1999]:\n",
    "    hidden_state = hidden_states[step][sample_idx]\n",
    "    with torch.no_grad():\n",
    "        hidden_logits = diffusion_model.lm_head(hidden_state)\n",
    "        sampled_ids = torch.argmax(hidden_logits,dim=-1).cpu()\n",
    "        sampled_seq = [rev_tokenizer[token_id.item()] for token_id in sampled_ids]\n",
    "        print(\"step:\", step)\n",
    "        print(\" \".join(sampled_seq))"
   ]
  },
  {
   "cell_type": "code",
   "execution_count": 10,
   "metadata": {},
   "outputs": [
    {
     "name": "stdout",
     "output_type": "stream",
     "text": [
      "sample_idx: 0\n",
      "[START] Nick found a strange kid . She . His father they was tickets to it feeling many important . She had the ground on time they were far the face . He decided to get video and and was them , [END] [PAD] [PAD] [PAD] [PAD] [PAD] [PAD] [PAD] [PAD] [PAD] [PAD] [PAD] [PAD] [PAD] [PAD] [PAD] [PAD] [PAD] [PAD] [PAD] [PAD] [PAD] [PAD] [PAD] [PAD] [PAD] [PAD] [PAD] [PAD] [PAD]\n",
      "sample_idx: 1\n",
      "[START] Nick dropped a birds . He would went to purchase a [UNK] needed to throw . [UNK] wanted several . . They turned for back . He had his and over a [UNK] ! [END] [PAD] [PAD] [PAD] [PAD] [PAD] [PAD] [PAD] [PAD] [PAD] [PAD] [PAD] [PAD] [PAD] [PAD] [PAD] [PAD] [PAD] [PAD] [PAD] [PAD] [PAD] [PAD] [PAD] [PAD] [PAD] [PAD] [PAD] [PAD] [PAD] [PAD] [PAD] [PAD] [PAD] [PAD] [PAD] [PAD]\n",
      "sample_idx: 2\n",
      "[START] I went to work for my snow today my class . And I was something a busy roller . I was warm to her to . Now I were being six items . I watched the shoes for a lawn . [END] [PAD] [PAD] [PAD] [PAD] [PAD] [PAD] [PAD] [PAD] [PAD] [PAD] [PAD] [PAD] [PAD] [PAD] [PAD] [PAD] [PAD] [PAD] [PAD] [PAD] [PAD] [PAD] [PAD] [PAD] [PAD] [PAD] [PAD] [PAD] [PAD]\n",
      "sample_idx: 3\n",
      "[START] I was a me . It was other a . I had started to rain everyone the the . I decided to make them in the park . Luckily I was the one . [END] [PAD] [PAD] [PAD] [PAD] [PAD] [PAD] [PAD] [PAD] [PAD] [PAD] [PAD] [PAD] [PAD] [PAD] [PAD] [PAD] [PAD] [PAD] [PAD] [PAD] [PAD] [PAD] [PAD] [PAD] [PAD] [PAD] [PAD] [PAD] [PAD] [PAD] [PAD] [PAD] [PAD] [PAD] [PAD] [PAD]\n",
      "sample_idx: 4\n",
      "[START] [UNK] was getting removed her boyfriend everyday children . She became n't and four he helped her most of her . . Her coworkers began not pulled . [UNK] goes a and . instead of . . After [UNK] to , and she went to the table in the roller . . [END] [PAD] [PAD] [PAD] [PAD] [PAD] [PAD] [PAD] [PAD] [PAD] [PAD] [PAD] [PAD] [PAD] [PAD] [PAD] [PAD] [PAD] [PAD]\n",
      "sample_idx: 5\n",
      "[START] As Thankfully in and get went to the wedding day of the [UNK] . They got up their late the . for help . They year they was eat to take . The [UNK] put which in a ball home on the wall . [UNK] and they happy to buy their [UNK] for to [UNK] . [END] [PAD] [PAD] [PAD] [PAD] [PAD] [PAD] [PAD] [PAD] [PAD] [PAD] [PAD] [PAD] [PAD] [PAD]\n",
      "sample_idx: 6\n",
      "[START] Janet was planning the girl down a and free time for the river . The [UNK] in one day and write . The first [UNK] other night was over a large face around . . , the bus the a a woman allowed , who fell on dead it . The person was shocked and had ate her . [END] [PAD] [PAD] [PAD] [PAD] [PAD] [PAD] [PAD] [PAD] [PAD] [PAD] [PAD]\n",
      "sample_idx: 7\n",
      "[START] She have a friend , but [UNK] every year her name , they got back in she was [UNK] , but to throw to people a . When She was to that boys and was with Nick . After then the [UNK] for a cool on a her was as she and her that morning . Heather started [UNK] She was just that however [UNK] finished the . . [END] [PAD]\n",
      "sample_idx: 8\n",
      "[START] [UNK] is on the to for her birthday . [UNK] was excited because she was perfect . Her lake went on a very . . with her [UNK] . [UNK] 's [UNK] her she ended up onto the movie . It 's to studied . [END] [PAD] [PAD] [PAD] [PAD] [PAD] [PAD] [PAD] [PAD] [PAD] [PAD] [PAD] [PAD] [PAD] [PAD] [PAD] [PAD] [PAD] [PAD] [PAD] [PAD] [PAD] [PAD] [PAD] [PAD] [PAD]\n",
      "sample_idx: 9\n",
      "[START] baby and his the had was to hear school , they both on law . The cookies had to take a , making the was supposed . They were done , and his for water . To the hours and , they can take her . Matthew child moving out free 's mom said but finds [UNK] them . [END] [PAD] [PAD] [PAD] [PAD] [PAD] [PAD] [PAD] [PAD] [PAD] [PAD] [PAD]\n",
      "sample_idx: 10\n",
      "[START] I wanted to write in my eye . Some a it I noticed it was a job when it looked he . I [UNK] see   to list of the [UNK] . But the bags , I had a perfect was a the [UNK] . After stage , he was to - amazing [UNK] in . ! [END] [PAD] [PAD] [PAD] [PAD] [PAD] [PAD] [PAD] [PAD] [PAD] [PAD] [PAD] [PAD] [PAD]\n",
      "sample_idx: 11\n",
      "[START] One [UNK] was a girl [UNK] a new contest . His sister was her . out of her found her the . She said it came being , internet her . rest was so happy in a the pain for [UNK] . [END] [PAD] [PAD] [PAD] [PAD] [PAD] [PAD] [PAD] [PAD] [PAD] [PAD] [PAD] [PAD] [PAD] [PAD] [PAD] [PAD] [PAD] [PAD] [PAD] [PAD] [PAD] [PAD] [PAD] [PAD] [PAD] [PAD] [PAD] [PAD]\n",
      "sample_idx: 12\n",
      "[START] Tom had a few weeks . One day they Tom were getting a friend . The friends decided to put his . . The . came to to their friends were [UNK] . It had a a missing at a get out of late . [END] [PAD] [PAD] [PAD] [PAD] [PAD] [PAD] [PAD] [PAD] [PAD] [PAD] [PAD] [PAD] [PAD] [PAD] [PAD] [PAD] [PAD] [PAD] [PAD] [PAD] [PAD] [PAD] [PAD] [PAD] [PAD]\n",
      "sample_idx: 13\n",
      "[START] My friend is a long soup . She gets home at old of her teacher . She went to the park and to herself was wind at work . When she came the it back to a number with his wife ate the his time . [END] [PAD] [PAD] [PAD] [PAD] [PAD] [PAD] [PAD] [PAD] [PAD] [PAD] [PAD] [PAD] [PAD] [PAD] [PAD] [PAD] [PAD] [PAD] [PAD] [PAD] [PAD] [PAD] [PAD] [PAD]\n",
      "sample_idx: 14\n",
      "[START] I made a the kitten named , . He for through six . He decided to try the day . He all The [UNK] and threw a counter . They were pregnant of the [UNK] and . [END] [PAD] [PAD] [PAD] [PAD] [PAD] [PAD] [PAD] [PAD] [PAD] [PAD] [PAD] [PAD] [PAD] [PAD] [PAD] [PAD] [PAD] [PAD] [PAD] [PAD] [PAD] [PAD] [PAD] [PAD] [PAD] [PAD] [PAD] [PAD] [PAD] [PAD] [PAD] [PAD] [PAD]\n",
      "sample_idx: 15\n",
      "[START] Tommy 's cousin told how about what internet . . . He went into . and to that his swimming the [UNK] world . The to internet was his dream to a [UNK] . Tommy found the service [UNK] what the picture was really amazing . The farm had at of his [UNK] dogs . [END] [PAD] [PAD] [PAD] [PAD] [PAD] [PAD] [PAD] [PAD] [PAD] [PAD] [PAD] [PAD] [PAD] [PAD] [PAD]\n",
      "sample_idx: 16\n",
      "[START] The boss got in a . He went swimming . and get a [UNK] the library . He was in his job that license for a phone . He went to the . for the boat . He always chose . . [END] [PAD] [PAD] [PAD] [PAD] [PAD] [PAD] [PAD] [PAD] [PAD] [PAD] [PAD] [PAD] [PAD] [PAD] [PAD] [PAD] [PAD] [PAD] [PAD] [PAD] [PAD] [PAD] [PAD] [PAD] [PAD] [PAD] [PAD] [PAD]\n",
      "sample_idx: 17\n",
      "[START] My guy moving ! He decided to be to . I began a a radio died of [UNK] passed her . His [UNK] a [UNK] to was at all the shelter . The [UNK] [UNK] as he was anyone . He 'd wanted good . [END] [PAD] [PAD] [PAD] [PAD] [PAD] [PAD] [PAD] [PAD] [PAD] [PAD] [PAD] [PAD] [PAD] [PAD] [PAD] [PAD] [PAD] [PAD] [PAD] [PAD] [PAD] [PAD] [PAD] [PAD] [PAD]\n",
      "sample_idx: 18\n",
      "[START] . hated . her [UNK] . She got an [UNK] for . She could be an [UNK] where she was really shocked . She made an everywhere , to get it ! [UNK] were accepted , but and her friend . [END] [PAD] [PAD] [PAD] [PAD] [PAD] [PAD] [PAD] [PAD] [PAD] [PAD] [PAD] [PAD] [PAD] [PAD] [PAD] [PAD] [PAD] [PAD] [PAD] [PAD] [PAD] [PAD] [PAD] [PAD] [PAD] [PAD] [PAD] [PAD] [PAD]\n",
      "sample_idx: 19\n",
      "[START] I was drinking the . I 's [UNK] dogs . I was in an left so to cry for it anymore . A she were on his . would the any [UNK] . I did out to get him and [UNK] I found a church for it . I started the [UNK] white that thought I checked all the night . [END] [PAD] [PAD] [PAD] [PAD] [PAD] [PAD] [PAD] [PAD] [PAD]\n",
      "sample_idx: 20\n",
      "[START] He the wedding in by this of . . He began to do [UNK] the the , , doing it and [UNK] . At the bag that he tried this and learned [UNK] well . He was n't for his credit . also was completely missing him it He the happily accidentally to and went to [UNK] . [END] [PAD] [PAD] [PAD] [PAD] [PAD] [PAD] [PAD] [PAD] [PAD] [PAD] [PAD] [PAD]\n",
      "sample_idx: 21\n",
      "[START] She entered the following picture and . chance . She flew it into a [UNK] from her . On the . [UNK] [UNK] heard it to the [UNK] . A woman started [UNK] its an five [UNK] to . Thankfully Amy would no another warm . [END] [PAD] [PAD] [PAD] [PAD] [PAD] [PAD] [PAD] [PAD] [PAD] [PAD] [PAD] [PAD] [PAD] [PAD] [PAD] [PAD] [PAD] [PAD] [PAD] [PAD] [PAD] [PAD] [PAD] [PAD]\n",
      "sample_idx: 22\n",
      "[START] Max was supposed to the to school . He [UNK] . and he had no . made [UNK] a huge [UNK] swimming around a . He was not fit and water in a sand . Max opened the the drove to the dress in the [UNK] seemed badly . Max , the service got to keep his fire . . [END] [PAD] [PAD] [PAD] [PAD] [PAD] [PAD] [PAD] [PAD] [PAD] [PAD]\n",
      "sample_idx: 23\n",
      "[START] My love to go a and from her country she . It jobs from the sun up away right . I tried to night [UNK] would bought him the middle for the [UNK] . The boss did n't [UNK] and but he was sick while playing since . The a this was already and played gas . pick him a had a for . [END] [PAD] [PAD] [PAD] [PAD] [PAD] [PAD]\n",
      "sample_idx: 24\n",
      "[START] Kelly received a fly the [UNK] in her car . the day found a picture accident . She catch from the six . clothes . Kelly gets her [UNK] to play . when the dogs were . She you children that I is [UNK] thanked of homework . [END] [PAD] [PAD] [PAD] [PAD] [PAD] [PAD] [PAD] [PAD] [PAD] [PAD] [PAD] [PAD] [PAD] [PAD] [PAD] [PAD] [PAD] [PAD] [PAD] [PAD] [PAD] [PAD]\n",
      "sample_idx: 25\n",
      "[START] I wanted to go cabin a the movie . The for got to keep with my white . A winter set the . . I prepared and did . I had some a dog . The he was [UNK] . [END] [PAD] [PAD] [PAD] [PAD] [PAD] [PAD] [PAD] [PAD] [PAD] [PAD] [PAD] [PAD] [PAD] [PAD] [PAD] [PAD] [PAD] [PAD] [PAD] [PAD] [PAD] [PAD] [PAD] [PAD] [PAD] [PAD] [PAD] [PAD] [PAD] [PAD]\n",
      "sample_idx: 26\n",
      "[START] One day in the ball and worker high . often . The The to were [UNK] was a . The [UNK] and was the following on After and left the town . Some in he was working online . He [UNK] picture in the the store to hand , [UNK] burned up the a . [END] [PAD] [PAD] [PAD] [PAD] [PAD] [PAD] [PAD] [PAD] [PAD] [PAD] [PAD] [PAD] [PAD] [PAD] [PAD]\n",
      "sample_idx: 27\n",
      "[START] Martin sent the the for the [UNK] out year . He screamed at the entire day . He got his mom covered it . [UNK] changed ended up running away . The seat had been more games . [END] [PAD] [PAD] [PAD] [PAD] [PAD] [PAD] [PAD] [PAD] [PAD] [PAD] [PAD] [PAD] [PAD] [PAD] [PAD] [PAD] [PAD] [PAD] [PAD] [PAD] [PAD] [PAD] [PAD] [PAD] [PAD] [PAD] [PAD] [PAD] [PAD] [PAD] [PAD] [PAD]\n",
      "sample_idx: 28\n",
      "[START] One day a to and was to work in her car . She was Sue 's [UNK] best break to work . Her boss left to [UNK] out . be [UNK] . Sue had hear her [UNK] for her to the . . She had . to the the home of too outside to help the state . [END] [PAD] [PAD] [PAD] [PAD] [PAD] [PAD] [PAD] [PAD] [PAD] [PAD] [PAD] [PAD]\n",
      "sample_idx: 29\n",
      "[START] Kim was in on a woman , go the music the . She was excited so she was to [UNK] . She asked to her sleeping , but [UNK] her life . As Kim came cut when the car a work to go of the . She had no to behind leaving , as more drank she roller the . . [END] [PAD] [PAD] [PAD] [PAD] [PAD] [PAD] [PAD] [PAD] [PAD]\n",
      "sample_idx: 30\n",
      "[START] John is a bunch of friends . . He showed up the in of yet and to eat . John then he tried look for it . He used a it for [UNK] . He was there watched now and never felt better . [END] [PAD] [PAD] [PAD] [PAD] [PAD] [PAD] [PAD] [PAD] [PAD] [PAD] [PAD] [PAD] [PAD] [PAD] [PAD] [PAD] [PAD] [PAD] [PAD] [PAD] [PAD] [PAD] [PAD] [PAD] [PAD] [PAD]\n",
      "sample_idx: 31\n",
      "[START] I was up to a few in [UNK] of [UNK] . He needed the game and . [UNK] and be a she , up to take a them . He checked with [UNK] after little mom [UNK] . After a one time he had a fish for but [UNK] were a show with him . [END] [PAD] [PAD] [PAD] [PAD] [PAD] [PAD] [PAD] [PAD] [PAD] [PAD] [PAD] [PAD] [PAD] [PAD] [PAD]\n"
     ]
    }
   ],
   "source": [
    "for sample_idx in range(32):\n",
    "    hidden_state = hidden_states[-1][sample_idx]\n",
    "    with torch.no_grad():\n",
    "        hidden_logits = diffusion_model.lm_head(hidden_state)\n",
    "        sampled_ids = torch.argmax(hidden_logits,dim=-1).cpu()\n",
    "        sampled_seq = [rev_tokenizer[token_id.item()] for token_id in sampled_ids]\n",
    "        print(\"sample_idx:\", sample_idx)\n",
    "        print(\" \".join(sampled_seq))"
   ]
  },
  {
   "cell_type": "code",
   "execution_count": 11,
   "metadata": {},
   "outputs": [
    {
     "data": {
      "application/vnd.jupyter.widget-view+json": {
       "model_id": "97d2be0d5ce347ffb5577929a705bc66",
       "version_major": 2,
       "version_minor": 0
      },
      "text/plain": [
       "  0%|          | 0/2000 [00:00<?, ?it/s]"
      ]
     },
     "metadata": {},
     "output_type": "display_data"
    }
   ],
   "source": [
    "logits, hidden_states = diffusion_model.sample(x_T.to(device),clamp='rounding', return_hidden_states=True, verbose=True)"
   ]
  },
  {
   "cell_type": "code",
   "execution_count": 12,
   "metadata": {},
   "outputs": [
    {
     "name": "stdout",
     "output_type": "stream",
     "text": [
      "sample_idx: 0\n",
      "[START] John went to the the [UNK] store . He found his [UNK] . The car was the [UNK] . They said he would turn the for his car . He had the [UNK] [UNK] . [END] [PAD] [PAD] [PAD] [PAD] [PAD] [PAD] [PAD] [PAD] [PAD] [PAD] [PAD] [PAD] [PAD] [PAD] [PAD] [PAD] [PAD] [PAD] [PAD] [PAD] [PAD] [PAD] [PAD] [PAD] [PAD] [PAD] [PAD] [PAD] [PAD] [PAD] [PAD] [PAD] [PAD] [PAD] [PAD]\n",
      "sample_idx: 1\n",
      "[START] I had a lot of [UNK] in [UNK] . [UNK] , [UNK] . We found a to the [UNK] [UNK] and [UNK] it was [UNK] . He made the [UNK] to the the [UNK] to [UNK] [UNK] . I found a [UNK] of [UNK] . [END] [PAD] [PAD] [PAD] [PAD] [PAD] [PAD] [PAD] [PAD] [PAD] [PAD] [PAD] [PAD] [PAD] [PAD] [PAD] [PAD] [PAD] [PAD] [PAD] [PAD] [PAD] [PAD] [PAD] [PAD] [PAD]\n",
      "sample_idx: 2\n",
      "[START] Dave was always wanted . He was n't the local water in a [UNK] . When the [UNK] , he was was even home . The [UNK] came and in the [UNK] . . He was out his a man and [UNK] . [END] [PAD] [PAD] [PAD] [PAD] [PAD] [PAD] [PAD] [PAD] [PAD] [PAD] [PAD] [PAD] [PAD] [PAD] [PAD] [PAD] [PAD] [PAD] [PAD] [PAD] [PAD] [PAD] [PAD] [PAD] [PAD] [PAD] [PAD]\n",
      "sample_idx: 3\n",
      "[START] I was a [UNK] line . I really liked to [UNK] [UNK] . It was a [UNK] . [UNK] [UNK] the [UNK] . Soon I was a to the [UNK] [UNK] . [END] [PAD] [PAD] [PAD] [PAD] [PAD] [PAD] [PAD] [PAD] [PAD] [PAD] [PAD] [PAD] [PAD] [PAD] [PAD] [PAD] [PAD] [PAD] [PAD] [PAD] [PAD] [PAD] [PAD] [PAD] [PAD] [PAD] [PAD] [PAD] [PAD] [PAD] [PAD] [PAD] [PAD] [PAD] [PAD] [PAD] [PAD] [PAD]\n",
      "sample_idx: 4\n",
      "[START] The [UNK] was a lot of the game . Everyone wanted to pick her [UNK] of it . She tried that he planned to the [UNK] . [UNK] decided to [UNK] . She had to get them to work . [END] [PAD] [PAD] [PAD] [PAD] [PAD] [PAD] [PAD] [PAD] [PAD] [PAD] [PAD] [PAD] [PAD] [PAD] [PAD] [PAD] [PAD] [PAD] [PAD] [PAD] [PAD] [PAD] [PAD] [PAD] [PAD] [PAD] [PAD] [PAD] [PAD] [PAD]\n",
      "sample_idx: 5\n",
      "[START] Tom went to [UNK] a [UNK] in the [UNK] . He was [UNK] . He of one . There in the [UNK] in his pool . He saw the [UNK] he was to get it a [UNK] . [END] [PAD] [PAD] [PAD] [PAD] [PAD] [PAD] [PAD] [PAD] [PAD] [PAD] [PAD] [PAD] [PAD] [PAD] [PAD] [PAD] [PAD] [PAD] [PAD] [PAD] [PAD] [PAD] [PAD] [PAD] [PAD] [PAD] [PAD] [PAD] [PAD] [PAD] [PAD] [PAD]\n",
      "sample_idx: 6\n",
      "[START] I was in for the for . I went to the [UNK] . wanted to stay to the dinner 's [UNK] . I went it . The it was on it and the neighbor was on the [UNK] . [END] [PAD] [PAD] [PAD] [PAD] [PAD] [PAD] [PAD] [PAD] [PAD] [PAD] [PAD] [PAD] [PAD] [PAD] [PAD] [PAD] [PAD] [PAD] [PAD] [PAD] [PAD] [PAD] [PAD] [PAD] [PAD] [PAD] [PAD] [PAD] [PAD] [PAD] [PAD]\n",
      "sample_idx: 7\n",
      "[START] Tom was on a new [UNK] to [UNK] . He was a in the the . . He was the [UNK] items time . He was a the [UNK] . He put the the [UNK] . [END] [PAD] [PAD] [PAD] [PAD] [PAD] [PAD] [PAD] [PAD] [PAD] [PAD] [PAD] [PAD] [PAD] [PAD] [PAD] [PAD] [PAD] [PAD] [PAD] [PAD] [PAD] [PAD] [PAD] [PAD] [PAD] [PAD] [PAD] [PAD] [PAD] [PAD] [PAD] [PAD] [PAD] [PAD]\n",
      "sample_idx: 8\n",
      "[START] I was getting so and she dropped in the world . After a [UNK] went to [UNK] [UNK] . While I realized for my car and , she was a [UNK] trip . I got the [UNK] was to [UNK] the . . I stayed in the [UNK] time to school and we went to [UNK] . [END] [PAD] [PAD] [PAD] [PAD] [PAD] [PAD] [PAD] [PAD] [PAD] [PAD] [PAD] [PAD] [PAD]\n",
      "sample_idx: 9\n",
      "[START] [UNK] was in a [UNK] . [UNK] [UNK] . He was and to to the [UNK] . [UNK] [UNK] [UNK] hit the [UNK] . When it was the that it was at a . [UNK] was the [UNK] the [UNK] in the [UNK] . [END] [PAD] [PAD] [PAD] [PAD] [PAD] [PAD] [PAD] [PAD] [PAD] [PAD] [PAD] [PAD] [PAD] [PAD] [PAD] [PAD] [PAD] [PAD] [PAD] [PAD] [PAD] [PAD] [PAD] [PAD] [PAD] [PAD]\n",
      "sample_idx: 10\n",
      "[START] Allie was the working to her a today . She was a [UNK] and was a her [UNK] . She was trying to her good . Her family was so excited . They were up on the . . [END] [PAD] [PAD] [PAD] [PAD] [PAD] [PAD] [PAD] [PAD] [PAD] [PAD] [PAD] [PAD] [PAD] [PAD] [PAD] [PAD] [PAD] [PAD] [PAD] [PAD] [PAD] [PAD] [PAD] [PAD] [PAD] [PAD] [PAD] [PAD] [PAD] [PAD] [PAD]\n",
      "sample_idx: 11\n",
      "[START] There was a while [UNK] [UNK] to too [UNK] . She was the [UNK] of water and went to her to [UNK] . Her [UNK] . It was [UNK] , and [UNK] was a the moved back . After learned , and took her and she got her car . [END] [PAD] [PAD] [PAD] [PAD] [PAD] [PAD] [PAD] [PAD] [PAD] [PAD] [PAD] [PAD] [PAD] [PAD] [PAD] [PAD] [PAD] [PAD] [PAD] [PAD]\n",
      "sample_idx: 12\n",
      "[START] I was wanted to college . I decided to play to them . I needed a [UNK] . I went out . I was was it . Thankfully I did on the to [UNK] . [END] [PAD] [PAD] [PAD] [PAD] [PAD] [PAD] [PAD] [PAD] [PAD] [PAD] [PAD] [PAD] [PAD] [PAD] [PAD] [PAD] [PAD] [PAD] [PAD] [PAD] [PAD] [PAD] [PAD] [PAD] [PAD] [PAD] [PAD] [PAD] [PAD] [PAD] [PAD] [PAD] [PAD] [PAD] [PAD]\n",
      "sample_idx: 13\n",
      "[START] Tom had a new problem . . He was being a something . But , he was [UNK] many . Tom went there his [UNK] was [UNK] . Tom tried trying to win it to . [END] [PAD] [PAD] [PAD] [PAD] [PAD] [PAD] [PAD] [PAD] [PAD] [PAD] [PAD] [PAD] [PAD] [PAD] [PAD] [PAD] [PAD] [PAD] [PAD] [PAD] [PAD] [PAD] [PAD] [PAD] [PAD] [PAD] [PAD] [PAD] [PAD] [PAD] [PAD] [PAD] [PAD] [PAD]\n",
      "sample_idx: 14\n",
      "[START] She had been to the the office to a office to a house . She was trying to the the same , but realized the was that ticket . At the night she noticed the way to the her room . [UNK] was into the [UNK] , the [UNK] to from in the house . She was , she was to the police was the [UNK] and left . [END] [PAD]\n",
      "sample_idx: 15\n",
      "[START] I was in a doctor wanted to do to visit . I was told that I was out to the [UNK] . As I tried many hours of in the [UNK] . I had to the where of my friend to the [UNK] . I was the [UNK] at , I went to in the [UNK] . [END] [PAD] [PAD] [PAD] [PAD] [PAD] [PAD] [PAD] [PAD] [PAD] [PAD] [PAD] [PAD] [PAD]\n",
      "sample_idx: 16\n",
      "[START] [UNK] used to go to school . It was the show there turn to work in the park . It was to to drive at the [UNK] of the [UNK] . She had to the the way to [UNK] the [UNK] . [UNK] the [UNK] every the , and everyone came to it . [END] [PAD] [PAD] [PAD] [PAD] [PAD] [PAD] [PAD] [PAD] [PAD] [PAD] [PAD] [PAD] [PAD] [PAD] [PAD] [PAD]\n",
      "sample_idx: 17\n",
      "[START] Jane was a [UNK] . He loved the one day . She was the [UNK] on the [UNK] . He could n't put her and hit the [UNK] . He was to the [UNK] in it . [END] [PAD] [PAD] [PAD] [PAD] [PAD] [PAD] [PAD] [PAD] [PAD] [PAD] [PAD] [PAD] [PAD] [PAD] [PAD] [PAD] [PAD] [PAD] [PAD] [PAD] [PAD] [PAD] [PAD] [PAD] [PAD] [PAD] [PAD] [PAD] [PAD] [PAD] [PAD] [PAD] [PAD]\n",
      "sample_idx: 18\n",
      "[START] Tom was a . . He decided to put on a drink . He got the . He went out to the doctor on the ground . He was very upset . [END] [PAD] [PAD] [PAD] [PAD] [PAD] [PAD] [PAD] [PAD] [PAD] [PAD] [PAD] [PAD] [PAD] [PAD] [PAD] [PAD] [PAD] [PAD] [PAD] [PAD] [PAD] [PAD] [PAD] [PAD] [PAD] [PAD] [PAD] [PAD] [PAD] [PAD] [PAD] [PAD] [PAD] [PAD] [PAD] [PAD] [PAD] [PAD]\n",
      "sample_idx: 19\n",
      "[START] Tony was a [UNK] to play . . He was in the [UNK] . He was in 10 home , and found this . When he got it to the store . . He had to the back from the summer again . [END] [PAD] [PAD] [PAD] [PAD] [PAD] [PAD] [PAD] [PAD] [PAD] [PAD] [PAD] [PAD] [PAD] [PAD] [PAD] [PAD] [PAD] [PAD] [PAD] [PAD] [PAD] [PAD] [PAD] [PAD] [PAD] [PAD] [PAD]\n",
      "sample_idx: 20\n",
      "[START] Tom was afraid to a [UNK] . She was [UNK] to the [UNK] . He was getting up the [UNK] out of the [UNK] . He was given a great it . He excited to win the [UNK] . [END] [PAD] [PAD] [PAD] [PAD] [PAD] [PAD] [PAD] [PAD] [PAD] [PAD] [PAD] [PAD] [PAD] [PAD] [PAD] [PAD] [PAD] [PAD] [PAD] [PAD] [PAD] [PAD] [PAD] [PAD] [PAD] [PAD] [PAD] [PAD] [PAD] [PAD] [PAD]\n",
      "sample_idx: 21\n",
      "[START] [UNK] was a [UNK] of his [UNK] . He wanted to have to do the [UNK] . [UNK] asked to [UNK] . A final had a big trip to friends in . He made the [UNK] and had to the [UNK] . [END] [PAD] [PAD] [PAD] [PAD] [PAD] [PAD] [PAD] [PAD] [PAD] [PAD] [PAD] [PAD] [PAD] [PAD] [PAD] [PAD] [PAD] [PAD] [PAD] [PAD] [PAD] [PAD] [PAD] [PAD] [PAD] [PAD] [PAD] [PAD]\n",
      "sample_idx: 22\n",
      "[START] The first was [UNK] . He was working with the [UNK] . He was in the . The [UNK] . He quickly . He had a lot . He could n't the his [UNK] . [END] [PAD] [PAD] [PAD] [PAD] [PAD] [PAD] [PAD] [PAD] [PAD] [PAD] [PAD] [PAD] [PAD] [PAD] [PAD] [PAD] [PAD] [PAD] [PAD] [PAD] [PAD] [PAD] [PAD] [PAD] [PAD] [PAD] [PAD] [PAD] [PAD] [PAD] [PAD] [PAD] [PAD] [PAD] [PAD]\n",
      "sample_idx: 23\n",
      "[START] He decided to go in the the house [UNK] . She never would be it . He was about the [UNK] was a [UNK] . She kept the the to top of the [UNK] . The [UNK] was not until she made it . [END] [PAD] [PAD] [PAD] [PAD] [PAD] [PAD] [PAD] [PAD] [PAD] [PAD] [PAD] [PAD] [PAD] [PAD] [PAD] [PAD] [PAD] [PAD] [PAD] [PAD] [PAD] [PAD] [PAD] [PAD] [PAD] [PAD]\n",
      "sample_idx: 24\n",
      "[START] I was a very a job . for a I had a lot . When there was a the [UNK] . I was money to get on the [UNK] and fell . I was that I [UNK] in the car on the morning . It was an food son on it . [END] [PAD] [PAD] [PAD] [PAD] [PAD] [PAD] [PAD] [PAD] [PAD] [PAD] [PAD] [PAD] [PAD] [PAD] [PAD] [PAD] [PAD] [PAD]\n",
      "sample_idx: 25\n",
      "[START] It was driving to turn to at out . She was the hospital and always was [UNK] ! Her once was open for an over . She agreed to the kitchen because she was great ! She did n't want to be the water was . [END] [PAD] [PAD] [PAD] [PAD] [PAD] [PAD] [PAD] [PAD] [PAD] [PAD] [PAD] [PAD] [PAD] [PAD] [PAD] [PAD] [PAD] [PAD] [PAD] [PAD] [PAD] [PAD] [PAD] [PAD]\n",
      "sample_idx: 26\n",
      "[START] Kate decided to be a . [UNK] . She was a very the . As she got there she saw she could [UNK] . She got the test and had her last [UNK] . She was expensive to go for the . [END] [PAD] [PAD] [PAD] [PAD] [PAD] [PAD] [PAD] [PAD] [PAD] [PAD] [PAD] [PAD] [PAD] [PAD] [PAD] [PAD] [PAD] [PAD] [PAD] [PAD] [PAD] [PAD] [PAD] [PAD] [PAD] [PAD] [PAD] [PAD]\n",
      "sample_idx: 27\n",
      "[START] Bill was to the the basketball house . . It was five for the . . He was a , who and truck it for . . He decided to a [UNK] school . He has the [UNK] and [UNK] . [END] [PAD] [PAD] [PAD] [PAD] [PAD] [PAD] [PAD] [PAD] [PAD] [PAD] [PAD] [PAD] [PAD] [PAD] [PAD] [PAD] [PAD] [PAD] [PAD] [PAD] [PAD] [PAD] [PAD] [PAD] [PAD] [PAD] [PAD] [PAD] [PAD]\n",
      "sample_idx: 28\n",
      "[START] Kevin was driving in the [UNK] 's job . When he was trying to get up to the [UNK] to [UNK] . He had a man the [UNK] . . He was able to get the but it was there , . He made the water every day . [END] [PAD] [PAD] [PAD] [PAD] [PAD] [PAD] [PAD] [PAD] [PAD] [PAD] [PAD] [PAD] [PAD] [PAD] [PAD] [PAD] [PAD] [PAD] [PAD] [PAD] [PAD]\n",
      "sample_idx: 29\n",
      "[START] I was at the [UNK] the to [UNK] . I was to the [UNK] . [UNK] I go to the [UNK] . The [UNK] was all . I made the [UNK] and for the [UNK] [UNK] . I [UNK] the day . [END] [PAD] [PAD] [PAD] [PAD] [PAD] [PAD] [PAD] [PAD] [PAD] [PAD] [PAD] [PAD] [PAD] [PAD] [PAD] [PAD] [PAD] [PAD] [PAD] [PAD] [PAD] [PAD] [PAD] [PAD] [PAD] [PAD] [PAD] [PAD]\n",
      "sample_idx: 30\n",
      "[START] Tim was her boyfriend [UNK] . There was in a . So he was decided to the on being . However , he was n't and it . He spent . He used on the and and under it for [UNK] . [END] [PAD] [PAD] [PAD] [PAD] [PAD] [PAD] [PAD] [PAD] [PAD] [PAD] [PAD] [PAD] [PAD] [PAD] [PAD] [PAD] [PAD] [PAD] [PAD] [PAD] [PAD] [PAD] [PAD] [PAD] [PAD] [PAD] [PAD] [PAD]\n",
      "sample_idx: 31\n",
      "[START] Gina was going to her a house . She got out of to a [UNK] on it . She started to the milk had an [UNK] . . She was a and went everywhere . Eventually she was proud of the same in the . [END] [PAD] [PAD] [PAD] [PAD] [PAD] [PAD] [PAD] [PAD] [PAD] [PAD] [PAD] [PAD] [PAD] [PAD] [PAD] [PAD] [PAD] [PAD] [PAD] [PAD] [PAD] [PAD] [PAD] [PAD] [PAD]\n"
     ]
    }
   ],
   "source": [
    "for sample_idx in range(32):\n",
    "    hidden_state = hidden_states[-1][sample_idx]\n",
    "    with torch.no_grad():\n",
    "        hidden_logits = diffusion_model.lm_head(hidden_state)\n",
    "        sampled_ids = torch.argmax(hidden_logits,dim=-1).cpu()\n",
    "        sampled_seq = [rev_tokenizer[token_id.item()] for token_id in sampled_ids]\n",
    "        print(\"sample_idx:\", sample_idx)\n",
    "        print(\" \".join(sampled_seq))"
   ]
  },
  {
   "cell_type": "code",
   "execution_count": null,
   "metadata": {},
   "outputs": [],
   "source": []
  },
  {
   "cell_type": "code",
   "execution_count": 14,
   "metadata": {
    "pycharm": {
     "name": "#%%\n"
    }
   },
   "outputs": [
    {
     "data": {
      "text/plain": [
       "Parameter containing:\n",
       "tensor([[-1.6378,  1.4051,  1.0136,  ...,  1.0120, -1.7385,  1.4652],\n",
       "        [ 0.2464, -1.4502, -0.7388,  ..., -0.4285, -0.6073,  0.1443],\n",
       "        [-0.3404, -0.8405, -0.5819,  ..., -0.4397,  0.2013,  0.0893],\n",
       "        ...,\n",
       "        [ 0.4108,  0.5314,  0.1880,  ...,  0.6811, -0.4978, -0.7795],\n",
       "        [-0.4666, -1.4213, -0.6767,  ...,  1.6241, -0.9184, -1.7732],\n",
       "        [ 0.5553,  1.0052, -0.8565,  ...,  0.1408, -0.5999, -0.2633]],\n",
       "       device='cuda:0', requires_grad=True)"
      ]
     },
     "execution_count": 14,
     "metadata": {},
     "output_type": "execute_result"
    }
   ],
   "source": [
    "diffusion_model.word_embeddings.weight"
   ]
  },
  {
   "cell_type": "code",
   "execution_count": 15,
   "metadata": {
    "pycharm": {
     "name": "#%%\n"
    }
   },
   "outputs": [
    {
     "data": {
      "text/plain": [
       "Parameter containing:\n",
       "tensor([[-1.6378,  1.4051,  1.0136,  ...,  1.0120, -1.7385,  1.4652],\n",
       "        [ 0.2464, -1.4502, -0.7388,  ..., -0.4285, -0.6073,  0.1443],\n",
       "        [-0.3404, -0.8405, -0.5819,  ..., -0.4397,  0.2013,  0.0893],\n",
       "        ...,\n",
       "        [ 0.4108,  0.5314,  0.1880,  ...,  0.6811, -0.4978, -0.7795],\n",
       "        [-0.4666, -1.4213, -0.6767,  ...,  1.6241, -0.9184, -1.7732],\n",
       "        [ 0.5553,  1.0052, -0.8565,  ...,  0.1408, -0.5999, -0.2633]],\n",
       "       device='cuda:0', requires_grad=True)"
      ]
     },
     "execution_count": 15,
     "metadata": {},
     "output_type": "execute_result"
    }
   ],
   "source": [
    "diffusion_model.lm_head.weight"
   ]
  },
  {
   "cell_type": "code",
   "execution_count": 16,
   "metadata": {
    "pycharm": {
     "name": "#%%\n"
    }
   },
   "outputs": [
    {
     "data": {
      "text/plain": [
       "Parameter containing:\n",
       "tensor([-3.5957,  1.8014,  2.5901,  2.1515,  3.3029,  0.6991,  1.8473,  2.0402,\n",
       "         1.1597, -0.2813,  1.3428,  2.5773,  1.7346,  0.3585,  1.8947,  3.6371,\n",
       "         2.6198, -0.5297, -0.9911,  0.8940,  1.5984,  0.4120, -1.0672,  1.6913,\n",
       "        -0.1471,  2.4192,  1.0555,  0.3134,  1.5614, -1.0390,  1.1615,  2.8382,\n",
       "         1.8414,  2.6628,  1.6968, -0.2872,  2.9343,  0.4418,  2.4511,  1.4755,\n",
       "         1.4237,  2.3028,  1.9902, -0.4341, -0.2238,  2.7552,  2.6776,  2.4934,\n",
       "         1.9630,  3.0694,  1.1612,  0.6251,  1.9105,  0.6518,  0.2576, -0.0762,\n",
       "         1.4853, -0.1598,  0.6786, -0.4123,  1.6452,  2.3508, -1.1346,  0.8314,\n",
       "         2.2578,  1.6991, -0.4668, -1.0294,  0.4291,  2.5995,  0.9700,  0.7628,\n",
       "         0.3471,  0.5633,  0.5759, -0.2908,  0.2453,  1.2167,  0.6752,  2.8704,\n",
       "        -0.8602,  0.0759,  0.2046,  1.3811,  0.1386,  0.0215, -0.2222, -0.4503,\n",
       "        -0.9871, -0.3807, -0.3564,  1.1891,  0.5863,  0.0522,  1.8518,  2.0459,\n",
       "         0.8235,  2.4076, -0.8332, -0.9621,  0.9600, -0.7917,  0.5402,  1.2104,\n",
       "         2.2828, -0.4858,  1.8422,  2.1792, -1.5556,  0.1469, -0.3869,  1.1497,\n",
       "         0.2042,  1.3563,  0.8349,  0.6283,  1.1469, -1.3358,  0.7665,  1.0520,\n",
       "         0.6281,  0.4821,  0.6344,  0.8772, -0.2046,  0.3738,  0.6110,  0.8557,\n",
       "         0.1984,  0.7476,  1.4865, -0.5668,  1.5859, -1.2164,  0.2064,  1.9871,\n",
       "        -0.8133, -0.4055,  0.8062,  0.5084,  0.4102, -0.4011, -0.4358, -0.6694,\n",
       "         0.3218,  1.0348,  0.3747,  0.0819,  0.0499, -0.1808,  0.4121,  0.7655,\n",
       "         0.4159, -0.8546,  0.7511, -1.7949, -0.7730,  0.4374, -0.4944, -0.2723,\n",
       "        -0.1339, -0.4250,  0.5474,  1.2452,  0.0839, -0.2967, -0.1721, -0.6929,\n",
       "         0.6768,  0.0618,  1.2540,  0.5987, -0.4700, -1.0851, -0.7231, -0.1056,\n",
       "         0.5198,  1.0812,  2.3026, -0.5492,  0.0853,  0.9705,  1.0821, -0.9545,\n",
       "        -0.0601,  0.4019, -0.3899,  0.2119,  0.4332,  0.4947,  0.4321, -0.3513,\n",
       "         0.1758, -0.4849,  0.4131, -1.0815, -0.1095,  1.2840, -1.0147, -0.3383,\n",
       "        -1.0167, -2.3148,  0.1477, -0.5718, -0.1906, -0.2763,  0.7280, -0.9435,\n",
       "        -1.2110, -0.3452, -0.2326, -1.0071, -0.7879, -0.7801, -0.4681,  1.3552,\n",
       "         0.5186, -0.6829, -0.0101, -0.5937, -0.0218, -0.0780, -0.7906, -0.5260,\n",
       "        -1.1092, -1.5542, -0.6439, -0.0120, -0.9626, -0.9079, -0.7108, -0.3120,\n",
       "         0.2531,  0.2240,  0.7877,  0.0272, -0.6105, -0.9266,  0.8994, -1.8259,\n",
       "        -1.0324,  0.3815,  0.1083, -1.1273,  1.4777, -0.3971, -0.5105,  0.6609,\n",
       "        -0.2290, -1.0707,  0.1939, -0.8474, -0.4774, -0.6880, -0.3638, -0.6318,\n",
       "        -1.9635, -0.2744, -0.4930, -1.1825, -0.7536, -1.0358, -0.3148, -0.0167,\n",
       "         0.5465, -1.4440,  0.4187, -1.1920, -0.0356, -0.9404, -1.1085,  0.0295,\n",
       "        -1.2363, -1.2359, -1.4029,  0.1473,  0.1699, -0.5688,  0.0268, -0.4291,\n",
       "        -0.2535, -1.6662, -0.3069, -0.0414, -0.9639, -0.8089, -0.0818, -0.2149,\n",
       "        -0.3959, -0.9759,  0.6893, -0.6635, -0.6515, -0.5006, -0.1716, -0.1877,\n",
       "        -0.7926, -0.1474,  0.9174,  0.2355, -1.3303, -0.1719, -0.7459, -1.3871,\n",
       "        -0.8042, -1.2192, -0.8345, -1.0769,  0.5039, -0.1602, -0.7609, -0.8160,\n",
       "        -0.8788, -1.5514, -0.5922, -0.4251, -1.5091, -1.0188, -0.7026, -0.9491,\n",
       "        -0.9038, -1.1971, -1.2207, -0.2184,  0.2213, -1.1122, -0.4732, -1.8535,\n",
       "        -1.2398, -0.6410, -1.3743, -1.0332, -1.3473, -1.5786,  1.0285, -0.7975,\n",
       "        -0.6508, -0.9478,  1.0196, -0.6751, -0.7467, -0.9450, -1.1873, -0.7043,\n",
       "        -2.1057, -2.0016, -1.2020, -0.3169, -1.2627, -1.2684, -2.1327, -1.1530,\n",
       "        -0.3636, -1.6748, -1.7725, -0.9689, -0.8107, -0.7383, -1.4735, -0.2098,\n",
       "        -0.4245, -1.0847, -1.0794, -1.2260, -0.4872, -0.8374, -0.7822, -1.0458,\n",
       "        -1.5363, -0.8555, -0.6375, -1.0542, -1.2897, -1.7554, -0.9887, -0.2079,\n",
       "        -0.9860, -0.0880, -0.7584, -0.3994, -1.6928,  0.1805, -0.5650, -0.4921,\n",
       "        -2.0623, -1.2453, -0.9380, -1.1122, -0.7972, -0.0838, -0.7590, -1.1142,\n",
       "        -2.0633, -0.9664, -0.7274, -1.3924, -1.9283, -0.9546, -1.7357, -1.0379,\n",
       "        -1.8437, -1.9381, -1.8040, -0.7304, -0.4999, -0.3376, -0.9137, -0.8559,\n",
       "        -1.0057, -0.7876, -0.5002, -1.0440, -0.6245, -0.6757, -0.5634, -0.5656,\n",
       "        -0.7641, -1.9345,  0.2709, -1.3513, -0.3668, -0.8695, -1.8784, -1.0670,\n",
       "        -0.5503, -2.1045, -0.1323, -1.0636, -1.3157, -0.9680, -0.7749, -1.0757,\n",
       "        -0.4228, -0.5308, -1.0551, -0.9181, -1.9128, -1.9721, -0.3135, -1.6979,\n",
       "        -1.4544, -1.0118, -1.5491, -1.5582, -0.6326, -1.1833, -1.3121, -0.9850,\n",
       "        -1.6603, -1.1438, -0.7343, -1.3253, -0.9947, -0.1916, -2.1029, -1.1888,\n",
       "        -0.6684,  0.0188, -1.2667, -1.1103, -0.9736, -0.5522, -1.0327, -0.8760,\n",
       "        -1.9136, -0.7129, -1.2179, -1.3795, -1.0313, -0.6095, -0.9014, -0.9992,\n",
       "        -0.5496, -0.7144,  0.3375, -2.1455, -1.5595, -1.1584, -1.1418, -0.5443,\n",
       "        -1.0615, -1.0395, -1.6607, -1.0888, -1.1096, -1.5186, -1.5105, -0.9796,\n",
       "        -1.0866, -0.6991, -1.1975, -0.6713, -1.5455, -1.8620, -1.4339, -1.8311,\n",
       "        -1.6414, -1.1309, -1.2779, -1.3355, -2.1765, -1.9641, -1.3753, -1.6652,\n",
       "        -0.3503, -1.2059, -0.8104, -1.1327, -0.3484, -1.3182, -1.1997, -0.4866,\n",
       "        -0.6414, -1.4353, -1.4636, -0.9362, -1.1654, -1.0842, -1.7280, -1.2611,\n",
       "        -1.3333, -0.5875, -1.2260, -1.8197, -0.4704, -1.6486, -1.5969, -0.8792,\n",
       "        -1.7254, -0.8583, -2.0291, -1.8149, -1.1076, -0.9685, -1.4299, -1.8188,\n",
       "        -1.9609, -1.1925, -0.6491, -2.0842, -1.3230, -1.7114, -1.1857, -1.7527,\n",
       "        -1.1907, -1.0633, -0.9194, -1.2174, -1.1148, -0.4659, -1.0398, -1.2131,\n",
       "        -1.2328, -1.9319, -2.1315, -1.0507, -1.7362, -1.2140, -1.5691, -1.1696,\n",
       "        -0.9949, -1.4445, -1.4563, -1.7951, -1.7603, -1.5907, -1.0316, -1.4746,\n",
       "        -0.7682, -1.1077, -0.9845, -2.2692, -0.9256, -1.3797, -1.5748, -1.6112,\n",
       "        -1.6426, -2.0438, -1.2895, -1.8295, -1.5070, -1.4439, -1.6318, -1.8226,\n",
       "        -1.1379, -0.9879, -1.1507, -0.5650, -1.2005, -1.4509, -1.3396, -1.1533,\n",
       "        -1.2685, -1.0357, -1.1536, -1.6024, -1.7417, -1.0730, -1.2970, -0.3348,\n",
       "        -1.8014, -1.3867, -1.1652, -1.2368, -1.4154, -1.8254, -1.4992, -1.8557,\n",
       "        -2.0686, -1.3427, -1.9231, -1.0441, -0.8598, -1.3455, -1.0252, -1.0201,\n",
       "        -1.0792, -1.6543, -0.5840, -1.8567, -1.9574, -1.0683, -2.0167, -1.3616,\n",
       "        -1.4012, -1.3824, -1.5663, -0.7825,  0.3356, -1.4769, -1.1346, -1.9519,\n",
       "        -1.2560, -1.0982, -1.1810, -0.8207, -1.8119, -1.5928, -0.1578, -2.3865,\n",
       "        -1.3358, -1.3217, -1.6286, -1.2917, -1.7481, -1.5893, -0.6129, -1.1163,\n",
       "        -1.3581, -0.9052, -1.2152, -1.2737, -1.1588, -2.0223, -1.2249, -1.5966,\n",
       "        -1.4035, -1.6412, -1.3529, -1.8090, -1.7506, -1.1072, -1.0180, -1.1093,\n",
       "        -1.8331, -1.6685, -2.0042, -1.7712, -1.4335, -0.8262, -1.2012, -1.5632,\n",
       "        -1.9996, -1.5457, -1.8191, -1.7140, -1.3999, -0.9674, -1.6269, -1.0992,\n",
       "        -1.8073, -0.8966, -1.3010, -0.7220, -1.6205, -1.5086, -1.7303, -1.5361,\n",
       "        -0.9591, -1.5258, -1.8808, -0.9325, -1.8310, -1.2538, -1.4131, -1.5822,\n",
       "        -1.6153, -0.7049, -1.0625, -1.5726, -1.2494, -1.8755, -1.4513, -1.5374,\n",
       "        -1.9129, -2.1708, -0.9845, -1.0728, -1.7683, -1.1990, -1.8136, -1.9166,\n",
       "        -1.8364, -1.5969, -1.9080, -1.0949, -1.2674, -1.2119, -1.4445, -0.8754,\n",
       "        -1.2613, -1.0979, -1.0635, -1.2807, -1.0831, -1.2705, -1.9065, -0.9193,\n",
       "        -1.5241, -1.9417, -1.3819, -1.5308, -1.1012, -0.5805, -0.9108, -1.2996,\n",
       "        -1.0192, -1.0920, -1.2924, -1.6853, -2.0605, -1.1663, -1.9818, -0.8989,\n",
       "        -1.4304, -1.3372, -1.7302, -1.6452, -1.7887, -1.2833, -1.0974, -1.4438,\n",
       "        -1.3918, -1.4594, -2.0749, -1.5225, -1.4667, -1.6774, -1.6696, -1.3855,\n",
       "        -1.7570, -1.7648, -1.8075, -1.1751, -1.1820, -1.8180, -2.1365, -1.6080,\n",
       "        -2.1964, -1.5769, -1.4310, -1.1767, -1.7967, -1.9266, -1.6068, -1.0046,\n",
       "        -1.3647, -1.0232, -1.5806, -2.1255, -1.4867, -0.9068, -0.9529, -1.2978,\n",
       "        -1.0038, -1.4063, -0.9206, -1.9340, -1.1697, -1.7136, -1.0794, -1.6747,\n",
       "        -1.0318, -1.9737, -1.1626, -1.4205, -1.3231, -1.7798, -1.8872, -0.9585,\n",
       "        -1.5863, -1.7027, -1.3464, -1.4046, -1.2698, -1.8768, -1.5347, -1.0776,\n",
       "        -1.5676, -1.8256, -1.7698, -0.9920, -1.1979, -1.6873, -1.3765, -1.5188,\n",
       "        -1.9270, -1.0055, -1.7512, -1.6892, -1.1356, -1.0418, -1.3273, -2.3043,\n",
       "        -1.3602, -2.1477, -1.0020, -1.4794, -2.0923, -1.6537, -1.1995, -1.4836,\n",
       "        -1.5321, -1.0705, -1.2693, -1.5738, -1.2494, -1.1238, -0.9064, -1.2992,\n",
       "        -1.8903, -2.0011, -1.1333, -1.4928, -1.2647, -1.9926, -1.1890, -1.4590,\n",
       "        -1.6307, -1.7214, -1.3750, -1.0838], device='cuda:0',\n",
       "       requires_grad=True)"
      ]
     },
     "execution_count": 16,
     "metadata": {},
     "output_type": "execute_result"
    }
   ],
   "source": [
    "diffusion_model.lm_head.bias"
   ]
  },
  {
   "cell_type": "code",
   "execution_count": null,
   "metadata": {
    "pycharm": {
     "name": "#%%\n"
    }
   },
   "outputs": [],
   "source": []
  }
 ],
 "metadata": {
  "kernelspec": {
   "display_name": "Python 3 (ipykernel)",
   "language": "python",
   "name": "python3"
  },
  "language_info": {
   "codemirror_mode": {
    "name": "ipython",
    "version": 3
   },
   "file_extension": ".py",
   "mimetype": "text/x-python",
   "name": "python",
   "nbconvert_exporter": "python",
   "pygments_lexer": "ipython3",
   "version": "3.9.12"
  }
 },
 "nbformat": 4,
 "nbformat_minor": 1
}
