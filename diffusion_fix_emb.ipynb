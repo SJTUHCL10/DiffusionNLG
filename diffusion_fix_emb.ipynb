{
 "cells": [
  {
   "cell_type": "code",
   "execution_count": 1,
   "metadata": {
    "collapsed": true,
    "pycharm": {
     "name": "#%%\n"
    }
   },
   "outputs": [],
   "source": [
    "import numpy as np\n",
    "import torch\n",
    "import transformers\n",
    "import matplotlib.pyplot as plt\n",
    "\n",
    "from transformers import BertConfig\n",
    "from transformers import get_cosine_schedule_with_warmup\n",
    "from sklearn.model_selection import train_test_split\n",
    "from torch.utils.data import DataLoader\n",
    "from sklearn.manifold import TSNE\n",
    "from tqdm.auto import tqdm\n",
    "\n",
    "from models import BertForDiffusion, DiffusionLMFixedEmb\n",
    "from data_utils import load_e2enlg_dataset_and_tokenizer, E2enlgDataset, load_rocstories_dataset_and_tokenizer, RocstoriesDataset\n",
    "from noise_schedule import get_named_beta_schedule\n",
    "from train_utils import train, evaluate\n",
    "\n",
    "%matplotlib inline"
   ]
  },
  {
   "cell_type": "code",
   "execution_count": 2,
   "metadata": {
    "collapsed": false,
    "pycharm": {
     "name": "#%%\n"
    }
   },
   "outputs": [
    {
     "name": "stdout",
     "output_type": "stream",
     "text": [
      "BertConfig {\n",
      "  \"architectures\": [\n",
      "    \"BertForMaskedLM\"\n",
      "  ],\n",
      "  \"attention_probs_dropout_prob\": 0.1,\n",
      "  \"classifier_dropout\": null,\n",
      "  \"gradient_checkpointing\": false,\n",
      "  \"hidden_act\": \"gelu\",\n",
      "  \"hidden_dropout_prob\": 0.1,\n",
      "  \"hidden_size\": 768,\n",
      "  \"initializer_range\": 0.02,\n",
      "  \"intermediate_size\": 3072,\n",
      "  \"layer_norm_eps\": 1e-12,\n",
      "  \"max_position_embeddings\": 512,\n",
      "  \"model_type\": \"bert\",\n",
      "  \"num_attention_heads\": 12,\n",
      "  \"num_hidden_layers\": 12,\n",
      "  \"pad_token_id\": 0,\n",
      "  \"position_embedding_type\": \"absolute\",\n",
      "  \"transformers_version\": \"4.19.2\",\n",
      "  \"type_vocab_size\": 2,\n",
      "  \"use_cache\": true,\n",
      "  \"vocab_size\": 30522\n",
      "}\n",
      "\n"
     ]
    }
   ],
   "source": [
    "bert_config = BertConfig.from_pretrained(\"bert-base-uncased\")\n",
    "print(bert_config)"
   ]
  },
  {
   "cell_type": "code",
   "execution_count": 2,
   "metadata": {
    "collapsed": false,
    "pycharm": {
     "name": "#%%\n"
    }
   },
   "outputs": [],
   "source": [
    "# dataset args\n",
    "max_len = 72    # maximum length of input_ids\n",
    "vocab_threshold = 10    # occurrence time < threshold token as [UNK]\n",
    "test_size = 0.1     # size of evaluation dataset\n",
    "\n",
    "# training args\n",
    "batch_size = 64\n",
    "device = torch.device(\"cuda:1\")\n",
    "lr = 2e-4\n",
    "num_epoch = 50\n",
    "weight_decay = 0\n",
    "num_warmup_steps = 100\n",
    "\n",
    "# model args\n",
    "word_embedding_dim = 16\n",
    "# hidden_size = 768\n",
    "# num_hidden_layers = 12\n",
    "# num_attention_heads = 12\n",
    "# intermediate_size = 3072\n",
    "hidden_size = 512\n",
    "num_hidden_layers = 4\n",
    "num_attention_heads = 8\n",
    "intermediate_size = 2048\n",
    "max_position_embeddings = max_len"
   ]
  },
  {
   "cell_type": "code",
   "execution_count": 3,
   "metadata": {
    "collapsed": false,
    "pycharm": {
     "name": "#%%\n"
    }
   },
   "outputs": [
    {
     "name": "stderr",
     "output_type": "stream",
     "text": [
      "No config specified, defaulting to: roc_stories/all\n",
      "Reusing dataset roc_stories (/home/dingyizhou/.cache/huggingface/datasets/wza___roc_stories/all/2.1.0/43e2851d9f31e08e4b2dd07a8057ed7a64cbb25cc7105d09856c14e638695506)\n"
     ]
    },
    {
     "data": {
      "application/vnd.jupyter.widget-view+json": {
       "model_id": "a7e0c732b3224036b48d7be0620c4eab",
       "version_major": 2,
       "version_minor": 0
      },
      "text/plain": [
       "  0%|          | 0/1 [00:00<?, ?it/s]"
      ]
     },
     "metadata": {},
     "output_type": "display_data"
    },
    {
     "data": {
      "application/vnd.jupyter.widget-view+json": {
       "model_id": "9bf9d890b21c4fa99b916f8173166513",
       "version_major": 2,
       "version_minor": 0
      },
      "text/plain": [
       "  0%|          | 0/98161 [00:00<?, ?it/s]"
      ]
     },
     "metadata": {},
     "output_type": "display_data"
    },
    {
     "data": {
      "application/vnd.jupyter.widget-view+json": {
       "model_id": "46023e34e465436092d9e3e12983a121",
       "version_major": 2,
       "version_minor": 0
      },
      "text/plain": [
       "  0%|          | 0/99 [00:00<?, ?ba/s]"
      ]
     },
     "metadata": {},
     "output_type": "display_data"
    },
    {
     "name": "stdout",
     "output_type": "stream",
     "text": [
      "Training set size: 88344\n",
      "Evaluation set size: 9817\n"
     ]
    }
   ],
   "source": [
    "tokenized_rocstories_dataset, tokenizer = load_rocstories_dataset_and_tokenizer(max_len=max_len, vocab_threshold=vocab_threshold)\n",
    "\n",
    "rev_tokenizer = {v: k for k, v in tokenizer.items()}\n",
    "\n",
    "train_set, eval_set = train_test_split(tokenized_rocstories_dataset, test_size=test_size, shuffle=True)\n",
    "\n",
    "train_dataset = RocstoriesDataset(data_lst=train_set['input_ids'], attention_mask_lst=train_set['attention_mask'])\n",
    "print(\"Training set size:\",len(train_dataset))\n",
    "eval_dataset = RocstoriesDataset(data_lst=eval_set['input_ids'], attention_mask_lst=eval_set['attention_mask'])\n",
    "print(\"Evaluation set size:\", len(eval_dataset))\n",
    "\n",
    "train_dataloader = DataLoader(train_dataset, batch_size=batch_size, shuffle=True)\n",
    "eval_dataloader = DataLoader(eval_dataset, batch_size=batch_size, shuffle=False)"
   ]
  },
  {
   "cell_type": "code",
   "execution_count": 4,
   "metadata": {
    "collapsed": false,
    "pycharm": {
     "name": "#%%\n"
    }
   },
   "outputs": [
    {
     "name": "stdout",
     "output_type": "stream",
     "text": [
      "BertConfig {\n",
      "  \"T\": 2000,\n",
      "  \"attention_probs_dropout_prob\": 0.1,\n",
      "  \"classifier_dropout\": null,\n",
      "  \"hidden_act\": \"gelu\",\n",
      "  \"hidden_dropout_prob\": 0.1,\n",
      "  \"hidden_size\": 512,\n",
      "  \"initializer_range\": 0.02,\n",
      "  \"intermediate_size\": 2048,\n",
      "  \"layer_norm_eps\": 1e-12,\n",
      "  \"max_position_embeddings\": 72,\n",
      "  \"model_type\": \"bert\",\n",
      "  \"num_attention_heads\": 8,\n",
      "  \"num_hidden_layers\": 4,\n",
      "  \"pad_token_id\": 3,\n",
      "  \"position_embedding_type\": \"absolute\",\n",
      "  \"transformers_version\": \"4.19.2\",\n",
      "  \"type_vocab_size\": 2,\n",
      "  \"use_cache\": true,\n",
      "  \"vocab_size\": 11831,\n",
      "  \"word_embedding_dim\": 16\n",
      "}\n",
      "\n"
     ]
    }
   ],
   "source": [
    "config = BertConfig(vocab_size=len(tokenizer), hidden_size=hidden_size, num_hidden_layers=num_hidden_layers, num_attention_heads=num_attention_heads, intermediate_size=intermediate_size, max_position_embeddings=max_position_embeddings, pad_token_id=tokenizer['[PAD]'])\n",
    "\n",
    "config.T = 2000\n",
    "config.word_embedding_dim = word_embedding_dim\n",
    "\n",
    "print(config)"
   ]
  },
  {
   "cell_type": "code",
   "execution_count": 5,
   "metadata": {
    "collapsed": false,
    "pycharm": {
     "name": "#%%\n"
    }
   },
   "outputs": [
    {
     "data": {
      "text/plain": [
       "[<matplotlib.lines.Line2D at 0x7fcef22ef9a0>]"
      ]
     },
     "execution_count": 5,
     "metadata": {},
     "output_type": "execute_result"
    },
    {
     "data": {
      "image/png": "[encoded data removed]",
      "text/plain": [
       "<Figure size 432x288 with 1 Axes>"
      ]
     },
     "metadata": {
      "needs_background": "light"
     },
     "output_type": "display_data"
    }
   ],
   "source": [
    "betas = torch.Tensor(get_named_beta_schedule(schedule_name=\"sqrt\", num_diffusion_timesteps=config.T))\n",
    "# betas = torch.Tensor(get_named_beta_schedule(schedule_name=\"linear\", num_diffusion_timesteps=config.T))\n",
    "\n",
    "alphas = 1. - betas\n",
    "alphas_bar = torch.cumprod(alphas, dim=0)\n",
    "sqrt_one_minus_alphas_bar = torch.sqrt(1. - alphas_bar)\n",
    "plt.plot(sqrt_one_minus_alphas_bar)"
   ]
  },
  {
   "cell_type": "code",
   "execution_count": 6,
   "metadata": {
    "collapsed": false,
    "pycharm": {
     "name": "#%%\n"
    }
   },
   "outputs": [
    {
     "name": "stdout",
     "output_type": "stream",
     "text": [
      "using randn word embedding\n",
      "Diffusion model #parameters:\n",
      "13789712\n"
     ]
    }
   ],
   "source": [
    "diffusion_model = DiffusionLMFixedEmb(config=config, betas=betas, emb_type='randn', self_condition=True, add_emb_noise=False).to(device)\n",
    "\n",
    "print(\"Diffusion model #parameters:\")\n",
    "print(sum([p.numel() for p in diffusion_model.parameters()]))\n",
    "\n",
    "optimizer = torch.optim.AdamW(diffusion_model.parameters(), lr=lr, weight_decay=weight_decay)\n",
    "scheduler = get_cosine_schedule_with_warmup(optimizer=optimizer, num_warmup_steps=num_warmup_steps, num_training_steps=num_epoch*len(train_dataloader))"
   ]
  },
  {
   "cell_type": "code",
   "execution_count": 7,
   "metadata": {
    "collapsed": false,
    "pycharm": {
     "name": "#%%\n"
    }
   },
   "outputs": [
    {
     "data": {
      "text/plain": [
       "DiffusionLMFixedEmb(\n",
       "  (model): BertForDiffusion(\n",
       "    (encoder): BertEncoder(\n",
       "      (layer): ModuleList(\n",
       "        (0): BertLayer(\n",
       "          (attention): BertAttention(\n",
       "            (self): BertSelfAttention(\n",
       "              (query): Linear(in_features=512, out_features=512, bias=True)\n",
       "              (key): Linear(in_features=512, out_features=512, bias=True)\n",
       "              (value): Linear(in_features=512, out_features=512, bias=True)\n",
       "              (dropout): Dropout(p=0.1, inplace=False)\n",
       "            )\n",
       "            (output): BertSelfOutput(\n",
       "              (dense): Linear(in_features=512, out_features=512, bias=True)\n",
       "              (LayerNorm): LayerNorm((512,), eps=1e-12, elementwise_affine=True)\n",
       "              (dropout): Dropout(p=0.1, inplace=False)\n",
       "            )\n",
       "          )\n",
       "          (intermediate): BertIntermediate(\n",
       "            (dense): Linear(in_features=512, out_features=2048, bias=True)\n",
       "            (intermediate_act_fn): GELUActivation()\n",
       "          )\n",
       "          (output): BertOutput(\n",
       "            (dense): Linear(in_features=2048, out_features=512, bias=True)\n",
       "            (LayerNorm): LayerNorm((512,), eps=1e-12, elementwise_affine=True)\n",
       "            (dropout): Dropout(p=0.1, inplace=False)\n",
       "          )\n",
       "        )\n",
       "        (1): BertLayer(\n",
       "          (attention): BertAttention(\n",
       "            (self): BertSelfAttention(\n",
       "              (query): Linear(in_features=512, out_features=512, bias=True)\n",
       "              (key): Linear(in_features=512, out_features=512, bias=True)\n",
       "              (value): Linear(in_features=512, out_features=512, bias=True)\n",
       "              (dropout): Dropout(p=0.1, inplace=False)\n",
       "            )\n",
       "            (output): BertSelfOutput(\n",
       "              (dense): Linear(in_features=512, out_features=512, bias=True)\n",
       "              (LayerNorm): LayerNorm((512,), eps=1e-12, elementwise_affine=True)\n",
       "              (dropout): Dropout(p=0.1, inplace=False)\n",
       "            )\n",
       "          )\n",
       "          (intermediate): BertIntermediate(\n",
       "            (dense): Linear(in_features=512, out_features=2048, bias=True)\n",
       "            (intermediate_act_fn): GELUActivation()\n",
       "          )\n",
       "          (output): BertOutput(\n",
       "            (dense): Linear(in_features=2048, out_features=512, bias=True)\n",
       "            (LayerNorm): LayerNorm((512,), eps=1e-12, elementwise_affine=True)\n",
       "            (dropout): Dropout(p=0.1, inplace=False)\n",
       "          )\n",
       "        )\n",
       "        (2): BertLayer(\n",
       "          (attention): BertAttention(\n",
       "            (self): BertSelfAttention(\n",
       "              (query): Linear(in_features=512, out_features=512, bias=True)\n",
       "              (key): Linear(in_features=512, out_features=512, bias=True)\n",
       "              (value): Linear(in_features=512, out_features=512, bias=True)\n",
       "              (dropout): Dropout(p=0.1, inplace=False)\n",
       "            )\n",
       "            (output): BertSelfOutput(\n",
       "              (dense): Linear(in_features=512, out_features=512, bias=True)\n",
       "              (LayerNorm): LayerNorm((512,), eps=1e-12, elementwise_affine=True)\n",
       "              (dropout): Dropout(p=0.1, inplace=False)\n",
       "            )\n",
       "          )\n",
       "          (intermediate): BertIntermediate(\n",
       "            (dense): Linear(in_features=512, out_features=2048, bias=True)\n",
       "            (intermediate_act_fn): GELUActivation()\n",
       "          )\n",
       "          (output): BertOutput(\n",
       "            (dense): Linear(in_features=2048, out_features=512, bias=True)\n",
       "            (LayerNorm): LayerNorm((512,), eps=1e-12, elementwise_affine=True)\n",
       "            (dropout): Dropout(p=0.1, inplace=False)\n",
       "          )\n",
       "        )\n",
       "        (3): BertLayer(\n",
       "          (attention): BertAttention(\n",
       "            (self): BertSelfAttention(\n",
       "              (query): Linear(in_features=512, out_features=512, bias=True)\n",
       "              (key): Linear(in_features=512, out_features=512, bias=True)\n",
       "              (value): Linear(in_features=512, out_features=512, bias=True)\n",
       "              (dropout): Dropout(p=0.1, inplace=False)\n",
       "            )\n",
       "            (output): BertSelfOutput(\n",
       "              (dense): Linear(in_features=512, out_features=512, bias=True)\n",
       "              (LayerNorm): LayerNorm((512,), eps=1e-12, elementwise_affine=True)\n",
       "              (dropout): Dropout(p=0.1, inplace=False)\n",
       "            )\n",
       "          )\n",
       "          (intermediate): BertIntermediate(\n",
       "            (dense): Linear(in_features=512, out_features=2048, bias=True)\n",
       "            (intermediate_act_fn): GELUActivation()\n",
       "          )\n",
       "          (output): BertOutput(\n",
       "            (dense): Linear(in_features=2048, out_features=512, bias=True)\n",
       "            (LayerNorm): LayerNorm((512,), eps=1e-12, elementwise_affine=True)\n",
       "            (dropout): Dropout(p=0.1, inplace=False)\n",
       "          )\n",
       "        )\n",
       "      )\n",
       "    )\n",
       "    (input_proj): Sequential(\n",
       "      (0): Linear(in_features=16, out_features=512, bias=True)\n",
       "      (1): Tanh()\n",
       "      (2): Linear(in_features=512, out_features=512, bias=True)\n",
       "    )\n",
       "    (position_embeddings): Embedding(72, 512)\n",
       "    (time_embeddings): Sequential(\n",
       "      (0): SinusoidalPosEmb()\n",
       "      (1): Linear(in_features=128, out_features=512, bias=True)\n",
       "      (2): GELU(approximate=none)\n",
       "      (3): Linear(in_features=512, out_features=512, bias=True)\n",
       "    )\n",
       "    (cond_proj): Sequential(\n",
       "      (0): Linear(in_features=16, out_features=512, bias=True)\n",
       "      (1): Tanh()\n",
       "      (2): Linear(in_features=512, out_features=512, bias=True)\n",
       "    )\n",
       "    (LayerNorm): LayerNorm((512,), eps=1e-12, elementwise_affine=True)\n",
       "    (dropout): Dropout(p=0.1, inplace=False)\n",
       "    (output_proj): Sequential(\n",
       "      (0): Linear(in_features=512, out_features=512, bias=True)\n",
       "      (1): Tanh()\n",
       "      (2): Linear(in_features=512, out_features=16, bias=True)\n",
       "    )\n",
       "  )\n",
       ")"
      ]
     },
     "execution_count": 7,
     "metadata": {},
     "output_type": "execute_result"
    }
   ],
   "source": [
    "diffusion_model"
   ]
  },
  {
   "cell_type": "code",
   "execution_count": null,
   "metadata": {
    "collapsed": false,
    "pycharm": {
     "name": "#%%\n"
    }
   },
   "outputs": [],
   "source": [
    "loss_terms_dict_lst = []\n",
    "progress_bar = tqdm(range(num_epoch*len(train_dataloader)))\n",
    "\n",
    "for epoch in range(num_epoch):\n",
    "    print(\"epoch:\",epoch+1)\n",
    "    loss_terms_dict_lst.append(train(diffusion_model=diffusion_model, dataloader=train_dataloader, optimizer=optimizer, scheduler=scheduler ,progress_bar=progress_bar ,verbose=True))\n",
    "    evaluate(diffusion_model=diffusion_model, dataloader=eval_dataloader)"
   ]
  },
  {
   "cell_type": "code",
   "execution_count": 9,
   "metadata": {
    "collapsed": false,
    "pycharm": {
     "name": "#%%\n"
    }
   },
   "outputs": [],
   "source": [
    "loss_terms_dict = {'mse':[]}\n",
    "for ep in range(num_epoch):\n",
    "    loss_terms_dict['mse'] += loss_terms_dict_lst[ep]['mse']"
   ]
  },
  {
   "cell_type": "code",
   "execution_count": 10,
   "metadata": {
    "collapsed": false,
    "pycharm": {
     "name": "#%%\n"
    }
   },
   "outputs": [
    {
     "data": {
      "text/plain": [
       "<matplotlib.legend.Legend at 0x7fcebe436400>"
      ]
     },
     "execution_count": 10,
     "metadata": {},
     "output_type": "execute_result"
    },
    {
     "data": {
      "image/png": "[encoded data removed]",
      "text/plain": [
       "<Figure size 432x288 with 1 Axes>"
      ]
     },
     "metadata": {
      "needs_background": "light"
     },
     "output_type": "display_data"
    }
   ],
   "source": [
    "plt.plot(loss_terms_dict['mse'], label='mse')\n",
    "plt.legend()\n",
    "# plt.yscale('log')"
   ]
  },
  {
   "cell_type": "code",
   "execution_count": 11,
   "metadata": {
    "collapsed": false,
    "pycharm": {
     "name": "#%%\n"
    }
   },
   "outputs": [],
   "source": [
    "x_T = torch.randn(size=(batch_size, max_len, word_embedding_dim))"
   ]
  },
  {
   "cell_type": "code",
   "execution_count": 12,
   "metadata": {
    "collapsed": false,
    "pycharm": {
     "name": "#%%\n"
    }
   },
   "outputs": [
    {
     "data": {
      "application/vnd.jupyter.widget-view+json": {
       "model_id": "a6bc1e989dce4d6d850035043fd099f1",
       "version_major": 2,
       "version_minor": 0
      },
      "text/plain": [
       "  0%|          | 0/2000 [00:00<?, ?it/s]"
      ]
     },
     "metadata": {},
     "output_type": "display_data"
    }
   ],
   "source": [
    "x_0, hidden_states = diffusion_model.sample(x_T.to(device), return_hidden_states=True, verbose=True)"
   ]
  },
  {
   "cell_type": "code",
   "execution_count": 16,
   "metadata": {
    "collapsed": false,
    "pycharm": {
     "name": "#%%\n"
    }
   },
   "outputs": [
    {
     "name": "stdout",
     "output_type": "stream",
     "text": [
      "step: 0\n",
      "calorie diagnosis technician argued honeymoon IRS fled hesitation Eugene seen intended costume respected graciously guessing favors Wilma Pepper setup Leah goodbyes Feeling pork higher cider man hearts pity any sleeping stockings redo rearranged Garth alot As below positions height Otis piggy Bill cravings stung cops surroundings somehow Leah shiny owned studio Melody Ella production toasted packets followers persisted involving flooding spiked authority n't chocolate 2000 yards waitress Pepper temptation remained trophy Cass\n",
      "step: 1000\n",
      "write step World admitted Bert jogged Las brown across tours Bethany Irish angry Instantly lady broadcast topping attempted demolished minding Brenda sure generosity puck laughs worm Its beam thousand halfway mischievous grandchild Trina connect loop granddaughter tool instead former Jay sobbed detail absence usually consume Jan. red cozy fiance swung pan sea motion Elaine roles passionate movements policy example voted spice choir sides kindness Perry wrap receipt character Mcdonald yawned 32 Lonnie\n",
      "step: 1500\n",
      "alternative listened paced Larissa Desperate bye complains kicked sound pebble Aya scope evenly Station tarantula Nessa moves textbook best several necktie aspired necklaces drone Jocelyn ropes rolls humane card Power bikini Louis openings overcooked trail classroom dough ligament mainly catcher Growing like Susanna Craig ranks donate mission flirt package helped assembling drama safer chased full combed vine waiter update Milly Shane buyers Cammie constellations near 400 pair portfolio west added swords passerby\n",
      "step: 1800\n",
      "Elvis i despair chest chose decorate wishes CDs contests Tiffany underwater through all admissions sensation due Feeling prevent chosen handshake terminal tornado staring concepts Poor happens sparked safely Shay Atlanta trek female laundry hotdogs Dakota drills socket income certified winter cookies movements helped struggling plus seek Tyler additional helps [PAD] queen argue earring similar strewn manager mexico slight injury taller plaza Ramen orchestra tiny torn 400 Stone portfolio escape washing Jo tangled\n",
      "step: 1900\n",
      "potluck wisdom wad hail naughty camp scraping concept Briana apprehensive skipped shouted better upon salad know shelf prevent document football owned noises attic rare gangster airline Rita children Very crunch rounds lying consoled alarming o Allan Uber Trying forgetting required dessert B. contracted Mama 2nd report drives blasting beneath [PAD] pass Freya terror mows puked snapping mexico shovel barbie sled plaza [PAD] orchestra 5th Alas cucumber low olive shovel lottery edible chef\n",
      "step: 1950\n",
      "Kids whole closed hail a sleepy complains Ko Briana facts lost knitted jumper fuzzy sensation admirer TO Johnny energy mugged storage upset giggling Down attacking Sunny beetles think brew researched Brownie packing balcony icy scouts Fenway gazed clumsy banks dialed stone Milly graduated Mama progress report hotdogs hoarder helps adding Debra drawings chocolates actions stations snapping innocence earring expire forgetful Freya feeder social Ohio words subway ATM olive shovel capital edible dancer\n",
      "step: 1990\n",
      "drums Just netflix illegal a sneaky Kathy festival Kiki jogged She snuggled sewing honest closest Store colleague mechanical mocked mugged distant sniffed kidnapped stylish portfolio Herman beetles warm Very . stop Bob Tricia February dime worrying easily . grill enough thermostat deleted Poor cupcake Amy furiously grey [PAD] certainly [PAD] counseling Freya [PAD] [PAD] It keen result Kathryn [PAD] Ben cluttered Lisa computer Despite [PAD] [PAD] [PAD] Kathryn respect problems ax clowns\n",
      "step: 1995\n",
      "drums Walter went Pacific a new Las festival school jogged fouled snuggled sewing starved chronic day . The concentrate scowled Mechanical farther . They March a surroundings salad CPR . slamming bracelets knowing to broke Colin Jeffy . grill [PAD] [PAD] hunt Team [PAD] [PAD] hula [PAD] [PAD] [PAD] [PAD] [PAD] Freya erupted [PAD] [PAD] keen [PAD] Freya [PAD] Kathryn face [PAD] [PAD] [PAD] [PAD] [PAD] sour [PAD] respect [PAD] [PAD] fence\n",
      "step: 1998\n",
      "[START] products backflip to a new heartburn to school . She had a pandas for day . The day took her him . They decided a waiter for arrow . medical was happen to broke the Jeffy . [END] [PAD] [PAD] [PAD] [PAD] [PAD] [PAD] [PAD] [PAD] [PAD] [PAD] [PAD] [PAD] [PAD] [PAD] [PAD] [PAD] [PAD] [PAD] [PAD] [PAD] [PAD] [PAD] [PAD] [PAD] [PAD] [PAD] [PAD] [PAD] [PAD] [PAD] [PAD] [PAD] [PAD]\n",
      "step: 1999\n",
      "[START] products went to a new definition to school . She had a Jeffrey for day . The day took her him . They decided a dire for arrow . awful was physics to take the enough . [END] [PAD] [PAD] [PAD] [PAD] [PAD] [PAD] [PAD] [PAD] [PAD] [PAD] [PAD] [PAD] [PAD] [PAD] [PAD] [PAD] [PAD] [PAD] [PAD] [PAD] [PAD] [PAD] [PAD] [PAD] [PAD] [PAD] [PAD] [PAD] [PAD] [PAD] [PAD] [PAD] [PAD]\n"
     ]
    }
   ],
   "source": [
    "sample_idx = 0\n",
    "for step in [0,1000,1500,1800,1900,1950,1990,1995,1998,1999]:\n",
    "    hidden_state = hidden_states[step][sample_idx]\n",
    "    with torch.no_grad():\n",
    "        sampled_ids = diffusion_model.rounding(hidden_state).cpu()\n",
    "        sampled_seq = [rev_tokenizer[token_id.item()] for token_id in sampled_ids]\n",
    "        print(\"step:\", step)\n",
    "        print(\" \".join(sampled_seq))"
   ]
  },
  {
   "cell_type": "code",
   "execution_count": 15,
   "metadata": {
    "collapsed": false,
    "pycharm": {
     "name": "#%%\n"
    }
   },
   "outputs": [
    {
     "name": "stdout",
     "output_type": "stream",
     "text": [
      "sample_idx: 0\n",
      "[START] products went to a new definition to school . She had a Jeffrey for day . The day took her him . They decided a dire for arrow . awful was physics to take the enough . [END] [PAD] [PAD] [PAD] [PAD] [PAD] [PAD] [PAD] [PAD] [PAD] [PAD] [PAD] [PAD] [PAD] [PAD] [PAD] [PAD] [PAD] [PAD] [PAD] [PAD] [PAD] [PAD] [PAD] [PAD] [PAD] [PAD] [PAD] [PAD] [PAD] [PAD] [PAD] [PAD] [PAD]\n",
      "sample_idx: 1\n",
      "[START] awful was never forgiving . She was out to work the hopeless . She did n't regular got try and would lots poetry . She tried to see some again . She did n't up clawed how be a admitted like . [END] [PAD] [PAD] [PAD] [PAD] [PAD] [PAD] [PAD] [PAD] [PAD] [PAD] [PAD] [PAD] [PAD] [PAD] [PAD] [PAD] [PAD] [PAD] [PAD] [PAD] [PAD] [PAD] [PAD] [PAD] [PAD] [PAD] [PAD] [PAD]\n",
      "sample_idx: 2\n",
      "[START] I went to the that I my my petition tropical . We decided out on new home . It able to him to the renewed . I started to night . I could n't up to rush out . We told a [UNK] [UNK] the Some . [END] [PAD] [PAD] [PAD] [PAD] [PAD] [PAD] [PAD] [PAD] [PAD] [PAD] [PAD] [PAD] [PAD] [PAD] [PAD] [PAD] [PAD] [PAD] [PAD] [PAD] [PAD] [PAD] [PAD]\n",
      "sample_idx: 3\n",
      "[START] waving had an Maggie her work . Her friend was lot of her of her the early . Then Lizzie of on adorable . It grandma saw arose in the escape . She decided to was shyness and Nic to . She was all up the beamed . [END] [PAD] [PAD] [PAD] [PAD] [PAD] [PAD] [PAD] [PAD] [PAD] [PAD] [PAD] [PAD] [PAD] [PAD] [PAD] [PAD] [PAD] [PAD] [PAD] [PAD] [PAD] [PAD]\n",
      "sample_idx: 4\n",
      "[START] Lucretia 's time . slipped was stern . It was it to go to the niece . So chemistry she her asked she was she to sorting all of tired . She was back to make her to see the Superman . There was got in the ghost work . [END] [PAD] [PAD] [PAD] [PAD] [PAD] [PAD] [PAD] [PAD] [PAD] [PAD] [PAD] [PAD] [PAD] [PAD] [PAD] [PAD] [PAD] [PAD] [PAD] [PAD]\n",
      "sample_idx: 5\n",
      "[START] The was 100 mom to parents was this more . It was nurse on reservations up . After it had to new a Reba she had up in Potter . Her , she could at a new into badly friend . When the AM back to at the machine and it was priest . [END] [PAD] [PAD] [PAD] [PAD] [PAD] [PAD] [PAD] [PAD] [PAD] [PAD] [PAD] [PAD] [PAD] [PAD] [PAD] [PAD]\n",
      "sample_idx: 6\n",
      "[START] Sam was very in the happy in the homeschooled go in the upper . When the close and Ethan [UNK] to the pondered and the vegetarian . He he was out of the store to go hurriedly and wife was Raul . coworker [UNK] been hydrant , he on his he was [UNK] . The visa had a lot for a [UNK] when he , that . [END] [PAD] [PAD] [PAD]\n",
      "sample_idx: 7\n",
      "[START] bacon was great said knee . He has saw to his loved car . One day he was friends relax fights with his little on the house day pursued . cow into the [UNK] , he started a [UNK] woke . The erased was never in an 's . [END] [PAD] [PAD] [PAD] [PAD] [PAD] [PAD] [PAD] [PAD] [PAD] [PAD] [PAD] [PAD] [PAD] [PAD] [PAD] [PAD] [PAD] [PAD] [PAD] [PAD] [PAD]\n",
      "sample_idx: 8\n",
      "[START] creepy wanted to make a she lane . A found a lot that and Old about nervous ultimate . She decided to woke smiles and dye that time she had were Amanda [UNK] . One day she was so the cramps . Her customer an same in the day of the denied sings a her Brooklyn . [END] [PAD] [PAD] [PAD] [PAD] [PAD] [PAD] [PAD] [PAD] [PAD] [PAD] [PAD] [PAD] [PAD]\n",
      "sample_idx: 9\n",
      "[START] racism went to a new night bed a piles for a graduation . He all his Noel and they was raspberries . He did n't personality 's dog around but it in door excited . He had to the a school of , but cockroach saw he for narrow [UNK] . forbid , and got made him a very as a believing . [END] [PAD] [PAD] [PAD] [PAD] [PAD] [PAD] [PAD]\n",
      "sample_idx: 10\n",
      "[START] A sister at the overcome his blue dribbling . After he could n't to police the Olga Costco . He went to the rushed on the 2012 . He told a 5th for the impress . He got on arose , he took his it for a ding . [END] [PAD] [PAD] [PAD] [PAD] [PAD] [PAD] [PAD] [PAD] [PAD] [PAD] [PAD] [PAD] [PAD] [PAD] [PAD] [PAD] [PAD] [PAD] [PAD] [PAD] [PAD]\n",
      "sample_idx: 11\n",
      "[START] Jim wanted middle engineering abandon that orientation . He was not that went up the sold one [UNK] . He had to have to [UNK] of only into design it . He is his not with his there house . His test responded his car on his day . [END] [PAD] [PAD] [PAD] [PAD] [PAD] [PAD] [PAD] [PAD] [PAD] [PAD] [PAD] [PAD] [PAD] [PAD] [PAD] [PAD] [PAD] [PAD] [PAD] [PAD] [PAD]\n",
      "sample_idx: 12\n",
      "[START] Jill had as he had to make his 's knob slamming . He cones started to hut the checkup but he got knew . He was a orchard brother and Sugar was his of night . He could happy , he treatments he had to his loved Guillermo . stool vast day , the bought he help his new well . [END] [PAD] [PAD] [PAD] [PAD] [PAD] [PAD] [PAD] [PAD] [PAD]\n",
      "sample_idx: 13\n",
      "[START] Marjorie was in geese on the geometry . He wherever it said the night day . He was a profile and needed to tuned to movie in the school . He man at the everyone and with the Police sucked . He was windshield it all . [END] [PAD] [PAD] [PAD] [PAD] [PAD] [PAD] [PAD] [PAD] [PAD] [PAD] [PAD] [PAD] [PAD] [PAD] [PAD] [PAD] [PAD] [PAD] [PAD] [PAD] [PAD] [PAD] [PAD]\n",
      "sample_idx: 14\n",
      "[START] [UNK] wanted to would a junkyard . She had a clue pal a . friends and chopping ended her get cigarette day . She is had chased and would at her dress . She had been crash and plot all the Lily was marched on mirrors Cedric . She was so decreased to the the prepared . [END] [PAD] [PAD] [PAD] [PAD] [PAD] [PAD] [PAD] [PAD] [PAD] [PAD] [PAD] [PAD] [PAD]\n",
      "sample_idx: 15\n",
      "[START] Tom was Louise were with his game . He did n't for the Teresa wife him his eating . Consequently he had to have a please twins on the [UNK] . He asked from [UNK] labeled and inheritance Bowl salesperson up . lots he saw the gave and sick a spending vital a year . [END] [PAD] [PAD] [PAD] [PAD] [PAD] [PAD] [PAD] [PAD] [PAD] [PAD] [PAD] [PAD] [PAD] [PAD] [PAD]\n",
      "sample_idx: 16\n",
      "[START] Tim wanted a zoomed hats . He went to make a very were at a money . He Tim him Stella in the there eldest . Tim officials , on and is work . Tim got adored , day breed out of his deserve . [END] [PAD] [PAD] [PAD] [PAD] [PAD] [PAD] [PAD] [PAD] [PAD] [PAD] [PAD] [PAD] [PAD] [PAD] [PAD] [PAD] [PAD] [PAD] [PAD] [PAD] [PAD] [PAD] [PAD] [PAD] [PAD]\n",
      "sample_idx: 17\n",
      "[START] The man going on the visit at her the wagon . She an for impressed at Bridget . The They had it in college . The engines found a twin , bed was it to her convince . His friend friends the biological time about the new after on a Mother . [END] [PAD] [PAD] [PAD] [PAD] [PAD] [PAD] [PAD] [PAD] [PAD] [PAD] [PAD] [PAD] [PAD] [PAD] [PAD] [PAD] [PAD] [PAD]\n",
      "sample_idx: 18\n",
      "[START] larger liked in the approval school was home way remain . The Rome was going in his strange of their mustard it was left . He went to Polly the store like [UNK] he asked his felt . He was so his that , he Sam and him in the straighten to school . The providing was great to with Mountains , he had was suffered . [END] [PAD] [PAD] [PAD]\n",
      "sample_idx: 19\n",
      "[START] chihuahua needed Suzie just frat with a brunch fresh . The told wanted to make the [UNK] dent pickup . A my 2004 . They were with out of the direct . John ended her 's and see next house . [END] [PAD] [PAD] [PAD] [PAD] [PAD] [PAD] [PAD] [PAD] [PAD] [PAD] [PAD] [PAD] [PAD] [PAD] [PAD] [PAD] [PAD] [PAD] [PAD] [PAD] [PAD] [PAD] [PAD] [PAD] [PAD] [PAD] [PAD] [PAD] [PAD]\n",
      "sample_idx: 20\n",
      "[START] [UNK] wanted to learn out but she was [UNK] . paramedics the them of the [UNK] , they had listed bandages . When she family him his mike , the accidents wanted to see to a nervousness . After [UNK] up and the [UNK] and is was a by . [UNK] 's make a crutches catering to up to would accepted his him . [END] [PAD] [PAD] [PAD] [PAD] [PAD] [PAD]\n",
      "sample_idx: 21\n",
      "[START] I ended at my Playing my me by day I . We took the next out at them . The some him up in the artist . I the my new free . [UNK] headaches I got go to see my really . [END] [PAD] [PAD] [PAD] [PAD] [PAD] [PAD] [PAD] [PAD] [PAD] [PAD] [PAD] [PAD] [PAD] [PAD] [PAD] [PAD] [PAD] [PAD] [PAD] [PAD] [PAD] [PAD] [PAD] [PAD] [PAD] [PAD] [PAD]\n",
      "sample_idx: 22\n",
      "[START] Tim was an mayor [UNK] . It was n't dog . Tim had a Winston of cashier . He , they had a tiles [UNK] . She 's [UNK] to make [UNK] on the them . [END] [PAD] [PAD] [PAD] [PAD] [PAD] [PAD] [PAD] [PAD] [PAD] [PAD] [PAD] [PAD] [PAD] [PAD] [PAD] [PAD] [PAD] [PAD] [PAD] [PAD] [PAD] [PAD] [PAD] [PAD] [PAD] [PAD] [PAD] [PAD] [PAD] [PAD] [PAD] [PAD] [PAD] [PAD]\n",
      "sample_idx: 23\n",
      "[START] [UNK] had been was a [UNK] [UNK] a magnet . She sent a Francis of a burglar . She did n't decided to the sodas . She waxed made she compare for her . She took a [UNK] of it for her day practice . [END] [PAD] [PAD] [PAD] [PAD] [PAD] [PAD] [PAD] [PAD] [PAD] [PAD] [PAD] [PAD] [PAD] [PAD] [PAD] [PAD] [PAD] [PAD] [PAD] [PAD] [PAD] [PAD] [PAD] [PAD] [PAD]\n",
      "sample_idx: 24\n",
      "[START] Tim was an ride achievement . He did n't the fondly to the [UNK] . He wanted to be [UNK] and needed a casserole of new invisible . He had to After the fixes . Tim bravely to get the things . [END] [PAD] [PAD] [PAD] [PAD] [PAD] [PAD] [PAD] [PAD] [PAD] [PAD] [PAD] [PAD] [PAD] [PAD] [PAD] [PAD] [PAD] [PAD] [PAD] [PAD] [PAD] [PAD] [PAD] [PAD] [PAD] [PAD] [PAD] [PAD]\n",
      "sample_idx: 25\n",
      "[START] My 's sneaky had a warehouse of the thought . She was diets over piled for strange [UNK] the starving . She husky the she was hug it Wanting registered . She was bought renovating back her 's very into [UNK] half . Her two in the saving she were out in the her [UNK] . [END] [PAD] [PAD] [PAD] [PAD] [PAD] [PAD] [PAD] [PAD] [PAD] [PAD] [PAD] [PAD] [PAD] [PAD]\n",
      "sample_idx: 26\n",
      "[START] Tim was on a intricate of Marnie . But when it was very stashed she did n't friends . She make a new of at on the dead . She told had a suite she of the confessed . Tim loved some refreshed she would out to her overly and called it . [END] [PAD] [PAD] [PAD] [PAD] [PAD] [PAD] [PAD] [PAD] [PAD] [PAD] [PAD] [PAD] [PAD] [PAD] [PAD] [PAD] [PAD]\n",
      "sample_idx: 27\n",
      "[START] I close a very friends for 's first time . I was going it in the Russian . floated I decided out but it their the smile . I went to get out of remainder . I had a restless I me and me to be my everyone . [END] [PAD] [PAD] [PAD] [PAD] [PAD] [PAD] [PAD] [PAD] [PAD] [PAD] [PAD] [PAD] [PAD] [PAD] [PAD] [PAD] [PAD] [PAD] [PAD] [PAD] [PAD]\n",
      "sample_idx: 28\n",
      "[START] [UNK] was an mike been when she her she there her Society . She decided to joints job and , but but was lot of fell . on 's so , but she got spots and ! some constellations and uncomfortable on the week . She earring her was as the alarm When she got the it was back . never 's wanting as complex in starving for her to [END]\n",
      "sample_idx: 29\n",
      "[START] sheet was a over [UNK] Kansas . He looked a very off . It did n't lack . He had to a [UNK] great an . He thanksgiving bought planned arose . [END] [PAD] [PAD] [PAD] [PAD] [PAD] [PAD] [PAD] [PAD] [PAD] [PAD] [PAD] [PAD] [PAD] [PAD] [PAD] [PAD] [PAD] [PAD] [PAD] [PAD] [PAD] [PAD] [PAD] [PAD] [PAD] [PAD] [PAD] [PAD] [PAD] [PAD] [PAD] [PAD] [PAD] [PAD] [PAD] [PAD] [PAD] [PAD]\n",
      "sample_idx: 30\n",
      "[START] I peeled my have a my division and of the while . It was the notification of . wildlife to s the caves there . I ended on the I went it depressed , but I to into the Outside . The refuses was delighted , so so I for a cursing . [END] [PAD] [PAD] [PAD] [PAD] [PAD] [PAD] [PAD] [PAD] [PAD] [PAD] [PAD] [PAD] [PAD] [PAD] [PAD] [PAD] [PAD]\n",
      "sample_idx: 31\n",
      "[START] Tom was said as a same in horse . He was climbing excited a accepted like . He had a strike Tina date him . Tom , he minor he school the wobbly at it . Tom After his made outcome mud in the notices explored . [END] [PAD] [PAD] [PAD] [PAD] [PAD] [PAD] [PAD] [PAD] [PAD] [PAD] [PAD] [PAD] [PAD] [PAD] [PAD] [PAD] [PAD] [PAD] [PAD] [PAD] [PAD] [PAD] [PAD]\n",
      "sample_idx: 32\n",
      "[START] pledged mom the wanted to buy vending . She so it her that she then very back from the abroad . She made she could n't the office she would . Then frat she out , and went to the store for the lime . She concentrating , she looked it of her sitter , an them . [END] [PAD] [PAD] [PAD] [PAD] [PAD] [PAD] [PAD] [PAD] [PAD] [PAD] [PAD] [PAD]\n",
      "sample_idx: 33\n",
      "[START] [UNK] was were tried , she had I was very . When it Everest when my I would [UNK] he was fertility . When was showed species Allen , I did n't of more poem gave it . ! I was fled , I got rub to House [UNK] . [UNK] 's could n't a time came Tia , I felt got 's years . [END] [PAD] [PAD] [PAD] [PAD] [PAD]\n",
      "sample_idx: 34\n",
      "[START] voice was family in day . He was a great of and flashy First . He is all the time and all the about the silver . He inviting a lot of him . He the darkened , he was n't a fell reluctant . [END] [PAD] [PAD] [PAD] [PAD] [PAD] [PAD] [PAD] [PAD] [PAD] [PAD] [PAD] [PAD] [PAD] [PAD] [PAD] [PAD] [PAD] [PAD] [PAD] [PAD] [PAD] [PAD] [PAD] [PAD] [PAD]\n",
      "sample_idx: 35\n",
      "[START] Tim needed a disappointed on the day in the way 's presents on . He [UNK] at his and new orthodontist in the popularity . He saw on how and Anna he would president . The Tim pains on their out at Miller it class . He were back superhero blaring , he up lessons more . [END] [PAD] [PAD] [PAD] [PAD] [PAD] [PAD] [PAD] [PAD] [PAD] [PAD] [PAD] [PAD] [PAD]\n",
      "sample_idx: 36\n",
      "[START] [UNK] decided to an prevent at . His needed a accomplishments of at fresh . The [UNK] and sanctuary in a [UNK] . He went to the absolute . [UNK] 's in the local of the him . [END] [PAD] [PAD] [PAD] [PAD] [PAD] [PAD] [PAD] [PAD] [PAD] [PAD] [PAD] [PAD] [PAD] [PAD] [PAD] [PAD] [PAD] [PAD] [PAD] [PAD] [PAD] [PAD] [PAD] [PAD] [PAD] [PAD] [PAD] [PAD] [PAD] [PAD] [PAD] [PAD]\n",
      "sample_idx: 37\n",
      "[START] The bought a [UNK] time at the concepts . His Traffic got him of feel . The eight went at the Erika about optometrist after . A the [UNK] either had regardless her . 's new was had as up all it [UNK] ! [END] [PAD] [PAD] [PAD] [PAD] [PAD] [PAD] [PAD] [PAD] [PAD] [PAD] [PAD] [PAD] [PAD] [PAD] [PAD] [PAD] [PAD] [PAD] [PAD] [PAD] [PAD] [PAD] [PAD] [PAD] [PAD] [PAD]\n",
      "sample_idx: 38\n",
      "[START] Tim was Bath of from one day . He is downhill in of Miller . It scuba at a [UNK] work . After seized 's Bradley her cramps she did his [START] . and was some 'd away . It was a spun and realized at the saw buddy . [END] [PAD] [PAD] [PAD] [PAD] [PAD] [PAD] [PAD] [PAD] [PAD] [PAD] [PAD] [PAD] [PAD] [PAD] [PAD] [PAD] [PAD] [PAD] [PAD] [PAD]\n",
      "sample_idx: 39\n",
      "[START] I for a television that so I found [UNK] on my ancestors . I giant me day and saw my she had Sonya no . When I was me make I got , I was me went to the store . I was a to but , I and my me my Smiths . I was a great him animated fall my poodle up the tenants to over the suspicion [END]\n",
      "sample_idx: 40\n",
      "[START] My fell always of my financial to 1992 happy in the dark . They crumbled dad that big time behavior Mormon . I was of the fits were focused it . The finally , the it came in the prince . I found a Finally in the were peaceful at the BC I unexpectedly . [END] [PAD] [PAD] [PAD] [PAD] [PAD] [PAD] [PAD] [PAD] [PAD] [PAD] [PAD] [PAD] [PAD] [PAD] [PAD]\n",
      "sample_idx: 41\n",
      "[START] Tom decided to crept took his Nic . He went to a Cross tea . It was was made her from the grandma . Tom was going to go out to themselves . It was so house he for a software on the smallest . [END] [PAD] [PAD] [PAD] [PAD] [PAD] [PAD] [PAD] [PAD] [PAD] [PAD] [PAD] [PAD] [PAD] [PAD] [PAD] [PAD] [PAD] [PAD] [PAD] [PAD] [PAD] [PAD] [PAD] [PAD] [PAD]\n",
      "sample_idx: 42\n",
      "[START] Joanne was a too but were the friends . So he switch , and for racing one actors . Finally their friends made went to her and tried a raspberries kisses . He ended the so loaves a days for up family Nashville . My summit , he dishwasher him he at it bonfire from doctor off . [END] [PAD] [PAD] [PAD] [PAD] [PAD] [PAD] [PAD] [PAD] [PAD] [PAD] [PAD] [PAD]\n",
      "sample_idx: 43\n",
      "[START] pimple had had a new night time . She had a time of new bankrupt . afterwards she coral her all told her encourage . She took her about wanted dryer an tight . Coast made Mimi her of to a new table . [END] [PAD] [PAD] [PAD] [PAD] [PAD] [PAD] [PAD] [PAD] [PAD] [PAD] [PAD] [PAD] [PAD] [PAD] [PAD] [PAD] [PAD] [PAD] [PAD] [PAD] [PAD] [PAD] [PAD] [PAD] [PAD] [PAD]\n",
      "sample_idx: 44\n",
      "[START] sorority was a Birthday of she had for a favorite thought . Margo , she was guy for her shop . But her , family her in morning and see her make to crept again . Her floated she got all , she was her friend on her enjoyed . aged gallons friends was started figuring , she she took her 's fifty . [END] [PAD] [PAD] [PAD] [PAD] [PAD] [PAD]\n",
      "sample_idx: 45\n",
      "[START] numerous is a new [UNK] on . She decided to woodworking been one so doubted when she new neighborhood . [UNK] of found her Alone and make on it . There is to a possessions it . She was out into the Rose [UNK] . [END] [PAD] [PAD] [PAD] [PAD] [PAD] [PAD] [PAD] [PAD] [PAD] [PAD] [PAD] [PAD] [PAD] [PAD] [PAD] [PAD] [PAD] [PAD] [PAD] [PAD] [PAD] [PAD] [PAD] [PAD] [PAD]\n",
      "sample_idx: 46\n",
      "[START] dressed was in he fridge a overheating glad . She , he wanted a and to McDonald he next hopefully . One day saw , , [UNK] as the car on the school . He began to an liked interrupting it and he was school . Then he As the a and it was a new time . [END] [PAD] [PAD] [PAD] [PAD] [PAD] [PAD] [PAD] [PAD] [PAD] [PAD] [PAD] [PAD]\n",
      "sample_idx: 47\n",
      "[START] Kate had his culprit with his with was bbq very out of the money . The [UNK] was day the Tanglewood and got her 's [UNK] it was work . He woke out and snap on to roulette . trains arrived had had friend all of who he had sedan Aaron . He said on him and him to small in a Blockbuster . [END] [PAD] [PAD] [PAD] [PAD] [PAD] [PAD]\n",
      "sample_idx: 48\n",
      "[START] notices has some Zaiden . He did n't a ' job a car for premier . He is very report ferry a up . The 's cubicle just cops with yarn . He climbing the off and away them evenings ! [END] [PAD] [PAD] [PAD] [PAD] [PAD] [PAD] [PAD] [PAD] [PAD] [PAD] [PAD] [PAD] [PAD] [PAD] [PAD] [PAD] [PAD] [PAD] [PAD] [PAD] [PAD] [PAD] [PAD] [PAD] [PAD] [PAD] [PAD] [PAD] [PAD]\n",
      "sample_idx: 49\n",
      "[START] I got my decided to 1 for friends tropical . The neighbor thought they wi in my pork . I tried to train . The hurt was friend a lot tired and Tobias . We is decided to get the snowstorm . [END] [PAD] [PAD] [PAD] [PAD] [PAD] [PAD] [PAD] [PAD] [PAD] [PAD] [PAD] [PAD] [PAD] [PAD] [PAD] [PAD] [PAD] [PAD] [PAD] [PAD] [PAD] [PAD] [PAD] [PAD] [PAD] [PAD] [PAD] [PAD]\n",
      "sample_idx: 50\n",
      "[START] [UNK] 's listed for a deleted . She was thought that she him to Colby [UNK] was One day . [UNK] made in her [UNK] and [UNK] it on expressed . She decided to realized onto out she [UNK] with some [UNK] . [UNK] was told up a friend , she had and got her him work . [END] [PAD] [PAD] [PAD] [PAD] [PAD] [PAD] [PAD] [PAD] [PAD] [PAD] [PAD] [PAD]\n",
      "sample_idx: 51\n",
      "[START] I went in my about stamps brand their [UNK] . I did up of so the more so it a new saddle . I was very I had to bouncing a heart and [UNK] of it . But made all the there on Due . I took it to see out of the day . [END] [PAD] [PAD] [PAD] [PAD] [PAD] [PAD] [PAD] [PAD] [PAD] [PAD] [PAD] [PAD] [PAD] [PAD] [PAD]\n",
      "sample_idx: 52\n",
      "[START] Jervis had a go friends in hotels . She outgoing to a that courthouse because in her night . The Mika was were Several an house in new cheaper . She suffer and tough to the Tay . [UNK] the family not invest at ball like for her . [END] [PAD] [PAD] [PAD] [PAD] [PAD] [PAD] [PAD] [PAD] [PAD] [PAD] [PAD] [PAD] [PAD] [PAD] [PAD] [PAD] [PAD] [PAD] [PAD] [PAD] [PAD]\n",
      "sample_idx: 53\n",
      "[START] got got a Tower flyer . He was with a [UNK] . He peeked the was yearbook . He got a some therefore . His were a Rena all . [END] [PAD] [PAD] [PAD] [PAD] [PAD] [PAD] [PAD] [PAD] [PAD] [PAD] [PAD] [PAD] [PAD] [PAD] [PAD] [PAD] [PAD] [PAD] [PAD] [PAD] [PAD] [PAD] [PAD] [PAD] [PAD] [PAD] [PAD] [PAD] [PAD] [PAD] [PAD] [PAD] [PAD] [PAD] [PAD] [PAD] [PAD] [PAD] [PAD] [PAD]\n",
      "sample_idx: 54\n",
      "[START] The homosexual volleyball that , I did n't all unexpectedly house . She wanted to sun a lot of kennel . When he was cities them . The pregnancy of it toenail content and about it of dropped . I had a appetizer would him friends of I went slopes . [END] [PAD] [PAD] [PAD] [PAD] [PAD] [PAD] [PAD] [PAD] [PAD] [PAD] [PAD] [PAD] [PAD] [PAD] [PAD] [PAD] [PAD] [PAD] [PAD]\n",
      "sample_idx: 55\n",
      "[START] C had a down . She was tried to go her notice . She was got a eat [UNK] ligament . She went had a Jessi out one . She decided she in the flossing . [END] [PAD] [PAD] [PAD] [PAD] [PAD] [PAD] [PAD] [PAD] [PAD] [PAD] [PAD] [PAD] [PAD] [PAD] [PAD] [PAD] [PAD] [PAD] [PAD] [PAD] [PAD] [PAD] [PAD] [PAD] [PAD] [PAD] [PAD] [PAD] [PAD] [PAD] [PAD] [PAD] [PAD] [PAD]\n",
      "sample_idx: 56\n",
      "[START] I was in my dresses . I wanted to piling on a mother diapers . I was my Betty my my too 's frat her . I got that [UNK] [UNK] by my Crystal . Then [UNK] Pat told Reluctantly a [UNK] , the dishonest to see ! [END] [PAD] [PAD] [PAD] [PAD] [PAD] [PAD] [PAD] [PAD] [PAD] [PAD] [PAD] [PAD] [PAD] [PAD] [PAD] [PAD] [PAD] [PAD] [PAD] [PAD] [PAD] [PAD]\n",
      "sample_idx: 57\n",
      "[START] Sam was a suppose on was a new enjoy . He felt about if at triple . He was it and biological him as he did n't old . he would n't with them the saw he was had a others painted . He all a day time , comforted diamond he mini in me . [END] [PAD] [PAD] [PAD] [PAD] [PAD] [PAD] [PAD] [PAD] [PAD] [PAD] [PAD] [PAD] [PAD] [PAD]\n",
      "sample_idx: 58\n",
      "[START] I bought my me to go for a new awful . I took digital dangling I could in . I had a a few . I got to no brush guy fridge and buy it him continue [UNK] . I off I and decided to be my my afraid . [END] [PAD] [PAD] [PAD] [PAD] [PAD] [PAD] [PAD] [PAD] [PAD] [PAD] [PAD] [PAD] [PAD] [PAD] [PAD] [PAD] [PAD] [PAD] [PAD] [PAD]\n",
      "sample_idx: 59\n",
      "[START] Penny Vicky at a first with the house I sized very at . I of my that I she mad in the yummy . The started mails Cinderella to loading day . The made help so a mainly for the North and unplugged the unloading . There was champion all the went time to first . [END] [PAD] [PAD] [PAD] [PAD] [PAD] [PAD] [PAD] [PAD] [PAD] [PAD] [PAD] [PAD] [PAD] [PAD]\n",
      "sample_idx: 60\n",
      "[START] Arnie was a new . He went to his cupcakes . He thought so were was drawer along . one went to Shortly . It was it . [END] [PAD] [PAD] [PAD] [PAD] [PAD] [PAD] [PAD] [PAD] [PAD] [PAD] [PAD] [PAD] [PAD] [PAD] [PAD] [PAD] [PAD] [PAD] [PAD] [PAD] [PAD] [PAD] [PAD] [PAD] [PAD] [PAD] [PAD] [PAD] [PAD] [PAD] [PAD] [PAD] [PAD] [PAD] [PAD] [PAD] [PAD] [PAD] [PAD] [PAD] [PAD] [PAD]\n",
      "sample_idx: 61\n",
      "[START] tracks team cough . she was Tricia from the scrambled . When she skis added her awkwardly , she got at her Ringo . It told about the way and resolved on the packaging . Her instead It was as her reduced with her . [END] [PAD] [PAD] [PAD] [PAD] [PAD] [PAD] [PAD] [PAD] [PAD] [PAD] [PAD] [PAD] [PAD] [PAD] [PAD] [PAD] [PAD] [PAD] [PAD] [PAD] [PAD] [PAD] [PAD] [PAD] [PAD]\n",
      "sample_idx: 62\n",
      "[START] propane was at the toddlers . He wi bought a background his time . Then the soaking gradually him . He started going to the store . He cocoon in a ran . [END] [PAD] [PAD] [PAD] [PAD] [PAD] [PAD] [PAD] [PAD] [PAD] [PAD] [PAD] [PAD] [PAD] [PAD] [PAD] [PAD] [PAD] [PAD] [PAD] [PAD] [PAD] [PAD] [PAD] [PAD] [PAD] [PAD] [PAD] [PAD] [PAD] [PAD] [PAD] [PAD] [PAD] [PAD] [PAD] [PAD] [PAD]\n",
      "sample_idx: 63\n",
      "[START] We had just to go with her fool . She had in a owners for it chase . It did n't it she [UNK] me for hat . relaxing had to go her breakup quiz . We could n't with down at the glanced [UNK] . [END] [PAD] [PAD] [PAD] [PAD] [PAD] [PAD] [PAD] [PAD] [PAD] [PAD] [PAD] [PAD] [PAD] [PAD] [PAD] [PAD] [PAD] [PAD] [PAD] [PAD] [PAD] [PAD] [PAD] [PAD]\n"
     ]
    }
   ],
   "source": [
    "for sample_idx in range(batch_size):\n",
    "    hidden_state = hidden_states[-1][sample_idx]\n",
    "    with torch.no_grad():\n",
    "        sampled_ids = diffusion_model.rounding(hidden_state).cpu()\n",
    "        sampled_seq = [rev_tokenizer[token_id.item()] for token_id in sampled_ids]\n",
    "        print(\"sample_idx:\", sample_idx)\n",
    "        print(\" \".join(sampled_seq))"
   ]
  },
  {
   "cell_type": "code",
   "execution_count": 17,
   "metadata": {
    "collapsed": false,
    "pycharm": {
     "name": "#%%\n"
    }
   },
   "outputs": [
    {
     "name": "stdout",
     "output_type": "stream",
     "text": [
      "model.encoder.layer.0.attention.self.query.weight\n",
      "model.encoder.layer.0.attention.self.query.bias\n",
      "model.encoder.layer.0.attention.self.key.weight\n",
      "model.encoder.layer.0.attention.self.key.bias\n",
      "model.encoder.layer.0.attention.self.value.weight\n",
      "model.encoder.layer.0.attention.self.value.bias\n",
      "model.encoder.layer.0.attention.output.dense.weight\n",
      "model.encoder.layer.0.attention.output.dense.bias\n",
      "model.encoder.layer.0.attention.output.LayerNorm.weight\n",
      "model.encoder.layer.0.attention.output.LayerNorm.bias\n",
      "model.encoder.layer.0.intermediate.dense.weight\n",
      "model.encoder.layer.0.intermediate.dense.bias\n",
      "model.encoder.layer.0.output.dense.weight\n",
      "model.encoder.layer.0.output.dense.bias\n",
      "model.encoder.layer.0.output.LayerNorm.weight\n",
      "model.encoder.layer.0.output.LayerNorm.bias\n",
      "model.encoder.layer.1.attention.self.query.weight\n",
      "model.encoder.layer.1.attention.self.query.bias\n",
      "model.encoder.layer.1.attention.self.key.weight\n",
      "model.encoder.layer.1.attention.self.key.bias\n",
      "model.encoder.layer.1.attention.self.value.weight\n",
      "model.encoder.layer.1.attention.self.value.bias\n",
      "model.encoder.layer.1.attention.output.dense.weight\n",
      "model.encoder.layer.1.attention.output.dense.bias\n",
      "model.encoder.layer.1.attention.output.LayerNorm.weight\n",
      "model.encoder.layer.1.attention.output.LayerNorm.bias\n",
      "model.encoder.layer.1.intermediate.dense.weight\n",
      "model.encoder.layer.1.intermediate.dense.bias\n",
      "model.encoder.layer.1.output.dense.weight\n",
      "model.encoder.layer.1.output.dense.bias\n",
      "model.encoder.layer.1.output.LayerNorm.weight\n",
      "model.encoder.layer.1.output.LayerNorm.bias\n",
      "model.encoder.layer.2.attention.self.query.weight\n",
      "model.encoder.layer.2.attention.self.query.bias\n",
      "model.encoder.layer.2.attention.self.key.weight\n",
      "model.encoder.layer.2.attention.self.key.bias\n",
      "model.encoder.layer.2.attention.self.value.weight\n",
      "model.encoder.layer.2.attention.self.value.bias\n",
      "model.encoder.layer.2.attention.output.dense.weight\n",
      "model.encoder.layer.2.attention.output.dense.bias\n",
      "model.encoder.layer.2.attention.output.LayerNorm.weight\n",
      "model.encoder.layer.2.attention.output.LayerNorm.bias\n",
      "model.encoder.layer.2.intermediate.dense.weight\n",
      "model.encoder.layer.2.intermediate.dense.bias\n",
      "model.encoder.layer.2.output.dense.weight\n",
      "model.encoder.layer.2.output.dense.bias\n",
      "model.encoder.layer.2.output.LayerNorm.weight\n",
      "model.encoder.layer.2.output.LayerNorm.bias\n",
      "model.encoder.layer.3.attention.self.query.weight\n",
      "model.encoder.layer.3.attention.self.query.bias\n",
      "model.encoder.layer.3.attention.self.key.weight\n",
      "model.encoder.layer.3.attention.self.key.bias\n",
      "model.encoder.layer.3.attention.self.value.weight\n",
      "model.encoder.layer.3.attention.self.value.bias\n",
      "model.encoder.layer.3.attention.output.dense.weight\n",
      "model.encoder.layer.3.attention.output.dense.bias\n",
      "model.encoder.layer.3.attention.output.LayerNorm.weight\n",
      "model.encoder.layer.3.attention.output.LayerNorm.bias\n",
      "model.encoder.layer.3.intermediate.dense.weight\n",
      "model.encoder.layer.3.intermediate.dense.bias\n",
      "model.encoder.layer.3.output.dense.weight\n",
      "model.encoder.layer.3.output.dense.bias\n",
      "model.encoder.layer.3.output.LayerNorm.weight\n",
      "model.encoder.layer.3.output.LayerNorm.bias\n",
      "model.encoder.layer.4.attention.self.query.weight\n",
      "model.encoder.layer.4.attention.self.query.bias\n",
      "model.encoder.layer.4.attention.self.key.weight\n",
      "model.encoder.layer.4.attention.self.key.bias\n",
      "model.encoder.layer.4.attention.self.value.weight\n",
      "model.encoder.layer.4.attention.self.value.bias\n",
      "model.encoder.layer.4.attention.output.dense.weight\n",
      "model.encoder.layer.4.attention.output.dense.bias\n",
      "model.encoder.layer.4.attention.output.LayerNorm.weight\n",
      "model.encoder.layer.4.attention.output.LayerNorm.bias\n",
      "model.encoder.layer.4.intermediate.dense.weight\n",
      "model.encoder.layer.4.intermediate.dense.bias\n",
      "model.encoder.layer.4.output.dense.weight\n",
      "model.encoder.layer.4.output.dense.bias\n",
      "model.encoder.layer.4.output.LayerNorm.weight\n",
      "model.encoder.layer.4.output.LayerNorm.bias\n",
      "model.encoder.layer.5.attention.self.query.weight\n",
      "model.encoder.layer.5.attention.self.query.bias\n",
      "model.encoder.layer.5.attention.self.key.weight\n",
      "model.encoder.layer.5.attention.self.key.bias\n",
      "model.encoder.layer.5.attention.self.value.weight\n",
      "model.encoder.layer.5.attention.self.value.bias\n",
      "model.encoder.layer.5.attention.output.dense.weight\n",
      "model.encoder.layer.5.attention.output.dense.bias\n",
      "model.encoder.layer.5.attention.output.LayerNorm.weight\n",
      "model.encoder.layer.5.attention.output.LayerNorm.bias\n",
      "model.encoder.layer.5.intermediate.dense.weight\n",
      "model.encoder.layer.5.intermediate.dense.bias\n",
      "model.encoder.layer.5.output.dense.weight\n",
      "model.encoder.layer.5.output.dense.bias\n",
      "model.encoder.layer.5.output.LayerNorm.weight\n",
      "model.encoder.layer.5.output.LayerNorm.bias\n",
      "model.encoder.layer.6.attention.self.query.weight\n",
      "model.encoder.layer.6.attention.self.query.bias\n",
      "model.encoder.layer.6.attention.self.key.weight\n",
      "model.encoder.layer.6.attention.self.key.bias\n",
      "model.encoder.layer.6.attention.self.value.weight\n",
      "model.encoder.layer.6.attention.self.value.bias\n",
      "model.encoder.layer.6.attention.output.dense.weight\n",
      "model.encoder.layer.6.attention.output.dense.bias\n",
      "model.encoder.layer.6.attention.output.LayerNorm.weight\n",
      "model.encoder.layer.6.attention.output.LayerNorm.bias\n",
      "model.encoder.layer.6.intermediate.dense.weight\n",
      "model.encoder.layer.6.intermediate.dense.bias\n",
      "model.encoder.layer.6.output.dense.weight\n",
      "model.encoder.layer.6.output.dense.bias\n",
      "model.encoder.layer.6.output.LayerNorm.weight\n",
      "model.encoder.layer.6.output.LayerNorm.bias\n",
      "model.encoder.layer.7.attention.self.query.weight\n",
      "model.encoder.layer.7.attention.self.query.bias\n",
      "model.encoder.layer.7.attention.self.key.weight\n",
      "model.encoder.layer.7.attention.self.key.bias\n",
      "model.encoder.layer.7.attention.self.value.weight\n",
      "model.encoder.layer.7.attention.self.value.bias\n",
      "model.encoder.layer.7.attention.output.dense.weight\n",
      "model.encoder.layer.7.attention.output.dense.bias\n",
      "model.encoder.layer.7.attention.output.LayerNorm.weight\n",
      "model.encoder.layer.7.attention.output.LayerNorm.bias\n",
      "model.encoder.layer.7.intermediate.dense.weight\n",
      "model.encoder.layer.7.intermediate.dense.bias\n",
      "model.encoder.layer.7.output.dense.weight\n",
      "model.encoder.layer.7.output.dense.bias\n",
      "model.encoder.layer.7.output.LayerNorm.weight\n",
      "model.encoder.layer.7.output.LayerNorm.bias\n",
      "model.encoder.layer.8.attention.self.query.weight\n",
      "model.encoder.layer.8.attention.self.query.bias\n",
      "model.encoder.layer.8.attention.self.key.weight\n",
      "model.encoder.layer.8.attention.self.key.bias\n",
      "model.encoder.layer.8.attention.self.value.weight\n",
      "model.encoder.layer.8.attention.self.value.bias\n",
      "model.encoder.layer.8.attention.output.dense.weight\n",
      "model.encoder.layer.8.attention.output.dense.bias\n",
      "model.encoder.layer.8.attention.output.LayerNorm.weight\n",
      "model.encoder.layer.8.attention.output.LayerNorm.bias\n",
      "model.encoder.layer.8.intermediate.dense.weight\n",
      "model.encoder.layer.8.intermediate.dense.bias\n",
      "model.encoder.layer.8.output.dense.weight\n",
      "model.encoder.layer.8.output.dense.bias\n",
      "model.encoder.layer.8.output.LayerNorm.weight\n",
      "model.encoder.layer.8.output.LayerNorm.bias\n",
      "model.encoder.layer.9.attention.self.query.weight\n",
      "model.encoder.layer.9.attention.self.query.bias\n",
      "model.encoder.layer.9.attention.self.key.weight\n",
      "model.encoder.layer.9.attention.self.key.bias\n",
      "model.encoder.layer.9.attention.self.value.weight\n",
      "model.encoder.layer.9.attention.self.value.bias\n",
      "model.encoder.layer.9.attention.output.dense.weight\n",
      "model.encoder.layer.9.attention.output.dense.bias\n",
      "model.encoder.layer.9.attention.output.LayerNorm.weight\n",
      "model.encoder.layer.9.attention.output.LayerNorm.bias\n",
      "model.encoder.layer.9.intermediate.dense.weight\n",
      "model.encoder.layer.9.intermediate.dense.bias\n",
      "model.encoder.layer.9.output.dense.weight\n",
      "model.encoder.layer.9.output.dense.bias\n",
      "model.encoder.layer.9.output.LayerNorm.weight\n",
      "model.encoder.layer.9.output.LayerNorm.bias\n",
      "model.encoder.layer.10.attention.self.query.weight\n",
      "model.encoder.layer.10.attention.self.query.bias\n",
      "model.encoder.layer.10.attention.self.key.weight\n",
      "model.encoder.layer.10.attention.self.key.bias\n",
      "model.encoder.layer.10.attention.self.value.weight\n",
      "model.encoder.layer.10.attention.self.value.bias\n",
      "model.encoder.layer.10.attention.output.dense.weight\n",
      "model.encoder.layer.10.attention.output.dense.bias\n",
      "model.encoder.layer.10.attention.output.LayerNorm.weight\n",
      "model.encoder.layer.10.attention.output.LayerNorm.bias\n",
      "model.encoder.layer.10.intermediate.dense.weight\n",
      "model.encoder.layer.10.intermediate.dense.bias\n",
      "model.encoder.layer.10.output.dense.weight\n",
      "model.encoder.layer.10.output.dense.bias\n",
      "model.encoder.layer.10.output.LayerNorm.weight\n",
      "model.encoder.layer.10.output.LayerNorm.bias\n",
      "model.encoder.layer.11.attention.self.query.weight\n",
      "model.encoder.layer.11.attention.self.query.bias\n",
      "model.encoder.layer.11.attention.self.key.weight\n",
      "model.encoder.layer.11.attention.self.key.bias\n",
      "model.encoder.layer.11.attention.self.value.weight\n",
      "model.encoder.layer.11.attention.self.value.bias\n",
      "model.encoder.layer.11.attention.output.dense.weight\n",
      "model.encoder.layer.11.attention.output.dense.bias\n",
      "model.encoder.layer.11.attention.output.LayerNorm.weight\n",
      "model.encoder.layer.11.attention.output.LayerNorm.bias\n",
      "model.encoder.layer.11.intermediate.dense.weight\n",
      "model.encoder.layer.11.intermediate.dense.bias\n",
      "model.encoder.layer.11.output.dense.weight\n",
      "model.encoder.layer.11.output.dense.bias\n",
      "model.encoder.layer.11.output.LayerNorm.weight\n",
      "model.encoder.layer.11.output.LayerNorm.bias\n",
      "model.input_proj.0.weight\n",
      "model.input_proj.0.bias\n",
      "model.input_proj.2.weight\n",
      "model.input_proj.2.bias\n",
      "model.position_embeddings.weight\n",
      "model.time_embeddings.1.weight\n",
      "model.time_embeddings.1.bias\n",
      "model.time_embeddings.3.weight\n",
      "model.time_embeddings.3.bias\n",
      "model.cond_proj.0.weight\n",
      "model.cond_proj.0.bias\n",
      "model.cond_proj.2.weight\n",
      "model.cond_proj.2.bias\n",
      "model.LayerNorm.weight\n",
      "model.LayerNorm.bias\n",
      "model.output_proj.0.weight\n",
      "model.output_proj.0.bias\n",
      "model.output_proj.2.weight\n",
      "model.output_proj.2.bias\n"
     ]
    }
   ],
   "source": [
    "for n,p in diffusion_model.named_parameters():\n",
    "    print(n)"
   ]
  },
  {
   "cell_type": "code",
   "execution_count": null,
   "metadata": {
    "collapsed": false,
    "pycharm": {
     "name": "#%%\n"
    }
   },
   "outputs": [],
   "source": []
  }
 ],
 "metadata": {
  "kernelspec": {
   "display_name": "Python 3",
   "language": "python",
   "name": "python3"
  },
  "language_info": {
   "codemirror_mode": {
    "name": "ipython",
    "version": 2
   },
   "file_extension": ".py",
   "mimetype": "text/x-python",
   "name": "python",
   "nbconvert_exporter": "python",
   "pygments_lexer": "ipython2",
   "version": "2.7.6"
  }
 },
 "nbformat": 4,
 "nbformat_minor": 0
}
