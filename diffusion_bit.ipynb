{
 "cells": [
  {
   "cell_type": "code",
   "execution_count": 1,
   "metadata": {
    "collapsed": true,
    "pycharm": {
     "name": "#%%\n"
    }
   },
   "outputs": [],
   "source": [
    "import numpy as np\n",
    "import torch\n",
    "import transformers\n",
    "import matplotlib.pyplot as plt\n",
    "\n",
    "from transformers import BertConfig\n",
    "from transformers import get_cosine_schedule_with_warmup\n",
    "from sklearn.model_selection import train_test_split\n",
    "from torch.utils.data import DataLoader\n",
    "from sklearn.manifold import TSNE\n",
    "from tqdm.auto import tqdm\n",
    "\n",
    "from models import BertForDiffusion, DiffusionLMFixedEmb\n",
    "from data_utils import load_e2enlg_dataset_and_tokenizer, E2enlgDataset, load_rocstories_dataset_and_tokenizer, RocstoriesDataset\n",
    "from noise_schedule import get_named_beta_schedule\n",
    "from train_utils import train, evaluate\n",
    "\n",
    "%matplotlib inline"
   ]
  },
  {
   "cell_type": "code",
   "execution_count": 2,
   "metadata": {
    "collapsed": false,
    "pycharm": {
     "name": "#%%\n"
    }
   },
   "outputs": [],
   "source": [
    "# dataset args\n",
    "max_len = 72    # maximum length of input_ids\n",
    "vocab_threshold = 10    # occurrence time < threshold token as [UNK]\n",
    "test_size = 0.1     # size of evaluation dataset\n",
    "\n",
    "# training args\n",
    "batch_size = 64\n",
    "device = torch.device(\"cuda:0\")\n",
    "lr = 2e-4\n",
    "num_epoch = 50\n",
    "weight_decay = 0\n",
    "num_warmup_steps = 100\n",
    "\n",
    "# model args\n",
    "word_embedding_dim = 128\n",
    "hidden_size = 512\n",
    "num_hidden_layers = 4\n",
    "num_attention_heads = 8\n",
    "intermediate_size = 2048\n",
    "max_position_embeddings = max_len"
   ]
  },
  {
   "cell_type": "code",
   "execution_count": 3,
   "metadata": {
    "collapsed": false,
    "pycharm": {
     "name": "#%%\n"
    }
   },
   "outputs": [
    {
     "name": "stderr",
     "output_type": "stream",
     "text": [
      "No config specified, defaulting to: roc_stories/all\n",
      "Reusing dataset roc_stories (/home/dingyizhou/.cache/huggingface/datasets/wza___roc_stories/all/2.1.0/43e2851d9f31e08e4b2dd07a8057ed7a64cbb25cc7105d09856c14e638695506)\n"
     ]
    },
    {
     "data": {
      "application/vnd.jupyter.widget-view+json": {
       "model_id": "a16e64de877943f2b68ee1004a2f50ac",
       "version_major": 2,
       "version_minor": 0
      },
      "text/plain": [
       "  0%|          | 0/1 [00:00<?, ?it/s]"
      ]
     },
     "metadata": {},
     "output_type": "display_data"
    },
    {
     "data": {
      "application/vnd.jupyter.widget-view+json": {
       "model_id": "2f46e54a28b44c16aad0cbe1d7d70243",
       "version_major": 2,
       "version_minor": 0
      },
      "text/plain": [
       "  0%|          | 0/98161 [00:00<?, ?it/s]"
      ]
     },
     "metadata": {},
     "output_type": "display_data"
    },
    {
     "data": {
      "application/vnd.jupyter.widget-view+json": {
       "model_id": "674fc0147dcf490f821fbddbe0bfb559",
       "version_major": 2,
       "version_minor": 0
      },
      "text/plain": [
       "  0%|          | 0/99 [00:00<?, ?ba/s]"
      ]
     },
     "metadata": {},
     "output_type": "display_data"
    },
    {
     "name": "stdout",
     "output_type": "stream",
     "text": [
      "Training set size: 88344\n",
      "Evaluation set size: 9817\n"
     ]
    }
   ],
   "source": [
    "tokenized_rocstories_dataset, tokenizer = load_rocstories_dataset_and_tokenizer(max_len=max_len, vocab_threshold=vocab_threshold)\n",
    "\n",
    "rev_tokenizer = {v: k for k, v in tokenizer.items()}\n",
    "\n",
    "train_set, eval_set = train_test_split(tokenized_rocstories_dataset, test_size=test_size, shuffle=True)\n",
    "\n",
    "train_dataset = RocstoriesDataset(data_lst=train_set['input_ids'], attention_mask_lst=train_set['attention_mask'])\n",
    "print(\"Training set size:\",len(train_dataset))\n",
    "eval_dataset = RocstoriesDataset(data_lst=eval_set['input_ids'], attention_mask_lst=eval_set['attention_mask'])\n",
    "print(\"Evaluation set size:\", len(eval_dataset))\n",
    "\n",
    "train_dataloader = DataLoader(train_dataset, batch_size=batch_size, shuffle=True)\n",
    "eval_dataloader = DataLoader(eval_dataset, batch_size=batch_size, shuffle=False)"
   ]
  },
  {
   "cell_type": "code",
   "execution_count": 4,
   "metadata": {
    "collapsed": false,
    "pycharm": {
     "name": "#%%\n"
    }
   },
   "outputs": [
    {
     "name": "stdout",
     "output_type": "stream",
     "text": [
      "BertConfig {\n",
      "  \"T\": 2000,\n",
      "  \"attention_probs_dropout_prob\": 0.1,\n",
      "  \"classifier_dropout\": null,\n",
      "  \"hidden_act\": \"gelu\",\n",
      "  \"hidden_dropout_prob\": 0.1,\n",
      "  \"hidden_size\": 512,\n",
      "  \"initializer_range\": 0.02,\n",
      "  \"intermediate_size\": 2048,\n",
      "  \"layer_norm_eps\": 1e-12,\n",
      "  \"max_position_embeddings\": 72,\n",
      "  \"model_type\": \"bert\",\n",
      "  \"num_attention_heads\": 8,\n",
      "  \"num_hidden_layers\": 4,\n",
      "  \"pad_token_id\": 3,\n",
      "  \"position_embedding_type\": \"absolute\",\n",
      "  \"transformers_version\": \"4.19.2\",\n",
      "  \"type_vocab_size\": 2,\n",
      "  \"use_cache\": true,\n",
      "  \"vocab_size\": 11831\n",
      "}\n",
      "\n"
     ]
    }
   ],
   "source": [
    "config = BertConfig(vocab_size=len(tokenizer), hidden_size=hidden_size, num_hidden_layers=num_hidden_layers, num_attention_heads=num_attention_heads, intermediate_size=intermediate_size, max_position_embeddings=max_position_embeddings, pad_token_id=tokenizer['[PAD]'])\n",
    "\n",
    "config.T = 2000\n",
    "# config.word_embedding_dim = word_embedding_dim\n",
    "\n",
    "print(config)"
   ]
  },
  {
   "cell_type": "code",
   "execution_count": 5,
   "metadata": {
    "collapsed": false,
    "pycharm": {
     "name": "#%%\n"
    }
   },
   "outputs": [],
   "source": [
    "betas = torch.Tensor(get_named_beta_schedule(schedule_name=\"sqrt\", num_diffusion_timesteps=config.T))\n",
    "# betas = torch.Tensor(get_named_beta_schedule(schedule_name=\"linear\", num_diffusion_timesteps=config.T))\n",
    "\n",
    "alphas = 1. - betas\n",
    "alphas_bar = torch.cumprod(alphas, dim=0)\n",
    "sqrt_one_minus_alphas_bar = torch.sqrt(1. - alphas_bar)\n",
    "# plt.plot(sqrt_one_minus_alphas_bar)"
   ]
  },
  {
   "cell_type": "code",
   "execution_count": 6,
   "metadata": {
    "collapsed": false,
    "pycharm": {
     "name": "#%%\n"
    }
   },
   "outputs": [
    {
     "name": "stdout",
     "output_type": "stream",
     "text": [
      "set word_embedding_dim to: 14\n",
      "using bit word embedding\n",
      "Diffusion model #parameters:\n",
      "13786638\n"
     ]
    }
   ],
   "source": [
    "diffusion_model = DiffusionLMFixedEmb(config=config, betas=betas, emb_type='bit', self_condition=True, add_emb_noise=False).to(device)\n",
    "\n",
    "print(\"Diffusion model #parameters:\")\n",
    "print(sum([p.numel() for p in diffusion_model.parameters()]))\n",
    "\n",
    "optimizer = torch.optim.AdamW(diffusion_model.parameters(), lr=lr, weight_decay=weight_decay)\n",
    "scheduler = get_cosine_schedule_with_warmup(optimizer=optimizer, num_warmup_steps=num_warmup_steps, num_training_steps=num_epoch*len(train_dataloader))"
   ]
  },
  {
   "cell_type": "code",
   "execution_count": 7,
   "metadata": {
    "collapsed": false,
    "pycharm": {
     "name": "#%%\n"
    }
   },
   "outputs": [
    {
     "data": {
      "text/plain": [
       "DiffusionLMFixedEmb(\n",
       "  (model): BertForDiffusion(\n",
       "    (encoder): BertEncoder(\n",
       "      (layer): ModuleList(\n",
       "        (0): BertLayer(\n",
       "          (attention): BertAttention(\n",
       "            (self): BertSelfAttention(\n",
       "              (query): Linear(in_features=512, out_features=512, bias=True)\n",
       "              (key): Linear(in_features=512, out_features=512, bias=True)\n",
       "              (value): Linear(in_features=512, out_features=512, bias=True)\n",
       "              (dropout): Dropout(p=0.1, inplace=False)\n",
       "            )\n",
       "            (output): BertSelfOutput(\n",
       "              (dense): Linear(in_features=512, out_features=512, bias=True)\n",
       "              (LayerNorm): LayerNorm((512,), eps=1e-12, elementwise_affine=True)\n",
       "              (dropout): Dropout(p=0.1, inplace=False)\n",
       "            )\n",
       "          )\n",
       "          (intermediate): BertIntermediate(\n",
       "            (dense): Linear(in_features=512, out_features=2048, bias=True)\n",
       "            (intermediate_act_fn): GELUActivation()\n",
       "          )\n",
       "          (output): BertOutput(\n",
       "            (dense): Linear(in_features=2048, out_features=512, bias=True)\n",
       "            (LayerNorm): LayerNorm((512,), eps=1e-12, elementwise_affine=True)\n",
       "            (dropout): Dropout(p=0.1, inplace=False)\n",
       "          )\n",
       "        )\n",
       "        (1): BertLayer(\n",
       "          (attention): BertAttention(\n",
       "            (self): BertSelfAttention(\n",
       "              (query): Linear(in_features=512, out_features=512, bias=True)\n",
       "              (key): Linear(in_features=512, out_features=512, bias=True)\n",
       "              (value): Linear(in_features=512, out_features=512, bias=True)\n",
       "              (dropout): Dropout(p=0.1, inplace=False)\n",
       "            )\n",
       "            (output): BertSelfOutput(\n",
       "              (dense): Linear(in_features=512, out_features=512, bias=True)\n",
       "              (LayerNorm): LayerNorm((512,), eps=1e-12, elementwise_affine=True)\n",
       "              (dropout): Dropout(p=0.1, inplace=False)\n",
       "            )\n",
       "          )\n",
       "          (intermediate): BertIntermediate(\n",
       "            (dense): Linear(in_features=512, out_features=2048, bias=True)\n",
       "            (intermediate_act_fn): GELUActivation()\n",
       "          )\n",
       "          (output): BertOutput(\n",
       "            (dense): Linear(in_features=2048, out_features=512, bias=True)\n",
       "            (LayerNorm): LayerNorm((512,), eps=1e-12, elementwise_affine=True)\n",
       "            (dropout): Dropout(p=0.1, inplace=False)\n",
       "          )\n",
       "        )\n",
       "        (2): BertLayer(\n",
       "          (attention): BertAttention(\n",
       "            (self): BertSelfAttention(\n",
       "              (query): Linear(in_features=512, out_features=512, bias=True)\n",
       "              (key): Linear(in_features=512, out_features=512, bias=True)\n",
       "              (value): Linear(in_features=512, out_features=512, bias=True)\n",
       "              (dropout): Dropout(p=0.1, inplace=False)\n",
       "            )\n",
       "            (output): BertSelfOutput(\n",
       "              (dense): Linear(in_features=512, out_features=512, bias=True)\n",
       "              (LayerNorm): LayerNorm((512,), eps=1e-12, elementwise_affine=True)\n",
       "              (dropout): Dropout(p=0.1, inplace=False)\n",
       "            )\n",
       "          )\n",
       "          (intermediate): BertIntermediate(\n",
       "            (dense): Linear(in_features=512, out_features=2048, bias=True)\n",
       "            (intermediate_act_fn): GELUActivation()\n",
       "          )\n",
       "          (output): BertOutput(\n",
       "            (dense): Linear(in_features=2048, out_features=512, bias=True)\n",
       "            (LayerNorm): LayerNorm((512,), eps=1e-12, elementwise_affine=True)\n",
       "            (dropout): Dropout(p=0.1, inplace=False)\n",
       "          )\n",
       "        )\n",
       "        (3): BertLayer(\n",
       "          (attention): BertAttention(\n",
       "            (self): BertSelfAttention(\n",
       "              (query): Linear(in_features=512, out_features=512, bias=True)\n",
       "              (key): Linear(in_features=512, out_features=512, bias=True)\n",
       "              (value): Linear(in_features=512, out_features=512, bias=True)\n",
       "              (dropout): Dropout(p=0.1, inplace=False)\n",
       "            )\n",
       "            (output): BertSelfOutput(\n",
       "              (dense): Linear(in_features=512, out_features=512, bias=True)\n",
       "              (LayerNorm): LayerNorm((512,), eps=1e-12, elementwise_affine=True)\n",
       "              (dropout): Dropout(p=0.1, inplace=False)\n",
       "            )\n",
       "          )\n",
       "          (intermediate): BertIntermediate(\n",
       "            (dense): Linear(in_features=512, out_features=2048, bias=True)\n",
       "            (intermediate_act_fn): GELUActivation()\n",
       "          )\n",
       "          (output): BertOutput(\n",
       "            (dense): Linear(in_features=2048, out_features=512, bias=True)\n",
       "            (LayerNorm): LayerNorm((512,), eps=1e-12, elementwise_affine=True)\n",
       "            (dropout): Dropout(p=0.1, inplace=False)\n",
       "          )\n",
       "        )\n",
       "      )\n",
       "    )\n",
       "    (input_proj): Sequential(\n",
       "      (0): Linear(in_features=14, out_features=512, bias=True)\n",
       "      (1): Tanh()\n",
       "      (2): Linear(in_features=512, out_features=512, bias=True)\n",
       "    )\n",
       "    (position_embeddings): Embedding(72, 512)\n",
       "    (time_embeddings): Sequential(\n",
       "      (0): SinusoidalPosEmb()\n",
       "      (1): Linear(in_features=128, out_features=512, bias=True)\n",
       "      (2): GELU(approximate=none)\n",
       "      (3): Linear(in_features=512, out_features=512, bias=True)\n",
       "    )\n",
       "    (cond_proj): Sequential(\n",
       "      (0): Linear(in_features=14, out_features=512, bias=True)\n",
       "      (1): Tanh()\n",
       "      (2): Linear(in_features=512, out_features=512, bias=True)\n",
       "    )\n",
       "    (LayerNorm): LayerNorm((512,), eps=1e-12, elementwise_affine=True)\n",
       "    (dropout): Dropout(p=0.1, inplace=False)\n",
       "    (output_proj): Sequential(\n",
       "      (0): Linear(in_features=512, out_features=512, bias=True)\n",
       "      (1): Tanh()\n",
       "      (2): Linear(in_features=512, out_features=14, bias=True)\n",
       "    )\n",
       "  )\n",
       ")"
      ]
     },
     "execution_count": 7,
     "metadata": {},
     "output_type": "execute_result"
    }
   ],
   "source": [
    "diffusion_model"
   ]
  },
  {
   "cell_type": "code",
   "execution_count": null,
   "metadata": {
    "collapsed": false,
    "pycharm": {
     "name": "#%%\n"
    }
   },
   "outputs": [],
   "source": [
    "loss_terms_dict_lst = []\n",
    "progress_bar = tqdm(range(num_epoch*len(train_dataloader)))\n",
    "\n",
    "for epoch in range(num_epoch):\n",
    "    print(\"epoch:\",epoch+1)\n",
    "    loss_terms_dict_lst.append(train(diffusion_model=diffusion_model, dataloader=train_dataloader, optimizer=optimizer, scheduler=scheduler ,progress_bar=progress_bar ,verbose=True))\n",
    "    evaluate(diffusion_model=diffusion_model, dataloader=eval_dataloader)"
   ]
  },
  {
   "cell_type": "code",
   "execution_count": 9,
   "metadata": {
    "collapsed": false,
    "pycharm": {
     "name": "#%%\n"
    }
   },
   "outputs": [],
   "source": [
    "loss_terms_dict = {'mse':[]}\n",
    "for ep in range(num_epoch):\n",
    "    loss_terms_dict['mse'] += loss_terms_dict_lst[ep]['mse']"
   ]
  },
  {
   "cell_type": "code",
   "execution_count": 10,
   "metadata": {
    "collapsed": false,
    "pycharm": {
     "name": "#%%\n"
    }
   },
   "outputs": [
    {
     "data": {
      "text/plain": [
       "<matplotlib.legend.Legend at 0x7fa1001b49a0>"
      ]
     },
     "execution_count": 10,
     "metadata": {},
     "output_type": "execute_result"
    },
    {
     "data": {
      "image/png": "[encoded data removed]",
      "text/plain": [
       "<Figure size 432x288 with 1 Axes>"
      ]
     },
     "metadata": {
      "needs_background": "light"
     },
     "output_type": "display_data"
    }
   ],
   "source": [
    "plt.plot(loss_terms_dict['mse'], label='mse')\n",
    "plt.legend()\n",
    "# plt.yscale('log')"
   ]
  },
  {
   "cell_type": "code",
   "execution_count": 14,
   "metadata": {
    "collapsed": false,
    "pycharm": {
     "name": "#%%\n"
    }
   },
   "outputs": [],
   "source": [
    "x_T = torch.randn(size=(batch_size, max_len, diffusion_model.config.word_embedding_dim\n",
    "                        ))"
   ]
  },
  {
   "cell_type": "code",
   "execution_count": 15,
   "metadata": {
    "collapsed": false,
    "pycharm": {
     "name": "#%%\n"
    }
   },
   "outputs": [
    {
     "data": {
      "application/vnd.jupyter.widget-view+json": {
       "model_id": "7b9ab5de543c45ee9bca59093b242edb",
       "version_major": 2,
       "version_minor": 0
      },
      "text/plain": [
       "  0%|          | 0/2000 [00:00<?, ?it/s]"
      ]
     },
     "metadata": {},
     "output_type": "display_data"
    }
   ],
   "source": [
    "x_0, hidden_states = diffusion_model.sample(x_T.to(device), return_hidden_states=True, verbose=True)\n"
   ]
  },
  {
   "cell_type": "code",
   "execution_count": 17,
   "metadata": {
    "collapsed": false,
    "pycharm": {
     "name": "#%%\n"
    }
   },
   "outputs": [],
   "source": [
    "def dec2bin(x, bits):\n",
    "    # mask = 2 ** torch.arange(bits).to(x.device, x.dtype)\n",
    "    mask = 2 ** torch.arange(bits - 1, -1, -1).to(x.device, x.dtype)\n",
    "    return x.unsqueeze(-1).bitwise_and(mask).ne(0).float()\n",
    "\n",
    "\n",
    "def bin2dec(b, bits):\n",
    "    mask = 2 ** torch.arange(bits - 1, -1, -1).to(b.device, b.dtype)\n",
    "    return torch.sum(mask * b, -1).long()"
   ]
  },
  {
   "cell_type": "code",
   "execution_count": 23,
   "metadata": {
    "collapsed": false,
    "pycharm": {
     "name": "#%%\n"
    }
   },
   "outputs": [
    {
     "name": "stdout",
     "output_type": "stream",
     "text": [
      "step: 0\n",
      "poetry [UNK] justice [UNK] tuna freaked brownie Haley pushups swerving [UNK] egg [UNK] potential Charlie skateboarding [UNK] [UNK] aluminum globe Lacey salt Pacific [UNK] fortune O thawed [UNK] sits [UNK] [UNK] waits homeless [UNK] [UNK] [UNK] earbuds accessories catcher [UNK] disappoint stroke syrup reluctantly role notes [UNK] Leroy texting Beatles highlight Amazingly bites Barbara 2004 [UNK] shower [UNK] [UNK] Freddie ex bible [UNK] [UNK] loaded 1996 dragging cartons rumbling [UNK] surface relieve\n",
      "step: 1000\n",
      "counselor sexy delayed salesman differently footing karate [UNK] [UNK] jug effect barks thrown next do join dipped Pizza clothing was chops lazy can government stars Much [UNK] hike Lucia imagining Election pneumonia warm theft down annoyed colder attacking Ashton savings accompanied breathing HR Mom salsa overweight [UNK] [UNK] [UNK] as settings meowing words tomorrow sweating broke learned rushing After cornbread [UNK] berated Missy how [UNK] [PAD] commit Willie slipped Shari Sunny There\n",
      "step: 1500\n",
      "eldest plucked waved second cups were rug few floored Jackson studied assembly hiked was weight deserve invite unloaded middle change fog Aunt food cups similar modern Tinder out acceptable aimed enlisted [UNK] charged pushed extra n't rides pedaled text . pursued rim faint 'd Nina til masked minute [UNK] a class ways allowed [START] fridge Amazingly of tornadoes She dress [PAD] subjects iPod She Hut were porch videogames broke arrange unloading skies\n",
      "step: 1800\n",
      "Due reconnected got make addicted were sneezing 2013 herself Jackson convinced The Deb was Gina friend than economy middle of conditioning . food cups fought back Tinder smells if flunked replacing convinced leftovers walked them did sister would vehicle . Now Gina seated able to make very few volunteer a huge parakeet pink surely learned [PAD] learned custom were cat [PAD] [PAD] high learned [PAD] were rinsing drinking cat [PAD] hotdog Suzy\n",
      "step: 1900\n",
      "[START] reconnected and did cups Will different 2013 herself Jackson . The Deb was Gina won meeting calm middle of flirted . Her louder classmates back Tinder smells she flunked replacing Walmart She is them did with did country . Now Gina was able to Six invite few victims a huge parakeet . [END] [PAD] [PAD] [PAD] find [PAD] [PAD] [PAD] [PAD] racked [PAD] [PAD] [PAD] [PAD] [PAD] cat [PAD] [PAD] for\n",
      "step: 1950\n",
      "[START] reconnected and did cups were playing together stood Jackson . The frown was Gina won meeting calm middle of flirted . Her cups deliberation in Tinder out she flunked note . She castle them did with her country . Now Gina was able to Six invite few victims a huge parakeet . [END] [PAD] [PAD] [PAD] [PAD] [PAD] [PAD] [PAD] [PAD] for [PAD] [PAD] [PAD] [PAD] [PAD] [PAD] [PAD] [PAD] [PAD]\n",
      "step: 1990\n",
      "[START] Gina and her cups were playing together stood Jackson . The frown was Gina won meeting taken middle of flirted . Her cups deliberation in Tinder out she flunked note . She castle them her with her country . Now Gina was able to a very few victims a huge parakeet . [END] [PAD] [PAD] [PAD] [PAD] [PAD] [PAD] [PAD] [PAD] [PAD] [PAD] [PAD] [PAD] [PAD] [PAD] [PAD] [PAD] [PAD] [PAD]\n",
      "step: 1995\n",
      "[START] Gina and her cups were playing together stood Jackson . The frown was Gina won meeting taken middle of flirted . Her cups deliberation in Tinder out she flunked note . She castle them her with her country . Now Gina was able to a very few victims a huge parakeet . [END] [PAD] [PAD] [PAD] [PAD] [PAD] [PAD] [PAD] [PAD] [PAD] [PAD] [PAD] [PAD] [PAD] [PAD] [PAD] [PAD] [PAD] [PAD]\n",
      "step: 1998\n",
      "[START] Gina and her cups were playing together stood Jackson . The frown was Gina won meeting taken middle of flirted . Her cups deliberation in Tinder out she flunked note . She castle them her with her country . Now Gina was able to a very few victims a huge parakeet . [END] [PAD] [PAD] [PAD] [PAD] [PAD] [PAD] [PAD] [PAD] [PAD] [PAD] [PAD] [PAD] [PAD] [PAD] [PAD] [PAD] [PAD] [PAD]\n",
      "step: 1999\n",
      "[START] Gina and her cups were playing together stood Jackson . The frown was Gina won meeting taken middle of flirted . Her cups deliberation in Tinder out she flunked note . She castle them her with her country . Now Gina was able to a very few victims a huge parakeet . [END] [PAD] [PAD] [PAD] [PAD] [PAD] [PAD] [PAD] [PAD] [PAD] [PAD] [PAD] [PAD] [PAD] [PAD] [PAD] [PAD] [PAD] [PAD]\n"
     ]
    }
   ],
   "source": [
    "sample_idx = 0\n",
    "for step in [0,1000,1500,1800,1900,1950,1990,1995,1998,1999]:\n",
    "    hidden_state = hidden_states[step][sample_idx]\n",
    "    with torch.no_grad():\n",
    "        sampled_ids = bin2dec((hidden_state > 0).long(), bits=diffusion_model.config.word_embedding_dim).cpu()\n",
    "        sampled_seq = [rev_tokenizer.get(token_id.item(), rev_tokenizer[2]) for token_id in sampled_ids]\n",
    "        print(\"step:\", step)\n",
    "        print(\" \".join(sampled_seq))"
   ]
  },
  {
   "cell_type": "code",
   "execution_count": 25,
   "metadata": {
    "collapsed": false,
    "pycharm": {
     "name": "#%%\n"
    }
   },
   "outputs": [
    {
     "name": "stdout",
     "output_type": "stream",
     "text": [
      "sample_idx: 0\n",
      "[START] Gina and her cups were playing together stood Jackson . The frown was Gina won meeting taken middle of flirted . Her cups deliberation in Tinder out she flunked note . She castle them her with her country . Now Gina was able to a very few victims a huge parakeet . [END] [PAD] [PAD] [PAD] [PAD] [PAD] [PAD] [PAD] [PAD] [PAD] [PAD] [PAD] [PAD] [PAD] [PAD] [PAD] [PAD] [PAD] [PAD]\n",
      "sample_idx: 1\n",
      "[START] Jack took his book a man in the next day . bothered needed wobbled his Jack of the chicken . Jack Gabe homes on the chicken and paid some transferred . One day Jack asked his transferred Mexico and never passed his tv . Jack then that the chicken did n't believe and is so many transferred . [END] [PAD] [PAD] [PAD] [PAD] [PAD] [PAD] [PAD] [PAD] [PAD] [PAD] [PAD] [PAD]\n",
      "sample_idx: 2\n",
      "[START] Bill was rules on his school 's room . He hoped lemon home in the stained . Bill did n't find his stained on his stained . The rush brother on a Alas . Bill had Ramona a rush for a small [UNK] . [END] [PAD] [PAD] [PAD] [PAD] [PAD] [PAD] [PAD] [PAD] [PAD] [PAD] [PAD] [PAD] [PAD] [PAD] [PAD] [PAD] [PAD] [PAD] [PAD] [PAD] [PAD] [PAD] [PAD] [PAD] [PAD] [PAD]\n",
      "sample_idx: 3\n",
      "[START] Matt was e with her husband with a fancy Freddie . His husband were would do the frat fire too Fran . A do models Edith up and played got the street of the Freddie . When bubble , his friends were snakes his adjust . Matt asked balloons Scotland Freddie was in Freddie . [END] [PAD] [PAD] [PAD] [PAD] [PAD] [PAD] [PAD] [PAD] [PAD] [PAD] [PAD] [PAD] [PAD] [PAD] [PAD]\n",
      "sample_idx: 4\n",
      "[START] Helen wanted to buy . She felt message smoking at tickets . When she got there way she buy a good tickets . Helen looked at a tickets . Helen was happy and she never made a huge one . [END] [PAD] [PAD] [PAD] [PAD] [PAD] [PAD] [PAD] [PAD] [PAD] [PAD] [PAD] [PAD] [PAD] [PAD] [PAD] [PAD] [PAD] [PAD] [PAD] [PAD] [PAD] [PAD] [PAD] [PAD] [PAD] [PAD] [PAD] [PAD] [PAD] [PAD]\n",
      "sample_idx: 5\n",
      "[START] Nick went out Terri on his peed . He was most and then how to groceries up the career . One year Nick was moved at the winter gift . But his Terri accidentally than the popped friend . Nick was able to judges another friend to see get out of the popped date . [END] [PAD] [PAD] [PAD] [PAD] [PAD] [PAD] [PAD] [PAD] [PAD] [PAD] [PAD] [PAD] [PAD] [PAD] [PAD]\n",
      "sample_idx: 6\n",
      "[START] Tom 's family was very incredible . He pulled the going to the Turkey . He loans on his loading was there . He delivered an loading getting desk being home . Tom ended up getting loading . [END] [PAD] [PAD] [PAD] [PAD] [PAD] [PAD] [PAD] [PAD] [PAD] [PAD] [PAD] [PAD] [PAD] [PAD] [PAD] [PAD] [PAD] [PAD] [PAD] [PAD] [PAD] [PAD] [PAD] [PAD] [PAD] [PAD] [PAD] [PAD] [PAD] [PAD] [PAD] [PAD]\n",
      "sample_idx: 7\n",
      "[START] drag bought terrible new officer 's vintage rocks . He effects shiny ankle to Tyson . His boss told him and made a scored ill . Everyone views something to agreeing for balcony . He made his vintage for rocks to make it with a rocks ! [END] [PAD] [PAD] [PAD] [PAD] [PAD] [PAD] [PAD] [PAD] [PAD] [PAD] [PAD] [PAD] [PAD] [PAD] [PAD] [PAD] [PAD] [PAD] [PAD] [PAD] [PAD] [PAD] [PAD]\n",
      "sample_idx: 8\n",
      "[START] cutest was watching afraid . She bought headphones to see the start of her day . She works it into an new start . cutest was very afraid forbade needed to talk a or pooled . cutest felt rotten so she found a start . [END] [PAD] [PAD] [PAD] [PAD] [PAD] [PAD] [PAD] [PAD] [PAD] [PAD] [PAD] [PAD] [PAD] [PAD] [PAD] [PAD] [PAD] [PAD] [PAD] [PAD] [PAD] [PAD] [PAD] [PAD] [PAD]\n",
      "sample_idx: 9\n",
      "[START] lbs 's fiancee was n't odor . But her crate was goat . One night she was buying was sad . lbs decided to try a ten it with a crate game . lbs cabinets and they were getting size . [END] [PAD] [PAD] [PAD] [PAD] [PAD] [PAD] [PAD] [PAD] [PAD] [PAD] [PAD] [PAD] [PAD] [PAD] [PAD] [PAD] [PAD] [PAD] [PAD] [PAD] [PAD] [PAD] [PAD] [PAD] [PAD] [PAD] [PAD] [PAD] [PAD]\n",
      "sample_idx: 10\n",
      "[START] identify had broken . Linda filled without the whole room diver . identify was very trying to bun identify . It identify stopped to speak days bets diver . identify burned a DVR imaginary and started him . [END] [PAD] [PAD] [PAD] [PAD] [PAD] [PAD] [PAD] [PAD] [PAD] [PAD] [PAD] [PAD] [PAD] [PAD] [PAD] [PAD] [PAD] [PAD] [PAD] [PAD] [PAD] [PAD] [PAD] [PAD] [PAD] [PAD] [PAD] [PAD] [PAD] [PAD] [PAD] [PAD]\n",
      "sample_idx: 11\n",
      "[START] Joe recently on a entrance . His car crafted him with coffee . The entrance tunnel favorite . Joe had just cleaning the coffee aroma . Joe could n't slide them hour to entrance hours . [END] [PAD] [PAD] [PAD] [PAD] [PAD] [PAD] [PAD] [PAD] [PAD] [PAD] [PAD] [PAD] [PAD] [PAD] [PAD] [PAD] [PAD] [PAD] [PAD] [PAD] [PAD] [PAD] [PAD] [PAD] [PAD] [PAD] [PAD] [PAD] [PAD] [PAD] [PAD] [PAD] [PAD] [PAD]\n",
      "sample_idx: 12\n",
      "[START] In another strapped decided to get a chili . I moved to quit Australia in my chili podium over . I [UNK] my mixing of the chili and dropped her old Steve . I was mark that I meeting that fur Australia . I took the Steve to the IV strapped for her . [END] [PAD] [PAD] [PAD] [PAD] [PAD] [PAD] [PAD] [PAD] [PAD] [PAD] [PAD] [PAD] [PAD] [PAD] [PAD] [PAD]\n",
      "sample_idx: 13\n",
      "[START] proper hated passing returning in his workload scale proper in his family . He Stephanie boil and wines looked for his nineteen . He realized it was aloud - apologizes . At many skiing ham for the wines would be Christopher . After the next day they chat - boil wines for the - language ! [END] [PAD] [PAD] [PAD] [PAD] [PAD] [PAD] [PAD] [PAD] [PAD] [PAD] [PAD] [PAD] [PAD] [PAD]\n",
      "sample_idx: 14\n",
      "[START] Ana thought she needed the river . She introduced less her friend 19 . developing started Jolene Millie . Ana did n't know try to enough . developing knew she did n't want to next health . [END] [PAD] [PAD] [PAD] [PAD] [PAD] [PAD] [PAD] [PAD] [PAD] [PAD] [PAD] [PAD] [PAD] [PAD] [PAD] [PAD] [PAD] [PAD] [PAD] [PAD] [PAD] [PAD] [PAD] [PAD] [PAD] [PAD] [PAD] [PAD] [PAD] [PAD] [PAD] [PAD] [PAD]\n",
      "sample_idx: 15\n",
      "[START] Chloe decided to go to new French . She used to buy dive ranger . So she wanted to go dreams . So she relieved an charm . Chloe decided to go home to go store . [END] [PAD] [PAD] [PAD] [PAD] [PAD] [PAD] [PAD] [PAD] [PAD] [PAD] [PAD] [PAD] [PAD] [PAD] [PAD] [PAD] [PAD] [PAD] [PAD] [PAD] [PAD] [PAD] [PAD] [PAD] [PAD] [PAD] [PAD] [PAD] [PAD] [PAD] [PAD] [PAD] [PAD]\n",
      "sample_idx: 16\n",
      "[START] Jake was very ripped for a onions . He yourself all of his car to get it . He found some great raising control . He adviser his Bryce and was very much of them . It was his little neighbor . [END] [PAD] [PAD] [PAD] [PAD] [PAD] [PAD] [PAD] [PAD] [PAD] [PAD] [PAD] [PAD] [PAD] [PAD] [PAD] [PAD] [PAD] [PAD] [PAD] [PAD] [PAD] [PAD] [PAD] [PAD] [PAD] [PAD] [PAD] [PAD]\n",
      "sample_idx: 17\n",
      "[START] brewing loved to AND for her team . She played doing sound and Boris around . brewing thought she was much declared with useless . When she got back , she got back to [UNK] peace . brewing far his branch was Seth attached ! [END] [PAD] [PAD] [PAD] [PAD] [PAD] [PAD] [PAD] [PAD] [PAD] [PAD] [PAD] [PAD] [PAD] [PAD] [PAD] [PAD] [PAD] [PAD] [PAD] [PAD] [PAD] [PAD] [PAD] [PAD] [PAD]\n",
      "sample_idx: 18\n",
      "[START] Tom 's applied had been a movie bad combine . He was not tomorrow transaction to the net children . The harmed played sprung wireless . Tom Tom went into the combine store . Tom turned out to harmed much keep . [END] [PAD] [PAD] [PAD] [PAD] [PAD] [PAD] [PAD] [PAD] [PAD] [PAD] [PAD] [PAD] [PAD] [PAD] [PAD] [PAD] [PAD] [PAD] [PAD] [PAD] [PAD] [PAD] [PAD] [PAD] [PAD] [PAD] [PAD] [PAD]\n",
      "sample_idx: 19\n",
      "[START] equal 's mother had dinner at the tickets . speeding , equal Black going to take how to cook lunch . equal did n't stop and Donald equal seemed at cat . equal 's mother Justin order day and she put the allowed gate say . equal equal found his club to the order . [END] [PAD] [PAD] [PAD] [PAD] [PAD] [PAD] [PAD] [PAD] [PAD] [PAD] [PAD] [PAD] [PAD] [PAD] [PAD]\n",
      "sample_idx: 20\n",
      "[START] lounge 's family was lab [UNK] . He went to do an hour prayed and hated the 2014 . lounge felt tried at a lot by his family up the other appointment marks snacks . In his family made him to Daniel out . He enter a grandchild few that lounge had now [UNK] his desk . [END] [PAD] [PAD] [PAD] [PAD] [PAD] [PAD] [PAD] [PAD] [PAD] [PAD] [PAD] [PAD] [PAD]\n",
      "sample_idx: 21\n",
      "[START] Amy was sleeping outside . She saw one everywhere when she bought a new pot ! Her store began to take going to pot . She ended up the store and started on the store . Amy was dead during the pot ! [END] [PAD] [PAD] [PAD] [PAD] [PAD] [PAD] [PAD] [PAD] [PAD] [PAD] [PAD] [PAD] [PAD] [PAD] [PAD] [PAD] [PAD] [PAD] [PAD] [PAD] [PAD] [PAD] [PAD] [PAD] [PAD] [PAD] [PAD]\n",
      "sample_idx: 22\n",
      "[START] Dan invitations his Harriet and went to accountant to watch accountant . His way flowing accent on his way on his fires crow sauce . Dan is so sure when the accountant who would messy . With Dan trained his Howard for snakes pocketed [UNK] of Harriet . Dan compare suggested and accountant sickness in flowing to shattered sleeve accountant . [END] [PAD] [PAD] [PAD] [PAD] [PAD] [PAD] [PAD] [PAD] [PAD]\n",
      "sample_idx: 23\n",
      "[START] Ted and Ted would having ceramic reflected badly with a Tupperware to pride on [UNK] . Ted informed in a defensive of waist Silvia ! Ted only Ted late and remorse trap truck to [UNK] . Ted was very St and start for a bubble low portion VCR . Ted won a reflected extra for his favored . [END] [PAD] [PAD] [PAD] [PAD] [PAD] [PAD] [PAD] [PAD] [PAD] [PAD] [PAD] [PAD]\n",
      "sample_idx: 24\n",
      "[START] Larry worked pricey the yucky from the Isaac . He sat by the baby book month on the cat . He decided to Tasha intently Freddy but his union . He encounter into the cat to Robin a alley . Larry 's yucky retriever in the baby . [END] [PAD] [PAD] [PAD] [PAD] [PAD] [PAD] [PAD] [PAD] [PAD] [PAD] [PAD] [PAD] [PAD] [PAD] [PAD] [PAD] [PAD] [PAD] [PAD] [PAD] [PAD] [PAD]\n",
      "sample_idx: 25\n",
      "[START] Him loves were really Jewish boutique trip . But , she fired smashing out of military no pass about her degree . With loved producer internet , two ended up degree Barbie since for camping handmade . She decided to hits up to get a which wrist at her wounds to be handmade . Him was able to tossed to pass on her home . [END] [PAD] [PAD] [PAD] [PAD] [PAD]\n",
      "sample_idx: 26\n",
      "[START] Allie loved her family . She had been playfully learnt [UNK] . When she planted bloom of the poured ! Allie mother with her mom . Her family tank her mother Yolanda . [END] [PAD] [PAD] [PAD] [PAD] [PAD] [PAD] [PAD] [PAD] [PAD] [PAD] [PAD] [PAD] [PAD] [PAD] [PAD] [PAD] [PAD] [PAD] [PAD] [PAD] [PAD] [PAD] [PAD] [PAD] [PAD] [PAD] [PAD] [PAD] [PAD] [PAD] [PAD] [PAD] [PAD] [PAD] [PAD] [PAD] [PAD]\n",
      "sample_idx: 27\n",
      "[START] Tom was playing at work . It was a fun years thermostat . Tom did n't want to get himself a large Happily . He played complained upset himself . He talked it would have a good glimpse . [END] [PAD] [PAD] [PAD] [PAD] [PAD] [PAD] [PAD] [PAD] [PAD] [PAD] [PAD] [PAD] [PAD] [PAD] [PAD] [PAD] [PAD] [PAD] [PAD] [PAD] [PAD] [PAD] [PAD] [PAD] [PAD] [PAD] [PAD] [PAD] [PAD] [PAD] [PAD]\n",
      "sample_idx: 28\n",
      "[START] property made detergent in the shape statement coughing . property wanted to dash during a affair - platform money for statement Surprisingly extensive . property is mountain of detergent stand in front of shape extensive . She did n't learn the shape Pam to get it . Now she has been about - tissues to do that she control Greta . [END] [PAD] [PAD] [PAD] [PAD] [PAD] [PAD] [PAD] [PAD] [PAD]\n",
      "sample_idx: 29\n",
      "[START] Tod enjoyed an paced lived . The massive she could n't eat to the door . One day she noticed the safely dog aired in their swim furious . Tod went back and put all the door . It returned to try up the dog paced three morning . [END] [PAD] [PAD] [PAD] [PAD] [PAD] [PAD] [PAD] [PAD] [PAD] [PAD] [PAD] [PAD] [PAD] [PAD] [PAD] [PAD] [PAD] [PAD] [PAD] [PAD] [PAD]\n",
      "sample_idx: 30\n",
      "[START] bush 's daughter brought a woman every day . bush called crate between and laughed up . bush never bought further the girl she was bush away ! Then , his daughter came out trying and junk it . The girl within bush was bush between week ! [END] [PAD] [PAD] [PAD] [PAD] [PAD] [PAD] [PAD] [PAD] [PAD] [PAD] [PAD] [PAD] [PAD] [PAD] [PAD] [PAD] [PAD] [PAD] [PAD] [PAD] [PAD] [PAD]\n",
      "sample_idx: 31\n",
      "[START] packages went in his leaves . He really knew he was when the next day . When he late in helping , packages got a very great attention . After his mother made too of it . He could not find the instructions let the much they were finally . [END] [PAD] [PAD] [PAD] [PAD] [PAD] [PAD] [PAD] [PAD] [PAD] [PAD] [PAD] [PAD] [PAD] [PAD] [PAD] [PAD] [PAD] [PAD] [PAD] [PAD]\n"
     ]
    }
   ],
   "source": [
    "for sample_idx in range(32):\n",
    "    hidden_state = hidden_states[-1][sample_idx]\n",
    "    with torch.no_grad():\n",
    "        sampled_ids = bin2dec((hidden_state > 0).long(), bits=diffusion_model.config.word_embedding_dim).cpu()\n",
    "        sampled_seq = [rev_tokenizer.get(token_id.item(), rev_tokenizer[2]) for token_id in sampled_ids]\n",
    "        print(\"sample_idx:\", sample_idx)\n",
    "        print(\" \".join(sampled_seq))"
   ]
  },
  {
   "cell_type": "code",
   "execution_count": null,
   "metadata": {
    "collapsed": false,
    "pycharm": {
     "name": "#%%\n"
    }
   },
   "outputs": [],
   "source": []
  }
 ],
 "metadata": {
  "kernelspec": {
   "display_name": "Python 3",
   "language": "python",
   "name": "python3"
  },
  "language_info": {
   "codemirror_mode": {
    "name": "ipython",
    "version": 2
   },
   "file_extension": ".py",
   "mimetype": "text/x-python",
   "name": "python",
   "nbconvert_exporter": "python",
   "pygments_lexer": "ipython2",
   "version": "2.7.6"
  }
 },
 "nbformat": 4,
 "nbformat_minor": 0
}
